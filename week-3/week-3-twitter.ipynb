{
 "cells": [
  {
   "cell_type": "markdown",
   "metadata": {
    "cell_id": "cef899c3-43f0-4ab2-8c00-6eef0e2636d9",
    "deepnote_cell_height": 340.921875,
    "deepnote_cell_type": "markdown",
    "tags": []
   },
   "source": [
    "# Week 3: the Twitter API\n",
    "\n",
    "In this lesson, we're going to learn how to analyze and explore Twitter data with the Python/command line tool [twarc](https://twarc-project.readthedocs.io/en/latest/). We're specifically going to work with [twarc2](https://twarc-project.readthedocs.io/en/latest/twarc2/), which is designed for version 2 of the Twitter API (released in 2020) and the Academic Research track of the Twitter API (released in 2021), which enables researchers to collect tweets from the entire Twitter archive for free.\n",
    "\n",
    "Twarc was developed by a project called [Documenting the Now](https://www.docnow.io/). The DocNow team develops tools and ethical frameworks for social media research.\n",
    "\n",
    "> This notebook builds upon the work of [Melanie Walsh](https://melaniewalsh.github.io/Intro-Cultural-Analytics/), released under a [Creative Commons BY-NC-SA 4.0](https://creativecommons.org/licenses/by-nc-sa/4.0/) License. This notebook shares the same license."
   ]
  },
  {
   "cell_type": "markdown",
   "metadata": {
    "cell_id": "00001-bbf430c9-5119-4305-ace7-206122e9ed40",
    "deepnote_cell_height": 229.0625,
    "deepnote_cell_type": "markdown",
    "tags": []
   },
   "source": [
    "<div class=\"alert-warning alert\">\n",
    "\n",
    "**Note1:** There is a major difference in the workflow throughout this exercise. It is because the way `twarc2` is designed. It is a command-line tool that needs to be run from a terminal shell. In a Jupyter notebook, we can run these shell commands directely from the notebook prefixing them with `!`.\n",
    "\n",
    "As a consequence of this, there are differences in how the notebook needs to be run for Windows and Linux/MacOS machines. By default, the notebook should work for Linux/MacOs users. Where there are differences for Windows users, those will be comments in the code. You can also avoid this issue by running on DeepNote or Google Collab.\n",
    "\n",
    "For example, you might have used `ls` command in the terminal to list the contents of the directory. Try running `!ls` from this notebook now. \n",
    "</div>\n",
    "\n"
   ]
  },
  {
   "cell_type": "code",
   "execution_count": 1,
   "metadata": {
    "cell_id": "00002-4bbde1bd-e23e-460a-8061-54bfe5ab9c79",
    "deepnote_cell_height": 112,
    "deepnote_cell_type": "code",
    "deepnote_to_be_reexecuted": false,
    "execution_millis": 290,
    "execution_start": 1647003486441,
    "output_cleared": false,
    "source_hash": "ad8f3ca4",
    "tags": []
   },
   "outputs": [
    {
     "name": "stdout",
     "output_type": "stream",
     "text": [
      " Volume in drive C has no label.\n",
      " Volume Serial Number is 9E25-63F8\n",
      "\n",
      " Directory of C:\\Users\\Andre\\OneDrive\\Documents\\GitHub\\accessing-research-data\\week-3\n",
      "\n",
      "01/27/2023  11:39 AM    <DIR>          .\n",
      "01/10/2023  08:57 AM    <DIR>          ..\n",
      "01/27/2023  11:08 AM    <DIR>          .ipynb_checkpoints\n",
      "01/27/2023  11:37 AM         3,800,160 twarc.log\n",
      "01/27/2023  11:38 AM           238,669 week-3-twitter-solutions.ipynb\n",
      "01/10/2023  08:57 AM            48,767 week-3-twitter.ipynb\n",
      "               3 File(s)      4,087,596 bytes\n",
      "               3 Dir(s)  235,381,526,528 bytes free\n"
     ]
    }
   ],
   "source": [
    "# Windows users: \n",
    "!dir\n",
    "\n",
    "# Linux/Mac Users:\n",
    "#!ls"
   ]
  },
  {
   "cell_type": "markdown",
   "metadata": {
    "cell_id": "00003-9696c758-33b3-4e43-9433-2c3001e229cd",
    "deepnote_cell_height": 147.859375,
    "deepnote_cell_type": "markdown",
    "tags": []
   },
   "source": [
    "<div class=\"alert-warning alert\">\n",
    "\n",
    "**Note2:** The commands that we run using `!twarc2` will result in a file being saved in the local directory. You can check this file through the file browser towards the left hand side. We will use `pandas` to read the resulting file. \n",
    "\n",
    "</div>"
   ]
  },
  {
   "cell_type": "markdown",
   "metadata": {
    "cell_id": "00004-248dd9f4-94ae-4dd4-813b-a79c615493d6",
    "deepnote_cell_height": 246.71875,
    "deepnote_cell_type": "markdown",
    "tags": []
   },
   "source": [
    "### Workflow\n",
    "\n",
    "We will need to install three command line tools:\n",
    "- the program `twarc2` to access Twitter API, in order to archive tweets, counts, user metadata.\n",
    "- `twarc-csv`, a plugin to convert the tweets archived by `twarc2` into a CSV format.\n",
    "- `twarc-hashtags`, a plugin to analyze hashtag counts in the tweets retrieved by `twarc2`.\n",
    "\n",
    "Note: the program `twarc2` requires the Python package `twarc` (with no 2). The number ‘2’ is for the Twitter API v2.\n"
   ]
  },
  {
   "cell_type": "code",
   "execution_count": 2,
   "metadata": {
    "cell_id": "00005-af8d2bc6-63f1-43d5-8f6c-b01dad2a63ed",
    "deepnote_cell_height": 135,
    "deepnote_cell_type": "code",
    "deepnote_to_be_reexecuted": false,
    "execution_millis": 30591,
    "execution_start": 1647003486766,
    "output_cleared": true,
    "source_hash": "4b2b74b9",
    "tags": []
   },
   "outputs": [],
   "source": [
    "%%capture\n",
    "!pip install twarc --upgrade\n",
    "!pip install twarc-csv --upgrade\n",
    "!pip install twarc-hashtags --upgrade"
   ]
  },
  {
   "cell_type": "markdown",
   "metadata": {
    "cell_id": "00006-51ff6bba-b3db-4227-a9a0-e6fe6ef48fc0",
    "deepnote_cell_height": 545.71875,
    "deepnote_cell_type": "markdown",
    "tags": []
   },
   "source": [
    "## Configure and set up twarc2\n",
    "\n",
    "Once twarc2 is installed, you need to configure it with your API keys and/or bearer token so that you can actually access the API.\n",
    "\n",
    "If you are running this notebook in DeepNote, select the terminal icon on the left hand side. If you are running this notebook in your local computer or on server, you will need to open a terminal. \n",
    "\n",
    "Run the following command in the terminal (Windows: use Anaconda Prompt or Powershell, not Cmd Prompt)\n",
    "```\n",
    "twarc2 configure\n",
    "\n",
    "```\n",
    "\n",
    "\n",
    "Twarc will ask for your bearer token, which you can copy and paste into the blank after the colon, and then press enter. You can optionally enter your API keys, as well. When it asks how you want to obtain user keys, I recommend generating keys by visiting Twitter.\n",
    "\n",
    "If you’ve entered your information correctly, you should get a congratulatory message that looks something like this:\n",
    "\n",
    "```\n",
    "Your keys have been written to /Users/<your username>/Library/Application Support/twarc/config\n",
    "\n",
    "✨ ✨ ✨  Happy twarcing! ✨ ✨ ✨\n",
    "\n",
    "```\n",
    "\n",
    "<br />\n",
    "\n",
    "Now you’re ready to collect and analyze tweets!"
   ]
  },
  {
   "cell_type": "markdown",
   "metadata": {
    "cell_id": "00007-d3d1bf2c-c560-4f3d-b961-d7636ca53d88",
    "deepnote_cell_height": 174.921875,
    "deepnote_cell_type": "markdown",
    "tags": []
   },
   "source": [
    "## Archive tweets matching a query\n",
    "\n",
    "To collect tweets from the Twitter API, we need to form a query and ask twarc2 to download all the tweets that match it: `twarc2 search *query*`. The simplest kind of query is a keyword search, such as the phrase “Oxford Internet Institute,” which should return any tweet that contains all of these words in any order — `twarc2 search \"Oxford Internet Institute\"`."
   ]
  },
  {
   "cell_type": "markdown",
   "metadata": {
    "cell_id": "00008-031ad507-f0f6-479b-9bab-833afbd8bb0a",
    "deepnote_cell_height": 126,
    "deepnote_cell_type": "markdown",
    "tags": []
   },
   "source": [
    "<div class=\"alert-info alert\">\n",
    "\n",
    "**Exercise 0.1:** Retrieve the tweets that contain the keywords (in any order) \"Oxford Internet Institute\" and save them to `tweets-oii.json`\n",
    "\n",
    "</div>\n"
   ]
  },
  {
   "cell_type": "markdown",
   "metadata": {
    "cell_id": "00009-947a4c20-89c1-4f6d-9686-8b8ce6abc581",
    "deepnote_cell_height": 74.125,
    "deepnote_cell_type": "markdown",
    "tags": []
   },
   "source": [
    "To output Twitter data to a file, we include a filename with the “.jsonl” file extension, which stands for JSON lines, a special kind of JSON file:"
   ]
  },
  {
   "cell_type": "code",
   "execution_count": 3,
   "metadata": {
    "cell_id": "00010-20faa43e-7fb6-4424-838a-685dc2331076",
    "deepnote_cell_height": 292,
    "deepnote_cell_type": "code",
    "deepnote_to_be_reexecuted": false,
    "execution_millis": 2940,
    "execution_start": 1647003517365,
    "output_cleared": false,
    "source_hash": "cbce5e7e",
    "tags": []
   },
   "outputs": [
    {
     "name": "stderr",
     "output_type": "stream",
     "text": [
      "\n",
      "  0%|          | Processed a moment/6 days [00:00<?, 0 tweets total ]\n",
      " 27%|██▋       | Processed a day/6 days [00:02<00:05, 0 tweets total ]\n",
      " 50%|█████     | Processed 3 days/6 days [00:03<00:03, 100 tweets total ]\n",
      " 68%|██████▊   | Processed 4 days/6 days [00:05<00:02, 200 tweets total ]\n",
      " 99%|█████████▉| Processed 6 days/6 days [00:07<00:00, 300 tweets total ]\n",
      "100%|██████████| Processed 6 days/6 days [00:07<00:00, 380 tweets total ]\n"
     ]
    }
   ],
   "source": [
    "!twarc2 search \"YOUR QUERY\" tweets-oii.jsonl"
   ]
  },
  {
   "cell_type": "markdown",
   "metadata": {
    "cell_id": "00011-75f79f76-48b5-4541-b42d-deb7e818e1a2",
    "deepnote_cell_height": 161.859375,
    "deepnote_cell_type": "markdown",
    "tags": []
   },
   "source": [
    "<div class=\"alert-info alert\">\n",
    "\n",
    "**Exercise 0.2:** Convert these tweets into a `csv` file named `tweet-oii.csv`.\n",
    "\n",
    "Use `pandas` in Python to load that CSV file and count the number of tweets returned by the search.\n",
    "</div>\n"
   ]
  },
  {
   "cell_type": "code",
   "execution_count": 4,
   "metadata": {
    "cell_id": "00012-08c252f0-a37e-418b-b6ea-6aad0c670b6e",
    "deepnote_cell_height": 81,
    "deepnote_cell_type": "code",
    "deepnote_to_be_reexecuted": true,
    "execution_millis": 2398,
    "execution_start": 1646577167644,
    "output_cleared": true,
    "source_hash": "48451602",
    "tags": []
   },
   "outputs": [
    {
     "name": "stderr",
     "output_type": "stream",
     "text": [
      "\n",
      "  0%|          | Processed 0.00/1.96M of input file [00:00<?, ?B/s]\n",
      "100%|██████████| Processed 1.96M/1.96M of input file [00:00<00:00, 18.0MB/s]\n",
      "100%|██████████| Processed 1.96M/1.96M of input file [00:00<00:00, 8.51MB/s]\n",
      "\n",
      "ℹ️\n",
      "Parsed 380 tweets objects from 4 lines in the input file.\n",
      "Wrote 380 rows and output 83 columns in the CSV.\n",
      "\n"
     ]
    }
   ],
   "source": [
    "!twarc2 csv tweets-oii.jsonl tweets-oii.csv"
   ]
  },
  {
   "cell_type": "code",
   "execution_count": 5,
   "metadata": {
    "cell_id": "00013-3625854b-c3f8-448d-9ba2-54ca4da38e7d",
    "deepnote_cell_height": 135,
    "deepnote_cell_type": "code",
    "deepnote_to_be_reexecuted": true,
    "execution_millis": 257,
    "execution_start": 1646577170053,
    "output_cleared": true,
    "source_hash": "ffe61c6",
    "tags": []
   },
   "outputs": [
    {
     "data": {
      "text/html": [
       "<div>\n",
       "<style scoped>\n",
       "    .dataframe tbody tr th:only-of-type {\n",
       "        vertical-align: middle;\n",
       "    }\n",
       "\n",
       "    .dataframe tbody tr th {\n",
       "        vertical-align: top;\n",
       "    }\n",
       "\n",
       "    .dataframe thead th {\n",
       "        text-align: right;\n",
       "    }\n",
       "</style>\n",
       "<table border=\"1\" class=\"dataframe\">\n",
       "  <thead>\n",
       "    <tr style=\"text-align: right;\">\n",
       "      <th></th>\n",
       "      <th>id</th>\n",
       "      <th>conversation_id</th>\n",
       "      <th>referenced_tweets.replied_to.id</th>\n",
       "      <th>referenced_tweets.retweeted.id</th>\n",
       "      <th>referenced_tweets.quoted.id</th>\n",
       "      <th>author_id</th>\n",
       "      <th>in_reply_to_user_id</th>\n",
       "      <th>in_reply_to_username</th>\n",
       "      <th>retweeted_user_id</th>\n",
       "      <th>retweeted_username</th>\n",
       "      <th>...</th>\n",
       "      <th>geo.geo.bbox</th>\n",
       "      <th>geo.geo.type</th>\n",
       "      <th>geo.id</th>\n",
       "      <th>geo.name</th>\n",
       "      <th>geo.place_id</th>\n",
       "      <th>geo.place_type</th>\n",
       "      <th>matching_rules</th>\n",
       "      <th>__twarc.retrieved_at</th>\n",
       "      <th>__twarc.url</th>\n",
       "      <th>__twarc.version</th>\n",
       "    </tr>\n",
       "  </thead>\n",
       "  <tbody>\n",
       "    <tr>\n",
       "      <th>0</th>\n",
       "      <td>1618927055672057861</td>\n",
       "      <td>1618600238020984834</td>\n",
       "      <td>1.618600e+18</td>\n",
       "      <td>NaN</td>\n",
       "      <td>NaN</td>\n",
       "      <td>1280951016851222528</td>\n",
       "      <td>1.377685e+18</td>\n",
       "      <td>Wealth_Pill</td>\n",
       "      <td>NaN</td>\n",
       "      <td>NaN</td>\n",
       "      <td>...</td>\n",
       "      <td>NaN</td>\n",
       "      <td>NaN</td>\n",
       "      <td>NaN</td>\n",
       "      <td>NaN</td>\n",
       "      <td>NaN</td>\n",
       "      <td>NaN</td>\n",
       "      <td>NaN</td>\n",
       "      <td>2023-01-27T11:40:09+00:00</td>\n",
       "      <td>https://api.twitter.com/2/tweets/search/recent...</td>\n",
       "      <td>2.13.0</td>\n",
       "    </tr>\n",
       "    <tr>\n",
       "      <th>1</th>\n",
       "      <td>1618926834799808514</td>\n",
       "      <td>1618926834799808514</td>\n",
       "      <td>NaN</td>\n",
       "      <td>NaN</td>\n",
       "      <td>NaN</td>\n",
       "      <td>1395314583510913027</td>\n",
       "      <td>NaN</td>\n",
       "      <td>NaN</td>\n",
       "      <td>NaN</td>\n",
       "      <td>NaN</td>\n",
       "      <td>...</td>\n",
       "      <td>NaN</td>\n",
       "      <td>NaN</td>\n",
       "      <td>NaN</td>\n",
       "      <td>NaN</td>\n",
       "      <td>NaN</td>\n",
       "      <td>NaN</td>\n",
       "      <td>NaN</td>\n",
       "      <td>2023-01-27T11:40:09+00:00</td>\n",
       "      <td>https://api.twitter.com/2/tweets/search/recent...</td>\n",
       "      <td>2.13.0</td>\n",
       "    </tr>\n",
       "    <tr>\n",
       "      <th>2</th>\n",
       "      <td>1618919267902300161</td>\n",
       "      <td>1618919267902300161</td>\n",
       "      <td>NaN</td>\n",
       "      <td>NaN</td>\n",
       "      <td>NaN</td>\n",
       "      <td>20778120</td>\n",
       "      <td>NaN</td>\n",
       "      <td>NaN</td>\n",
       "      <td>NaN</td>\n",
       "      <td>NaN</td>\n",
       "      <td>...</td>\n",
       "      <td>NaN</td>\n",
       "      <td>NaN</td>\n",
       "      <td>NaN</td>\n",
       "      <td>NaN</td>\n",
       "      <td>NaN</td>\n",
       "      <td>NaN</td>\n",
       "      <td>NaN</td>\n",
       "      <td>2023-01-27T11:40:09+00:00</td>\n",
       "      <td>https://api.twitter.com/2/tweets/search/recent...</td>\n",
       "      <td>2.13.0</td>\n",
       "    </tr>\n",
       "    <tr>\n",
       "      <th>3</th>\n",
       "      <td>1618910728056090630</td>\n",
       "      <td>1618910724759371777</td>\n",
       "      <td>1.618911e+18</td>\n",
       "      <td>NaN</td>\n",
       "      <td>NaN</td>\n",
       "      <td>469182585</td>\n",
       "      <td>4.691826e+08</td>\n",
       "      <td>risj_oxford</td>\n",
       "      <td>NaN</td>\n",
       "      <td>NaN</td>\n",
       "      <td>...</td>\n",
       "      <td>NaN</td>\n",
       "      <td>NaN</td>\n",
       "      <td>NaN</td>\n",
       "      <td>NaN</td>\n",
       "      <td>NaN</td>\n",
       "      <td>NaN</td>\n",
       "      <td>NaN</td>\n",
       "      <td>2023-01-27T11:40:09+00:00</td>\n",
       "      <td>https://api.twitter.com/2/tweets/search/recent...</td>\n",
       "      <td>2.13.0</td>\n",
       "    </tr>\n",
       "    <tr>\n",
       "      <th>4</th>\n",
       "      <td>1618908871564709888</td>\n",
       "      <td>1618908871564709888</td>\n",
       "      <td>NaN</td>\n",
       "      <td>NaN</td>\n",
       "      <td>NaN</td>\n",
       "      <td>1047331332</td>\n",
       "      <td>NaN</td>\n",
       "      <td>NaN</td>\n",
       "      <td>NaN</td>\n",
       "      <td>NaN</td>\n",
       "      <td>...</td>\n",
       "      <td>NaN</td>\n",
       "      <td>NaN</td>\n",
       "      <td>NaN</td>\n",
       "      <td>NaN</td>\n",
       "      <td>NaN</td>\n",
       "      <td>NaN</td>\n",
       "      <td>NaN</td>\n",
       "      <td>2023-01-27T11:40:09+00:00</td>\n",
       "      <td>https://api.twitter.com/2/tweets/search/recent...</td>\n",
       "      <td>2.13.0</td>\n",
       "    </tr>\n",
       "  </tbody>\n",
       "</table>\n",
       "<p>5 rows × 83 columns</p>\n",
       "</div>"
      ],
      "text/plain": [
       "                    id      conversation_id  referenced_tweets.replied_to.id  \\\n",
       "0  1618927055672057861  1618600238020984834                     1.618600e+18   \n",
       "1  1618926834799808514  1618926834799808514                              NaN   \n",
       "2  1618919267902300161  1618919267902300161                              NaN   \n",
       "3  1618910728056090630  1618910724759371777                     1.618911e+18   \n",
       "4  1618908871564709888  1618908871564709888                              NaN   \n",
       "\n",
       "   referenced_tweets.retweeted.id  referenced_tweets.quoted.id  \\\n",
       "0                             NaN                          NaN   \n",
       "1                             NaN                          NaN   \n",
       "2                             NaN                          NaN   \n",
       "3                             NaN                          NaN   \n",
       "4                             NaN                          NaN   \n",
       "\n",
       "             author_id  in_reply_to_user_id in_reply_to_username  \\\n",
       "0  1280951016851222528         1.377685e+18          Wealth_Pill   \n",
       "1  1395314583510913027                  NaN                  NaN   \n",
       "2             20778120                  NaN                  NaN   \n",
       "3            469182585         4.691826e+08          risj_oxford   \n",
       "4           1047331332                  NaN                  NaN   \n",
       "\n",
       "   retweeted_user_id retweeted_username  ...  geo.geo.bbox geo.geo.type  \\\n",
       "0                NaN                NaN  ...           NaN          NaN   \n",
       "1                NaN                NaN  ...           NaN          NaN   \n",
       "2                NaN                NaN  ...           NaN          NaN   \n",
       "3                NaN                NaN  ...           NaN          NaN   \n",
       "4                NaN                NaN  ...           NaN          NaN   \n",
       "\n",
       "  geo.id geo.name geo.place_id  geo.place_type  matching_rules  \\\n",
       "0    NaN      NaN          NaN             NaN             NaN   \n",
       "1    NaN      NaN          NaN             NaN             NaN   \n",
       "2    NaN      NaN          NaN             NaN             NaN   \n",
       "3    NaN      NaN          NaN             NaN             NaN   \n",
       "4    NaN      NaN          NaN             NaN             NaN   \n",
       "\n",
       "        __twarc.retrieved_at  \\\n",
       "0  2023-01-27T11:40:09+00:00   \n",
       "1  2023-01-27T11:40:09+00:00   \n",
       "2  2023-01-27T11:40:09+00:00   \n",
       "3  2023-01-27T11:40:09+00:00   \n",
       "4  2023-01-27T11:40:09+00:00   \n",
       "\n",
       "                                         __twarc.url  __twarc.version  \n",
       "0  https://api.twitter.com/2/tweets/search/recent...           2.13.0  \n",
       "1  https://api.twitter.com/2/tweets/search/recent...           2.13.0  \n",
       "2  https://api.twitter.com/2/tweets/search/recent...           2.13.0  \n",
       "3  https://api.twitter.com/2/tweets/search/recent...           2.13.0  \n",
       "4  https://api.twitter.com/2/tweets/search/recent...           2.13.0  \n",
       "\n",
       "[5 rows x 83 columns]"
      ]
     },
     "execution_count": 5,
     "metadata": {},
     "output_type": "execute_result"
    }
   ],
   "source": [
    "import pandas as pd \n",
    "\n",
    "# The filename here is based on what you chose to call the file in the previous cell\n",
    "tweets = pd.read_csv(\"FILENAME\")\n",
    "\n",
    "tweets.head()"
   ]
  },
  {
   "cell_type": "markdown",
   "metadata": {
    "cell_id": "00014-df2b7c34-13d0-4d1f-97f0-5f44d6ca253b",
    "deepnote_cell_height": 192.65625,
    "deepnote_cell_type": "markdown",
    "tags": []
   },
   "source": [
    "<div class=\"alert-info alert\">\n",
    "\n",
    "**Exercise 0.3:** Next, we are going to rename a number of columns to make the data more readable. we are going to rename the columns. Look at the columns and find which columns represent `date of the tweet`,`number of retweets`, `number of likes`, `number of quotes`,  `number of replies`, `author twitter handle`, `author name`, `author's twitter bio`, `text of the tweet`,  `whether the author is verified or not`.\n",
    "\n",
    "The documentation may help: https://developer.twitter.com/en/docs/twitter-api/data-dictionary/object-model/tweet\n",
    "    \n",
    "</div>"
   ]
  },
  {
   "cell_type": "code",
   "execution_count": 6,
   "metadata": {
    "cell_id": "00015-f6deaacd-ac13-4da3-b0bb-0f0938ea51e1",
    "deepnote_cell_height": 81,
    "deepnote_cell_type": "code",
    "deepnote_to_be_reexecuted": true,
    "execution_millis": 920756,
    "execution_start": 1646577170388,
    "output_cleared": true,
    "source_hash": "19167285",
    "tags": []
   },
   "outputs": [
    {
     "name": "stdout",
     "output_type": "stream",
     "text": [
      "Index(['id', 'conversation_id', 'referenced_tweets.replied_to.id',\n",
      "       'referenced_tweets.retweeted.id', 'referenced_tweets.quoted.id',\n",
      "       'author_id', 'in_reply_to_user_id', 'in_reply_to_username',\n",
      "       'retweeted_user_id', 'retweeted_username', 'quoted_user_id',\n",
      "       'quoted_username', 'created_at', 'text', 'lang', 'source',\n",
      "       'public_metrics.impression_count', 'public_metrics.reply_count',\n",
      "       'public_metrics.retweet_count', 'public_metrics.quote_count',\n",
      "       'public_metrics.like_count', 'reply_settings', 'edit_history_tweet_ids',\n",
      "       'edit_controls.edits_remaining', 'edit_controls.editable_until',\n",
      "       'edit_controls.is_edit_eligible', 'possibly_sensitive',\n",
      "       'withheld.scope', 'withheld.copyright', 'withheld.country_codes',\n",
      "       'entities.annotations', 'entities.cashtags', 'entities.hashtags',\n",
      "       'entities.mentions', 'entities.urls', 'context_annotations',\n",
      "       'attachments.media', 'attachments.media_keys',\n",
      "       'attachments.poll.duration_minutes', 'attachments.poll.end_datetime',\n",
      "       'attachments.poll.id', 'attachments.poll.options',\n",
      "       'attachments.poll.voting_status', 'attachments.poll_ids', 'author.id',\n",
      "       'author.created_at', 'author.username', 'author.name',\n",
      "       'author.description', 'author.entities.description.cashtags',\n",
      "       'author.entities.description.hashtags',\n",
      "       'author.entities.description.mentions',\n",
      "       'author.entities.description.urls', 'author.entities.url.urls',\n",
      "       'author.url', 'author.location', 'author.pinned_tweet_id',\n",
      "       'author.profile_image_url', 'author.protected',\n",
      "       'author.public_metrics.followers_count',\n",
      "       'author.public_metrics.following_count',\n",
      "       'author.public_metrics.listed_count',\n",
      "       'author.public_metrics.tweet_count', 'author.verified',\n",
      "       'author.verified_type', 'author.withheld.scope',\n",
      "       'author.withheld.copyright', 'author.withheld.country_codes',\n",
      "       'geo.coordinates.coordinates', 'geo.coordinates.type', 'geo.country',\n",
      "       'geo.country_code', 'geo.full_name', 'geo.geo.bbox', 'geo.geo.type',\n",
      "       'geo.id', 'geo.name', 'geo.place_id', 'geo.place_type',\n",
      "       'matching_rules', '__twarc.retrieved_at', '__twarc.url',\n",
      "       '__twarc.version'],\n",
      "      dtype='object')\n"
     ]
    }
   ],
   "source": [
    "print(tweets.columns)"
   ]
  },
  {
   "cell_type": "code",
   "execution_count": 7,
   "metadata": {
    "cell_id": "00016-ffa164da-55ad-4656-a8a2-082a95739b7b",
    "deepnote_cell_height": 387,
    "deepnote_cell_type": "code",
    "deepnote_to_be_reexecuted": true,
    "execution_millis": 917688,
    "execution_start": 1646577170402,
    "output_cleared": true,
    "source_hash": "c6db9fbf",
    "tags": []
   },
   "outputs": [],
   "source": [
    "# In this dictionary, the keys are the old column names, and the values are the new names\n",
    "# I've prefilled all of the values, and most of the keys for you. Do the rest based on the documentation.\n",
    "\n",
    "def rename_dataframe_tweets(dataframe):\n",
    "    \"\"\" Rename the columns of a dataset archived by twarc2. \"\"\"\n",
    "    return dataframe.rename(columns={\n",
    "        'YOUR CODE HERE': 'date',\n",
    "        'public_metrics.retweet_count': 'retweets', \n",
    "        'author.username': 'username', \n",
    "        'author.name': 'name',\n",
    "        'YOUR CODE HERE': 'verified', \n",
    "        'public_metrics.like_count': 'likes', \n",
    "        'public_metrics.quote_count': 'quotes', \n",
    "        'public_metrics.reply_count': 'replies',\n",
    "        'author.description': 'user_bio',\n",
    "        'YOUR CODE HERE' : 'hashtags'\n",
    "    })\n",
    "\n",
    "tweets = rename_dataframe_tweets(tweets)\n",
    "\n",
    "# note we are keeping the column `text` as it is. \n",
    "tweets = tweets[['date', 'retweets', 'username', 'name', 'verified', 'likes', 'quotes', 'replies', 'user_bio', 'text', 'hashtags']]"
   ]
  },
  {
   "cell_type": "markdown",
   "metadata": {
    "cell_id": "00017-e60d12e4-fbce-462e-be2e-1232754b0f66",
    "deepnote_cell_height": 52,
    "deepnote_cell_type": "markdown",
    "tags": []
   },
   "source": [
    "Now we can view our more focused DataFrame!"
   ]
  },
  {
   "cell_type": "code",
   "execution_count": 8,
   "metadata": {
    "cell_id": "00018-6a43c8aa-d171-4968-ab4f-2841c7ca0d1e",
    "deepnote_cell_height": 81,
    "deepnote_cell_type": "code",
    "deepnote_to_be_reexecuted": true,
    "execution_millis": 907715,
    "execution_start": 1646577170415,
    "output_cleared": true,
    "source_hash": "d36541de",
    "tags": []
   },
   "outputs": [
    {
     "data": {
      "text/html": [
       "<div>\n",
       "<style scoped>\n",
       "    .dataframe tbody tr th:only-of-type {\n",
       "        vertical-align: middle;\n",
       "    }\n",
       "\n",
       "    .dataframe tbody tr th {\n",
       "        vertical-align: top;\n",
       "    }\n",
       "\n",
       "    .dataframe thead th {\n",
       "        text-align: right;\n",
       "    }\n",
       "</style>\n",
       "<table border=\"1\" class=\"dataframe\">\n",
       "  <thead>\n",
       "    <tr style=\"text-align: right;\">\n",
       "      <th></th>\n",
       "      <th>date</th>\n",
       "      <th>retweets</th>\n",
       "      <th>username</th>\n",
       "      <th>name</th>\n",
       "      <th>verified</th>\n",
       "      <th>likes</th>\n",
       "      <th>quotes</th>\n",
       "      <th>replies</th>\n",
       "      <th>user_bio</th>\n",
       "      <th>text</th>\n",
       "      <th>hashtags</th>\n",
       "    </tr>\n",
       "  </thead>\n",
       "  <tbody>\n",
       "    <tr>\n",
       "      <th>0</th>\n",
       "      <td>2023-01-27T11:01:02.000Z</td>\n",
       "      <td>0</td>\n",
       "      <td>iamsadielane</td>\n",
       "      <td>Sadie Lane</td>\n",
       "      <td>False</td>\n",
       "      <td>0</td>\n",
       "      <td>0</td>\n",
       "      <td>0</td>\n",
       "      <td>Artist &amp; Designer #becomelove Freedom Fighter,...</td>\n",
       "      <td>@Wealth_Pill I agree with this, and now you ca...</td>\n",
       "      <td>NaN</td>\n",
       "    </tr>\n",
       "    <tr>\n",
       "      <th>1</th>\n",
       "      <td>2023-01-27T11:00:10.000Z</td>\n",
       "      <td>0</td>\n",
       "      <td>Shavtge</td>\n",
       "      <td>Shav</td>\n",
       "      <td>False</td>\n",
       "      <td>0</td>\n",
       "      <td>0</td>\n",
       "      <td>1</td>\n",
       "      <td>Data Scientist | Blockchain &amp; Distributed Ledg...</td>\n",
       "      <td>#ChatGPT is amazing but it's not without its f...</td>\n",
       "      <td>[\"#ChatGPT\", \"#AI\", \"#NLP\"]</td>\n",
       "    </tr>\n",
       "    <tr>\n",
       "      <th>2</th>\n",
       "      <td>2023-01-27T10:30:06.000Z</td>\n",
       "      <td>0</td>\n",
       "      <td>john_w_hayes</td>\n",
       "      <td>John W Hayes</td>\n",
       "      <td>False</td>\n",
       "      <td>1</td>\n",
       "      <td>0</td>\n",
       "      <td>0</td>\n",
       "      <td>Content Marketing, Email Marketing and Social ...</td>\n",
       "      <td>Amazon is developing \"similar technology\" to C...</td>\n",
       "      <td>NaN</td>\n",
       "    </tr>\n",
       "    <tr>\n",
       "      <th>3</th>\n",
       "      <td>2023-01-27T09:56:10.000Z</td>\n",
       "      <td>0</td>\n",
       "      <td>risj_oxford</td>\n",
       "      <td>Reuters Institute</td>\n",
       "      <td>True</td>\n",
       "      <td>0</td>\n",
       "      <td>0</td>\n",
       "      <td>1</td>\n",
       "      <td>Exploring the future of journalism. Subscribe ...</td>\n",
       "      <td>🤖 Founder @peretti said in a memo @BuzzFeed wo...</td>\n",
       "      <td>NaN</td>\n",
       "    </tr>\n",
       "    <tr>\n",
       "      <th>4</th>\n",
       "      <td>2023-01-27T09:48:47.000Z</td>\n",
       "      <td>0</td>\n",
       "      <td>Sammidadwal</td>\n",
       "      <td>S@MM! H@k3r</td>\n",
       "      <td>False</td>\n",
       "      <td>0</td>\n",
       "      <td>0</td>\n",
       "      <td>0</td>\n",
       "      <td>Helping Nation to build a better working Digit...</td>\n",
       "      <td>Excited to share the power of #ChatGPT for #cy...</td>\n",
       "      <td>[\"#ChatGPT\", \"#cybersecurity\"]</td>\n",
       "    </tr>\n",
       "  </tbody>\n",
       "</table>\n",
       "</div>"
      ],
      "text/plain": [
       "                       date  retweets      username               name  \\\n",
       "0  2023-01-27T11:01:02.000Z         0  iamsadielane         Sadie Lane   \n",
       "1  2023-01-27T11:00:10.000Z         0       Shavtge               Shav   \n",
       "2  2023-01-27T10:30:06.000Z         0  john_w_hayes       John W Hayes   \n",
       "3  2023-01-27T09:56:10.000Z         0   risj_oxford  Reuters Institute   \n",
       "4  2023-01-27T09:48:47.000Z         0   Sammidadwal        S@MM! H@k3r   \n",
       "\n",
       "   verified  likes  quotes  replies  \\\n",
       "0     False      0       0        0   \n",
       "1     False      0       0        1   \n",
       "2     False      1       0        0   \n",
       "3      True      0       0        1   \n",
       "4     False      0       0        0   \n",
       "\n",
       "                                            user_bio  \\\n",
       "0  Artist & Designer #becomelove Freedom Fighter,...   \n",
       "1  Data Scientist | Blockchain & Distributed Ledg...   \n",
       "2  Content Marketing, Email Marketing and Social ...   \n",
       "3  Exploring the future of journalism. Subscribe ...   \n",
       "4  Helping Nation to build a better working Digit...   \n",
       "\n",
       "                                                text  \\\n",
       "0  @Wealth_Pill I agree with this, and now you ca...   \n",
       "1  #ChatGPT is amazing but it's not without its f...   \n",
       "2  Amazon is developing \"similar technology\" to C...   \n",
       "3  🤖 Founder @peretti said in a memo @BuzzFeed wo...   \n",
       "4  Excited to share the power of #ChatGPT for #cy...   \n",
       "\n",
       "                         hashtags  \n",
       "0                             NaN  \n",
       "1     [\"#ChatGPT\", \"#AI\", \"#NLP\"]  \n",
       "2                             NaN  \n",
       "3                             NaN  \n",
       "4  [\"#ChatGPT\", \"#cybersecurity\"]  "
      ]
     },
     "execution_count": 8,
     "metadata": {},
     "output_type": "execute_result"
    }
   ],
   "source": [
    "tweets.head()"
   ]
  },
  {
   "cell_type": "markdown",
   "metadata": {
    "cell_id": "00019-9f1f67b6-6ce0-4ae5-bd70-d0d9a7d9ebd8",
    "deepnote_cell_height": 104,
    "deepnote_cell_type": "markdown",
    "tags": []
   },
   "source": [
    "<div class=\"alert-info alert\">\n",
    "\n",
    "**Exercise 0.4:** Let's have a look at the text of these tweets. Print 10 tweets from the dataframe. \n",
    "\n",
    "</div>"
   ]
  },
  {
   "cell_type": "code",
   "execution_count": 9,
   "metadata": {
    "cell_id": "00020-8c38e2fe-022f-4f53-a19a-8a68995a3e4d",
    "deepnote_cell_height": 99,
    "deepnote_cell_type": "code",
    "deepnote_to_be_reexecuted": true,
    "execution_millis": 2618688,
    "execution_start": 1646577170433,
    "output_cleared": true,
    "source_hash": "58c9579f",
    "tags": []
   },
   "outputs": [
    {
     "name": "stdout",
     "output_type": "stream",
     "text": [
      "@Wealth_Pill I agree with this, and now you can use ChatGPT to assist in these endeavors or to help you learn.\n",
      "#ChatGPT is amazing but it's not without its flaws... CEO of Wolfram suggests that some tasks require a symbolic language like Wolfram on which to apply structured computational knowledge power; combining ChatGPT with @WolframResearch could be the 'power assist' it needs #AI #NLP https://t.co/b9wFnMM0ml\n",
      "Amazon is developing \"similar technology\" to ChatGPT — a revelation that appeared to pique the interest of employees who said that using the AI to assist their code-writing had resulted in a tenfold productivity boost. https://t.co/G6Npnb4QwF\n",
      "🤖 Founder @peretti said in a memo @BuzzFeed would rely on ChatGPT to enhance its quizzes and personalise some content. He expects AI to assist the creative process while humans play the role of providing ideas, \"cultural currency\" and \"inspired prompts\"\\nhttps://t.co/3PB3TLcrr4\n",
      "Excited to share the power of #ChatGPT for #cybersecurity education and awareness! This advanced AI model developed by OpenAI can provide personalized and interactive learning experiences, simulate realistic cyber attack scenarios and assist users with th…https://t.co/x9EC4YaFZW\n",
      "Buzzfeed will work with chatgpt creator openai to use artificial intelligence to create content for its audience. The technology will be used to create quizzes, help with brainstorming, and assist in personalizing content. A spokesperson to\n",
      "Buzzfeed will work with chatgpt creator openai to use artificial intelligence to create content for its audience. The technology will be used to create quizzes, help with brainstorming, and assist in personalizing content. A spokesperson to\n",
      "@jryoung Informative article, thank you, Jeff. \"17% of Stanford student respondents reported using ChatGPT to assist with their fall quarter assignments and exams.\" It is important for all faculty to develop students' #AILiteracy and decide how to best use #ChatGPT in class.\n",
      "9. Educational tool. ChatGPT can assist with language learning, writing, and research.\\n#education #AI\n",
      "8. Virtual assistants. ChatGPT can assist with scheduling, reminders, and other tasks.\\n#virtualassistants #AI\n"
     ]
    }
   ],
   "source": [
    "# Iterate over the text column of the DataFrame\n",
    "for t in ???:\n",
    "    print(t)"
   ]
  },
  {
   "cell_type": "markdown",
   "metadata": {
    "cell_id": "00021-334b1168-f2b1-427b-a026-8dbf391e1a2b",
    "deepnote_cell_height": 147.859375,
    "deepnote_cell_type": "markdown",
    "tags": []
   },
   "source": [
    "<div class=\"alert-info alert\">\n",
    "\n",
    "**Exercise 0.5:** Analyze  the hashtags in the above tweets and save the resulting counts of hashtags in a CSV file named `hashtags-oii.csv`. Read this csv file in `pandas` and check the counts of these hashtags.\n",
    "\n",
    "</div>"
   ]
  },
  {
   "cell_type": "code",
   "execution_count": 10,
   "metadata": {
    "cell_id": "00022-9c744968-aaae-4d62-96e4-4a2d552efd4d",
    "deepnote_cell_height": 81,
    "deepnote_cell_type": "code",
    "deepnote_to_be_reexecuted": true,
    "execution_millis": 2458,
    "execution_start": 1646577170444,
    "output_cleared": true,
    "source_hash": "688fdd94",
    "tags": []
   },
   "outputs": [
    {
     "name": "stderr",
     "output_type": "stream",
     "text": [
      "\n",
      "  0%|          | Processed 0.00/1.96M of input file [00:00<?, ?B/s]\n",
      "100%|█████████▉| Processed 1.96M/1.96M of input file [00:00<00:00, 17.8MB/s]\n",
      "100%|█████████▉| Processed 1.96M/1.96M of input file [00:00<00:00, 12.9MB/s]\n"
     ]
    }
   ],
   "source": [
    "# This command may break on Windows. If the error is about encodings, ignore it for now and keep going.\n",
    "!twarc2 hashtags tweets-oii.jsonl hashtags-oii.csv"
   ]
  },
  {
   "cell_type": "code",
   "execution_count": 11,
   "metadata": {
    "cell_id": "00023-39352436-cd56-4347-9995-ec2cab485e0d",
    "deepnote_cell_height": 99,
    "deepnote_cell_type": "code",
    "deepnote_to_be_reexecuted": true,
    "execution_millis": 38,
    "execution_start": 1646577172905,
    "output_cleared": true,
    "source_hash": "efbd23fc",
    "tags": []
   },
   "outputs": [
    {
     "data": {
      "text/html": [
       "<div>\n",
       "<style scoped>\n",
       "    .dataframe tbody tr th:only-of-type {\n",
       "        vertical-align: middle;\n",
       "    }\n",
       "\n",
       "    .dataframe tbody tr th {\n",
       "        vertical-align: top;\n",
       "    }\n",
       "\n",
       "    .dataframe thead th {\n",
       "        text-align: right;\n",
       "    }\n",
       "</style>\n",
       "<table border=\"1\" class=\"dataframe\">\n",
       "  <thead>\n",
       "    <tr style=\"text-align: right;\">\n",
       "      <th></th>\n",
       "      <th>hashtag</th>\n",
       "      <th>tweets</th>\n",
       "    </tr>\n",
       "  </thead>\n",
       "  <tbody>\n",
       "    <tr>\n",
       "      <th>0</th>\n",
       "      <td>chatgpt</td>\n",
       "      <td>126</td>\n",
       "    </tr>\n",
       "    <tr>\n",
       "      <th>1</th>\n",
       "      <td>ai</td>\n",
       "      <td>41</td>\n",
       "    </tr>\n",
       "    <tr>\n",
       "      <th>2</th>\n",
       "      <td>wharton</td>\n",
       "      <td>8</td>\n",
       "    </tr>\n",
       "    <tr>\n",
       "      <th>3</th>\n",
       "      <td>us</td>\n",
       "      <td>8</td>\n",
       "    </tr>\n",
       "    <tr>\n",
       "      <th>4</th>\n",
       "      <td>mba</td>\n",
       "      <td>8</td>\n",
       "    </tr>\n",
       "    <tr>\n",
       "      <th>...</th>\n",
       "      <td>...</td>\n",
       "      <td>...</td>\n",
       "    </tr>\n",
       "    <tr>\n",
       "      <th>139</th>\n",
       "      <td>aigc</td>\n",
       "      <td>1</td>\n",
       "    </tr>\n",
       "    <tr>\n",
       "      <th>140</th>\n",
       "      <td>aiemailmarketing</td>\n",
       "      <td>1</td>\n",
       "    </tr>\n",
       "    <tr>\n",
       "      <th>141</th>\n",
       "      <td>aied</td>\n",
       "      <td>1</td>\n",
       "    </tr>\n",
       "    <tr>\n",
       "      <th>142</th>\n",
       "      <td>actgpt</td>\n",
       "      <td>1</td>\n",
       "    </tr>\n",
       "    <tr>\n",
       "      <th>143</th>\n",
       "      <td>10x</td>\n",
       "      <td>1</td>\n",
       "    </tr>\n",
       "  </tbody>\n",
       "</table>\n",
       "<p>144 rows × 2 columns</p>\n",
       "</div>"
      ],
      "text/plain": [
       "              hashtag  tweets\n",
       "0             chatgpt     126\n",
       "1                  ai      41\n",
       "2             wharton       8\n",
       "3                  us       8\n",
       "4                 mba       8\n",
       "..                ...     ...\n",
       "139              aigc       1\n",
       "140  aiemailmarketing       1\n",
       "141              aied       1\n",
       "142            actgpt       1\n",
       "143               10x       1\n",
       "\n",
       "[144 rows x 2 columns]"
      ]
     },
     "execution_count": 11,
     "metadata": {},
     "output_type": "execute_result"
    }
   ],
   "source": [
    "hashtags_oii = pd.read_csv('hashtags-oii.csv')\n",
    "hashtags_oii"
   ]
  },
  {
   "cell_type": "markdown",
   "metadata": {
    "cell_id": "00024-5f19cce6-84e9-45b4-b8e2-a4dbad81f89d",
    "deepnote_cell_height": 383.859375,
    "deepnote_cell_type": "markdown",
    "tags": []
   },
   "source": [
    "## Get Tweets (Academic Track, Full Twitter Archive)\n",
    "\n",
    "So far we have been querying the standard Twitter API that limits the search results to the past 7 days. In order to search the full Twitter archive, we only need to add a single flag of `--archive` to our `twarc2 search` command so that the command now looks like `twarc2 search *query* --archive filename`. If you do not have full API access, try to either find someone to work with who does, or run the commands without the `--archive` flag.\n",
    "\n",
    "<div class=\"alert-info alert\">\n",
    "\n",
    "**Exercise 1:** Now repeat the Exercise 0.1, 0.2, and 0.3 by running the search query on the entire archive.\n",
    "\n",
    "For the sake of clarity, add `-archive` to the .jsonl output file. For example, save the tweets in `tweet-oii-archive.jsonl`. \n",
    "\n",
    "</div>\n",
    "\n",
    "\n"
   ]
  },
  {
   "cell_type": "code",
   "execution_count": 13,
   "metadata": {
    "cell_id": "00025-c2e842d1-e6f6-4af3-9f3c-d00779195073",
    "deepnote_cell_height": 135,
    "deepnote_cell_type": "code",
    "deepnote_to_be_reexecuted": true,
    "execution_millis": 100643,
    "execution_start": 1646577172965,
    "output_cleared": true,
    "source_hash": "6fb3b41",
    "tags": []
   },
   "outputs": [
    {
     "name": "stderr",
     "output_type": "stream",
     "text": [
      "\n",
      "  0%|          | Processed a moment/2 years [00:00<?, 0 tweets total ]\n",
      "  9%|▉         | Processed 2 months/2 years [00:03<00:33, 0 tweets total ]\n",
      " 15%|█▌        | Processed 3 months/2 years [00:06<00:38, 98 tweets total ]\n",
      " 17%|█▋        | Processed 4 months/2 years [00:10<00:58, 196 tweets total ]\n",
      " 19%|█▉        | Processed 4 months/2 years [00:13<01:09, 294 tweets total ]\n",
      " 24%|██▍       | Processed 5 months/2 years [00:16<00:58, 391 tweets total ]\n",
      " 31%|███       | Processed 7 months/2 years [00:19<00:43, 490 tweets total ]\n",
      " 32%|███▏      | Processed 7 months/2 years [00:21<00:53, 585 tweets total ]\n",
      " 41%|████      | Processed 10 months/2 years [00:24<00:32, 645 tweets total ]\n",
      " 47%|████▋     | Processed 11 months/2 years [00:27<00:27, 738 tweets total ]\n",
      " 52%|█████▏    | Processed 1 year, 1 month/2 years [00:31<00:26, 812 tweets total ]\n",
      " 60%|█████▉    | Processed 1 year, 2 months/2 years [00:34<00:19, 910 tweets total ]\n",
      " 62%|██████▏   | Processed 1 year, 3 months/2 years [00:37<00:24, 998 tweets total ]\n",
      " 63%|██████▎   | Processed 1 year, 3 months/2 years [00:39<00:29, 1095 tweets total ]\n",
      " 67%|██████▋   | Processed 1 year, 4 months/2 years [00:42<00:24, 1194 tweets total ]\n",
      " 73%|███████▎  | Processed 1 year, 6 months/2 years [00:45<00:17, 1290 tweets total ]\n",
      " 78%|███████▊  | Processed 1 year, 7 months/2 years [00:48<00:14, 1382 tweets total ]\n",
      " 81%|████████  | Processed 1 year, 8 months/2 years [00:51<00:13, 1470 tweets total ]\n",
      " 81%|████████▏ | Processed 1 year, 8 months/2 years [00:54<00:18, 1561 tweets total ]\n",
      " 82%|████████▏ | Processed 1 year, 8 months/2 years [00:57<00:24, 1651 tweets total ]\n",
      " 82%|████████▏ | Processed 1 year, 8 months/2 years [01:00<00:33, 1742 tweets total ]\n",
      " 83%|████████▎ | Processed 1 year, 8 months/2 years [01:03<00:36, 1824 tweets total ]\n",
      " 87%|████████▋ | Processed 1 year, 9 months/2 years [01:06<00:18, 1908 tweets total ]\n",
      " 90%|████████▉ | Processed 1 year, 10 months/2 years [01:08<00:12, 2005 tweets total ]\n",
      " 94%|█████████▎| Processed 1 year, 11 months/2 years [01:11<00:06, 2098 tweets total ]\n",
      " 96%|█████████▌| Processed 1 year, 11 months/2 years [01:14<00:04, 2188 tweets total ]\n",
      " 96%|█████████▋| Processed 1 year, 11 months/2 years [01:17<00:04, 2284 tweets total ]\n",
      " 97%|█████████▋| Processed 2 years/2 years [01:20<00:04, 2384 tweets total ]          \n",
      " 97%|█████████▋| Processed 2 years/2 years [01:23<00:06, 2478 tweets total ]\n",
      " 99%|█████████▉| Processed 2 years/2 years [01:25<00:02, 2570 tweets total ]\n",
      "100%|██████████| Processed 2 years/2 years [01:25<00:00, 2604 tweets total ]\n",
      "\n",
      "  0%|          | Processed 0.00/12.3M of input file [00:00<?, ?B/s]\n",
      " 10%|▉         | Processed 1.18M/12.3M of input file [00:00<00:01, 10.6MB/s]\n",
      " 23%|██▎       | Processed 2.78M/12.3M of input file [00:00<00:00, 12.5MB/s]\n",
      " 37%|███▋      | Processed 4.53M/12.3M of input file [00:00<00:00, 13.3MB/s]\n",
      " 47%|████▋     | Processed 5.79M/12.3M of input file [00:00<00:00, 12.4MB/s]\n",
      " 61%|██████▏   | Processed 7.53M/12.3M of input file [00:00<00:00, 13.3MB/s]\n",
      " 72%|███████▏  | Processed 8.80M/12.3M of input file [00:00<00:00, 13.0MB/s]\n",
      " 83%|████████▎ | Processed 10.2M/12.3M of input file [00:00<00:00, 13.3MB/s]\n",
      " 90%|█████████ | Processed 11.1M/12.3M of input file [00:00<00:00, 11.4MB/s]\n",
      "100%|██████████| Processed 12.3M/12.3M of input file [00:01<00:00, 8.00MB/s]\n",
      "\n",
      "ℹ️\n",
      "Parsed 2604 tweets objects from 29 lines in the input file.\n",
      "Wrote 2604 rows and output 83 columns in the CSV.\n",
      "\n"
     ]
    }
   ],
   "source": [
    "# To limit the time your query will take to run, let's add --start-time 2021-01-01 to limit tweets to 2021—2022.\n",
    "\n",
    "# FYI - this cell takes a WHILE to run, don't worry if it seems slow.\n",
    "\n",
    "# Don't try to cancel the call if you can help it. Oftentimes twarc will keep running in the \n",
    "# background and using your API access even after the cell has been stopped, which can make\n",
    "# a mess of your files.\n",
    "\n",
    "!twarc2 search --archive --start-time 2021-01-01 \"YOUR QUERY HERE\" tweets-oii-archive.jsonl \n",
    "!twarc2 csv tweets-oii-archive.jsonl tweets-oii-archive.csv"
   ]
  },
  {
   "cell_type": "code",
   "execution_count": 14,
   "metadata": {
    "cell_id": "00026-7faf2153-1b26-41bf-8098-49a4958d5d15",
    "deepnote_cell_height": 171,
    "deepnote_cell_type": "code",
    "deepnote_to_be_reexecuted": true,
    "execution_millis": 460,
    "execution_start": 1646577273618,
    "output_cleared": true,
    "source_hash": "a0f04a0d",
    "tags": []
   },
   "outputs": [
    {
     "name": "stdout",
     "output_type": "stream",
     "text": [
      "We collected 2604 tweets!\n"
     ]
    }
   ],
   "source": [
    "tweets = pd.read_csv(\"tweets-oii-archive.csv\")\n",
    "\n",
    "tweets = rename_dataframe_tweets(tweets)  # We reuse the function we defined above\n",
    "\n",
    "tweets = tweets[['date', 'retweets', 'username', 'name', 'verified', 'likes', 'quotes', 'replies', 'user_bio']]\n",
    "print(f\"We collected {tweets.shape[0]} tweets!\")"
   ]
  },
  {
   "cell_type": "markdown",
   "metadata": {},
   "source": [
    "\n",
    "<div class=\"alert-warning alert\">\n",
    "\n",
    "**Windows Users:** The command below may raise an error involving problems encoding certain characters. This is because Windows does not use UTF-8 encodings by default. You can change this in your language settings if you really want it to work, but I recommend just adding the hastags column to the DataFrame above and skipping this cell.\n",
    "\n",
    "</div>"
   ]
  },
  {
   "cell_type": "code",
   "execution_count": 15,
   "metadata": {
    "cell_id": "00027-e9c7afc2-dcbd-42f5-b074-ac1d64dfc49b",
    "deepnote_cell_height": 81,
    "deepnote_cell_type": "code",
    "deepnote_to_be_reexecuted": true,
    "execution_millis": 3542,
    "execution_start": 1646577274074,
    "output_cleared": true,
    "source_hash": "f925722e",
    "tags": []
   },
   "outputs": [
    {
     "name": "stderr",
     "output_type": "stream",
     "text": [
      "\n",
      "  0%|          | Processed 0.00/12.3M of input file [00:00<?, ?B/s]\n",
      " 19%|█▉        | Processed 2.39M/12.3M of input file [00:00<00:00, 19.8MB/s]\n",
      " 30%|███       | Processed 3.70M/12.3M of input file [00:00<00:00, 14.1MB/s]\n",
      " 41%|████      | Processed 5.04M/12.3M of input file [00:00<00:00, 13.4MB/s]\n",
      " 54%|█████▍    | Processed 6.64M/12.3M of input file [00:00<00:00, 12.9MB/s]\n",
      " 64%|██████▍   | Processed 7.89M/12.3M of input file [00:00<00:00, 12.4MB/s]\n",
      " 76%|███████▌  | Processed 9.32M/12.3M of input file [00:00<00:00, 12.3MB/s]\n",
      " 90%|█████████ | Processed 11.1M/12.3M of input file [00:00<00:00, 13.1MB/s]\n",
      "100%|█████████▉| Processed 12.3M/12.3M of input file [00:00<00:00, 12.4MB/s]\n",
      "100%|█████████▉| Processed 12.3M/12.3M of input file [00:01<00:00, 12.7MB/s]\n"
     ]
    }
   ],
   "source": [
    "!twarc2 hashtags tweets-oii-archive.jsonl hashtags-oii-archive.csv"
   ]
  },
  {
   "cell_type": "code",
   "execution_count": 16,
   "metadata": {
    "cell_id": "00028-f71d7c55-3db4-4af9-8f4d-8691fce8937b",
    "deepnote_cell_height": 99,
    "deepnote_cell_type": "code",
    "deepnote_to_be_reexecuted": true,
    "execution_millis": 370,
    "execution_start": 1646577277632,
    "output_cleared": true,
    "source_hash": "6bbdfd85",
    "tags": []
   },
   "outputs": [
    {
     "data": {
      "text/html": [
       "<div>\n",
       "<style scoped>\n",
       "    .dataframe tbody tr th:only-of-type {\n",
       "        vertical-align: middle;\n",
       "    }\n",
       "\n",
       "    .dataframe tbody tr th {\n",
       "        vertical-align: top;\n",
       "    }\n",
       "\n",
       "    .dataframe thead th {\n",
       "        text-align: right;\n",
       "    }\n",
       "</style>\n",
       "<table border=\"1\" class=\"dataframe\">\n",
       "  <thead>\n",
       "    <tr style=\"text-align: right;\">\n",
       "      <th></th>\n",
       "      <th>hashtag</th>\n",
       "      <th>tweets</th>\n",
       "    </tr>\n",
       "  </thead>\n",
       "  <tbody>\n",
       "    <tr>\n",
       "      <th>0</th>\n",
       "      <td>oxford</td>\n",
       "      <td>82</td>\n",
       "    </tr>\n",
       "    <tr>\n",
       "      <th>1</th>\n",
       "      <td>ai</td>\n",
       "      <td>82</td>\n",
       "    </tr>\n",
       "    <tr>\n",
       "      <th>2</th>\n",
       "      <td>ap</td>\n",
       "      <td>67</td>\n",
       "    </tr>\n",
       "    <tr>\n",
       "      <th>3</th>\n",
       "      <td>phd</td>\n",
       "      <td>37</td>\n",
       "    </tr>\n",
       "    <tr>\n",
       "      <th>4</th>\n",
       "      <td>swisscognitive</td>\n",
       "      <td>29</td>\n",
       "    </tr>\n",
       "    <tr>\n",
       "      <th>...</th>\n",
       "      <td>...</td>\n",
       "      <td>...</td>\n",
       "    </tr>\n",
       "    <tr>\n",
       "      <th>346</th>\n",
       "      <td>apnic</td>\n",
       "      <td>1</td>\n",
       "    </tr>\n",
       "    <tr>\n",
       "      <th>347</th>\n",
       "      <td>antisemitism</td>\n",
       "      <td>1</td>\n",
       "    </tr>\n",
       "    <tr>\n",
       "      <th>348</th>\n",
       "      <td>aiforgood</td>\n",
       "      <td>1</td>\n",
       "    </tr>\n",
       "    <tr>\n",
       "      <th>349</th>\n",
       "      <td>adolescents</td>\n",
       "      <td>1</td>\n",
       "    </tr>\n",
       "    <tr>\n",
       "      <th>350</th>\n",
       "      <td>acsdistanceeducation</td>\n",
       "      <td>1</td>\n",
       "    </tr>\n",
       "  </tbody>\n",
       "</table>\n",
       "<p>351 rows × 2 columns</p>\n",
       "</div>"
      ],
      "text/plain": [
       "                  hashtag  tweets\n",
       "0                  oxford      82\n",
       "1                      ai      82\n",
       "2                      ap      67\n",
       "3                     phd      37\n",
       "4          swisscognitive      29\n",
       "..                    ...     ...\n",
       "346                 apnic       1\n",
       "347          antisemitism       1\n",
       "348             aiforgood       1\n",
       "349           adolescents       1\n",
       "350  acsdistanceeducation       1\n",
       "\n",
       "[351 rows x 2 columns]"
      ]
     },
     "execution_count": 16,
     "metadata": {},
     "output_type": "execute_result"
    }
   ],
   "source": [
    "hashtags_oii = pd.read_csv('hashtags-oii-archive.csv')\n",
    "hashtags_oii"
   ]
  },
  {
   "cell_type": "markdown",
   "metadata": {
    "cell_id": "00029-4e188647-d50d-4f95-93be-92ce6b3e39d1",
    "deepnote_cell_height": 70,
    "deepnote_cell_type": "markdown",
    "tags": []
   },
   "source": [
    "## Advanced Search of Twitter API\n",
    "\n",
    "\n",
    "\n"
   ]
  },
  {
   "cell_type": "markdown",
   "metadata": {
    "cell_id": "00030-4a1950d6-0048-4af1-84a0-cca135c9eac4",
    "deepnote_cell_height": 861.265625,
    "deepnote_cell_type": "markdown",
    "tags": []
   },
   "source": [
    "The Twitter API is very complex and not everything can be taught in this class. Our aim is to show you the basis but also get you comfortable in constructing more complex queries.\n",
    "\n",
    "There are many other operators that we can add to a query, which would allow us to collect tweets only from specific Twitter users or locations, or to only collect tweets that meet certain conditions, such as containing an image or being authored by a verified Twitter user. Here’s an table of the main search operators taken from the Twitter documentation (https://developer.twitter.com/en/docs/twitter-api/tweets/search/integrate/build-a-query#list). If you're interested, look also at:\n",
    "\n",
    "- Twarc's own documentation: https://twarc-project.readthedocs.io/en/latest/twarc2_en_us/\n",
    "- Some advanced examples from `twitterdev` Github account: https://github.com/twitterdev/getting-started-with-the-twitter-api-v2-for-academic-research/blob/main/modules/5-how-to-write-search-queries.md\n",
    "\n",
    "<hr />\n",
    "<br />\n",
    "\n",
    "| Search Operator      | Explanation | Example |\n",
    "|:---------------------|:------------|:------- |\n",
    "| `keyword`              | Matches a keyword within the body of a Tweet. |`so sweet and so cold` |                    \n",
    "| `\"exact phrase match\"` | Matches the exact phrase within the body of a Tweet. | `\"so sweet and so cold\" OR \"plums in the icebox\"` |\n",
    "| `-`                    | Do NOT match a keyword or operator | `birthday -happy`, `oxford -university` |\n",
    "| `#`                    | Matches any Tweet containing a recognized hashtag.  | `#arthistory` |\n",
    "| `from:`, `to:`         | Matches any Tweet from or to a specific user. | `from:cynddl` `to:cynddl` |\n",
    "| `place:`               | Matches Tweets tagged with the specified location or Twitter place ID. | `place:\"new york city\" OR place:london` |\n",
    "| `is:reply`, `is:quote` | Returns only replies or quote tweets. | `thank you is:reply` ` from:OxfordUCU is:quote` |\n",
    "| `is:verified`          | Returns only Tweets whose authors are verified by Twitter. | `buy NFT is:verified` |\n",
    "| `has:media`            | Matches Tweets that contain a media object, such as a photo, GIF, or video, as determined by Twitter. | `My new song is out has:media` |\n",
    "| `has:images`, `has:videos` | Matches Tweets that contain a recognized URL to an image. | `the view from my window has:images` |\n",
    "| `has:geo`              | Matches Tweets that have Tweet-specific geolocation data provided by the Twitter user. | `honeymoon has:geo` |\n"
   ]
  },
  {
   "cell_type": "markdown",
   "metadata": {
    "cell_id": "00031-e78af485-e136-46a5-a074-e469189cd5fd",
    "deepnote_cell_height": 809.921875,
    "deepnote_cell_type": "markdown",
    "tags": []
   },
   "source": [
    "\n",
    "### Query construction\n",
    "\n",
    "- To construct a query of two keywords with **logical AND**, use a space. So if the search term is `corona` and `coronavirus`, our query will be `\"corona coronavirus\"`\n",
    "- To construct a query of two keywords with **logical OR**, we use OR as a keyword. So if the search term is `corona`or `coronavirus` our query will be `\"corona OR coronavirus\"`\n",
    "- To construct a query to **match exact phrase**, we enclose that phrase in quotation marks. So if the search term is `covid` OR `corona virus`, our query will be `'corona OR \"corona virus\"'`. **NOTE** how we have enclosed the query in single quotes because the inner phrase needs to use double quotes.\n",
    "- To construct a **complex query** which has `keyword1` and either of `keyword2` or `keyword1`, we can enclose the OR condition in circular parenthesis. Thus, our query will be `\"keyword1 (keyword2 OR keyword3)\"`.\n",
    "\n",
    "### Filters\n",
    "\n",
    "The table above presented a few filters you can add to your queries. For a full list, please refer to the API documentation. For instance:\n",
    "\n",
    "- To filter the tweets by authors who are verified by Twitter (journalists, artists, politicians, etc.), add `is:verified` to your query.  For example, to search for `keyword1` only from authors who are verified, our query will be ``keyword1 is:verified\"`\n",
    "- To filter by tweets that have some form of media, our query will look like `\"keyword1 has:media\"`\n",
    "\n",
    "### Other command-line options\n",
    "\n",
    "There are two options that are specific to `twarc` so you will have to add them to your command instead to your query.\n",
    "\n",
    "- **Search limit:** if you want to limit your query to just 500 tweets, the command will look like `twarc2 search \"query\" --limit 500 output.jsonl`\n",
    "\n",
    "- **Time range:** if you want to limit your search reesults to a time range, the command will look like `twarc2 search --start-time 2014-07-17 --end-time 2014-07-24 \"query\" output.jsonl` Note that time ranges are only useful if you have academic access to the API, as it requires historical data.\n",
    "\n",
    "\n",
    "Let's get used to all this through an example. "
   ]
  },
  {
   "cell_type": "markdown",
   "metadata": {
    "cell_id": "00032-46a9f3c1-fb80-4f99-bd00-14818ab2312d",
    "deepnote_cell_height": 484.921875,
    "deepnote_cell_type": "markdown",
    "tags": []
   },
   "source": [
    "<div class=\"alert-info alert\">\n",
    "\n",
    "**Exercise 2.1:** We will search for posts related to Russian invasion of Ukraine and the conflict in Ukraine. Since the volume of tweets containing `Ukraine` or `Russia` is too much to be dealt in the duration of the class, we will narrow down our search using keywords and filters.\n",
    "\n",
    "Let's construct a query with the following specifications:\n",
    "- contains exact words/phrases: either `Russia` or `Россия` and either `Ukraine` or `Украина`\n",
    "- is tweeted only by verified authors\n",
    "- contains hashtags\n",
    "- has media\n",
    "- is not a retweet (`-is:retweet`).\n",
    "\n",
    "We will further limit our search results based on the following criteria\n",
    "- Maximum 50,000 tweets\n",
    "- Start date be 2022-02-27\n",
    "- End date be 2022-02-28\n",
    "\n",
    "Store the output in `tweets-ukr-rus.jsonl`.\n",
    "</div>\n"
   ]
  },
  {
   "cell_type": "markdown",
   "metadata": {},
   "source": [
    "Build your query here, then paste it in below:\n",
    "\n",
    "- contains the exact words: either `Russia OR Россия`\n",
    "\n",
    "- contains the exact words: either `Ukraine OR Украина`\n",
    "\n",
    "- is tweeted only by verified authors\n",
    "\n",
    "- contains hashtags\n",
    "\n",
    "- has media\n",
    "\n",
    "- is not a retweet (use `-` minus for `not`)\n",
    "\n",
    "Put all the pieces together into one big string separated by spaces:\n"
   ]
  },
  {
   "cell_type": "code",
   "execution_count": 37,
   "metadata": {},
   "outputs": [
    {
     "data": {
      "text/plain": [
       "''"
      ]
     },
     "execution_count": 37,
     "metadata": {},
     "output_type": "execute_result"
    }
   ],
   "source": [
    "# your query\n",
    "''"
   ]
  },
  {
   "cell_type": "code",
   "execution_count": 17,
   "metadata": {
    "cell_id": "00033-b6c6f4bf-3ee5-4a75-8d2e-1975cb3a8ede",
    "deepnote_cell_height": 81,
    "deepnote_cell_type": "code",
    "deepnote_to_be_reexecuted": true,
    "execution_millis": 308,
    "execution_start": 1646588429010,
    "output_cleared": true,
    "source_hash": "d4f80ae8",
    "tags": []
   },
   "outputs": [
    {
     "name": "stderr",
     "output_type": "stream",
     "text": [
      "\n",
      "  0%|          | Processed a moment/a day [00:00<?, 0 tweets total ]\n",
      " 12%|█▏        | Processed 2 hours/a day [00:03<00:23, 0 tweets total ]\n",
      " 18%|█▊        | Processed 4 hours/a day [00:06<00:31, 100 tweets total ]\n",
      " 24%|██▍       | Processed 5 hours/a day [00:09<00:33, 200 tweets total ]\n",
      " 29%|██▉       | Processed 6 hours/a day [00:12<00:34, 300 tweets total ]\n",
      " 33%|███▎      | Processed 7 hours/a day [00:15<00:38, 400 tweets total ]\n",
      " 37%|███▋      | Processed 8 hours/a day [00:18<00:40, 500 tweets total ]\n",
      " 39%|███▉      | Processed 9 hours/a day [00:22<00:45, 600 tweets total ]\n",
      " 42%|████▏     | Processed 10 hours/a day [00:25<00:49, 700 tweets total ]\n",
      " 45%|████▌     | Processed 10 hours/a day [00:28<00:49, 800 tweets total ]\n",
      " 49%|████▊     | Processed 11 hours/a day [00:31<00:46, 900 tweets total ]\n",
      " 52%|█████▏    | Processed 12 hours/a day [00:34<00:42, 1000 tweets total ]\n",
      " 55%|█████▍    | Processed 13 hours/a day [00:37<00:42, 1100 tweets total ]\n",
      " 58%|█████▊    | Processed 13 hours/a day [00:40<00:39, 1200 tweets total ]\n",
      " 61%|██████    | Processed 14 hours/a day [00:43<00:37, 1300 tweets total ]\n",
      " 64%|██████▍   | Processed 15 hours/a day [00:46<00:33, 1400 tweets total ]\n",
      " 68%|██████▊   | Processed 16 hours/a day [00:49<00:29, 1500 tweets total ]\n",
      " 71%|███████▏  | Processed 17 hours/a day [00:52<00:24, 1600 tweets total ]\n",
      " 75%|███████▌  | Processed 18 hours/a day [00:55<00:20, 1700 tweets total ]\n",
      " 81%|████████▏ | Processed 19 hours/a day [00:58<00:12, 1800 tweets total ]\n",
      " 87%|████████▋ | Processed 20 hours/a day [01:01<00:08, 1900 tweets total ]\n",
      " 94%|█████████▎| Processed 22 hours/a day [01:04<00:03, 2000 tweets total ]\n",
      " 99%|█████████▉| Processed 23 hours/a day [01:06<00:00, 2100 tweets total ]\n",
      "100%|██████████| Processed a day/a day [01:06<00:00, 2155 tweets total ]   \n"
     ]
    }
   ],
   "source": [
    "# note that you cannot pass a python variable to the command line, so you have to paste the string in\n",
    "!twarc2 search --archive --limit 50000 --start-time 2022-02-27 --end-time 2022-02-28 \"YOUR QUERY HERE\" tweets-ukr-rus.jsonl"
   ]
  },
  {
   "cell_type": "markdown",
   "metadata": {
    "cell_id": "00034-71a56dde-427a-4940-8a9e-2c326cfbc930",
    "deepnote_cell_height": 104,
    "deepnote_cell_type": "markdown",
    "tags": []
   },
   "source": [
    "<div class=\"alert-info alert\">\n",
    "\n",
    "**Exercise 2.2:** Write the `twarc2` command to convert the `jsonl` file to a CSV file.\n",
    "</div>"
   ]
  },
  {
   "cell_type": "code",
   "execution_count": 18,
   "metadata": {
    "cell_id": "00035-93b9efad-4174-48ea-aee1-b66cd598b102",
    "deepnote_cell_height": 81,
    "deepnote_cell_type": "code",
    "deepnote_to_be_reexecuted": true,
    "execution_millis": 11613,
    "execution_start": 1646577373275,
    "output_cleared": true,
    "source_hash": "e5c77d5d",
    "tags": []
   },
   "outputs": [
    {
     "name": "stderr",
     "output_type": "stream",
     "text": [
      "\n",
      "  0%|          | Processed 0.00/18.5M of input file [00:00<?, ?B/s]\n",
      " 13%|█▎        | Processed 2.33M/18.5M of input file [00:00<00:00, 17.0MB/s]\n",
      " 21%|██▏       | Processed 3.97M/18.5M of input file [00:00<00:00, 16.8MB/s]\n",
      " 31%|███       | Processed 5.70M/18.5M of input file [00:00<00:00, 15.6MB/s]\n",
      " 40%|███▉      | Processed 7.38M/18.5M of input file [00:00<00:00, 16.2MB/s]\n",
      " 53%|█████▎    | Processed 9.86M/18.5M of input file [00:00<00:00, 16.9MB/s]\n",
      " 63%|██████▎   | Processed 11.6M/18.5M of input file [00:00<00:00, 15.4MB/s]\n",
      " 77%|███████▋  | Processed 14.2M/18.5M of input file [00:00<00:00, 16.8MB/s]\n",
      " 92%|█████████▏| Processed 17.0M/18.5M of input file [00:01<00:00, 16.8MB/s]\n",
      "100%|██████████| Processed 18.5M/18.5M of input file [00:01<00:00, 10.3MB/s]\n",
      "\n",
      "ℹ️\n",
      "Parsed 2155 tweets objects from 22 lines in the input file.\n",
      "Wrote 2155 rows and output 83 columns in the CSV.\n",
      "\n"
     ]
    }
   ],
   "source": [
    "!twarc2 ??? tweets-ukr-rus.jsonl tweets-ukr-rus.csv"
   ]
  },
  {
   "cell_type": "markdown",
   "metadata": {
    "cell_id": "00036-b2b33f5e-f8f0-452e-821c-f358b1d21775",
    "deepnote_cell_height": 280.859375,
    "deepnote_cell_type": "markdown",
    "tags": []
   },
   "source": [
    "<div class=\"alert-info alert\">\n",
    "\n",
    "**Exercise 2.3:** Read the above CSV file using pandas\n",
    "\n",
    "- Look at the columns and find which columns represent `date of the tweet`,`number of retweets`, `number of likes`, `number of quotes`,  `number of replies`, `author twitter handle`, `author name`, `author's twitter bio`, `whether the author is verified or not`\n",
    "- Let's rename to `date`, `retweets`, `likes`, `quotes`, `replies`, `username`, `name`, `user_bio`, `verified`.\n",
    "- Let's keep only these columns as well as the main text of the tweet.\n",
    "\n",
    "</div>"
   ]
  },
  {
   "cell_type": "code",
   "execution_count": 19,
   "metadata": {
    "cell_id": "00037-d3636bec-5279-4dd9-b154-a5c952da84cd",
    "deepnote_cell_height": 81,
    "deepnote_cell_type": "code",
    "deepnote_to_be_reexecuted": true,
    "execution_millis": 487,
    "execution_start": 1646578607824,
    "output_cleared": true,
    "source_hash": "5f857e3c",
    "tags": []
   },
   "outputs": [],
   "source": [
    "tweets = pd.read_csv(\"tweets-ukr-rus.csv\")"
   ]
  },
  {
   "cell_type": "code",
   "execution_count": 20,
   "metadata": {
    "cell_id": "00038-0915cc42-266c-42ab-b2a2-57ea041f633e",
    "deepnote_cell_height": 153,
    "deepnote_cell_type": "code",
    "deepnote_to_be_reexecuted": true,
    "execution_millis": 49,
    "execution_start": 1646577385474,
    "output_cleared": true,
    "source_hash": "a897c8bc",
    "tags": []
   },
   "outputs": [
    {
     "data": {
      "text/html": [
       "<div>\n",
       "<style scoped>\n",
       "    .dataframe tbody tr th:only-of-type {\n",
       "        vertical-align: middle;\n",
       "    }\n",
       "\n",
       "    .dataframe tbody tr th {\n",
       "        vertical-align: top;\n",
       "    }\n",
       "\n",
       "    .dataframe thead th {\n",
       "        text-align: right;\n",
       "    }\n",
       "</style>\n",
       "<table border=\"1\" class=\"dataframe\">\n",
       "  <thead>\n",
       "    <tr style=\"text-align: right;\">\n",
       "      <th></th>\n",
       "      <th>date</th>\n",
       "      <th>retweets</th>\n",
       "      <th>username</th>\n",
       "      <th>name</th>\n",
       "      <th>verified</th>\n",
       "      <th>likes</th>\n",
       "      <th>quotes</th>\n",
       "      <th>replies</th>\n",
       "      <th>user_bio</th>\n",
       "      <th>text</th>\n",
       "    </tr>\n",
       "  </thead>\n",
       "  <tbody>\n",
       "    <tr>\n",
       "      <th>0</th>\n",
       "      <td>2022-02-27T23:58:27.000Z</td>\n",
       "      <td>3</td>\n",
       "      <td>pajhwok</td>\n",
       "      <td>Pajhwok Afghan News</td>\n",
       "      <td>True</td>\n",
       "      <td>22</td>\n",
       "      <td>0</td>\n",
       "      <td>1</td>\n",
       "      <td>Nationwide news agency covering Afghanistan wi...</td>\n",
       "      <td>Russian president Vladimir Putin has been susp...</td>\n",
       "    </tr>\n",
       "    <tr>\n",
       "      <th>1</th>\n",
       "      <td>2022-02-27T23:56:29.000Z</td>\n",
       "      <td>0</td>\n",
       "      <td>SlamSports</td>\n",
       "      <td>SLAM! Sports</td>\n",
       "      <td>True</td>\n",
       "      <td>0</td>\n",
       "      <td>0</td>\n",
       "      <td>0</td>\n",
       "      <td>The sports tab at http://t.co/m4q1hGW5kC, Sun ...</td>\n",
       "      <td>TODD: Yes, Ovechkin can do something about Put...</td>\n",
       "    </tr>\n",
       "    <tr>\n",
       "      <th>2</th>\n",
       "      <td>2022-02-27T23:55:22.000Z</td>\n",
       "      <td>1</td>\n",
       "      <td>sandipseth</td>\n",
       "      <td>Dr. Sandeep Seth</td>\n",
       "      <td>True</td>\n",
       "      <td>5</td>\n",
       "      <td>0</td>\n",
       "      <td>0</td>\n",
       "      <td>EDITOR (Assignment) @TV9Bharatvarsh | EX @Repu...</td>\n",
       "      <td>VIDEO of #Rocket claimed to be launched from t...</td>\n",
       "    </tr>\n",
       "    <tr>\n",
       "      <th>3</th>\n",
       "      <td>2022-02-27T23:55:07.000Z</td>\n",
       "      <td>7</td>\n",
       "      <td>TW_nextmedia</td>\n",
       "      <td>蘋果新聞網 Taiwan News</td>\n",
       "      <td>True</td>\n",
       "      <td>44</td>\n",
       "      <td>1</td>\n",
       "      <td>2</td>\n",
       "      <td>為台灣本地和世界華人帶來最新的新聞娛樂資訊！Apple Daily is the large...</td>\n",
       "      <td>基輔遭俄軍全面包圍！衛星影像曝光　歐盟破例提供烏克蘭戰機（不斷更新）\\n#烏克蘭 #俄羅斯 ...</td>\n",
       "    </tr>\n",
       "    <tr>\n",
       "      <th>4</th>\n",
       "      <td>2022-02-27T23:55:06.000Z</td>\n",
       "      <td>0</td>\n",
       "      <td>nancyrockland</td>\n",
       "      <td>nancy cutler</td>\n",
       "      <td>True</td>\n",
       "      <td>2</td>\n",
       "      <td>0</td>\n",
       "      <td>0</td>\n",
       "      <td>I write about People &amp; Policy for @lohud @reco...</td>\n",
       "      <td>INBOX: @GovKathyHochul \"directs all New York S...</td>\n",
       "    </tr>\n",
       "  </tbody>\n",
       "</table>\n",
       "</div>"
      ],
      "text/plain": [
       "                       date  retweets       username                 name  \\\n",
       "0  2022-02-27T23:58:27.000Z         3        pajhwok  Pajhwok Afghan News   \n",
       "1  2022-02-27T23:56:29.000Z         0     SlamSports         SLAM! Sports   \n",
       "2  2022-02-27T23:55:22.000Z         1     sandipseth     Dr. Sandeep Seth   \n",
       "3  2022-02-27T23:55:07.000Z         7   TW_nextmedia    蘋果新聞網 Taiwan News   \n",
       "4  2022-02-27T23:55:06.000Z         0  nancyrockland         nancy cutler   \n",
       "\n",
       "   verified  likes  quotes  replies  \\\n",
       "0      True     22       0        1   \n",
       "1      True      0       0        0   \n",
       "2      True      5       0        0   \n",
       "3      True     44       1        2   \n",
       "4      True      2       0        0   \n",
       "\n",
       "                                            user_bio  \\\n",
       "0  Nationwide news agency covering Afghanistan wi...   \n",
       "1  The sports tab at http://t.co/m4q1hGW5kC, Sun ...   \n",
       "2  EDITOR (Assignment) @TV9Bharatvarsh | EX @Repu...   \n",
       "3  為台灣本地和世界華人帶來最新的新聞娛樂資訊！Apple Daily is the large...   \n",
       "4  I write about People & Policy for @lohud @reco...   \n",
       "\n",
       "                                                text  \n",
       "0  Russian president Vladimir Putin has been susp...  \n",
       "1  TODD: Yes, Ovechkin can do something about Put...  \n",
       "2  VIDEO of #Rocket claimed to be launched from t...  \n",
       "3  基輔遭俄軍全面包圍！衛星影像曝光　歐盟破例提供烏克蘭戰機（不斷更新）\\n#烏克蘭 #俄羅斯 ...  \n",
       "4  INBOX: @GovKathyHochul \"directs all New York S...  "
      ]
     },
     "execution_count": 20,
     "metadata": {},
     "output_type": "execute_result"
    }
   ],
   "source": [
    "tweets = rename_dataframe_tweets(tweets)  # We reuse the function we defined above\n",
    "\n",
    "tweets = tweets[['SELECT THE COLUMNS WE WANT','HERE']].copy()\n",
    "\n",
    "tweets.head()"
   ]
  },
  {
   "cell_type": "markdown",
   "metadata": {
    "cell_id": "00039-1576ce8a-4622-42b9-9dd7-d162e18a83d9",
    "deepnote_cell_height": 165.53125,
    "deepnote_cell_type": "markdown",
    "tags": []
   },
   "source": [
    "<div class=\"alert-info alert\">\n",
    "\n",
    "**Exercise 2.4:**  What are the most popular tweets? Let's sort them:\n",
    "\n",
    "- in descending order of the number of  likes;\n",
    "- in descending order of the number of  retweets.\n",
    "\n",
    "</div>"
   ]
  },
  {
   "cell_type": "code",
   "execution_count": 21,
   "metadata": {
    "cell_id": "00040-7b31aeab-85b2-4186-b072-6ee48c184107",
    "deepnote_cell_height": 81,
    "deepnote_cell_type": "code",
    "deepnote_to_be_reexecuted": true,
    "execution_millis": 88,
    "execution_start": 1646577385563,
    "output_cleared": true,
    "source_hash": "fdbed2c1",
    "tags": []
   },
   "outputs": [
    {
     "data": {
      "text/html": [
       "<div>\n",
       "<style scoped>\n",
       "    .dataframe tbody tr th:only-of-type {\n",
       "        vertical-align: middle;\n",
       "    }\n",
       "\n",
       "    .dataframe tbody tr th {\n",
       "        vertical-align: top;\n",
       "    }\n",
       "\n",
       "    .dataframe thead th {\n",
       "        text-align: right;\n",
       "    }\n",
       "</style>\n",
       "<table border=\"1\" class=\"dataframe\">\n",
       "  <thead>\n",
       "    <tr style=\"text-align: right;\">\n",
       "      <th></th>\n",
       "      <th>date</th>\n",
       "      <th>retweets</th>\n",
       "      <th>username</th>\n",
       "      <th>name</th>\n",
       "      <th>verified</th>\n",
       "      <th>likes</th>\n",
       "      <th>quotes</th>\n",
       "      <th>replies</th>\n",
       "      <th>user_bio</th>\n",
       "      <th>text</th>\n",
       "    </tr>\n",
       "  </thead>\n",
       "  <tbody>\n",
       "    <tr>\n",
       "      <th>110</th>\n",
       "      <td>2022-02-27T20:52:15.000Z</td>\n",
       "      <td>4518</td>\n",
       "      <td>Ukraine</td>\n",
       "      <td>Ukraine / Україна</td>\n",
       "      <td>True</td>\n",
       "      <td>31054</td>\n",
       "      <td>241</td>\n",
       "      <td>597</td>\n",
       "      <td>Yes, this is the official Twitter account of U...</td>\n",
       "      <td>Multinational corporations divert and stop the...</td>\n",
       "    </tr>\n",
       "    <tr>\n",
       "      <th>608</th>\n",
       "      <td>2022-02-27T15:02:57.000Z</td>\n",
       "      <td>2463</td>\n",
       "      <td>CNNSotu</td>\n",
       "      <td>State of the Union</td>\n",
       "      <td>True</td>\n",
       "      <td>10625</td>\n",
       "      <td>847</td>\n",
       "      <td>1103</td>\n",
       "      <td>From the staff of #CNNSOTU w/ @JakeTapper &amp; @D...</td>\n",
       "      <td>\"It's unthinkable to me. It's almost treasonou...</td>\n",
       "    </tr>\n",
       "    <tr>\n",
       "      <th>1058</th>\n",
       "      <td>2022-02-27T11:45:09.000Z</td>\n",
       "      <td>1871</td>\n",
       "      <td>Tsihanouskaya</td>\n",
       "      <td>Sviatlana Tsikhanouskaya</td>\n",
       "      <td>True</td>\n",
       "      <td>7861</td>\n",
       "      <td>83</td>\n",
       "      <td>96</td>\n",
       "      <td>National leader of Belarus / Telegram https://...</td>\n",
       "      <td>People across Belarus chant \"no to war\". They ...</td>\n",
       "    </tr>\n",
       "    <tr>\n",
       "      <th>750</th>\n",
       "      <td>2022-02-27T14:04:57.000Z</td>\n",
       "      <td>2073</td>\n",
       "      <td>AFP</td>\n",
       "      <td>AFP News Agency</td>\n",
       "      <td>True</td>\n",
       "      <td>7591</td>\n",
       "      <td>520</td>\n",
       "      <td>720</td>\n",
       "      <td>Top news and features from AFP's reporters aro...</td>\n",
       "      <td>#UPDATE Ukraine says it will hold talks with R...</td>\n",
       "    </tr>\n",
       "    <tr>\n",
       "      <th>2027</th>\n",
       "      <td>2022-02-27T02:41:30.000Z</td>\n",
       "      <td>1635</td>\n",
       "      <td>NicholasRennick</td>\n",
       "      <td>Dr Rennick 🇯🇵在住🇦🇺人医師</td>\n",
       "      <td>True</td>\n",
       "      <td>6357</td>\n",
       "      <td>83</td>\n",
       "      <td>36</td>\n",
       "      <td>オーストラリア人｜2020年に🇯🇵へ移住｜🇦🇺総合診療専門医(GP)｜日本の医師｜日本医師国...</td>\n",
       "      <td>世界中の有名なビルがウクライナ🇺🇦の色へ。\\n\\n是非もう一つ追加したい。東京タワー、よろし...</td>\n",
       "    </tr>\n",
       "    <tr>\n",
       "      <th>...</th>\n",
       "      <td>...</td>\n",
       "      <td>...</td>\n",
       "      <td>...</td>\n",
       "      <td>...</td>\n",
       "      <td>...</td>\n",
       "      <td>...</td>\n",
       "      <td>...</td>\n",
       "      <td>...</td>\n",
       "      <td>...</td>\n",
       "      <td>...</td>\n",
       "    </tr>\n",
       "    <tr>\n",
       "      <th>1270</th>\n",
       "      <td>2022-02-27T10:16:45.000Z</td>\n",
       "      <td>0</td>\n",
       "      <td>HeartNewsEast</td>\n",
       "      <td>Heart News East</td>\n",
       "      <td>True</td>\n",
       "      <td>0</td>\n",
       "      <td>0</td>\n",
       "      <td>0</td>\n",
       "      <td>We're the newsteam for Heart East covering the...</td>\n",
       "      <td>The Bishops of #Chelmsford &amp;amp; #Thetford and...</td>\n",
       "    </tr>\n",
       "    <tr>\n",
       "      <th>858</th>\n",
       "      <td>2022-02-27T13:18:51.000Z</td>\n",
       "      <td>2</td>\n",
       "      <td>NewsMobileIndia</td>\n",
       "      <td>NewsMobile</td>\n",
       "      <td>True</td>\n",
       "      <td>0</td>\n",
       "      <td>0</td>\n",
       "      <td>0</td>\n",
       "      <td>NewsMobile is a fact checked mobile news and c...</td>\n",
       "      <td>🔲 Ukraine's President Volodymyr Zelenskiy urge...</td>\n",
       "    </tr>\n",
       "    <tr>\n",
       "      <th>362</th>\n",
       "      <td>2022-02-27T17:19:04.000Z</td>\n",
       "      <td>0</td>\n",
       "      <td>Ben_oharabyrne</td>\n",
       "      <td>Ben O'Hara-Byrne</td>\n",
       "      <td>True</td>\n",
       "      <td>0</td>\n",
       "      <td>0</td>\n",
       "      <td>0</td>\n",
       "      <td>Host “A Little More Conversation” Mon-Fri 7-10...</td>\n",
       "      <td>A photo from Moscow 2015 of tributes to Boris ...</td>\n",
       "    </tr>\n",
       "    <tr>\n",
       "      <th>746</th>\n",
       "      <td>2022-02-27T14:06:16.000Z</td>\n",
       "      <td>0</td>\n",
       "      <td>Danict89</td>\n",
       "      <td>Daniele Palumbo</td>\n",
       "      <td>True</td>\n",
       "      <td>0</td>\n",
       "      <td>1</td>\n",
       "      <td>0</td>\n",
       "      <td>@BBCnews Data &amp; #Investigative Journalist 📈 | ...</td>\n",
       "      <td>#Breaking\\n\\n#Zelenskyy and #Lukashenka have a...</td>\n",
       "    </tr>\n",
       "    <tr>\n",
       "      <th>1327</th>\n",
       "      <td>2022-02-27T09:50:21.000Z</td>\n",
       "      <td>0</td>\n",
       "      <td>openletterbot</td>\n",
       "      <td>Open Letters</td>\n",
       "      <td>True</td>\n",
       "      <td>0</td>\n",
       "      <td>0</td>\n",
       "      <td>0</td>\n",
       "      <td>I’m a bot publishing copies of letters deliver...</td>\n",
       "      <td>🖋 Sign “More Sanctions against Russia for Inva...</td>\n",
       "    </tr>\n",
       "  </tbody>\n",
       "</table>\n",
       "<p>2155 rows × 10 columns</p>\n",
       "</div>"
      ],
      "text/plain": [
       "                          date  retweets         username  \\\n",
       "110   2022-02-27T20:52:15.000Z      4518          Ukraine   \n",
       "608   2022-02-27T15:02:57.000Z      2463          CNNSotu   \n",
       "1058  2022-02-27T11:45:09.000Z      1871    Tsihanouskaya   \n",
       "750   2022-02-27T14:04:57.000Z      2073              AFP   \n",
       "2027  2022-02-27T02:41:30.000Z      1635  NicholasRennick   \n",
       "...                        ...       ...              ...   \n",
       "1270  2022-02-27T10:16:45.000Z         0    HeartNewsEast   \n",
       "858   2022-02-27T13:18:51.000Z         2  NewsMobileIndia   \n",
       "362   2022-02-27T17:19:04.000Z         0   Ben_oharabyrne   \n",
       "746   2022-02-27T14:06:16.000Z         0         Danict89   \n",
       "1327  2022-02-27T09:50:21.000Z         0    openletterbot   \n",
       "\n",
       "                          name  verified  likes  quotes  replies  \\\n",
       "110          Ukraine / Україна      True  31054     241      597   \n",
       "608         State of the Union      True  10625     847     1103   \n",
       "1058  Sviatlana Tsikhanouskaya      True   7861      83       96   \n",
       "750            AFP News Agency      True   7591     520      720   \n",
       "2027      Dr Rennick 🇯🇵在住🇦🇺人医師      True   6357      83       36   \n",
       "...                        ...       ...    ...     ...      ...   \n",
       "1270           Heart News East      True      0       0        0   \n",
       "858                 NewsMobile      True      0       0        0   \n",
       "362           Ben O'Hara-Byrne      True      0       0        0   \n",
       "746            Daniele Palumbo      True      0       1        0   \n",
       "1327              Open Letters      True      0       0        0   \n",
       "\n",
       "                                               user_bio  \\\n",
       "110   Yes, this is the official Twitter account of U...   \n",
       "608   From the staff of #CNNSOTU w/ @JakeTapper & @D...   \n",
       "1058  National leader of Belarus / Telegram https://...   \n",
       "750   Top news and features from AFP's reporters aro...   \n",
       "2027  オーストラリア人｜2020年に🇯🇵へ移住｜🇦🇺総合診療専門医(GP)｜日本の医師｜日本医師国...   \n",
       "...                                                 ...   \n",
       "1270  We're the newsteam for Heart East covering the...   \n",
       "858   NewsMobile is a fact checked mobile news and c...   \n",
       "362   Host “A Little More Conversation” Mon-Fri 7-10...   \n",
       "746   @BBCnews Data & #Investigative Journalist 📈 | ...   \n",
       "1327  I’m a bot publishing copies of letters deliver...   \n",
       "\n",
       "                                                   text  \n",
       "110   Multinational corporations divert and stop the...  \n",
       "608   \"It's unthinkable to me. It's almost treasonou...  \n",
       "1058  People across Belarus chant \"no to war\". They ...  \n",
       "750   #UPDATE Ukraine says it will hold talks with R...  \n",
       "2027  世界中の有名なビルがウクライナ🇺🇦の色へ。\\n\\n是非もう一つ追加したい。東京タワー、よろし...  \n",
       "...                                                 ...  \n",
       "1270  The Bishops of #Chelmsford &amp; #Thetford and...  \n",
       "858   🔲 Ukraine's President Volodymyr Zelenskiy urge...  \n",
       "362   A photo from Moscow 2015 of tributes to Boris ...  \n",
       "746   #Breaking\\n\\n#Zelenskyy and #Lukashenka have a...  \n",
       "1327  🖋 Sign “More Sanctions against Russia for Inva...  \n",
       "\n",
       "[2155 rows x 10 columns]"
      ]
     },
     "execution_count": 21,
     "metadata": {},
     "output_type": "execute_result"
    }
   ],
   "source": [
    "tweets.sort_values(\"COLUMN NAME\", ascending=False)"
   ]
  },
  {
   "cell_type": "code",
   "execution_count": 22,
   "metadata": {
    "cell_id": "00041-a5593432-222f-429a-ab4a-4ccebc666276",
    "deepnote_cell_height": 81,
    "deepnote_cell_type": "code",
    "deepnote_to_be_reexecuted": true,
    "execution_millis": 96,
    "execution_start": 1646577385664,
    "output_cleared": true,
    "source_hash": "5a072465",
    "tags": []
   },
   "outputs": [
    {
     "data": {
      "text/html": [
       "<div>\n",
       "<style scoped>\n",
       "    .dataframe tbody tr th:only-of-type {\n",
       "        vertical-align: middle;\n",
       "    }\n",
       "\n",
       "    .dataframe tbody tr th {\n",
       "        vertical-align: top;\n",
       "    }\n",
       "\n",
       "    .dataframe thead th {\n",
       "        text-align: right;\n",
       "    }\n",
       "</style>\n",
       "<table border=\"1\" class=\"dataframe\">\n",
       "  <thead>\n",
       "    <tr style=\"text-align: right;\">\n",
       "      <th></th>\n",
       "      <th>date</th>\n",
       "      <th>retweets</th>\n",
       "      <th>username</th>\n",
       "      <th>name</th>\n",
       "      <th>verified</th>\n",
       "      <th>likes</th>\n",
       "      <th>quotes</th>\n",
       "      <th>replies</th>\n",
       "      <th>user_bio</th>\n",
       "      <th>text</th>\n",
       "    </tr>\n",
       "  </thead>\n",
       "  <tbody>\n",
       "    <tr>\n",
       "      <th>110</th>\n",
       "      <td>2022-02-27T20:52:15.000Z</td>\n",
       "      <td>4518</td>\n",
       "      <td>Ukraine</td>\n",
       "      <td>Ukraine / Україна</td>\n",
       "      <td>True</td>\n",
       "      <td>31054</td>\n",
       "      <td>241</td>\n",
       "      <td>597</td>\n",
       "      <td>Yes, this is the official Twitter account of U...</td>\n",
       "      <td>Multinational corporations divert and stop the...</td>\n",
       "    </tr>\n",
       "    <tr>\n",
       "      <th>608</th>\n",
       "      <td>2022-02-27T15:02:57.000Z</td>\n",
       "      <td>2463</td>\n",
       "      <td>CNNSotu</td>\n",
       "      <td>State of the Union</td>\n",
       "      <td>True</td>\n",
       "      <td>10625</td>\n",
       "      <td>847</td>\n",
       "      <td>1103</td>\n",
       "      <td>From the staff of #CNNSOTU w/ @JakeTapper &amp; @D...</td>\n",
       "      <td>\"It's unthinkable to me. It's almost treasonou...</td>\n",
       "    </tr>\n",
       "    <tr>\n",
       "      <th>750</th>\n",
       "      <td>2022-02-27T14:04:57.000Z</td>\n",
       "      <td>2073</td>\n",
       "      <td>AFP</td>\n",
       "      <td>AFP News Agency</td>\n",
       "      <td>True</td>\n",
       "      <td>7591</td>\n",
       "      <td>520</td>\n",
       "      <td>720</td>\n",
       "      <td>Top news and features from AFP's reporters aro...</td>\n",
       "      <td>#UPDATE Ukraine says it will hold talks with R...</td>\n",
       "    </tr>\n",
       "    <tr>\n",
       "      <th>1058</th>\n",
       "      <td>2022-02-27T11:45:09.000Z</td>\n",
       "      <td>1871</td>\n",
       "      <td>Tsihanouskaya</td>\n",
       "      <td>Sviatlana Tsikhanouskaya</td>\n",
       "      <td>True</td>\n",
       "      <td>7861</td>\n",
       "      <td>83</td>\n",
       "      <td>96</td>\n",
       "      <td>National leader of Belarus / Telegram https://...</td>\n",
       "      <td>People across Belarus chant \"no to war\". They ...</td>\n",
       "    </tr>\n",
       "    <tr>\n",
       "      <th>2027</th>\n",
       "      <td>2022-02-27T02:41:30.000Z</td>\n",
       "      <td>1635</td>\n",
       "      <td>NicholasRennick</td>\n",
       "      <td>Dr Rennick 🇯🇵在住🇦🇺人医師</td>\n",
       "      <td>True</td>\n",
       "      <td>6357</td>\n",
       "      <td>83</td>\n",
       "      <td>36</td>\n",
       "      <td>オーストラリア人｜2020年に🇯🇵へ移住｜🇦🇺総合診療専門医(GP)｜日本の医師｜日本医師国...</td>\n",
       "      <td>世界中の有名なビルがウクライナ🇺🇦の色へ。\\n\\n是非もう一つ追加したい。東京タワー、よろし...</td>\n",
       "    </tr>\n",
       "    <tr>\n",
       "      <th>...</th>\n",
       "      <td>...</td>\n",
       "      <td>...</td>\n",
       "      <td>...</td>\n",
       "      <td>...</td>\n",
       "      <td>...</td>\n",
       "      <td>...</td>\n",
       "      <td>...</td>\n",
       "      <td>...</td>\n",
       "      <td>...</td>\n",
       "      <td>...</td>\n",
       "    </tr>\n",
       "    <tr>\n",
       "      <th>1593</th>\n",
       "      <td>2022-02-27T07:41:12.000Z</td>\n",
       "      <td>0</td>\n",
       "      <td>MSNArabia_EN</td>\n",
       "      <td>MSN Arabia - English</td>\n",
       "      <td>True</td>\n",
       "      <td>0</td>\n",
       "      <td>0</td>\n",
       "      <td>0</td>\n",
       "      <td>Trusted news from UAE, Middle-East and the wor...</td>\n",
       "      <td>#ElonMusk opens #Starlink satellite internet s...</td>\n",
       "    </tr>\n",
       "    <tr>\n",
       "      <th>136</th>\n",
       "      <td>2022-02-27T20:32:59.000Z</td>\n",
       "      <td>0</td>\n",
       "      <td>JagbaniOnline</td>\n",
       "      <td>Jagbani</td>\n",
       "      <td>True</td>\n",
       "      <td>4</td>\n",
       "      <td>0</td>\n",
       "      <td>0</td>\n",
       "      <td>The Punjab Kesari Group's punjabi daily, Jag B...</td>\n",
       "      <td>ਬੰਦਰਗਾਹਾਂ 'ਤੇ ਕਬਜ਼ਾ ਕਰਨ ਦੀ ਕੋਸ਼ਿਸ਼ 'ਚ ਰੂਸ, ਖਾਰ...</td>\n",
       "    </tr>\n",
       "    <tr>\n",
       "      <th>1596</th>\n",
       "      <td>2022-02-27T07:39:45.000Z</td>\n",
       "      <td>0</td>\n",
       "      <td>LebForcesNews</td>\n",
       "      <td>Lebanese Forces News</td>\n",
       "      <td>True</td>\n",
       "      <td>1</td>\n",
       "      <td>0</td>\n",
       "      <td>0</td>\n",
       "      <td>Political, economical and social news from Leb...</td>\n",
       "      <td>#بيلاروسيا تحتضن مفاوضات #روسيا و #أوكرانيا\\nh...</td>\n",
       "    </tr>\n",
       "    <tr>\n",
       "      <th>1607</th>\n",
       "      <td>2022-02-27T07:36:37.000Z</td>\n",
       "      <td>0</td>\n",
       "      <td>ZeePunjabHH</td>\n",
       "      <td>Zee PHH</td>\n",
       "      <td>True</td>\n",
       "      <td>4</td>\n",
       "      <td>0</td>\n",
       "      <td>0</td>\n",
       "      <td>पंजाब, हरियाणा, हिमाचल और जम्मू-कश्मीर की ख़बर...</td>\n",
       "      <td>ਪਟਰੋਲ ਪੰਪ 'ਤੇ ਲੱਗੀਆਂ ਲਾਈਨਾਂ, ਲੋਕ ਟੈਂਕੀਆਂ, ਟਰਾਲ...</td>\n",
       "    </tr>\n",
       "    <tr>\n",
       "      <th>526</th>\n",
       "      <td>2022-02-27T15:43:42.000Z</td>\n",
       "      <td>0</td>\n",
       "      <td>scroll_in</td>\n",
       "      <td>Scroll.in</td>\n",
       "      <td>True</td>\n",
       "      <td>2</td>\n",
       "      <td>0</td>\n",
       "      <td>0</td>\n",
       "      <td>The news that matters and the things that make...</td>\n",
       "      <td>#UkraineRussiaConflict | Russia, Ukraine agree...</td>\n",
       "    </tr>\n",
       "  </tbody>\n",
       "</table>\n",
       "<p>2155 rows × 10 columns</p>\n",
       "</div>"
      ],
      "text/plain": [
       "                          date  retweets         username  \\\n",
       "110   2022-02-27T20:52:15.000Z      4518          Ukraine   \n",
       "608   2022-02-27T15:02:57.000Z      2463          CNNSotu   \n",
       "750   2022-02-27T14:04:57.000Z      2073              AFP   \n",
       "1058  2022-02-27T11:45:09.000Z      1871    Tsihanouskaya   \n",
       "2027  2022-02-27T02:41:30.000Z      1635  NicholasRennick   \n",
       "...                        ...       ...              ...   \n",
       "1593  2022-02-27T07:41:12.000Z         0     MSNArabia_EN   \n",
       "136   2022-02-27T20:32:59.000Z         0    JagbaniOnline   \n",
       "1596  2022-02-27T07:39:45.000Z         0    LebForcesNews   \n",
       "1607  2022-02-27T07:36:37.000Z         0      ZeePunjabHH   \n",
       "526   2022-02-27T15:43:42.000Z         0        scroll_in   \n",
       "\n",
       "                          name  verified  likes  quotes  replies  \\\n",
       "110          Ukraine / Україна      True  31054     241      597   \n",
       "608         State of the Union      True  10625     847     1103   \n",
       "750            AFP News Agency      True   7591     520      720   \n",
       "1058  Sviatlana Tsikhanouskaya      True   7861      83       96   \n",
       "2027      Dr Rennick 🇯🇵在住🇦🇺人医師      True   6357      83       36   \n",
       "...                        ...       ...    ...     ...      ...   \n",
       "1593      MSN Arabia - English      True      0       0        0   \n",
       "136                    Jagbani      True      4       0        0   \n",
       "1596      Lebanese Forces News      True      1       0        0   \n",
       "1607                   Zee PHH      True      4       0        0   \n",
       "526                  Scroll.in      True      2       0        0   \n",
       "\n",
       "                                               user_bio  \\\n",
       "110   Yes, this is the official Twitter account of U...   \n",
       "608   From the staff of #CNNSOTU w/ @JakeTapper & @D...   \n",
       "750   Top news and features from AFP's reporters aro...   \n",
       "1058  National leader of Belarus / Telegram https://...   \n",
       "2027  オーストラリア人｜2020年に🇯🇵へ移住｜🇦🇺総合診療専門医(GP)｜日本の医師｜日本医師国...   \n",
       "...                                                 ...   \n",
       "1593  Trusted news from UAE, Middle-East and the wor...   \n",
       "136   The Punjab Kesari Group's punjabi daily, Jag B...   \n",
       "1596  Political, economical and social news from Leb...   \n",
       "1607  पंजाब, हरियाणा, हिमाचल और जम्मू-कश्मीर की ख़बर...   \n",
       "526   The news that matters and the things that make...   \n",
       "\n",
       "                                                   text  \n",
       "110   Multinational corporations divert and stop the...  \n",
       "608   \"It's unthinkable to me. It's almost treasonou...  \n",
       "750   #UPDATE Ukraine says it will hold talks with R...  \n",
       "1058  People across Belarus chant \"no to war\". They ...  \n",
       "2027  世界中の有名なビルがウクライナ🇺🇦の色へ。\\n\\n是非もう一つ追加したい。東京タワー、よろし...  \n",
       "...                                                 ...  \n",
       "1593  #ElonMusk opens #Starlink satellite internet s...  \n",
       "136   ਬੰਦਰਗਾਹਾਂ 'ਤੇ ਕਬਜ਼ਾ ਕਰਨ ਦੀ ਕੋਸ਼ਿਸ਼ 'ਚ ਰੂਸ, ਖਾਰ...  \n",
       "1596  #بيلاروسيا تحتضن مفاوضات #روسيا و #أوكرانيا\\nh...  \n",
       "1607  ਪਟਰੋਲ ਪੰਪ 'ਤੇ ਲੱਗੀਆਂ ਲਾਈਨਾਂ, ਲੋਕ ਟੈਂਕੀਆਂ, ਟਰਾਲ...  \n",
       "526   #UkraineRussiaConflict | Russia, Ukraine agree...  \n",
       "\n",
       "[2155 rows x 10 columns]"
      ]
     },
     "execution_count": 22,
     "metadata": {},
     "output_type": "execute_result"
    }
   ],
   "source": [
    "tweets.sort_values(\"COLUMN NAME\", ascending=False)"
   ]
  },
  {
   "cell_type": "markdown",
   "metadata": {
    "cell_id": "00042-d79e8459-6321-4252-83aa-9af71c0e6364",
    "deepnote_cell_height": 421.921875,
    "deepnote_cell_type": "markdown",
    "tags": []
   },
   "source": [
    "<div class=\"alert-info alert\">\n",
    "\n",
    "**Exercise 2.5:**  Let's plot the hourly frequency of tweets.\n",
    "\n",
    "- Check the type of elements that `date` column has. Are they `str` or `datatime` objects? If they are `str`, we need to convert them to `datetime` objects so that we can do the necessary aggregation. We will use `pd.to_datetime` to do that.\n",
    "- We will use a handy functionality in pandas to do a frequency count on datetime objects. To do that, we need to set the index of dataframe as `date` column.\n",
    "- We will use `resample` functionality of `pandas` to resample the datetime index into bins according to the specification. For example, if you want to plot daily frequency, pass the argument `'D'`, and if you want to plot hourly frequency, pass the argument `'H'`. Call `.resample('H')` on the dataframe obtained above.\n",
    "- In order to aggregate these results, we will use `.size()` function on the resampled dataframe.\n",
    "- Finally, we will plot the resulting counts using `.plot()`, a handy pandas method that calls the matplotlib library.\n",
    "\n",
    "</div>\n",
    "\n"
   ]
  },
  {
   "cell_type": "code",
   "execution_count": 23,
   "metadata": {
    "cell_id": "00043-4ccae076-2289-4f61-9274-b0bfc54cd4ee",
    "deepnote_cell_height": 117,
    "deepnote_cell_type": "code",
    "deepnote_to_be_reexecuted": true,
    "execution_millis": 10,
    "execution_start": 1646577385808,
    "output_cleared": true,
    "source_hash": "5ee87929",
    "tags": []
   },
   "outputs": [
    {
     "name": "stdout",
     "output_type": "stream",
     "text": [
      "2022-02-27T23:58:27.000Z\n",
      "<class 'str'>\n"
     ]
    }
   ],
   "source": [
    "# What does the date column contains? A series of string objects.\n",
    "print(tweets['date'].loc[0])\n",
    "print(type(tweets['date'].loc[0])) "
   ]
  },
  {
   "cell_type": "code",
   "execution_count": 24,
   "metadata": {
    "cell_id": "00044-335696b1-69bb-423f-b805-701a1327c849",
    "deepnote_cell_height": 99,
    "deepnote_cell_type": "code",
    "deepnote_to_be_reexecuted": true,
    "execution_millis": 1,
    "execution_start": 1646577385809,
    "output_cleared": true,
    "source_hash": "aebf7707",
    "tags": []
   },
   "outputs": [],
   "source": [
    "# Let's convert it to a pandas datetime series:\n",
    "tweets['date'] = pd.to_datetime(tweets['date'])"
   ]
  },
  {
   "cell_type": "code",
   "execution_count": 25,
   "metadata": {
    "cell_id": "00045-ee540e75-dd65-495e-9295-1b36c4beb7e6",
    "deepnote_cell_height": 189,
    "deepnote_cell_type": "code",
    "deepnote_to_be_reexecuted": true,
    "execution_millis": 43,
    "execution_start": 1646577385810,
    "output_cleared": true,
    "source_hash": "370260d8",
    "tags": []
   },
   "outputs": [],
   "source": [
    "# We convert the dataframe to have the date column as an ‘index’\n",
    "tweets_by_date = tweets.copy()\n",
    "tweets_by_date.set_index('date', inplace=True)\n",
    "\n",
    "# We now make use of pandas' advanced timeseries processing tools: https://pandas.pydata.org/docs/reference/api/pandas.DataFrame.resample.html\n",
    "hourly_tweets = tweets_by_date.resample('H')\n",
    "hourly_frequency_tweets = hourly_tweets.size()"
   ]
  },
  {
   "cell_type": "code",
   "execution_count": 26,
   "metadata": {
    "cell_id": "00046-bda9b5a9-9b84-4084-a659-e1d4cd48d6bc",
    "deepnote_cell_height": 81,
    "deepnote_cell_type": "code",
    "deepnote_to_be_reexecuted": true,
    "execution_millis": 1875,
    "execution_start": 1646577385853,
    "output_cleared": true,
    "source_hash": "2cfce037",
    "tags": []
   },
   "outputs": [
    {
     "data": {
      "image/png": "[encoded data removed]",
      "text/plain": [
       "<Figure size 432x288 with 1 Axes>"
      ]
     },
     "metadata": {
      "needs_background": "light"
     },
     "output_type": "display_data"
    }
   ],
   "source": [
    "# rot is used to make the x-axis labels fit\n",
    "hourly_frequency_tweets.plot(title=\"Hourly volume of tweets\", rot=45);"
   ]
  },
  {
   "cell_type": "markdown",
   "metadata": {
    "cell_id": "00047-608a9e3a-0ddf-4830-9445-7cfff59423c7",
    "deepnote_cell_height": 269.125,
    "deepnote_cell_type": "markdown",
    "tags": []
   },
   "source": [
    "<div class=\"alert-warning alert\">\n",
    "\n",
    "Although pandas takes time to learn, you eventually gain a lot of times due to the advanced functions it provides.\n",
    "\n",
    "This **resampling technique is very easy to transfer** for other sort of plots:\n",
    "- you can adjust the window from years to minutes. For instance, resampling with the rule `'D'` returns days, `'10T'` returns bins of 10 minutes…\n",
    "- you can use it to compute statistics on any columns, such as average number of likes for instance.\n",
    "\n",
    "</div>"
   ]
  },
  {
   "cell_type": "code",
   "execution_count": 27,
   "metadata": {
    "cell_id": "00048-89773c20-0446-477b-bb8b-f5c97db55916",
    "deepnote_cell_height": 99,
    "deepnote_cell_type": "code",
    "deepnote_to_be_reexecuted": true,
    "execution_millis": 724,
    "execution_start": 1646577684691,
    "output_cleared": true,
    "source_hash": "a4525950",
    "tags": []
   },
   "outputs": [
    {
     "data": {
      "image/png": "[encoded data removed]",
      "text/plain": [
       "<Figure size 432x288 with 1 Axes>"
      ]
     },
     "metadata": {
      "needs_background": "light"
     },
     "output_type": "display_data"
    }
   ],
   "source": [
    "hourly_tweets = tweets_by_date.resample('How can I resample to hourly?')\n",
    "hourly_tweets.likes.mean().plot(title=\"Hourly average number of likes\", rot=45);"
   ]
  },
  {
   "cell_type": "markdown",
   "metadata": {
    "cell_id": "e88be6b8-bdea-4ac3-abc6-a0733c8c264c",
    "deepnote_cell_height": 104,
    "deepnote_cell_type": "markdown",
    "tags": []
   },
   "source": [
    "<div class=\"alert-info alert\">\n",
    "\n",
    "\n",
    "**Exercise 2.7:** Plot the volume of retweets every 30 minutes.\n",
    "\n",
    "</div>"
   ]
  },
  {
   "cell_type": "code",
   "execution_count": 28,
   "metadata": {
    "cell_id": "aba9d422-e209-4412-8df2-b8ef761267dc",
    "deepnote_cell_height": 81,
    "deepnote_cell_type": "code",
    "deepnote_to_be_reexecuted": true,
    "source_hash": "76951b1c",
    "tags": []
   },
   "outputs": [
    {
     "data": {
      "text/plain": [
       "<AxesSubplot:title={'center':'# of retweets every 30 minutes'}, xlabel='date'>"
      ]
     },
     "execution_count": 28,
     "metadata": {},
     "output_type": "execute_result"
    },
    {
     "data": {
      "image/png": "[encoded data removed]",
      "text/plain": [
       "<Figure size 432x288 with 1 Axes>"
      ]
     },
     "metadata": {
      "needs_background": "light"
     },
     "output_type": "display_data"
    }
   ],
   "source": [
    "tweets_by_date.resample('What about half hourly?').retweets.sum().plot(title=\"# of retweets every 30 minutes\", rot=45)"
   ]
  },
  {
   "cell_type": "markdown",
   "metadata": {
    "cell_id": "00049-6fe2f054-15cc-4098-b841-81cec9e73d84",
    "deepnote_cell_height": 126,
    "deepnote_cell_type": "markdown",
    "tags": []
   },
   "source": [
    "<div class=\"alert-info alert\">\n",
    "\n",
    "**Exercise 2.8:**  Use `twarc` to output summary of hashtags in the retrieved tweets and save the final output in CSV format at `hashtags-ukr-rus.csv`\n",
    "\n",
    "</div>"
   ]
  },
  {
   "cell_type": "code",
   "execution_count": 29,
   "metadata": {
    "cell_id": "00050-0356a5c2-5f59-40dd-bd58-34917f0a3082",
    "deepnote_cell_height": 81,
    "deepnote_cell_type": "code",
    "deepnote_to_be_reexecuted": true,
    "execution_millis": 4176,
    "execution_start": 1646577388079,
    "output_cleared": true,
    "source_hash": "d4ac14a9",
    "tags": []
   },
   "outputs": [
    {
     "name": "stderr",
     "output_type": "stream",
     "text": [
      "\n",
      "  0%|          | Processed 0.00/18.5M of input file [00:00<?, ?B/s]\n",
      " 13%|█▎        | Processed 2.33M/18.5M of input file [00:00<00:00, 22.1MB/s]\n",
      " 26%|██▌       | Processed 4.82M/18.5M of input file [00:00<00:00, 21.5MB/s]\n",
      " 40%|███▉      | Processed 7.38M/18.5M of input file [00:00<00:00, 21.0MB/s]\n",
      " 49%|████▉     | Processed 9.02M/18.5M of input file [00:00<00:00, 18.5MB/s]\n",
      " 63%|██████▎   | Processed 11.6M/18.5M of input file [00:00<00:00, 19.7MB/s]\n",
      " 72%|███████▏  | Processed 13.3M/18.5M of input file [00:00<00:00, 18.1MB/s]\n",
      " 81%|████████▏ | Processed 15.0M/18.5M of input file [00:00<00:00, 16.9MB/s]\n",
      " 92%|█████████▏| Processed 17.0M/18.5M of input file [00:00<00:00, 16.4MB/s]\n",
      "100%|█████████▉| Processed 18.5M/18.5M of input file [00:01<00:00, 13.4MB/s]\n",
      "100%|█████████▉| Processed 18.5M/18.5M of input file [00:01<00:00, 16.1MB/s]\n"
     ]
    }
   ],
   "source": [
    "!twarc2 hashtags tweets-ukr-rus.jsonl hashtags-ukr-rus.csv"
   ]
  },
  {
   "cell_type": "markdown",
   "metadata": {
    "cell_id": "00051-33d60221-d5d1-4f92-b873-21a5f9be4a1b",
    "deepnote_cell_height": 104,
    "deepnote_cell_type": "markdown",
    "tags": []
   },
   "source": [
    "<div class=\"alert-info alert\">\n",
    "\n",
    "**Exercise 2.9:**  Read the above CSV file and retrieve the top 10 hastags from there. \n",
    "\n",
    "</div>"
   ]
  },
  {
   "cell_type": "code",
   "execution_count": 30,
   "metadata": {
    "cell_id": "00052-7384cb59-2815-4cbd-aa56-43b0c2f8437f",
    "deepnote_cell_height": 99,
    "deepnote_cell_type": "code",
    "deepnote_to_be_reexecuted": true,
    "execution_millis": 20993,
    "execution_start": 1646577666254,
    "output_cleared": true,
    "source_hash": "954f4bcd",
    "tags": []
   },
   "outputs": [
    {
     "data": {
      "text/plain": [
       "Index(['hashtag', 'tweets'], dtype='object')"
      ]
     },
     "execution_count": 30,
     "metadata": {},
     "output_type": "execute_result"
    }
   ],
   "source": [
    "hashtags_ukraine = pd.read_csv(\"hashtags-ukr-rus.csv\")\n",
    "hashtags_ukraine.columns"
   ]
  },
  {
   "cell_type": "code",
   "execution_count": 31,
   "metadata": {
    "cell_id": "00053-ef0f8679-7f70-4b4f-8df6-df2686eb9d5c",
    "deepnote_cell_height": 81,
    "deepnote_cell_type": "code",
    "deepnote_to_be_reexecuted": true,
    "execution_millis": 30,
    "execution_start": 1646577392009,
    "output_cleared": true,
    "source_hash": "67a4dfb6",
    "tags": []
   },
   "outputs": [
    {
     "data": {
      "text/html": [
       "<div>\n",
       "<style scoped>\n",
       "    .dataframe tbody tr th:only-of-type {\n",
       "        vertical-align: middle;\n",
       "    }\n",
       "\n",
       "    .dataframe tbody tr th {\n",
       "        vertical-align: top;\n",
       "    }\n",
       "\n",
       "    .dataframe thead th {\n",
       "        text-align: right;\n",
       "    }\n",
       "</style>\n",
       "<table border=\"1\" class=\"dataframe\">\n",
       "  <thead>\n",
       "    <tr style=\"text-align: right;\">\n",
       "      <th></th>\n",
       "      <th>hashtag</th>\n",
       "      <th>tweets</th>\n",
       "    </tr>\n",
       "  </thead>\n",
       "  <tbody>\n",
       "    <tr>\n",
       "      <th>0</th>\n",
       "      <td>ukraine</td>\n",
       "      <td>1355</td>\n",
       "    </tr>\n",
       "    <tr>\n",
       "      <th>1</th>\n",
       "      <td>russia</td>\n",
       "      <td>1238</td>\n",
       "    </tr>\n",
       "    <tr>\n",
       "      <th>2</th>\n",
       "      <td>russiaukraineconflict</td>\n",
       "      <td>416</td>\n",
       "    </tr>\n",
       "    <tr>\n",
       "      <th>3</th>\n",
       "      <td>ukrainerussiawar</td>\n",
       "      <td>337</td>\n",
       "    </tr>\n",
       "    <tr>\n",
       "      <th>4</th>\n",
       "      <td>russiaukrainewar</td>\n",
       "      <td>288</td>\n",
       "    </tr>\n",
       "    <tr>\n",
       "      <th>...</th>\n",
       "      <td>...</td>\n",
       "      <td>...</td>\n",
       "    </tr>\n",
       "    <tr>\n",
       "      <th>628</th>\n",
       "      <td>shankhnaad</td>\n",
       "      <td>1</td>\n",
       "    </tr>\n",
       "    <tr>\n",
       "      <th>629</th>\n",
       "      <td>serialattack</td>\n",
       "      <td>1</td>\n",
       "    </tr>\n",
       "    <tr>\n",
       "      <th>630</th>\n",
       "      <td>sergiystakhovsky</td>\n",
       "      <td>1</td>\n",
       "    </tr>\n",
       "    <tr>\n",
       "      <th>631</th>\n",
       "      <td>sdgs</td>\n",
       "      <td>1</td>\n",
       "    </tr>\n",
       "    <tr>\n",
       "      <th>1083</th>\n",
       "      <td>10bigupdates</td>\n",
       "      <td>1</td>\n",
       "    </tr>\n",
       "  </tbody>\n",
       "</table>\n",
       "<p>1084 rows × 2 columns</p>\n",
       "</div>"
      ],
      "text/plain": [
       "                    hashtag  tweets\n",
       "0                   ukraine    1355\n",
       "1                    russia    1238\n",
       "2     russiaukraineconflict     416\n",
       "3          ukrainerussiawar     337\n",
       "4          russiaukrainewar     288\n",
       "...                     ...     ...\n",
       "628              shankhnaad       1\n",
       "629            serialattack       1\n",
       "630        sergiystakhovsky       1\n",
       "631                    sdgs       1\n",
       "1083           10bigupdates       1\n",
       "\n",
       "[1084 rows x 2 columns]"
      ]
     },
     "execution_count": 31,
     "metadata": {},
     "output_type": "execute_result"
    }
   ],
   "source": [
    "# Use sort_values to find the top ten hashtags by number of tweets\n",
    "hashtags_ukraine.sort_values(???)"
   ]
  },
  {
   "cell_type": "markdown",
   "metadata": {
    "cell_id": "00054-3baeadcd-e19d-4d39-8bcb-5bb9f26309f4",
    "deepnote_cell_height": 70,
    "deepnote_cell_type": "markdown",
    "tags": []
   },
   "source": [
    "## Optional: archiving only counts of tweets"
   ]
  },
  {
   "cell_type": "markdown",
   "metadata": {
    "cell_id": "00055-1f40f41e-92fc-493b-aea9-9b8697c5537a",
    "deepnote_cell_height": 74.125,
    "deepnote_cell_type": "markdown",
    "tags": []
   },
   "source": [
    "Some of the queries we tested above quickly take time. If you only want to collect aggregated counts of tweets, disagregated by days for instance, there's an easier way. "
   ]
  },
  {
   "cell_type": "markdown",
   "metadata": {
    "cell_id": "00056-53f0d821-f928-4615-8720-c8d122dae458",
    "deepnote_cell_height": 161.859375,
    "deepnote_cell_type": "markdown",
    "tags": []
   },
   "source": [
    "<div class=\"alert alert-info\">\n",
    "\n",
    "**Exercise 3.1:** Execute the twarc2 command below to count the number of tweets that match a given query.\n",
    "\n",
    "We will directly obtain the counts by day, in a CSV format.\n",
    "</div>\n"
   ]
  },
  {
   "cell_type": "markdown",
   "metadata": {
    "cell_id": "00057-0cbc1349-ba3d-4662-8cf3-f946a38050f7",
    "deepnote_cell_height": 198.328125,
    "deepnote_cell_type": "markdown",
    "tags": []
   },
   "source": [
    "**Note:** To call `twarc` for counts, we execute the following command:\n",
    "\n",
    "```\n",
    "!twarc2 counts --csv --granularity day \"query\" filename.csv\n",
    "```\n",
    "\n",
    "<br />\n",
    "\n",
    "Here, `--csv` specifies the desired output format and `--granularity` specifies the aggregation level. "
   ]
  },
  {
   "cell_type": "code",
   "execution_count": 32,
   "metadata": {
    "cell_id": "00058-643f9929-9c20-4900-af5d-98a2ecaea8a9",
    "deepnote_cell_height": 81,
    "deepnote_cell_type": "code",
    "deepnote_to_be_reexecuted": true,
    "execution_millis": 2791,
    "execution_start": 1646577392046,
    "output_cleared": true,
    "source_hash": "34eee9b5",
    "tags": []
   },
   "outputs": [
    {
     "name": "stderr",
     "output_type": "stream",
     "text": [
      "\n",
      "  0%|          | Processed a moment/6 days [00:00<?, 0 tweets total ]\n",
      "100%|██████████| Processed 6 days/6 days [00:00<00:00, 1437 tweets total ]\n",
      "100%|██████████| Processed 6 days/6 days [00:00<00:00, 1437 tweets total ]\n"
     ]
    }
   ],
   "source": [
    "!twarc2 counts --csv --granularity day \"(Russia OR Россия) (Ukraine OR Украина) is:verified has:media has:hashtags\" counts-ukr-rus.csv "
   ]
  },
  {
   "cell_type": "markdown",
   "metadata": {
    "cell_id": "00059-b02e5ef2-9969-43c3-81a4-19b3ab055b6e",
    "deepnote_cell_height": 187.921875,
    "deepnote_cell_type": "markdown",
    "tags": []
   },
   "source": [
    "<div class=\"alert-info alert\">\n",
    "\n",
    "**Exercise 3.2:** Now use pandas to read the CSV file that you saved above. \n",
    "\n",
    "- How many columns are there? What does these column mean?\n",
    "- Plot the daily counts using pandas plot function : https://pandas.pydata.org/docs/reference/api/pandas.DataFrame.plot.html\n",
    "\n",
    "</div>"
   ]
  },
  {
   "cell_type": "code",
   "execution_count": 33,
   "metadata": {
    "cell_id": "00060-73d749ef-2afc-4cb8-8657-1f6a028b79b3",
    "deepnote_cell_height": 99,
    "deepnote_cell_type": "code",
    "deepnote_to_be_reexecuted": true,
    "execution_millis": 1,
    "execution_start": 1646577394855,
    "output_cleared": true,
    "source_hash": "69e3c793",
    "tags": []
   },
   "outputs": [
    {
     "name": "stdout",
     "output_type": "stream",
     "text": [
      "Index(['start', 'end', 'day_count'], dtype='object')\n"
     ]
    }
   ],
   "source": [
    "counts_ukr_rus = pd.read_csv(\"counts-ukr-rus.csv\")\n",
    "print(counts_ukr_rus.columns)"
   ]
  },
  {
   "cell_type": "code",
   "execution_count": 34,
   "metadata": {
    "cell_id": "00061-dfc24850-fbb5-4bb1-a4db-69b369579b0c",
    "deepnote_cell_height": 81,
    "deepnote_cell_type": "code",
    "deepnote_to_be_reexecuted": true,
    "execution_millis": 27,
    "execution_start": 1646577394884,
    "output_cleared": true,
    "source_hash": "bdf9dfa9",
    "tags": []
   },
   "outputs": [
    {
     "data": {
      "text/html": [
       "<div>\n",
       "<style scoped>\n",
       "    .dataframe tbody tr th:only-of-type {\n",
       "        vertical-align: middle;\n",
       "    }\n",
       "\n",
       "    .dataframe tbody tr th {\n",
       "        vertical-align: top;\n",
       "    }\n",
       "\n",
       "    .dataframe thead th {\n",
       "        text-align: right;\n",
       "    }\n",
       "</style>\n",
       "<table border=\"1\" class=\"dataframe\">\n",
       "  <thead>\n",
       "    <tr style=\"text-align: right;\">\n",
       "      <th></th>\n",
       "      <th>start</th>\n",
       "      <th>end</th>\n",
       "      <th>day_count</th>\n",
       "    </tr>\n",
       "  </thead>\n",
       "  <tbody>\n",
       "    <tr>\n",
       "      <th>0</th>\n",
       "      <td>2023-01-20T11:43:26.000Z</td>\n",
       "      <td>2023-01-21T00:00:00.000Z</td>\n",
       "      <td>117</td>\n",
       "    </tr>\n",
       "    <tr>\n",
       "      <th>1</th>\n",
       "      <td>2023-01-21T00:00:00.000Z</td>\n",
       "      <td>2023-01-22T00:00:00.000Z</td>\n",
       "      <td>161</td>\n",
       "    </tr>\n",
       "    <tr>\n",
       "      <th>2</th>\n",
       "      <td>2023-01-22T00:00:00.000Z</td>\n",
       "      <td>2023-01-23T00:00:00.000Z</td>\n",
       "      <td>103</td>\n",
       "    </tr>\n",
       "    <tr>\n",
       "      <th>3</th>\n",
       "      <td>2023-01-23T00:00:00.000Z</td>\n",
       "      <td>2023-01-24T00:00:00.000Z</td>\n",
       "      <td>210</td>\n",
       "    </tr>\n",
       "    <tr>\n",
       "      <th>4</th>\n",
       "      <td>2023-01-24T00:00:00.000Z</td>\n",
       "      <td>2023-01-25T00:00:00.000Z</td>\n",
       "      <td>249</td>\n",
       "    </tr>\n",
       "  </tbody>\n",
       "</table>\n",
       "</div>"
      ],
      "text/plain": [
       "                      start                       end  day_count\n",
       "0  2023-01-20T11:43:26.000Z  2023-01-21T00:00:00.000Z        117\n",
       "1  2023-01-21T00:00:00.000Z  2023-01-22T00:00:00.000Z        161\n",
       "2  2023-01-22T00:00:00.000Z  2023-01-23T00:00:00.000Z        103\n",
       "3  2023-01-23T00:00:00.000Z  2023-01-24T00:00:00.000Z        210\n",
       "4  2023-01-24T00:00:00.000Z  2023-01-25T00:00:00.000Z        249"
      ]
     },
     "execution_count": 34,
     "metadata": {},
     "output_type": "execute_result"
    }
   ],
   "source": [
    "counts_ukr_rus.head()"
   ]
  },
  {
   "cell_type": "code",
   "execution_count": 35,
   "metadata": {
    "cell_id": "00062-2100edca-034b-4ba8-a7ee-46c56b571310",
    "deepnote_cell_height": 117,
    "deepnote_cell_type": "code",
    "deepnote_to_be_reexecuted": true,
    "execution_millis": 5,
    "execution_start": 1646577394914,
    "output_cleared": true,
    "source_hash": "7e10c700",
    "tags": []
   },
   "outputs": [],
   "source": [
    "# Let's convert the start and end series to datetime\n",
    "counts_ukr_rus['start'] = pd.to_datetime(???)\n",
    "counts_ukr_rus['end'] = pd.to_datetime(???)"
   ]
  },
  {
   "cell_type": "code",
   "execution_count": 36,
   "metadata": {
    "cell_id": "00063-0a962b01-5864-4b38-8841-620b37405823",
    "deepnote_cell_height": 81,
    "deepnote_cell_type": "code",
    "deepnote_to_be_reexecuted": true,
    "execution_millis": 604,
    "execution_start": 1646577730182,
    "output_cleared": true,
    "source_hash": "b0844f38",
    "tags": []
   },
   "outputs": [
    {
     "data": {
      "image/png": "[encoded data removed]",
      "text/plain": [
       "<Figure size 432x288 with 1 Axes>"
      ]
     },
     "metadata": {
      "needs_background": "light"
     },
     "output_type": "display_data"
    }
   ],
   "source": [
    "counts_ukr_rus.plot(y=\"day_count\", x=\"start\", rot=45, marker='x', legend=False, ylabel=\"Daily tweet volume\", xlabel=\"Day\");"
   ]
  },
  {
   "cell_type": "markdown",
   "metadata": {
    "cell_id": "00064-4c78fe4b-53f7-4d63-94cf-ea2ee2d9b235",
    "deepnote_cell_height": 220.65625,
    "deepnote_cell_type": "markdown",
    "tags": []
   },
   "source": [
    "<div class=\"alert-warning alert\">\n",
    "\n",
    "**For more examples** of accessing data from Twitter API, check out `twarc`'s documentation: https://twarc-project.readthedocs.io/en/latest/twarc2_en_us/\n",
    "\n",
    "You can notably use it to access the followers and friends (mutual followers) of a given user.\n",
    "\n",
    "If you're interested in mapping networks, have a look at another plugin, twarc-network: https://github.com/DocNow/twarc-network\n",
    "\n",
    "</div>"
   ]
  },
  {
   "cell_type": "markdown",
   "metadata": {
    "cell_id": "00065-ad17ea4b-edff-4daf-b4af-d3f46f6da021",
    "deepnote_cell_height": 70,
    "deepnote_cell_type": "markdown",
    "tags": []
   },
   "source": [
    "## This week's datasheet questions"
   ]
  },
  {
   "cell_type": "markdown",
   "metadata": {
    "cell_id": "00066-a97d256a-55d8-41c2-92b4-91faf390a25c",
    "deepnote_cell_height": 177.71875,
    "deepnote_cell_type": "markdown",
    "tags": []
   },
   "source": [
    "Throughout this course, we will aim to build on the practice of documenting our datasets, using the Datasheet for Datasets framework (here is an <a href=\"https://github.com/zykls/folktables/blob/main/datasheet.md\">example of a datasheet\"</a>). In the notebook for this week, you designed a small dataset of tweets related to the conflict in Ukraine. Let's assume you plan to release this dataset online.\n",
    "\n",
    "How would you structure your Datasheet for this small dataset? For this week's homework, please answer the following questions:"
   ]
  },
  {
   "cell_type": "markdown",
   "metadata": {
    "cell_id": "00067-da581c20-b3e5-41b2-953b-facc1cbd088d",
    "deepnote_cell_height": 625.71875,
    "deepnote_cell_type": "markdown",
    "tags": []
   },
   "source": [
    ">**How was the data associated with each instance acquired?** Was the data directly observable (e.g., raw text, movie ratings), reported by subjects (e.g., survey responses), or indirectly inferred/derived from other data (e.g., part-of-speech tags, model-based guesses for age or language)? If data was reported by subjects or indirectly inferred/derived from other data, was the data validated/verified? If so, please describe how.\n",
    "\n",
    "...\n",
    "\n",
    ">**If the dataset is a sample from a larger set, what was the sampling strategy (e.g., deterministic, probabilistic with specific sampling probabilities)?**\n",
    "\n",
    "...\n",
    "\n",
    ">**Over what timeframe was the data collected? Does this timeframe match the creation timeframe of the data associated with the instances (e.g., recent crawl of old news articles)?** If not, please describe the timeframe in which the data associated with the instances was created.\n",
    "\n",
    "...\n",
    "\n",
    ">**Does the dataset contain data that, if viewed directly, might be offensive, insulting, threatening, or might otherwise cause anxiety?** If so, please describe why.\n",
    "\n",
    "...\n",
    "\n",
    ">**Did the individuals in question consent to the collection and use of their data?** If so, please describe (or show with screenshots or other information) how consent was requested and provided, and provide a link or other access point to, or otherwise reproduce, the exact language to which the individuals consented.\n",
    "\n",
    "...\n"
   ]
  }
 ],
 "metadata": {
  "deepnote": {
   "is_reactive": false
  },
  "deepnote_execution_queue": [],
  "deepnote_notebook_id": "82bc054c-251d-4069-bb98-d34ff316dabf",
  "kernelspec": {
   "display_name": "Python 3 (ipykernel)",
   "language": "python",
   "name": "python3"
  },
  "language_info": {
   "codemirror_mode": {
    "name": "ipython",
    "version": 3
   },
   "file_extension": ".py",
   "mimetype": "text/x-python",
   "name": "python",
   "nbconvert_exporter": "python",
   "pygments_lexer": "ipython3",
   "version": "3.9.12"
  }
 },
 "nbformat": 4,
 "nbformat_minor": 4
}
