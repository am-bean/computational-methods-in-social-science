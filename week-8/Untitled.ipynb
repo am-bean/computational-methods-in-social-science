{
 "cells": [
  {
   "cell_type": "code",
   "execution_count": 24,
   "id": "57ebaa3a-6e0f-4f44-a4d8-eb0ea652c138",
   "metadata": {},
   "outputs": [
    {
     "name": "stdout",
     "output_type": "stream",
     "text": [
      "Requirement already satisfied: shapely in c:\\users\\andre\\anaconda3\\lib\\site-packages (2.0.1)\n",
      "Requirement already satisfied: numpy>=1.14 in c:\\users\\andre\\anaconda3\\lib\\site-packages (from shapely) (1.21.5)\n"
     ]
    }
   ],
   "source": [
    "!pip install --upgrade --user shapely"
   ]
  },
  {
   "cell_type": "code",
   "execution_count": 93,
   "id": "7b1e05b0-e720-4c5e-96c8-80c391a216dc",
   "metadata": {},
   "outputs": [],
   "source": [
    "from shapely.geometry import Polygon\n",
    "\n",
    "p1 = Polygon([(0,1), (1,1), (0,0)])\n",
    "p2 = Polygon([(1,0), (0,0), (1,1)])\n",
    "\n",
    "geocoll = GeometryCollection([p1,p2])"
   ]
  },
  {
   "cell_type": "code",
   "execution_count": 94,
   "id": "c834f9b9-37a0-4c4b-89f1-ed03323f27ef",
   "metadata": {},
   "outputs": [],
   "source": [
    "from shapely.geometry import GeometryCollection\n",
    "\n",
    "def score(geocoll):\n",
    "    if overlaps(geocoll):\n",
    "        return 1000\n",
    "    else:\n",
    "        return (max(geocoll.bounds)**2)"
   ]
  },
  {
   "cell_type": "code",
   "execution_count": 95,
   "id": "4f6e8190-4efc-4757-9b6d-40bd68df09ec",
   "metadata": {},
   "outputs": [],
   "source": [
    "def overlaps(geocoll):\n",
    "    geoms = geocoll.geoms\n",
    "    for i, geo1 in enumerate(geoms):\n",
    "        for j, geo2 in enumerate(geoms):\n",
    "            if i==j:\n",
    "                continue\n",
    "            elif geo1.overlaps(geo2) or geo1.equals(geo2):\n",
    "                return True\n",
    "    return False"
   ]
  },
  {
   "cell_type": "code",
   "execution_count": 96,
   "id": "546628f1-a91e-40bb-96c4-03c513e403f1",
   "metadata": {},
   "outputs": [
    {
     "data": {
      "text/plain": [
       "1.0"
      ]
     },
     "execution_count": 96,
     "metadata": {},
     "output_type": "execute_result"
    }
   ],
   "source": [
    "score(geocoll)"
   ]
  },
  {
   "cell_type": "code",
   "execution_count": null,
   "id": "37fa8202-2ab0-44a7-ad80-392449bafea2",
   "metadata": {},
   "outputs": [],
   "source": []
  }
 ],
 "metadata": {
  "kernelspec": {
   "display_name": "Python 3 (ipykernel)",
   "language": "python",
   "name": "python3"
  },
  "language_info": {
   "codemirror_mode": {
    "name": "ipython",
    "version": 3
   },
   "file_extension": ".py",
   "mimetype": "text/x-python",
   "name": "python",
   "nbconvert_exporter": "python",
   "pygments_lexer": "ipython3",
   "version": "3.9.12"
  }
 },
 "nbformat": 4,
 "nbformat_minor": 5
}
