{
 "cells": [
  {
   "cell_type": "markdown",
   "metadata": {
    "cell_id": "6bc34ed3-9ded-4a9a-b40c-9b046b2c468e",
    "deepnote_cell_height": 744.5999755859375,
    "deepnote_cell_type": "markdown",
    "tags": []
   },
   "source": [
    "# Week 6': Creating our data file\n",
    "\n",
    "## Overview\n",
    "\n",
    "This notebook is used to create the data file which we will use for the remainder of the course. It is strongly based off of the material from the week 2 Reddit notebook, but trimmed down to just the pieces we need. Since students do not need to run this notebook, I have focus my annotations on coding best practices rather than on describing what is going on."
   ]
  },
  {
   "cell_type": "code",
   "execution_count": 1,
   "metadata": {
    "cell_id": "00008-9bdd3042-a1d6-4c06-a5d7-227c69332859",
    "deepnote_cell_height": 152.3333282470703,
    "deepnote_cell_type": "code",
    "deepnote_to_be_reexecuted": false,
    "execution_millis": 71,
    "execution_start": 1645983182505,
    "source_hash": "fdfcfc6c",
    "tags": []
   },
   "outputs": [],
   "source": [
    "# You should put all of your imports at the top of the file or notebook. This way future users know what dependencies they need to install\n",
    "\n",
    "import pandas as pd\n",
    "import praw\n",
    "import json"
   ]
  },
  {
   "cell_type": "code",
   "execution_count": 2,
   "metadata": {},
   "outputs": [],
   "source": [
    "# Next I create a reddit instance using my login information, which is saved locally.\n",
    "\n",
    "with open(\"secret.json\", \"r\") as f:\n",
    "    secret = json.load(f)\n",
    "\n",
    "reddit = praw.Reddit(\n",
    "    client_id = secret['client_id'],\n",
    "    client_secret = secret['client_secret'],\n",
    "    username = secret['username'],\n",
    "    password = secret['password'],\n",
    "    user_agent = secret['user_agent']\n",
    ")\n",
    "\n",
    "reddit.read_only = True"
   ]
  },
  {
   "cell_type": "markdown",
   "metadata": {
    "cell_id": "00010-3bf8f5b8-7eef-4081-adb2-95cdef9af027",
    "deepnote_cell_height": 147.86666870117188,
    "deepnote_cell_type": "markdown",
    "tags": []
   },
   "source": [
    "<div class=\"alert alert-info\">\n",
    "\n",
    "<b>Functions:</b> There are several steps which I would like to do multiple times for each post, so I have written them as functions. When the internal steps are sufficiently complicated, I also write functions to call within the functions. If you are interested in functions, the expand_comments function uses a technique called `recursion` where the function calls itself in order to deal with the unknown depth of the comment forest.\n",
    "    \n",
    "</div>"
   ]
  },
  {
   "cell_type": "code",
   "execution_count": 10,
   "metadata": {
    "cell_id": "00011-cbc4327e-1296-4da2-b50c-005c191131db",
    "deepnote_cell_height": 80.33332824707031,
    "deepnote_cell_type": "code",
    "deepnote_to_be_reexecuted": false,
    "execution_millis": 6,
    "execution_start": 1645983186940,
    "source_hash": "c15fdde6",
    "tags": []
   },
   "outputs": [],
   "source": [
    "def access_reddit_post(post_id):\n",
    "    '''This function takes a Reddit post id as a string and returns\n",
    "    a dictionary containing information about the post as well as \n",
    "    the complete comments section.\n",
    "    \n",
    "    Post ids can be found in the url of the Reddit post.\n",
    "    '''\n",
    "    \n",
    "    \n",
    "    # Access the post\n",
    "    submission = reddit.submission(post_id)\n",
    "    \n",
    "    # Extract the fields of interest\n",
    "    post_info = {'title': submission.title,\n",
    "             'created_at': submission.created_utc,\n",
    "             'id': submission.id,\n",
    "             'permalink': submission.permalink,\n",
    "             'num_comments': submission.num_comments,\n",
    "             'score': submission.score,\n",
    "             'upvote_ratio': submission.upvote_ratio,            \n",
    "             'external_link': submission.url,\n",
    "             }\n",
    "\n",
    "    # Expand the comment forest into a list of comment info dictionaries\n",
    "    post_info['comments'] = expand_comments(submission.comments)\n",
    "    \n",
    "    return post_info"
   ]
  },
  {
   "cell_type": "code",
   "execution_count": 4,
   "metadata": {},
   "outputs": [],
   "source": [
    "def expand_comments(comment_forest):\n",
    "    ''' Takes a praw CommentForest object and recursively retrieves every comment\n",
    "    in the forest or replying to a comment in the forest in the form of a list of \n",
    "    Comment objects.'''\n",
    "    \n",
    "    # Turn any MoreComments objects into actual comments\n",
    "    replace_more_comments(comment_forest)\n",
    "    \n",
    "    # Initialize any exmpty list to which to add comments\n",
    "    cumulative_list = []\n",
    "    \n",
    "    # Recursively unpack the replies to each comment\n",
    "    for comment in list(comment_forest):\n",
    "        if len(comment.replies) > 0:\n",
    "            replies = expand_comments(comment.replies)\n",
    "            cumulative_list = cumulative_list + replies\n",
    "        cumulative_list.append(get_comment_info(comment))\n",
    "            \n",
    "    return cumulative_list"
   ]
  },
  {
   "cell_type": "code",
   "execution_count": 5,
   "metadata": {},
   "outputs": [],
   "source": [
    "def replace_more_comments(comment_forest):\n",
    "    '''Expands a praw CommentForest object by calling the more_comments()\n",
    "    method until all of the comments have been accessed. Returns None because\n",
    "    the input CommentForest is mutated.'''\n",
    "    \n",
    "    # Creates the initial conditions\n",
    "    more_to_replace = True\n",
    "\n",
    "    # Repeats until the condition, no more comments to expand, is false\n",
    "    while more_to_replace:\n",
    "        remaining_more_comments = comment_forest.replace_more()\n",
    "        more_to_replace = (len(remaining_more_comments) > 0)"
   ]
  },
  {
   "cell_type": "code",
   "execution_count": 15,
   "metadata": {},
   "outputs": [],
   "source": [
    "def get_comment_info(comment):\n",
    "    '''Extracts a set of useful fields from a praw Comment object\n",
    "    and returns a dictionary of the fields'''\n",
    "    \n",
    "    # Extracts useful fields from the comment\n",
    "    comment_info = {'body': comment.body,\n",
    "                    'created_at': comment.created_utc,\n",
    "                    'id': comment.id,\n",
    "                    'parent': comment.parent_id,\n",
    "                    'score': comment.score\n",
    "                   }\n",
    "    \n",
    "    return comment_info"
   ]
  },
  {
   "cell_type": "markdown",
   "metadata": {},
   "source": [
    "<div class=\"alert alert-info\">\n",
    "\n",
    "<b>Collecting Data:</b> Since the difficult work is all in the functions, only two cells are required to call the functions, collect the data, and write it to a file. \n",
    "</div>"
   ]
  },
  {
   "cell_type": "code",
   "execution_count": 11,
   "metadata": {},
   "outputs": [],
   "source": [
    "# List the posts we care about\n",
    "post_ids = [\"10py29t\",\"10plq1f\"]\n",
    "\n",
    "# Creates the dictionary to store them in\n",
    "post_info = {}\n",
    "\n",
    "# Loops through the list of posts we care about and gets the data\n",
    "for post in post_ids:\n",
    "    post_info[post] = access_reddit_post(post)"
   ]
  },
  {
   "cell_type": "code",
   "execution_count": 16,
   "metadata": {},
   "outputs": [],
   "source": [
    "# Save the data to a file\n",
    "\n",
    "with open(\"reddit_data.json\", \"w\") as f:\n",
    "    json.dump(post_info, f)"
   ]
  }
 ],
 "metadata": {
  "deepnote": {
   "is_reactive": false
  },
  "deepnote_execution_queue": [],
  "deepnote_notebook_id": "4a686dea-4756-4795-91b0-7a9bf46a8405",
  "kernelspec": {
   "display_name": "Python 3 (ipykernel)",
   "language": "python",
   "name": "python3"
  },
  "language_info": {
   "codemirror_mode": {
    "name": "ipython",
    "version": 3
   },
   "file_extension": ".py",
   "mimetype": "text/x-python",
   "name": "python",
   "nbconvert_exporter": "python",
   "pygments_lexer": "ipython3",
   "version": "3.9.12"
  }
 },
 "nbformat": 4,
 "nbformat_minor": 4
}
