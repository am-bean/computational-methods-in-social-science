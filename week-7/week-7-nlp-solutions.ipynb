{
 "cells": [
  {
   "cell_type": "markdown",
   "metadata": {
    "cell_id": "80ac79ca-a0ef-4081-a14b-42ec81ce898f",
    "deepnote_app_coordinates": {
     "h": 5,
     "w": 12,
     "x": 0,
     "y": null
    },
    "deepnote_cell_type": "markdown",
    "tags": []
   },
   "source": [
    "# Week 7: Cleaning (Text) Data "
   ]
  },
  {
   "cell_type": "markdown",
   "metadata": {
    "cell_id": "d9c467b0-446d-4028-aa67-d2feb87132ca",
    "deepnote_app_coordinates": {
     "h": 5,
     "w": 12,
     "x": 0,
     "y": 18
    },
    "deepnote_cell_height": 226,
    "deepnote_cell_type": "markdown",
    "jp-MarkdownHeadingCollapsed": true,
    "tags": []
   },
   "source": [
    "In this notebook we use the `nltk` python library to perform basic natural language processing tasks. NLTK stands for `natural language toolkit`, and can be used for a lot of standard tasks related to cleaning and analysing text data.\n",
    "\n",
    "We will be using the dataset that we worked with last week, the combined comment sections of two Reddit posts. Although you are encouraged to use the files that you made last week, I have also provided the pre-made files to ensure everyone is able to start in the same place.\n",
    "\n",
    "This week, we will count word frequencies, which will lead to observations about `stop words`, and `lemmatisation`. We will use the word frequencies to compare the two different comment sections, and use a pre-trained sentiment analysis tool to estimate the sentiments of the comments. The homework will contain an optional exercise using word frequencies and a `Naive Bayes` classifier to guess which comment section a particular comment came from."
   ]
  },
  {
   "cell_type": "code",
   "execution_count": 1,
   "metadata": {
    "cell_id": "5efbed6a-e825-4b2a-8bda-7cc4f2671139",
    "deepnote_app_coordinates": {
     "h": 5,
     "w": 12,
     "x": 0,
     "y": 24
    },
    "deepnote_cell_height": 99,
    "deepnote_cell_type": "code",
    "deepnote_to_be_reexecuted": false,
    "execution_millis": 3020,
    "execution_start": 1646038770920,
    "source_hash": "a933caac",
    "tags": []
   },
   "outputs": [],
   "source": [
    "%%capture\n",
    "# Run this cell to install the nltk library using the Python package manager pip\n",
    "!pip install nltk"
   ]
  },
  {
   "cell_type": "code",
   "execution_count": 2,
   "metadata": {
    "cell_id": "c52acc9e-91b3-49d7-b54a-a85bb87fd2c7",
    "deepnote_app_coordinates": {
     "h": 5,
     "w": 12,
     "x": 0,
     "y": 30
    },
    "deepnote_cell_type": "code",
    "deepnote_to_be_reexecuted": false,
    "execution_millis": 0,
    "execution_start": 1646038773946,
    "source_hash": "f6cb1ae6",
    "tags": []
   },
   "outputs": [],
   "source": [
    "import json\n",
    "import pandas as pd\n",
    "import re\n",
    "import matplotlib.pyplot as plt\n",
    "import nltk\n",
    "\n",
    "from collections import Counter"
   ]
  },
  {
   "cell_type": "markdown",
   "metadata": {},
   "source": [
    "### Load your data files"
   ]
  },
  {
   "cell_type": "markdown",
   "metadata": {},
   "source": [
    "<div class=\"alert alert-info\">\n",
    "\n",
    "**Exercise 0.1:** Read the CSV files from last week into two dataframes.\n",
    "</div>"
   ]
  },
  {
   "cell_type": "code",
   "execution_count": 3,
   "metadata": {},
   "outputs": [],
   "source": [
    "# pandas does all the work for us\n",
    "\n",
    "mammoths_df = pd.read_csv('mammoths.csv')\n",
    "remote_df = pd.read_csv('remote_work.csv')"
   ]
  },
  {
   "cell_type": "code",
   "execution_count": 4,
   "metadata": {},
   "outputs": [
    {
     "data": {
      "text/html": [
       "<div>\n",
       "<style scoped>\n",
       "    .dataframe tbody tr th:only-of-type {\n",
       "        vertical-align: middle;\n",
       "    }\n",
       "\n",
       "    .dataframe tbody tr th {\n",
       "        vertical-align: top;\n",
       "    }\n",
       "\n",
       "    .dataframe thead th {\n",
       "        text-align: right;\n",
       "    }\n",
       "</style>\n",
       "<table border=\"1\" class=\"dataframe\">\n",
       "  <thead>\n",
       "    <tr style=\"text-align: right;\">\n",
       "      <th></th>\n",
       "      <th>body</th>\n",
       "      <th>created_at</th>\n",
       "      <th>id</th>\n",
       "      <th>parent</th>\n",
       "      <th>score</th>\n",
       "      <th>post</th>\n",
       "      <th>has_emoji</th>\n",
       "      <th>clean_body</th>\n",
       "      <th>sentiment</th>\n",
       "    </tr>\n",
       "  </thead>\n",
       "  <tbody>\n",
       "    <tr>\n",
       "      <th>0</th>\n",
       "      <td>when you say it like that - gimme 2</td>\n",
       "      <td>2023-02-01 07:42:00</td>\n",
       "      <td>j6r1s1s</td>\n",
       "      <td>t1_j6qxv18</td>\n",
       "      <td>6</td>\n",
       "      <td>10py29t</td>\n",
       "      <td>False</td>\n",
       "      <td>['when', 'you', 'say', 'it', 'like', 'that', '...</td>\n",
       "      <td>0.3612</td>\n",
       "    </tr>\n",
       "    <tr>\n",
       "      <th>1</th>\n",
       "      <td>Mammork?\\n\\nI would that make them hammoths?</td>\n",
       "      <td>2023-02-01 10:18:59</td>\n",
       "      <td>j6rd2o8</td>\n",
       "      <td>t1_j6qxv18</td>\n",
       "      <td>3</td>\n",
       "      <td>10py29t</td>\n",
       "      <td>False</td>\n",
       "      <td>['mammork', 'i', 'would', 'that', 'make', 'the...</td>\n",
       "      <td>0.0000</td>\n",
       "    </tr>\n",
       "    <tr>\n",
       "      <th>2</th>\n",
       "      <td>Mmmmmmmm mammoth pork</td>\n",
       "      <td>2023-02-01 06:52:37</td>\n",
       "      <td>j6qxv18</td>\n",
       "      <td>t1_j6obhxv</td>\n",
       "      <td>22</td>\n",
       "      <td>10py29t</td>\n",
       "      <td>False</td>\n",
       "      <td>['mmmmmmmm', 'mammoth', 'pork']</td>\n",
       "      <td>0.0000</td>\n",
       "    </tr>\n",
       "    <tr>\n",
       "      <th>3</th>\n",
       "      <td>It’ll just be made from pressed pork.</td>\n",
       "      <td>2023-01-31 19:16:08</td>\n",
       "      <td>j6obhxv</td>\n",
       "      <td>t1_j6notr0</td>\n",
       "      <td>68</td>\n",
       "      <td>10py29t</td>\n",
       "      <td>False</td>\n",
       "      <td>['itll', 'just', 'be', 'made', 'from', 'presse...</td>\n",
       "      <td>0.0000</td>\n",
       "    </tr>\n",
       "    <tr>\n",
       "      <th>4</th>\n",
       "      <td>11 years before they’re extinct again</td>\n",
       "      <td>2023-02-01 06:51:58</td>\n",
       "      <td>j6qxt2e</td>\n",
       "      <td>t1_j6notr0</td>\n",
       "      <td>7</td>\n",
       "      <td>10py29t</td>\n",
       "      <td>False</td>\n",
       "      <td>['11', 'years', 'before', 'theyre', 'extinct',...</td>\n",
       "      <td>0.0000</td>\n",
       "    </tr>\n",
       "  </tbody>\n",
       "</table>\n",
       "</div>"
      ],
      "text/plain": [
       "                                           body           created_at       id  \\\n",
       "0           when you say it like that - gimme 2  2023-02-01 07:42:00  j6r1s1s   \n",
       "1  Mammork?\\n\\nI would that make them hammoths?  2023-02-01 10:18:59  j6rd2o8   \n",
       "2                         Mmmmmmmm mammoth pork  2023-02-01 06:52:37  j6qxv18   \n",
       "3         It’ll just be made from pressed pork.  2023-01-31 19:16:08  j6obhxv   \n",
       "4         11 years before they’re extinct again  2023-02-01 06:51:58  j6qxt2e   \n",
       "\n",
       "       parent  score     post  has_emoji  \\\n",
       "0  t1_j6qxv18      6  10py29t      False   \n",
       "1  t1_j6qxv18      3  10py29t      False   \n",
       "2  t1_j6obhxv     22  10py29t      False   \n",
       "3  t1_j6notr0     68  10py29t      False   \n",
       "4  t1_j6notr0      7  10py29t      False   \n",
       "\n",
       "                                          clean_body  sentiment  \n",
       "0  ['when', 'you', 'say', 'it', 'like', 'that', '...     0.3612  \n",
       "1  ['mammork', 'i', 'would', 'that', 'make', 'the...     0.0000  \n",
       "2                    ['mmmmmmmm', 'mammoth', 'pork']     0.0000  \n",
       "3  ['itll', 'just', 'be', 'made', 'from', 'presse...     0.0000  \n",
       "4  ['11', 'years', 'before', 'theyre', 'extinct',...     0.0000  "
      ]
     },
     "execution_count": 4,
     "metadata": {},
     "output_type": "execute_result"
    }
   ],
   "source": [
    "# checking that we got the same thing as before\n",
    "mammoths_df.head()"
   ]
  },
  {
   "cell_type": "markdown",
   "metadata": {},
   "source": [
    "## Cleaning Data\n",
    "\n",
    "Text data is often very messy to work with. There can be a lot of annoying $pecial characters, spelling misteaks, Capitalisation choices, and artefacts of the source material like newlines `\\n`. We will take a simple approach to cleaning - remove anything that isn't alphanumeric and make everything lowercase. You may be more careful about this approach if the research question calls for it. For example, keeping track of sentence and paragraph breaks is often helpful."
   ]
  },
  {
   "cell_type": "code",
   "execution_count": 5,
   "metadata": {},
   "outputs": [
    {
     "data": {
      "text/plain": [
       "['The', 'quick', 'brown', 'fox', 'jumped', 'over', 'the', 'lazy', 'dog']"
      ]
     },
     "execution_count": 5,
     "metadata": {},
     "output_type": "execute_result"
    }
   ],
   "source": [
    "# to split up a string between the spaces:\n",
    "example_string = 'The quick brown fox jumped over the lazy dog            '\n",
    "example_string.split()"
   ]
  },
  {
   "cell_type": "code",
   "execution_count": 6,
   "metadata": {},
   "outputs": [
    {
     "data": {
      "text/plain": [
       "'the quick brown fox jumped over the lazy dog            '"
      ]
     },
     "execution_count": 6,
     "metadata": {},
     "output_type": "execute_result"
    }
   ],
   "source": [
    "# to make a string lowercase\n",
    "example_string.lower()"
   ]
  },
  {
   "cell_type": "code",
   "execution_count": 7,
   "metadata": {},
   "outputs": [
    {
     "data": {
      "text/plain": [
       "'The quick brown fox jumped over the lazy dog'"
      ]
     },
     "execution_count": 7,
     "metadata": {},
     "output_type": "execute_result"
    }
   ],
   "source": [
    "# to remove extra whitespace around a string\n",
    "example_string.strip()"
   ]
  },
  {
   "cell_type": "code",
   "execution_count": 8,
   "metadata": {},
   "outputs": [
    {
     "data": {
      "text/plain": [
       "['the', 'quick', 'brown', 'fox', 'jumped', 'over', 'the', 'lazy', 'dog']"
      ]
     },
     "execution_count": 8,
     "metadata": {},
     "output_type": "execute_result"
    }
   ],
   "source": [
    "# all together\n",
    "example_string.lower().strip().split()"
   ]
  },
  {
   "cell_type": "code",
   "execution_count": 9,
   "metadata": {},
   "outputs": [],
   "source": [
    "# here we use another nice property of pandas!\n",
    "# if you write a function, you can apply it to every entry in a column at once!\n",
    "\n",
    "# our basic cleaning function\n",
    "def clean_text(text):\n",
    "    return [re.sub('[^a-z0-9]', '', w.lower()) for w in text.strip().split()]\n",
    "\n",
    "# now we apply it all at once using pandas\n",
    "mammoths_df['clean_body'] = mammoths_df['body'].apply(clean_text)\n",
    "remote_df['clean_body'] = remote_df['body'].apply(clean_text)"
   ]
  },
  {
   "cell_type": "code",
   "execution_count": 10,
   "metadata": {},
   "outputs": [
    {
     "data": {
      "text/plain": [
       "body             Mammork?\\n\\nI would that make them hammoths?\n",
       "created_at                                2023-02-01 10:18:59\n",
       "id                                                    j6rd2o8\n",
       "parent                                             t1_j6qxv18\n",
       "score                                                       3\n",
       "post                                                  10py29t\n",
       "has_emoji                                               False\n",
       "clean_body    [mammork, i, would, that, make, them, hammoths]\n",
       "sentiment                                                 0.0\n",
       "Name: 1, dtype: object"
      ]
     },
     "execution_count": 10,
     "metadata": {},
     "output_type": "execute_result"
    }
   ],
   "source": [
    "# Let's look at one example:\n",
    "# We've removed the two \\n characters and the punctuation, and split the words into a list\n",
    "# The vocab is made up which will make things more difficult later\n",
    "\n",
    "mammoths_df.iloc[1,:]"
   ]
  },
  {
   "cell_type": "code",
   "execution_count": 11,
   "metadata": {},
   "outputs": [
    {
     "data": {
      "text/plain": [
       "body          I was able to leverage my experience and the l...\n",
       "created_at                                  2023-01-31 23:12:07\n",
       "id                                                      j6pd2pm\n",
       "parent                                               t1_j6p4jgg\n",
       "score                                                         2\n",
       "post                                                    10plq1f\n",
       "has_emoji                                                 False\n",
       "clean_body    [i, was, able, to, leverage, my, experience, a...\n",
       "sentiment                                                0.8756\n",
       "Name: 1, dtype: object"
      ]
     },
     "execution_count": 11,
     "metadata": {},
     "output_type": "execute_result"
    }
   ],
   "source": [
    "# For a more standard text this seems more reasonable\n",
    "remote_df.iloc[1,:]"
   ]
  },
  {
   "cell_type": "markdown",
   "metadata": {},
   "source": [
    "## Word Frequencies\n",
    "\n",
    "Computational linguists have found a number of surprising regularities in language which can be used in computational social science. For example, the frequency with which words are used tends to be exponentially distributed, so that the most frequent words are **far** more common than the next most frequent words.This also holds true within subject areas, where some vocabulary words are extremely common within their area of use, but they are often very uncommon in general language. This can be used to identify the topic of a body of text based on the frequent words within it.\n",
    "\n",
    "As an example, if you overheard the words `formal hall`, `college`, and `tutorial` you might guess that person is talking about Oxford. The words are rare in general usage, but in a specific context they are very standard."
   ]
  },
  {
   "cell_type": "markdown",
   "metadata": {},
   "source": [
    "<div class=\"alert alert-info\">\n",
    "\n",
    "**Exercise 0.2:** Count the most common words in each dataframe using a Counter\n",
    "\n",
    "</div>"
   ]
  },
  {
   "cell_type": "code",
   "execution_count": 12,
   "metadata": {},
   "outputs": [
    {
     "data": {
      "text/plain": [
       "Counter({'the': 2,\n",
       "         'quick': 1,\n",
       "         'brown': 1,\n",
       "         'fox': 1,\n",
       "         'jumped': 1,\n",
       "         'over': 1,\n",
       "         'lazy': 1,\n",
       "         'dog': 1})"
      ]
     },
     "execution_count": 12,
     "metadata": {},
     "output_type": "execute_result"
    }
   ],
   "source": [
    "# A Counter goes through the items in a list or dictionary and tells you how many there are of each\n",
    "txt_example = ['the', 'quick', 'brown', 'fox', 'jumped', 'over', 'the', 'lazy', 'dog']\n",
    "\n",
    "Counter(txt_example)"
   ]
  },
  {
   "cell_type": "code",
   "execution_count": 13,
   "metadata": {},
   "outputs": [],
   "source": [
    "# We need two for loops to get the words one at a time rather than the comments one at a time\n",
    "\n",
    "counts = Counter(word for text in mammoths_df['clean_body'] for word in text)\n",
    "\n",
    "    "
   ]
  },
  {
   "cell_type": "code",
   "execution_count": 14,
   "metadata": {},
   "outputs": [
    {
     "name": "stdout",
     "output_type": "stream",
     "text": [
      "  word  count\n",
      "0  the    800\n",
      "1   to    566\n",
      "2    a    503\n",
      "3  and    382\n",
      "4   of    350\n",
      "         word  count\n",
      "3489   seemed      1\n",
      "3490     star      1\n",
      "3491     wars      1\n",
      "3492  execute      1\n",
      "3493       66      1\n"
     ]
    }
   ],
   "source": [
    "# Counters have a most_common() method which tells us which words we saw the most\n",
    "\n",
    "# Let's put it in a dataframe and look at the top and bottom few\n",
    "\n",
    "mammoth_counts_df = pd.DataFrame(counts.most_common(), columns = ['word','count'])\n",
    "\n",
    "print(mammoth_counts_df.head())\n",
    "\n",
    "print(mammoth_counts_df.tail())"
   ]
  },
  {
   "cell_type": "markdown",
   "metadata": {},
   "source": [
    "<div class=\"alert alert-info\">\n",
    "\n",
    "**Exercise 0.2b:** We'll learn how to make plots next week. For now, I'll show you a plot of the frequencies of the words in this comment section\n",
    "\n",
    "</div>"
   ]
  },
  {
   "cell_type": "code",
   "execution_count": 15,
   "metadata": {},
   "outputs": [
    {
     "data": {
      "image/png": "[encoded data removed]",
      "text/plain": [
       "<Figure size 432x288 with 1 Axes>"
      ]
     },
     "metadata": {
      "needs_background": "light"
     },
     "output_type": "display_data"
    }
   ],
   "source": [
    "# Note that this plot is logarithmic on both axes\n",
    "# This tells us that (as expected) a small number of words make up the vast majority of the text\n",
    "\n",
    "plt.loglog(mammoth_counts_df.index, mammoth_counts_df['count'])\n",
    "plt.title('Frequency vs Frequency Rank')\n",
    "plt.show()"
   ]
  },
  {
   "cell_type": "code",
   "execution_count": 16,
   "metadata": {},
   "outputs": [
    {
     "data": {
      "text/plain": [
       "array(['the', 'to', 'a', 'and', 'of', 'in', 'it', 'that', 'i', 'they',\n",
       "       'is', 'this', 'mammoth', 'for', 'we', 'be', 'are', 'but', 'not',\n",
       "       'with', 'have', 'its', 'years', 'you', 'just', 'like', 'on', 'if',\n",
       "       'back', 'so', 'mammoths', 'about', 'an', '', 'can', 'from', 'was',\n",
       "       'do', 'will', 'as', 'would', 'or', 'why', 'what', 'them', 'dna',\n",
       "       'were', 'there', 'their', 'how', 'could', 'extinct', 'all', 'when',\n",
       "       'time', 'elephant', 'think', 'im', 'elephants', 'one', 'woolly',\n",
       "       'even', 'at', 'get', 'some', 'dont', 'more', 'species', 'jurassic',\n",
       "       'going', 'see', 'park', 'up', 'now', 'been', 'by', 'people',\n",
       "       'bring', 'out', 'go', 'into', 'no', 'know', 'then', 'well', 'make',\n",
       "       'theyre'], dtype=object)"
      ]
     },
     "execution_count": 16,
     "metadata": {},
     "output_type": "execute_result"
    }
   ],
   "source": [
    "# In fact, just these 87 words make up half the total words used even though there are 3494 total unique words\n",
    "\n",
    "mammoth_counts_df[mammoth_counts_df['count'].cumsum() < (mammoth_counts_df['count'].sum()/2)]['word'].values"
   ]
  },
  {
   "cell_type": "markdown",
   "metadata": {
    "cell_id": "210db550-fe4d-4e4f-a250-da92c07137d1",
    "deepnote_app_coordinates": {
     "h": 5,
     "w": 12,
     "x": 0,
     "y": 78
    },
    "deepnote_cell_height": 229.8000030517578,
    "deepnote_cell_type": "markdown",
    "tags": []
   },
   "source": [
    "<div class=\"alert alert-info\">\n",
    "\n",
    "**Exercise 1.1:** Use the methods we have just demonstrated to count the word frequencies in the `remote_df`\n",
    "</div>"
   ]
  },
  {
   "cell_type": "code",
   "execution_count": 17,
   "metadata": {},
   "outputs": [],
   "source": [
    "# We need two for loops to get the words one at a time rather than the comments one at a time\n",
    "\n",
    "counts = Counter(word for text in remote_df['clean_body'] for word in text)\n",
    "\n",
    "    "
   ]
  },
  {
   "cell_type": "code",
   "execution_count": 18,
   "metadata": {},
   "outputs": [
    {
     "name": "stdout",
     "output_type": "stream",
     "text": [
      "  word  count\n",
      "0  the   1132\n",
      "1   to   1108\n",
      "2    i   1052\n",
      "3  and    847\n",
      "4    a    747\n",
      "            word  count\n",
      "3966   dedicated      1\n",
      "3967         800      1\n",
      "3968  midmorning      1\n",
      "3969    browsing      1\n",
      "3970   debugging      1\n"
     ]
    }
   ],
   "source": [
    "# Counters have a most_common() method which tells us which words we saw the most\n",
    "\n",
    "# Let's put it in a dataframe and look at the top and bottom few\n",
    "\n",
    "remote_counts_df = pd.DataFrame(counts.most_common(), columns = ['word','count'])\n",
    "\n",
    "print(remote_counts_df.head())\n",
    "\n",
    "print(remote_counts_df.tail())"
   ]
  },
  {
   "cell_type": "code",
   "execution_count": 19,
   "metadata": {},
   "outputs": [
    {
     "data": {
      "image/png": "[encoded data removed]",
      "text/plain": [
       "<Figure size 432x288 with 1 Axes>"
      ]
     },
     "metadata": {
      "needs_background": "light"
     },
     "output_type": "display_data"
    }
   ],
   "source": [
    "# Just like for the mammoths, this relationship is logarithmic\n",
    "\n",
    "plt.loglog(remote_counts_df.index, remote_counts_df['count'])\n",
    "plt.title('Frequency vs Frequency Rank')\n",
    "plt.show()"
   ]
  },
  {
   "cell_type": "code",
   "execution_count": 20,
   "metadata": {},
   "outputs": [
    {
     "data": {
      "text/plain": [
       "array(['the', 'to', 'i', 'and', 'a', 'work', 'of', 'in', 'my', 'that',\n",
       "       'is', 'for', 'it', 'you', 'at', 'time', 'more', 'not', 'have',\n",
       "       'home', 'from', 'office', 'this', 'on', 'working', 'are', 'but',\n",
       "       'get', 'with', 'hours', 'so', 'people', 'me', 'be', 'im', 'its',\n",
       "       'or', 'if', 'dont', 'day', 'do', 'they', 'like', 'can', 'all',\n",
       "       'up', 'was', 'just', 'as', 'an', '', 'commute', 'back', 'out',\n",
       "       'when', 'we', 'because', 'no', 'your', 'wfh', 'about', 'some',\n",
       "       'now'], dtype=object)"
      ]
     },
     "execution_count": 20,
     "metadata": {},
     "output_type": "execute_result"
    }
   ],
   "source": [
    "# This time just these 64 words make up half the total words used even though there are 3971 total unique words\n",
    "\n",
    "remote_counts_df[remote_counts_df['count'].cumsum() < (remote_counts_df['count'].sum()/2)]['word'].values"
   ]
  },
  {
   "cell_type": "markdown",
   "metadata": {},
   "source": [
    "<div class=\"alert alert-info\">\n",
    "<b>Exercise 1.2:</b> Compare the two lists of top words. How easy are they to tell apart?\n",
    "</div>"
   ]
  },
  {
   "cell_type": "code",
   "execution_count": 21,
   "metadata": {
    "cell_id": "9196af2b-8eb8-4320-96c3-60ac9607938a",
    "deepnote_app_coordinates": {
     "h": 5,
     "w": 12,
     "x": 0,
     "y": 90
    },
    "deepnote_cell_height": 111.69999694824219,
    "deepnote_cell_type": "code",
    "deepnote_output_heights": [
     21.1875
    ],
    "deepnote_to_be_reexecuted": false,
    "execution_millis": 3,
    "execution_start": 1645985832700,
    "source_hash": "efa21cb7",
    "tags": []
   },
   "outputs": [
    {
     "data": {
      "text/plain": [
       "array(['the', 'to', 'i', 'and', 'a', 'work', 'of', 'in', 'my', 'that',\n",
       "       'is', 'for', 'it', 'you', 'at', 'time', 'more', 'not', 'have',\n",
       "       'home', 'from', 'office', 'this', 'on', 'working', 'are', 'but',\n",
       "       'get', 'with', 'hours', 'so', 'people', 'me', 'be', 'im', 'its',\n",
       "       'or', 'if', 'dont', 'day', 'do', 'they', 'like', 'can', 'all',\n",
       "       'up', 'was', 'just', 'as', 'an', '', 'commute', 'back', 'out',\n",
       "       'when', 'we', 'because', 'no', 'your', 'wfh', 'about', 'some',\n",
       "       'now'], dtype=object)"
      ]
     },
     "execution_count": 21,
     "metadata": {},
     "output_type": "execute_result"
    }
   ],
   "source": [
    "# remote work\n",
    "remote_counts_df[remote_counts_df['count'].cumsum() < (remote_counts_df['count'].sum()/2)]['word'].values"
   ]
  },
  {
   "cell_type": "code",
   "execution_count": 22,
   "metadata": {},
   "outputs": [
    {
     "data": {
      "text/plain": [
       "array(['the', 'to', 'a', 'and', 'of', 'in', 'it', 'that', 'i', 'they',\n",
       "       'is', 'this', 'mammoth', 'for', 'we', 'be', 'are', 'but', 'not',\n",
       "       'with', 'have', 'its', 'years', 'you', 'just', 'like', 'on', 'if',\n",
       "       'back', 'so', 'mammoths', 'about', 'an', '', 'can', 'from', 'was',\n",
       "       'do', 'will', 'as', 'would', 'or', 'why', 'what', 'them', 'dna',\n",
       "       'were', 'there', 'their', 'how', 'could', 'extinct', 'all', 'when',\n",
       "       'time', 'elephant', 'think', 'im', 'elephants', 'one', 'woolly',\n",
       "       'even', 'at', 'get', 'some', 'dont', 'more', 'species', 'jurassic',\n",
       "       'going', 'see', 'park', 'up', 'now', 'been', 'by', 'people',\n",
       "       'bring', 'out', 'go', 'into', 'no', 'know', 'then', 'well', 'make',\n",
       "       'theyre'], dtype=object)"
      ]
     },
     "execution_count": 22,
     "metadata": {},
     "output_type": "execute_result"
    }
   ],
   "source": [
    "# mammoths \n",
    "\n",
    "mammoth_counts_df[mammoth_counts_df['count'].cumsum() < (mammoth_counts_df['count'].sum()/2)]['word'].values"
   ]
  },
  {
   "cell_type": "markdown",
   "metadata": {},
   "source": [
    "A lot of these words are very similar in both lists. Of those, nearly all of them are words you would find **everywhere** in the English language. Words that are too frequent are not very useful for analysing the text, because you would find them in any text."
   ]
  },
  {
   "cell_type": "markdown",
   "metadata": {},
   "source": [
    "## Stop Words\n",
    "\n",
    "We have counted up all the words in each comment section and found that the top words are very similar in each case even though the topics are very different. To help deal with words that are too common, it is typical to remove a standard list of common words, called `stop words`. Most NLP packages will have their own concept of stop words to remove. You may also want to customise the stop words based on your context. We will start with the standard stop words from NLTK."
   ]
  },
  {
   "cell_type": "code",
   "execution_count": 23,
   "metadata": {},
   "outputs": [
    {
     "name": "stdout",
     "output_type": "stream",
     "text": [
      "['i', 'me', 'my', 'myself', 'we', 'our', 'ours', 'ourselves', 'you', \"you're\", \"you've\", \"you'll\", \"you'd\", 'your', 'yours', 'yourself', 'yourselves', 'he', 'him', 'his', 'himself', 'she', \"she's\", 'her', 'hers', 'herself', 'it', \"it's\", 'its', 'itself', 'they', 'them', 'their', 'theirs', 'themselves', 'what', 'which', 'who', 'whom', 'this', 'that', \"that'll\", 'these', 'those', 'am', 'is', 'are', 'was', 'were', 'be', 'been', 'being', 'have', 'has', 'had', 'having', 'do', 'does', 'did', 'doing', 'a', 'an', 'the', 'and', 'but', 'if', 'or', 'because', 'as', 'until', 'while', 'of', 'at', 'by', 'for', 'with', 'about', 'against', 'between', 'into', 'through', 'during', 'before', 'after', 'above', 'below', 'to', 'from', 'up', 'down', 'in', 'out', 'on', 'off', 'over', 'under', 'again', 'further', 'then', 'once', 'here', 'there', 'when', 'where', 'why', 'how', 'all', 'any', 'both', 'each', 'few', 'more', 'most', 'other', 'some', 'such', 'no', 'nor', 'not', 'only', 'own', 'same', 'so', 'than', 'too', 'very', 's', 't', 'can', 'will', 'just', 'don', \"don't\", 'should', \"should've\", 'now', 'd', 'll', 'm', 'o', 're', 've', 'y', 'ain', 'aren', \"aren't\", 'couldn', \"couldn't\", 'didn', \"didn't\", 'doesn', \"doesn't\", 'hadn', \"hadn't\", 'hasn', \"hasn't\", 'haven', \"haven't\", 'isn', \"isn't\", 'ma', 'mightn', \"mightn't\", 'mustn', \"mustn't\", 'needn', \"needn't\", 'shan', \"shan't\", 'shouldn', \"shouldn't\", 'wasn', \"wasn't\", 'weren', \"weren't\", 'won', \"won't\", 'wouldn', \"wouldn't\"]\n"
     ]
    },
    {
     "name": "stderr",
     "output_type": "stream",
     "text": [
      "[nltk_data] Downloading package stopwords to\n",
      "[nltk_data]     C:\\Users\\Andre\\AppData\\Roaming\\nltk_data...\n",
      "[nltk_data]   Package stopwords is already up-to-date!\n"
     ]
    }
   ],
   "source": [
    "# here we download the stopwords used in NLTK\n",
    "\n",
    "nltk.download('stopwords')\n",
    "from nltk.corpus import stopwords\n",
    "\n",
    "print(stopwords.words('english'))\n",
    "\n",
    "stopwords = stopwords.words('english')"
   ]
  },
  {
   "cell_type": "markdown",
   "metadata": {},
   "source": [
    "<div class=\"alert alert-info\">\n",
    "<b>Exercise 2.1:</b> Recreate the Counters for each post, but this time don't include stop words\n",
    "</div>"
   ]
  },
  {
   "cell_type": "code",
   "execution_count": 24,
   "metadata": {},
   "outputs": [
    {
     "data": {
      "text/plain": [
       "array(['mammoth', 'years', 'like', 'back', 'mammoths', '', 'would', 'dna',\n",
       "       'could', 'extinct', 'time', 'elephant', 'think', 'im', 'elephants',\n",
       "       'one', 'woolly', 'even', 'get', 'dont', 'species', 'jurassic',\n",
       "       'going', 'see', 'park', 'people', 'bring', 'go', 'know', 'well',\n",
       "       'make', 'theyre', 'thats', 'cant', 'already', 'still', 'humans',\n",
       "       'animals', 'way', 'wooly', 'animal', 'extinction', 'warming',\n",
       "       'scientists', 'actually', 'didnt', 'really', 'enough', 'also',\n",
       "       'need', 'thing', 'colossal', 'great', 'probably', 'global', 'much',\n",
       "       'new', 'read', 'long', 'change', 'climate', 'good', 'human', 'ice',\n",
       "       'remember', 'meat', 'ago', 'life', 'something', 'saying', 'doesnt',\n",
       "       'ive', 'right', 'point', 'stop', 'getting', 'sure', 'wrong',\n",
       "       'idea', 'man', 'many', '5', 'take', 'world', 'us', 'help',\n",
       "       'science', 'want', 'around', '4', 'believe', 'cloning', 'arctic',\n",
       "       'next', 'company', 'say', 'big', 'things', 'yeah', 'last', 'clone',\n",
       "       'hope', '2', 'wait', 'mean', '10', 'eat', 'every', 'trex', 'isnt',\n",
       "       'use', 'asian', 'theyve', 'bringing', 'fuck', 'keep', 'genetic',\n",
       "       'made', 'youre', 'year', 'two', 'pretty', 'permafrost', 'first',\n",
       "       'arent', 'said', 'find', 'nothing', 'age', 'guy', 'reincarnating',\n",
       "       'dinosaurs', 'ecosystem', 'living', 'hard', 'frozen', 'ivory',\n",
       "       'put', 'real', 'bad', 'look', 'movie', 'lot', 'work', 'survive',\n",
       "       'problem', 'since', 'ill', 'got', 'another', 'seen', 'away',\n",
       "       'better', 'cool', 'news', 'theyll', 'live', 'deextinction',\n",
       "       'watch', 'finally', 'fucking', 'whether', 'maybe', 'yes',\n",
       "       'process', 'habitat', 'kill', 'id', 'wont', 'able', 'shit', '3',\n",
       "       'ever', 'god', 'thought', 'making', 'type', 'gene', 'editing',\n",
       "       'heard', 'trees', 'similar', 'earth', 'play', 'theres', 'end',\n",
       "       'found', 'times', 'used', 'money', 'fact', 'brought', 'trying',\n",
       "       'reviving', 'anyone', 'imagine', 'room', 'embryo', 'north',\n",
       "       'environment', 'different', 'anything', 'working', 'planet',\n",
       "       'please', 'instead', 'basically', 'interesting', 'might', 'due',\n",
       "       'without', 'reason', '1', 'easy', 'reading', 'giant', 'bunch',\n",
       "       'sounds', 'die', 'dodo', 'happen', 'birth', 'almost', 'went',\n",
       "       'using', 'create', 'melting', 'day', 'give', 'creature', 'talking',\n",
       "       'says', 'african', 'single', 'seems', 'part', 'done', 'release',\n",
       "       'raptors', 'current', 'preoccupied', 'itll', 'start', 'stuff',\n",
       "       'period', 'wild', 'wouldnt', 'cause', 'interglacial', 'thousands',\n",
       "       'literally', 'true', 'currently', 'tusks', 'lets', 'apparently',\n",
       "       'oh', 'sorry', 'gonna', 'gone', 'article', 'likely', 'case',\n",
       "       'dolly', 'issues', 'genes', 'hearing', 'coming', 'weve', 'less',\n",
       "       'siberia', 'scientist', 'wonder', 'worry', 'whole', 'somehow',\n",
       "       'funding', 'breeding', 'successful', 'means', 'lol', 'goal',\n",
       "       'crispr', 'existing'], dtype=object)"
      ]
     },
     "execution_count": 24,
     "metadata": {},
     "output_type": "execute_result"
    }
   ],
   "source": [
    "# This time the list of words is more unique to the subject area\n",
    "# It also takes more words to capture 50% of the total usage\n",
    "\n",
    "counts = Counter(word for text in mammoths_df['clean_body'] for word in text if word not in stopwords)\n",
    "mammoth_counts_df = pd.DataFrame(counts.most_common(), columns = ['word','count'])\n",
    "\n",
    "mammoth_counts_df[mammoth_counts_df['count'].cumsum() < (mammoth_counts_df['count'].sum()/2)]['word'].values\n",
    " "
   ]
  },
  {
   "cell_type": "code",
   "execution_count": 25,
   "metadata": {},
   "outputs": [
    {
     "data": {
      "text/plain": [
       "array(['work', 'time', 'home', 'office', 'working', 'get', 'hours',\n",
       "       'people', 'im', 'dont', 'day', 'like', '', 'commute', 'back',\n",
       "       'wfh', 'much', 'also', 'remote', 'go', 'even', 'would', 'less',\n",
       "       'job', 'hour', 'commuting', 'done', 'want', 'getting', 'business',\n",
       "       'way', 'life', '2', 'every', 'take', 'need', 'one', 'lunch',\n",
       "       'better', 'ive', 'week', 'thats', 'article', 'going', 'still',\n",
       "       'spend', 'make', 'extra', 'days', 'really', 'us', 'actually',\n",
       "       'money', 'traffic', 'company', 'never', 'minutes', 'insider',\n",
       "       'lot', 'think', 'know', 'see', 'id', 'around', 'shit', 'big',\n",
       "       'able', 'since', 'saved', 'well', 'things', 'instead', 'drive',\n",
       "       'meetings', 'could', 'youre', '5', 'fuck', 'long', 'good', 'lol',\n",
       "       'everyone', 'workers', 'yeah', 'doesnt', 'isnt', 'bullshit',\n",
       "       'something', 'maybe', 'got', 'away', 'theres', 'many', 'boss',\n",
       "       'remotely', 'bad', 'driving', 'jobs', 'gas', 'years', 'theyre',\n",
       "       'cant', 'sure', 'car', 'walk', 'always', 'put', 'care', 'paid',\n",
       "       'saving', 'companies', 'point', 'worked', 'etc', 'free', 'nice',\n",
       "       'pay', 'morning', 'fucking', 'end', 'great', 'used', 'two', 'per',\n",
       "       'anything', 'save', 'trying', 'longer', 'stuff', 'try', 'thing',\n",
       "       'house', 'real', 'true', 'didnt', 'live', 'person', 'hate',\n",
       "       'coffee', 'productive', 'desk', 'social', 'say', 'love', 'ill',\n",
       "       'makes', 'right', 'making', '15', 'come', 'might', 'saves',\n",
       "       'exactly', 'sometimes', 'feel', 'ever', 'eat', 'means',\n",
       "       'employees', 'use', 'family', 'articles', '3', 'break', 'amount',\n",
       "       '10', 'probably', 'new', 'actual', 'enough', 'space', 'nothing',\n",
       "       'corporate', 'wake', 'bed', 'rather', 'little', 'bit', 'look',\n",
       "       'start', 'year', 'different', 'kids', 'though', 'keep', 'sleep',\n",
       "       'leave', 'ready', '8', 'spent', 'later', 'without', 'told',\n",
       "       'laundry', 'coworkers'], dtype=object)"
      ]
     },
     "execution_count": 25,
     "metadata": {},
     "output_type": "execute_result"
    }
   ],
   "source": [
    "# This time the list of words is more unique to the subject area\n",
    "# It also takes more words to capture 50% of the total usage\n",
    "\n",
    "counts = Counter(word for text in remote_df['clean_body'] for word in text if word not in stopwords)\n",
    "remote_counts_df = pd.DataFrame(counts.most_common(), columns = ['word','count'])\n",
    "\n",
    "remote_counts_df[remote_counts_df['count'].cumsum() < (remote_counts_df['count'].sum()/2)]['word'].values\n",
    "    "
   ]
  },
  {
   "cell_type": "markdown",
   "metadata": {},
   "source": [
    "You might still notice a problem here. What about words like `mammoth` and `mammoths`? Should we really be counting them separately? What about `work` and `working`?"
   ]
  },
  {
   "cell_type": "markdown",
   "metadata": {},
   "source": [
    "## Stemming and Lemmatisation\n",
    "\n",
    "The process of combining words of the same root into a single `token` is called either `stemming` or `lemmatisation`. Stemming is the more basic approach. You chop off the end of the word to get a shared set of letters which should be in common across different forms. This seems intellectually suspicious, but works pretty well, with our examples both being resolved: `mammoths` becomes `mammoth` and `working` becomes `work`. Lemmatisation is somewhat more complicated, and uses a dictionary to find root words. For mammoths, the result is the same, but for a word like `working`, you might lemmatise into `working` to avoid the ambiguity of the multiple meanings of `work`."
   ]
  },
  {
   "cell_type": "markdown",
   "metadata": {},
   "source": [
    "\n",
    "<div class=\"alert-info alert\">\n",
    "\n",
    "**Example 3.1:** Use the NLTK lemmatizer on a few example words:\n",
    "\n",
    "</div>"
   ]
  },
  {
   "cell_type": "code",
   "execution_count": 26,
   "metadata": {},
   "outputs": [
    {
     "name": "stderr",
     "output_type": "stream",
     "text": [
      "[nltk_data] Downloading package wordnet to\n",
      "[nltk_data]     C:\\Users\\Andre\\AppData\\Roaming\\nltk_data...\n",
      "[nltk_data]   Package wordnet is already up-to-date!\n",
      "[nltk_data] Downloading package omw-1.4 to\n",
      "[nltk_data]     C:\\Users\\Andre\\AppData\\Roaming\\nltk_data...\n",
      "[nltk_data]   Package omw-1.4 is already up-to-date!\n"
     ]
    }
   ],
   "source": [
    "nltk.download('wordnet')\n",
    "nltk.download('omw-1.4')\n",
    "from nltk.stem import WordNetLemmatizer \n",
    "lemmatizer = WordNetLemmatizer()"
   ]
  },
  {
   "cell_type": "code",
   "execution_count": 27,
   "metadata": {},
   "outputs": [
    {
     "data": {
      "text/plain": [
       "['mammoth',\n",
       " 'do',\n",
       " 'not',\n",
       " 'like',\n",
       " 'working',\n",
       " 'remotely',\n",
       " 'because',\n",
       " 'they',\n",
       " 'prefer',\n",
       " 'social',\n",
       " 'activity']"
      ]
     },
     "execution_count": 27,
     "metadata": {},
     "output_type": "execute_result"
    }
   ],
   "source": [
    "# print out the result of lemmatizing each word in this phase:\n",
    "# this doesn't seem perfect\n",
    "\n",
    "example_words = 'mammoths do not like working remotely because they prefer social activities'.split()\n",
    "\n",
    "[lemmatizer.lemmatize(word) for word in example_words]"
   ]
  },
  {
   "cell_type": "markdown",
   "metadata": {},
   "source": [
    "\n",
    "<div class=\"alert-info alert\">\n",
    "\n",
    "**Example 3.2:** Use the NLTK stemmer on a few example words:\n",
    "\n",
    "</div>"
   ]
  },
  {
   "cell_type": "code",
   "execution_count": 28,
   "metadata": {},
   "outputs": [],
   "source": [
    "from nltk.stem import PorterStemmer\n",
    "\n",
    "stemmer = PorterStemmer()"
   ]
  },
  {
   "cell_type": "code",
   "execution_count": 29,
   "metadata": {},
   "outputs": [
    {
     "data": {
      "text/plain": [
       "['mammoth',\n",
       " 'do',\n",
       " 'not',\n",
       " 'like',\n",
       " 'work',\n",
       " 'remot',\n",
       " 'becaus',\n",
       " 'they',\n",
       " 'prefer',\n",
       " 'social',\n",
       " 'activ']"
      ]
     },
     "execution_count": 29,
     "metadata": {},
     "output_type": "execute_result"
    }
   ],
   "source": [
    "# using the same list as before, but stemming\n",
    "\n",
    "example_words = 'mammoths do not like working remotely because they prefer social activities'\n",
    "\n",
    "[stemmer.stem(word) for word in example_words.split()]"
   ]
  },
  {
   "cell_type": "markdown",
   "metadata": {},
   "source": [
    "<div class=\"alert-info alert\">\n",
    "\n",
    "**Example 3.3:** Use the NLTK lemmatizer on the reddit posts and then retry the word counting (exclude stop words)\n",
    "\n",
    "</div>"
   ]
  },
  {
   "cell_type": "code",
   "execution_count": 30,
   "metadata": {},
   "outputs": [
    {
     "data": {
      "text/plain": [
       "array(['mammoth', 'year', 'elephant', 'like', 'back', '', 'would', 'time',\n",
       "       'dna', 'animal', 'could', 'extinct', 'think', 'im', 'human', 'one',\n",
       "       'get', 'woolly', 'even', 'dont', 'specie', 'jurassic', 'going',\n",
       "       'see', 'park', 'go', 'people', 'thing', 'bring', 'make', 'know',\n",
       "       'well', 'theyre', 'thats', 'cant', 'scientist', 'already', 'still',\n",
       "       'way', 'need', 'extinction', 'wooly', 'warming', 'change',\n",
       "       'actually', 'didnt', 'really', 'great', 'enough', 'say', 'also',\n",
       "       'colossal', 'climate', 'mean', 'probably', 'global', 'much', 'new',\n",
       "       'read', 'long', 'right', 'good', 'ice', 'remember', 'life', 'want',\n",
       "       'take', 'meat', 'point', 'stop', 'ago', 'something', 'saying',\n",
       "       'doesnt', 'ive', 'getting', 'sure', 'world', 'wrong', 'hope',\n",
       "       'idea', 'help', 'science', 'man', 'many', '5', 'clone', 'u',\n",
       "       'around', '4', 'last', 'believe', 'cloning', 'gene', 'find',\n",
       "       'arctic', 'next', 'movie', 'ecosystem', 'company', 'big', 'yeah',\n",
       "       'work', 'problem', 'guy', 'look', '2', 'wait', '10', 'eat',\n",
       "       'every', 'asian', 'keep', 'trex', 'isnt', 'use', 'process',\n",
       "       'theyve', 'bringing', 'fact', 'fuck', 'genetic', 'dinosaur',\n",
       "       'made', 'youre', 'two', 'pretty', 'lot', 'permafrost', 'age',\n",
       "       'first', 'arent', 'let', 'dodo', 'said', 'nothing', 'article',\n",
       "       'come', 'creature', 'reincarnating', 'living', 'population',\n",
       "       'habitat', 'kill', 'day', 'hard', 'frozen', 'ivory', 'put', 'real',\n",
       "       'thought', 'god', 'bad', 'environment', 'planet', 'yes', 'baby',\n",
       "       'period', 'play', 'survive', 'reason', 'end', 'since', 'ill',\n",
       "       'got', 'another', 'seen', 'away', 'shit', 'better', 'cool', 'news',\n",
       "       'theyll', 'live', 'type', 'story', 'embryo', 'deextinction',\n",
       "       'watch', 'finally', 'tree', 'fucking', 'whether', 'egg', 'maybe',\n",
       "       'id', 'wont', 'able', '3', 'ever', 'million', 'making', 'part',\n",
       "       'editing', 'heard', 'similar', 'earth', 'there', 'found', 'tusk',\n",
       "       'giant', 'sound', 'used', 'money', 'issue', 'brought', 'trying',\n",
       "       'reviving', 'anyone', 'imagine', 'room', 'give', 'north', 'zoo',\n",
       "       'different', 'anything', 'release', 'working', 'raptor', 'decade',\n",
       "       'forest', 'please', 'start', 'kid', 'instead', 'basically',\n",
       "       'interesting', 'might', 'term', 'place', 'today', 'due', 'without',\n",
       "       '1', 'easy', 'reading', 'bunch', 'die', 'happen', 'birth',\n",
       "       'almost', 'went', 'case', 'using', 'create', 'melting'],\n",
       "      dtype=object)"
      ]
     },
     "execution_count": 30,
     "metadata": {},
     "output_type": "execute_result"
    }
   ],
   "source": [
    "# This time the list of words is more unique to the subject area\n",
    "# It also takes more words to capture 50% of the total usage\n",
    "\n",
    "lemmatizer = WordNetLemmatizer()\n",
    "\n",
    "counts = Counter(lemmatizer.lemmatize(word) for text in mammoths_df['clean_body'] for word in text if word not in stopwords)\n",
    "mammoth_counts_df = pd.DataFrame(counts.most_common(), columns = ['word','count'])\n",
    "\n",
    "mammoth_counts_df[mammoth_counts_df['count'].cumsum() < (mammoth_counts_df['count'].sum()/2)]['word'].values\n",
    " "
   ]
  },
  {
   "cell_type": "code",
   "execution_count": 31,
   "metadata": {},
   "outputs": [
    {
     "data": {
      "text/plain": [
       "array(['work', 'time', 'hour', 'home', 'office', 'working', 'day', 'get',\n",
       "       'people', 'im', 'dont', 'like', 'commute', '', 'back', 'job',\n",
       "       'wfh', 'go', 'much', 'also', 'remote', 'even', 'would', 'le',\n",
       "       'commuting', 'article', 'business', 'week', 'make', 'company',\n",
       "       'want', 'done', 'life', 'take', 'way', 'need', 'getting', 'one',\n",
       "       'thing', 'lunch', '2', 'every', 'better', 'ive', 'minute', 'thats',\n",
       "       'going', 'still', 'spend', 'meeting', 'extra', 'year', 'save', 'u',\n",
       "       'really', 'actually', 'money', 'lot', 'traffic', 'think', 'never',\n",
       "       'know', 'insider', 'worker', 'see', 'id', 'around', 'shit', 'big',\n",
       "       'able', 'since', 'fuck', 'mean', 'saved', 'well', 'instead',\n",
       "       'drive', 'could', 'saving', 'youre', '5', 'long', 'good', 'lol',\n",
       "       'everyone', 'yeah', 'doesnt', 'isnt', 'bullshit', 'say',\n",
       "       'something', 'maybe', 'got', 'car', 'walk', 'away', 'there',\n",
       "       'many', 'bos', 'put', 'remotely', 'break', 'come', 'bad', 'feel',\n",
       "       'morning', 'driving', 'gas', 'kid', 'theyre', 'care', 'cant',\n",
       "       'sure', 'point', 'always', 'free', 'pay', 'paid', 'employee',\n",
       "       'end', 'cost', 'worked', 'etc', 'nice', 'space', 'fucking',\n",
       "       'house', 'great', 'used', 'two', 'min', 'per', 'try', 'anything',\n",
       "       'trying', 'desk', 'longer', 'stuff', 'real', 'true', 'look',\n",
       "       'didnt', 'live', 'person', 'hate', 'amount', 'coffee',\n",
       "       'productive', 'help', 'social', 'friend', 'love', 'ill', 'right',\n",
       "       'making', '15', 'family', 'might', 'exactly', 'start', 'sometimes',\n",
       "       'let', 'ever', 'eat', 'use', 'bit', '3', '10', 'probably'],\n",
       "      dtype=object)"
      ]
     },
     "execution_count": 31,
     "metadata": {},
     "output_type": "execute_result"
    }
   ],
   "source": [
    "# This time the list of words is more unique to the subject area\n",
    "# It also takes more words to capture 50% of the total usage\n",
    "\n",
    "lemmatizer = WordNetLemmatizer()\n",
    "\n",
    "counts = Counter(lemmatizer.lemmatize(word) for text in remote_df['clean_body'] for word in text if word not in stopwords)\n",
    "remote_counts_df = pd.DataFrame(counts.most_common(), columns = ['word','count'])\n",
    "\n",
    "remote_counts_df[remote_counts_df['count'].cumsum() < (remote_counts_df['count'].sum()/2)]['word'].values\n",
    " "
   ]
  },
  {
   "cell_type": "markdown",
   "metadata": {},
   "source": [
    "## Normalised Counts\n",
    "\n",
    "Unsurprisingly, the length of a piece of text changes how many different words can appear in it. This is a complex point, because the change is both the direct mathematical one, but also a change in the context and thus in the words the author might choose. Short texts, like on social media, use words differently than long essays. Since our texts share a similar context, we will normalise by the size of the corpus to produce comparable word frequencies between the two.\n",
    "\n",
    "You could perform this step either at the level of the corpus, or on each piece of text. We will start with the two posts as our level of aggregation."
   ]
  },
  {
   "cell_type": "markdown",
   "metadata": {},
   "source": [
    "<div class=\"alert-info alert\">\n",
    "\n",
    "**Exercise 4.1:** Use the lemmatized word counts to create normalised frequencies for each post\n",
    "\n",
    "</div>"
   ]
  },
  {
   "cell_type": "code",
   "execution_count": 32,
   "metadata": {},
   "outputs": [],
   "source": [
    "mammoth_counts_df['frequency'] = mammoth_counts_df['count']/mammoth_counts_df['count'].sum()\n",
    "remote_counts_df['frequency'] = remote_counts_df['count']/remote_counts_df['count'].sum()\n"
   ]
  },
  {
   "cell_type": "code",
   "execution_count": 33,
   "metadata": {},
   "outputs": [
    {
     "name": "stdout",
     "output_type": "stream",
     "text": [
      "Frequency of `work` in mammoths: 0.0015916526660182157\n",
      "Frequency of `work` in remote work: 0.03202410176299933\n"
     ]
    }
   ],
   "source": [
    "# now we can compare how frequently we see the word `work`\n",
    "# it is 20x more frequent in the remote work article!\n",
    "\n",
    "print(f\"Frequency of `work` in mammoths: {mammoth_counts_df[mammoth_counts_df['word'] == 'work']['frequency'].values[0]}\")\n",
    "print(f\"Frequency of `work` in remote work: {remote_counts_df[remote_counts_df['word'] == 'work']['frequency'].values[0]}\")\n"
   ]
  },
  {
   "cell_type": "markdown",
   "metadata": {},
   "source": [
    "<div class=\"alert-info alert\">\n",
    "\n",
    "**Exercise 4.2:** Make a function which returns the frequency of a word in each comment section, or zero if it does not appear.\n",
    "\n",
    "</div>"
   ]
  },
  {
   "cell_type": "code",
   "execution_count": 34,
   "metadata": {},
   "outputs": [],
   "source": [
    "# I'm setting the index of the dfs to the words to make it easier to use them for lookups\n",
    "\n",
    "mammoth_counts_df = mammoth_counts_df.set_index('word')\n",
    "remote_counts_df = remote_counts_df.set_index('word')\n",
    "\n"
   ]
  },
  {
   "cell_type": "code",
   "execution_count": 35,
   "metadata": {},
   "outputs": [],
   "source": [
    "def freq_lookup(word):\n",
    "    if word in mammoth_counts_df.index:\n",
    "        mf = mammoth_counts_df.loc[word,'frequency']\n",
    "    else: \n",
    "        mf = 0\n",
    "    if word in remote_counts_df.index:\n",
    "        rf = remote_counts_df.loc[word, 'frequency']\n",
    "    else:\n",
    "        rf = 0\n",
    "    return round(mf,5), round(rf,5)"
   ]
  },
  {
   "cell_type": "code",
   "execution_count": 36,
   "metadata": {},
   "outputs": [
    {
     "data": {
      "text/plain": [
       "(0.02538, 0)"
      ]
     },
     "execution_count": 36,
     "metadata": {},
     "output_type": "execute_result"
    }
   ],
   "source": [
    "freq_lookup('mammoth')"
   ]
  },
  {
   "cell_type": "code",
   "execution_count": 38,
   "metadata": {},
   "outputs": [
    {
     "name": "stdout",
     "output_type": "stream",
     "text": [
      "and|(0, 0)\n",
      "nothing|(0.00133, 0.00106)\n",
      "beats|(0, 0)\n",
      "working|(0.00088, 0.01216)\n",
      "in|(0, 6e-05)\n",
      "your|(0, 0)\n",
      "pjs|(0, 0.00033)\n"
     ]
    }
   ],
   "source": [
    "# Now, if we find an example post, we can guess which article it came from:\n",
    "\n",
    "# most of these words have similar frequencies in both, but `commuting` is far more frequent in remote work\n",
    "# therefore, we think this is a remote work post (of course we know it is)\n",
    "\n",
    "post = remote_df['clean_body'][100]\n",
    "\n",
    "for word in post:\n",
    "    print(word + '|' +str(freq_lookup(word)))"
   ]
  },
  {
   "cell_type": "markdown",
   "metadata": {},
   "source": [
    "## Sentiment\n",
    "\n",
    "Finally, we will do a very basic pass at sentiment analysis. As usual, you need to be careful that the tool you use is suited for the context. NLTK has a simple pre-trained sentiment analyzer which gives scores for short pieces of text like reddit comments. We will use it to demonstrate the idea. If you want to perform sentiment analysis in your summative or thesis, I would recommend looking into `Hugging Face` for a better suited pre-trained model.\n",
    "\n",
    "Because the relationship between words matters more here, we do not want to remove stopwords or stem/lemmatize."
   ]
  },
  {
   "cell_type": "code",
   "execution_count": null,
   "metadata": {},
   "outputs": [],
   "source": [
    "nltk.download('vader_lexicon')\n",
    "from nltk.sentiment import SentimentIntensityAnalyzer\n"
   ]
  },
  {
   "cell_type": "markdown",
   "metadata": {},
   "source": [
    "<div class=\"alert-info alert\">\n",
    "\n",
    "**Exercise 5.1:** Use the sentiment analyzer on the example sentence\n",
    "\n",
    "</div>"
   ]
  },
  {
   "cell_type": "code",
   "execution_count": null,
   "metadata": {},
   "outputs": [],
   "source": [
    "\n",
    "example_words = 'mammoths do not like working remotely because they prefer social activities'\n",
    "\n",
    "sia = SentimentIntensityAnalyzer()\n",
    "sia.polarity_scores(example_words)"
   ]
  },
  {
   "cell_type": "markdown",
   "metadata": {},
   "source": [
    "We see here that 82.6% of the sentence was neutral words, but 17.4% of the words were negative in mood. The model does a custom combination to conclude that this is a moderately negative sentence. (Seems right to me)"
   ]
  },
  {
   "cell_type": "markdown",
   "metadata": {},
   "source": [
    "<div class=\"alert-info alert\">\n",
    "\n",
    "**Exercise 5.2:** Use the sentiment analyzer on the raw body text in the databases to add a new `sentiment` column\n",
    "\n",
    "</div>"
   ]
  },
  {
   "cell_type": "code",
   "execution_count": null,
   "metadata": {},
   "outputs": [],
   "source": [
    "mammoths_df['sentiment'] = mammoths_df['body'].apply(lambda x: sia.polarity_scores(x)['compound'])\n",
    "remote_df['sentiment'] = remote_df['body'].apply(lambda x: sia.polarity_scores(x)['compound'])"
   ]
  },
  {
   "cell_type": "markdown",
   "metadata": {},
   "source": [
    "<div class=\"alert-info alert\">\n",
    "\n",
    "**Exercise 5.3:** Find a positive and negative comment from each post and see how well the analyzer worked \n",
    "\n",
    "</div>"
   ]
  },
  {
   "cell_type": "code",
   "execution_count": null,
   "metadata": {},
   "outputs": [],
   "source": [
    "# This is the most negative mammoths post - it does seem very negative\n",
    "mammoths_df[mammoths_df['sentiment'] == mammoths_df['sentiment'].min()]['body'].values[0]"
   ]
  },
  {
   "cell_type": "code",
   "execution_count": null,
   "metadata": {},
   "outputs": [],
   "source": [
    "# This is the most positive mammoths post - it has a large quote from the news article which may be misleading\n",
    "mammoths_df[mammoths_df['sentiment'] == mammoths_df['sentiment'].max()]['body'].values[0]"
   ]
  },
  {
   "cell_type": "code",
   "execution_count": null,
   "metadata": {},
   "outputs": [],
   "source": [
    "# This is the most negative remote work post\n",
    "remote_df[remote_df['sentiment'] == remote_df['sentiment'].min()]['body'].values[0]"
   ]
  },
  {
   "cell_type": "code",
   "execution_count": null,
   "metadata": {},
   "outputs": [],
   "source": [
    "# This is the most positive remote work post\n",
    "remote_df[remote_df['sentiment'] == remote_df['sentiment'].max()]['body'].values[0]"
   ]
  },
  {
   "cell_type": "code",
   "execution_count": null,
   "metadata": {},
   "outputs": [],
   "source": [
    "# Taking a look at the distribution, the mammoth comments have plenty of positive and negative\n",
    "mammoths_df[mammoths_df['sentiment']!=0]['sentiment'].hist(density=True)\n",
    "plt.plot()"
   ]
  },
  {
   "cell_type": "code",
   "execution_count": null,
   "metadata": {},
   "outputs": [],
   "source": [
    "# the remote work comments have a more positive skew \n",
    "\n",
    "remote_df[remote_df['sentiment']!=0]['sentiment'].hist(density=True)\n",
    "plt.plot()"
   ]
  },
  {
   "cell_type": "markdown",
   "metadata": {},
   "source": [
    "## Save your work\n",
    "\n",
    "We'll use this data again next week for visualizations. Save each of the following dfs to a file:\n",
    "\n",
    "- mammoth_counts_df\n",
    "- remote_counts_df\n",
    "- mammoths_df\n",
    "- remote_df"
   ]
  },
  {
   "cell_type": "code",
   "execution_count": null,
   "metadata": {},
   "outputs": [],
   "source": [
    "mammoth_counts_df.to_csv('mammoths_counts.csv')\n",
    "remote_counts_df.to_csv('remote_counts.csv')\n",
    "mammoths_df.to_csv('mammoths.csv',index=False)\n",
    "remote_df.to_csv('remote_work.csv',index=False)"
   ]
  },
  {
   "cell_type": "markdown",
   "metadata": {
    "tags": []
   },
   "source": [
    "## Homework: Naive Bayes Classifier (Optional)\n",
    "\n",
    "A Naive Bayes classifier is a basic NLP technique which lets you classify a text based on previously established categories. It assumes that each word in a text is drawn at random from a bag of possible words, where the bag is different depending on the category. (Like what we did above, where `commuting` is more common in the remote work category.) \n",
    "\n",
    "Using these probabilities, the total probability of the text belonging to each category is just the combined probabilities of each word appearing if the text was from that category, so we multiply the probabilities together."
   ]
  },
  {
   "cell_type": "code",
   "execution_count": null,
   "metadata": {},
   "outputs": [],
   "source": [
    "def freq_ratio(word):\n",
    "    smoothing_prb = 1/(1/mammoth_counts_df['frequency'].min() + 1/remote_counts_df['frequency'].min())\n",
    "    if word in mammoth_counts_df.index:\n",
    "        mf = mammoth_counts_df.loc[word,'frequency']\n",
    "    else: \n",
    "        mf = smoothing_prb\n",
    "    if word in remote_counts_df.index:\n",
    "        rf = remote_counts_df.loc[word, 'frequency']\n",
    "    else:\n",
    "        rf = smoothing_prb\n",
    "    return mf/rf"
   ]
  },
  {
   "cell_type": "code",
   "execution_count": null,
   "metadata": {},
   "outputs": [],
   "source": [
    "def naive_bayes(text):\n",
    "    freqs = 1\n",
    "    for word in text:\n",
    "        freqs = freqs * freq_ratio(word) \n",
    "    return freqs/(1+freqs)\n",
    "    "
   ]
  },
  {
   "cell_type": "code",
   "execution_count": null,
   "metadata": {},
   "outputs": [],
   "source": [
    "pred = naive_bayes(mammoths_df['clean_body'].iloc[0])\n",
    "print(f'Prob of mammoths: {pred}') "
   ]
  },
  {
   "cell_type": "code",
   "execution_count": null,
   "metadata": {},
   "outputs": [],
   "source": [
    "pred1 = mammoths_df['clean_body'].apply(naive_bayes)\n",
    "pred2 = remote_df['clean_body'].apply(naive_bayes)"
   ]
  },
  {
   "cell_type": "markdown",
   "metadata": {},
   "source": [
    "Overall, our classifier is pretty good! It was only wrong on 78 out of the ~1800 comments. However, there are a lot of things you would need to be more careful about in a real classification task. Most notably, we are testing the final accuracy on the training data!"
   ]
  },
  {
   "cell_type": "code",
   "execution_count": null,
   "metadata": {},
   "outputs": [],
   "source": [
    "print(f\"Correctly predicted mammoth: {len(pred1[pred1>.5])}\")\n",
    "print(f\"Incorrectly predicted remote work: {len(pred1[pred1<=.5])}\")\n",
    "print(f\"Incorrectly predicted mammoth: {len(pred2[pred2>.5])}\")\n",
    "print(f\"Corrently predicted remote work: {len(pred2[pred2<=.5])}\")"
   ]
  }
 ],
 "metadata": {
  "deepnote": {
   "is_reactive": false
  },
  "deepnote_app_layout": "article",
  "deepnote_execution_queue": [],
  "deepnote_notebook_id": "e14e0833-7f70-4764-8920-14303e12f9cc",
  "kernelspec": {
   "display_name": "Python 3 (ipykernel)",
   "language": "python",
   "name": "python3"
  },
  "language_info": {
   "codemirror_mode": {
    "name": "ipython",
    "version": 3
   },
   "file_extension": ".py",
   "mimetype": "text/x-python",
   "name": "python",
   "nbconvert_exporter": "python",
   "pygments_lexer": "ipython3",
   "version": "3.9.12"
  }
 },
 "nbformat": 4,
 "nbformat_minor": 4
}
