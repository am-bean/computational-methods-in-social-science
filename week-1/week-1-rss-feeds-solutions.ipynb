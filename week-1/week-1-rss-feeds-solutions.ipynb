{
 "cells": [
  {
   "cell_type": "markdown",
   "metadata": {
    "cell_id": "93fa9e32-7d6b-4beb-9182-ce0c96489aae",
    "deepnote_app_coordinates": {
     "h": 5,
     "w": 12,
     "x": 0,
     "y": null
    },
    "deepnote_cell_height": 82,
    "deepnote_cell_type": "markdown",
    "tags": []
   },
   "source": [
    "# Week 1: Parsing RSS feeds"
   ]
  },
  {
   "cell_type": "code",
   "execution_count": 1,
   "metadata": {
    "cell_id": "00001-606393cb-3302-4755-8f96-ec3c7d8022df",
    "deepnote_app_coordinates": {
     "h": 5,
     "w": 12,
     "x": 0,
     "y": 6
    },
    "deepnote_cell_height": 117,
    "deepnote_cell_type": "code",
    "deepnote_to_be_reexecuted": false,
    "execution_millis": 13084,
    "execution_start": 1647003815091,
    "source_hash": "3af68841"
   },
   "outputs": [],
   "source": [
    "%%capture\n",
    "!pip install --upgrade feedparser\n",
    "!pip install --upgrade pandas"
   ]
  },
  {
   "cell_type": "code",
   "execution_count": 2,
   "metadata": {
    "cell_id": "00002-ac99e98a-f17f-4bbe-a168-b7d19d11dde2",
    "deepnote_app_coordinates": {
     "h": 5,
     "w": 12,
     "x": 0,
     "y": 12
    },
    "deepnote_cell_height": 99,
    "deepnote_cell_type": "code",
    "deepnote_to_be_reexecuted": false,
    "execution_millis": 3197,
    "execution_start": 1647003828184,
    "source_hash": "5f5b508c"
   },
   "outputs": [],
   "source": [
    "import seaborn as sns\n",
    "sns.set()"
   ]
  },
  {
   "cell_type": "code",
   "execution_count": 3,
   "metadata": {
    "cell_id": "00003-e348b129-1f03-49b5-9d4c-94ee3cf0eb46",
    "deepnote_app_coordinates": {
     "h": 5,
     "w": 12,
     "x": 0,
     "y": 18
    },
    "deepnote_cell_height": 99,
    "deepnote_cell_type": "code",
    "deepnote_to_be_reexecuted": false,
    "execution_millis": 11,
    "execution_start": 1647003831387,
    "source_hash": "fe2706b7"
   },
   "outputs": [],
   "source": [
    "import pprint\n",
    "import pandas as pd"
   ]
  },
  {
   "cell_type": "markdown",
   "metadata": {
    "cell_id": "00004-55d2d282-9a18-4648-8453-65876563781d",
    "deepnote_app_coordinates": {
     "h": 5,
     "w": 12,
     "x": 0,
     "y": 24
    },
    "deepnote_cell_height": 475.578125,
    "deepnote_cell_type": "markdown"
   },
   "source": [
    "## Introduction to parsing RSS feeds\n",
    "\n",
    "RSS, an acronym for Really Simple Syndication, is a text format for web content syndication. RSS is a standardised format, a dialect of XML, that allows humans and machines to track the content of a website (from articles, news, blogs, to forums) and see what has been changed or updated.\n",
    "\n",
    "Most blogs and many websites have RSS feeds. For instance, http://feeds.bbci.co.uk/news/rss.xml?edition=uk points to the RSS feed of the BBC. If you click on the previous link, your browser will render a human-readable view of that RSS feed. If you look at the source (_Right click_ then _View Page Source_ of Firefox), you can see what the original RSS syntax look like.\n",
    "\n",
    "Here are a few more examples of RSS feeds from newspapers:\n",
    "- https://www.voanews.com/api/zqgpqoekmmqo\n",
    "- https://moxie.foxnews.com/feedburner/latest.xml\n",
    "- http://rss.cnn.com/rss/cnn_topstories.rss\n",
    "\n",
    "Additionally, head to Wired to hear more about the history and politics of RSS feeds: https://www.wired.com/story/rss-readers-feedly-inoreader-old-reader/\n",
    "\n",
    "If you are keen on plugging in to RSS feeds using your browsers, here is a nice tutorial:  https://www.leeds.anglican.org/content/easy-guide-how-do-i-subscribe-rss-feed\n"
   ]
  },
  {
   "cell_type": "markdown",
   "metadata": {
    "cell_id": "00005-d53e5e81-a4ea-4542-b89e-eb394ff2b717",
    "deepnote_app_coordinates": {
     "h": 5,
     "w": 12,
     "x": 0,
     "y": 30
    },
    "deepnote_cell_height": 130.796875,
    "deepnote_cell_type": "markdown",
    "tags": []
   },
   "source": [
    "## Parsing RSS feeds in Python\n",
    "\n",
    "Below, you can find a simple toy example of an RSS feed, using the traditional XML markup syntax with its nested tags (begins with < and ends with >).\n",
    "\n"
   ]
  },
  {
   "cell_type": "code",
   "execution_count": 4,
   "metadata": {
    "cell_id": "00006-7201c821-4e4d-4ed5-ad1d-8d602e295471",
    "deepnote_app_coordinates": {
     "h": 5,
     "w": 12,
     "x": 0,
     "y": 36
    },
    "deepnote_cell_height": 423,
    "deepnote_cell_type": "code",
    "deepnote_to_be_reexecuted": false,
    "execution_millis": 5,
    "execution_start": 1647003831408,
    "source_hash": "1dd4b3ac"
   },
   "outputs": [],
   "source": [
    "example_rss = \"\"\"<?xml version=\"1.0\" encoding=\"UTF-8\" ?>\n",
    "<rss version=\"2.0\">\n",
    "\n",
    "<channel>\n",
    "  <title>W3Schools Home Page</title>\n",
    "  <link>https://www.w3schools.com</link>\n",
    "  <description>Free web building tutorials</description>\n",
    "  <item>\n",
    "    <title>RSS Tutorial</title>\n",
    "    <link>https://www.w3schools.com/xml/xml_rss.asp</link>\n",
    "    <description>New RSS tutorial on W3Schools</description>\n",
    "  </item>\n",
    "  <item>\n",
    "    <title>XML Tutorial</title>\n",
    "    <link>https://www.w3schools.com/xml</link>\n",
    "    <description>New XML tutorial on W3Schools</description>\n",
    "  </item>\n",
    "</channel>\n",
    "\n",
    "</rss>\"\"\""
   ]
  },
  {
   "cell_type": "markdown",
   "metadata": {
    "cell_id": "00007-1a7ba36e-b213-4ebb-b910-86773c655a1b",
    "deepnote_app_coordinates": {
     "h": 5,
     "w": 12,
     "x": 0,
     "y": 42
    },
    "deepnote_cell_height": 178.390625,
    "deepnote_cell_type": "markdown",
    "tags": []
   },
   "source": [
    "Instead of manually parsing this feed in Python, we will use a library (Universal Feed Parser), that automatically converts a string encoding an RSS feed into a dictionary.\n",
    "\n",
    "Universal Feed Parser parses many types of syndication feeds found online (RSS 0.90, Netscape RSS 0.91, Userland RSS 0.91, RSS 0.92, RSS 0.93, RSS 0.94, RSS 1.0, RSS 2.0, Atom 0.3, Atom 1.0, CDF feeds…). It is extremely simple to use. The module has one primary public function, `parse`. `parse` takes one required argument, either a URL, a local filename, or a string containing feed data in any format."
   ]
  },
  {
   "cell_type": "code",
   "execution_count": 5,
   "metadata": {
    "cell_id": "00008-2cd88f96-700c-4a98-ad54-9df8789db003",
    "deepnote_app_coordinates": {
     "h": 5,
     "w": 12,
     "x": 0,
     "y": 48
    },
    "deepnote_cell_height": 81,
    "deepnote_cell_type": "code",
    "deepnote_to_be_reexecuted": false,
    "execution_millis": 47,
    "execution_start": 1647003831416,
    "source_hash": "4183eb0e",
    "tags": []
   },
   "outputs": [],
   "source": [
    "import feedparser"
   ]
  },
  {
   "cell_type": "markdown",
   "metadata": {
    "cell_id": "00009-5f0f43d4-f3f8-4069-8660-b8a22a771758",
    "deepnote_app_coordinates": {
     "h": 5,
     "w": 12,
     "x": 0,
     "y": 54
    },
    "deepnote_cell_height": 97.1875,
    "deepnote_cell_type": "markdown",
    "deepnote_to_be_reexecuted": false,
    "execution_millis": 20,
    "execution_start": 1643577373571,
    "source_hash": "c5e56340",
    "tags": []
   },
   "source": [
    "Below, we parse the feed encoded in the string `example_rss` into a dictionary named `parsed_rss`. We then print it using `pprint.pprint` instead of the usual `print`. `pprint` is a standard Python module that let you “pretty-print” objects in a nicer form."
   ]
  },
  {
   "cell_type": "code",
   "execution_count": 6,
   "metadata": {
    "cell_id": "00010-df9e1140-1f1e-409d-a9c5-f2f993bcbcdf",
    "deepnote_app_coordinates": {
     "h": 5,
     "w": 12,
     "x": 0,
     "y": 60
    },
    "deepnote_cell_height": 719,
    "deepnote_cell_type": "code",
    "deepnote_to_be_reexecuted": false,
    "execution_millis": 286,
    "execution_start": 1647003831472,
    "source_hash": "1a920f86"
   },
   "outputs": [
    {
     "name": "stdout",
     "output_type": "stream",
     "text": [
      "{'bozo': False,\n",
      " 'encoding': 'utf-8',\n",
      " 'entries': [{'link': 'https://www.w3schools.com/xml/xml_rss.asp',\n",
      "              'links': [{'href': 'https://www.w3schools.com/xml/xml_rss.asp',\n",
      "                         'rel': 'alternate',\n",
      "                         'type': 'text/html'}],\n",
      "              'summary': 'New RSS tutorial on W3Schools',\n",
      "              'summary_detail': {'base': '',\n",
      "                                 'language': None,\n",
      "                                 'type': 'text/html',\n",
      "                                 'value': 'New RSS tutorial on W3Schools'},\n",
      "              'title': 'RSS Tutorial',\n",
      "              'title_detail': {'base': '',\n",
      "                               'language': None,\n",
      "                               'type': 'text/plain',\n",
      "                               'value': 'RSS Tutorial'}},\n",
      "             {'link': 'https://www.w3schools.com/xml',\n",
      "              'links': [{'href': 'https://www.w3schools.com/xml',\n",
      "                         'rel': 'alternate',\n",
      "                         'type': 'text/html'}],\n",
      "              'summary': 'New XML tutorial on W3Schools',\n",
      "              'summary_detail': {'base': '',\n",
      "                                 'language': None,\n",
      "                                 'type': 'text/html',\n",
      "                                 'value': 'New XML tutorial on W3Schools'},\n",
      "              'title': 'XML Tutorial',\n",
      "              'title_detail': {'base': '',\n",
      "                               'language': None,\n",
      "                               'type': 'text/plain',\n",
      "                               'value': 'XML Tutorial'}}],\n",
      " 'feed': {'link': 'https://www.w3schools.com',\n",
      "          'links': [{'href': 'https://www.w3schools.com',\n",
      "                     'rel': 'alternate',\n",
      "                     'type': 'text/html'}],\n",
      "          'subtitle': 'Free web building tutorials',\n",
      "          'subtitle_detail': {'base': '',\n",
      "                              'language': None,\n",
      "                              'type': 'text/html',\n",
      "                              'value': 'Free web building tutorials'},\n",
      "          'title': 'W3Schools Home Page',\n",
      "          'title_detail': {'base': '',\n",
      "                           'language': None,\n",
      "                           'type': 'text/plain',\n",
      "                           'value': 'W3Schools Home Page'}},\n",
      " 'headers': {},\n",
      " 'namespaces': {},\n",
      " 'version': 'rss20'}\n"
     ]
    }
   ],
   "source": [
    "parsed_rss = feedparser.parse(example_rss)\n",
    "pprint.pprint(parsed_rss)"
   ]
  },
  {
   "cell_type": "markdown",
   "metadata": {
    "cell_id": "00011-7d2bfba5-1d10-4a07-a3a3-8e25aa8ef61c",
    "deepnote_app_coordinates": {
     "h": 5,
     "w": 12,
     "x": 0,
     "y": 66
    },
    "deepnote_cell_height": 212.390625,
    "deepnote_cell_type": "markdown",
    "tags": []
   },
   "source": [
    "You can read more about the processing and sanitisation performed by Universal Feed parser on the module documentation at https://feedparser.readthedocs.io/en/latest/.\n",
    "\n",
    "Briefly, the `feedparser.parse` function returns a dictionary with:\n",
    "1. a few metadata related to the parsing (bozo, encoding, version…),\n",
    "2. information about the feed itself (link, title, subtitle),\n",
    "3. and a list of all the entries."
   ]
  },
  {
   "cell_type": "code",
   "execution_count": 7,
   "metadata": {
    "cell_id": "00012-395263a0-ec4c-45df-887f-7bb49d7f0e04",
    "deepnote_app_coordinates": {
     "h": 5,
     "w": 12,
     "x": 0,
     "y": 72
    },
    "deepnote_cell_height": 136.1875,
    "deepnote_cell_type": "code",
    "deepnote_output_heights": [
     21.1875
    ],
    "deepnote_to_be_reexecuted": false,
    "execution_millis": 222,
    "execution_start": 1647003831543,
    "source_hash": "6f5d4153"
   },
   "outputs": [
    {
     "data": {
      "text/plain": [
       "('W3Schools Home Page', 'https://www.w3schools.com')"
      ]
     },
     "execution_count": 7,
     "metadata": {},
     "output_type": "execute_result"
    }
   ],
   "source": [
    "# General informations about the channel:\n",
    "parsed_rss['feed']['title'], parsed_rss['feed']['link']"
   ]
  },
  {
   "cell_type": "code",
   "execution_count": 8,
   "metadata": {
    "cell_id": "00013-7205fc47-5cf2-461d-99d8-4d19e31e43a0",
    "deepnote_app_coordinates": {
     "h": 5,
     "w": 12,
     "x": 0,
     "y": 78
    },
    "deepnote_cell_height": 129.6875,
    "deepnote_cell_type": "code",
    "deepnote_to_be_reexecuted": false,
    "execution_millis": 181,
    "execution_start": 1647003831586,
    "source_hash": "93161094"
   },
   "outputs": [
    {
     "name": "stdout",
     "output_type": "stream",
     "text": [
      "The RSS feed has 2 entries\n"
     ]
    }
   ],
   "source": [
    "nb_articles = len(parsed_rss['entries'])\n",
    "print(f\"The RSS feed has {nb_articles} entries\")"
   ]
  },
  {
   "cell_type": "code",
   "execution_count": 9,
   "metadata": {
    "cell_id": "00014-d71ea2f9-e923-406b-b61f-4572d943c024",
    "deepnote_app_coordinates": {
     "h": 5,
     "w": 12,
     "x": 0,
     "y": 84
    },
    "deepnote_cell_height": 203.390625,
    "deepnote_cell_type": "code",
    "deepnote_to_be_reexecuted": false,
    "execution_millis": 0,
    "execution_start": 1647003831587,
    "source_hash": "d2c32d93"
   },
   "outputs": [
    {
     "name": "stdout",
     "output_type": "stream",
     "text": [
      "RSS Tutorial -- https://www.w3schools.com/xml/xml_rss.asp\n",
      "XML Tutorial -- https://www.w3schools.com/xml\n"
     ]
    }
   ],
   "source": [
    "# Printing out the title and link of each entry:\n",
    "for entry in parsed_rss['entries']:\n",
    "    title = entry['title']\n",
    "    link = entry['link']\n",
    "    print(f\"{title} -- {link}\")"
   ]
  },
  {
   "cell_type": "markdown",
   "metadata": {
    "cell_id": "00015-17d37b4b-147c-4974-a7ba-ea67b5d524c5",
    "deepnote_app_coordinates": {
     "h": 5,
     "w": 12,
     "x": 0,
     "y": 90
    },
    "deepnote_cell_height": 218.796875,
    "deepnote_cell_type": "markdown"
   },
   "source": [
    "## Exercise 1: loading and parsing a remote feed\n",
    "\n",
    "<div class=\"alert alert-info\">\n",
    "\n",
    "##### Exercise 1.1\n",
    "Go to https://www.bbc.co.uk/news/10628494 and find the URL of the main news RSS feed.\n",
    "Copy it below and load the RSS feed using feedparser.\n",
    "</div>"
   ]
  },
  {
   "cell_type": "code",
   "execution_count": 10,
   "metadata": {
    "cell_id": "00016-c3983d96-bf5d-4734-a5de-a8df2eff684d",
    "deepnote_app_coordinates": {
     "h": 5,
     "w": 12,
     "x": 0,
     "y": 96
    },
    "deepnote_cell_height": 81,
    "deepnote_cell_type": "code",
    "deepnote_to_be_reexecuted": false,
    "execution_millis": 180,
    "execution_start": 1647003831588,
    "source_hash": "b5b6466c"
   },
   "outputs": [],
   "source": [
    "d = feedparser.parse('feed://feeds.bbci.co.uk/news/rss.xml')"
   ]
  },
  {
   "cell_type": "markdown",
   "metadata": {
    "cell_id": "00017-2604b5cd-99a8-4859-b8a3-e7d079b2d461",
    "deepnote_app_coordinates": {
     "h": 5,
     "w": 12,
     "x": 0,
     "y": 102
    },
    "deepnote_cell_height": 140.390625,
    "deepnote_cell_type": "markdown",
    "tags": []
   },
   "source": [
    "<div class=\"alert alert-info\">\n",
    "\n",
    "##### Exercise 1.2\n",
    "\n",
    "Print the number of entries in the feed and print the titles of the first five entries\n",
    "\n",
    "</div>"
   ]
  },
  {
   "cell_type": "code",
   "execution_count": 11,
   "metadata": {
    "cell_id": "00018-1d1f5a8f-aa21-4ed1-b27c-9134fdd76a3a",
    "deepnote_app_coordinates": {
     "h": 5,
     "w": 12,
     "x": 0,
     "y": 108
    },
    "deepnote_cell_height": 301.859375,
    "deepnote_cell_type": "code",
    "deepnote_to_be_reexecuted": false,
    "execution_millis": 1210396925,
    "execution_start": 1647003831698,
    "source_hash": "37d354e1"
   },
   "outputs": [
    {
     "name": "stdout",
     "output_type": "stream",
     "text": [
      "The feed has 54 entries\n",
      "\n",
      "UK space launch: Historic Cornwall rocket launch ends in failure\n",
      "Prince Harry's book officially hits shops after days of leaks\n",
      "Anti-strikes bill to be introduced to Parliament\n",
      "Two British men missing in Ukraine, say officials\n",
      "Scotland's primary schools shut as teachers strike\n"
     ]
    }
   ],
   "source": [
    "# Solution:\n",
    "print(f\"The feed has {len(d['entries'])} entries\\n\")\n",
    "\n",
    "for entry in d['entries'][:5]:\n",
    "    print(entry['title'])"
   ]
  },
  {
   "cell_type": "markdown",
   "metadata": {
    "cell_id": "00019-035b73d2-025d-4811-ae6f-8e1ddf46b999",
    "deepnote_app_coordinates": {
     "h": 5,
     "w": 12,
     "x": 0,
     "y": 114
    },
    "deepnote_cell_height": 283.59375,
    "deepnote_cell_type": "markdown"
   },
   "source": [
    "## Exercise 2: Storing RSS Feeds for later use\n",
    "\n",
    "\n",
    "<div class=\"alert alert-info\">\n",
    "\n",
    "##### Exercise 2.1\n",
    "\n",
    "First, we are going to convert the entries dictionary into a [pandas DataFrame](https://pandas.pydata.org/pandas-docs/stable/user_guide/dsintro.html#dataframe).\n",
    "\n",
    "<ul>\n",
    "<li>Keep only the four following columns: `title`, `summary`, `link`, `published`.</li>\n",
    "<li>Convert `published` to the standard `datetime` object interpretable by Python. </li>\n",
    "<li>Check the first few entries in the resulting dataframe</li>\n",
    "</ul>\n",
    "\n",
    "</div>"
   ]
  },
  {
   "cell_type": "code",
   "execution_count": 12,
   "metadata": {
    "cell_id": "00020-3d8f8427-5922-4624-8952-a9eff8be56dd",
    "deepnote_app_coordinates": {
     "h": 5,
     "w": 12,
     "x": 0,
     "y": 120
    },
    "deepnote_cell_height": 99,
    "deepnote_cell_type": "code",
    "deepnote_to_be_reexecuted": false,
    "execution_millis": 70,
    "execution_start": 1647003831699,
    "source_hash": "cf2047e3"
   },
   "outputs": [],
   "source": [
    "# Solution:\n",
    "df = pd.DataFrame(d.entries, columns=['title', 'summary', 'link', 'published'])"
   ]
  },
  {
   "cell_type": "code",
   "execution_count": 13,
   "metadata": {
    "cell_id": "00021-fc01b92b-ee94-4212-a380-62d709abd218",
    "deepnote_app_coordinates": {
     "h": 5,
     "w": 12,
     "x": 0,
     "y": 126
    },
    "deepnote_cell_height": 99,
    "deepnote_cell_type": "code",
    "deepnote_to_be_reexecuted": false,
    "execution_millis": 0,
    "execution_start": 1647003831700,
    "source_hash": "d964a994"
   },
   "outputs": [],
   "source": [
    "# Convert the published column to a standard datetime object:\n",
    "df.published = pd.to_datetime(df.published)"
   ]
  },
  {
   "cell_type": "code",
   "execution_count": 14,
   "metadata": {
    "cell_id": "00022-a3342bb1-78e1-4391-a238-66f09e0dc3e7",
    "deepnote_cell_height": 634,
    "deepnote_cell_type": "code",
    "deepnote_to_be_reexecuted": false,
    "execution_millis": 121,
    "execution_start": 1647004052004,
    "source_hash": "9d9bfc8f",
    "tags": []
   },
   "outputs": [
    {
     "data": {
      "text/html": [
       "<div>\n",
       "<style scoped>\n",
       "    .dataframe tbody tr th:only-of-type {\n",
       "        vertical-align: middle;\n",
       "    }\n",
       "\n",
       "    .dataframe tbody tr th {\n",
       "        vertical-align: top;\n",
       "    }\n",
       "\n",
       "    .dataframe thead th {\n",
       "        text-align: right;\n",
       "    }\n",
       "</style>\n",
       "<table border=\"1\" class=\"dataframe\">\n",
       "  <thead>\n",
       "    <tr style=\"text-align: right;\">\n",
       "      <th></th>\n",
       "      <th>title</th>\n",
       "      <th>summary</th>\n",
       "      <th>link</th>\n",
       "      <th>published</th>\n",
       "    </tr>\n",
       "  </thead>\n",
       "  <tbody>\n",
       "    <tr>\n",
       "      <th>0</th>\n",
       "      <td>UK space launch: Historic Cornwall rocket laun...</td>\n",
       "      <td>The first ever satellite mission launched from...</td>\n",
       "      <td>https://www.bbc.co.uk/news/science-environment...</td>\n",
       "      <td>2023-01-10 08:12:10+00:00</td>\n",
       "    </tr>\n",
       "    <tr>\n",
       "      <th>1</th>\n",
       "      <td>Prince Harry's book officially hits shops afte...</td>\n",
       "      <td>Fans queue to buy a hardback copy of the duke'...</td>\n",
       "      <td>https://www.bbc.co.uk/news/uk-64213852?at_medi...</td>\n",
       "      <td>2023-01-10 08:25:55+00:00</td>\n",
       "    </tr>\n",
       "    <tr>\n",
       "      <th>2</th>\n",
       "      <td>Anti-strikes bill to be introduced to Parliament</td>\n",
       "      <td>Under the proposals, some trade union members ...</td>\n",
       "      <td>https://www.bbc.co.uk/news/uk-64219016?at_medi...</td>\n",
       "      <td>2023-01-10 08:06:55+00:00</td>\n",
       "    </tr>\n",
       "    <tr>\n",
       "      <th>3</th>\n",
       "      <td>Two British men missing in Ukraine, say officials</td>\n",
       "      <td>A search is under way for British nationals An...</td>\n",
       "      <td>https://www.bbc.co.uk/news/uk-64214977?at_medi...</td>\n",
       "      <td>2023-01-10 06:42:51+00:00</td>\n",
       "    </tr>\n",
       "    <tr>\n",
       "      <th>4</th>\n",
       "      <td>Scotland's primary schools shut as teachers st...</td>\n",
       "      <td>The action by primary teachers will be followe...</td>\n",
       "      <td>https://www.bbc.co.uk/news/uk-scotland-6420997...</td>\n",
       "      <td>2023-01-10 06:21:47+00:00</td>\n",
       "    </tr>\n",
       "    <tr>\n",
       "      <th>5</th>\n",
       "      <td>Brazil Congress: Big pro-democracy rallies hel...</td>\n",
       "      <td>They come after supporters of ex-President Jai...</td>\n",
       "      <td>https://www.bbc.co.uk/news/world-latin-america...</td>\n",
       "      <td>2023-01-10 08:27:41+00:00</td>\n",
       "    </tr>\n",
       "    <tr>\n",
       "      <th>6</th>\n",
       "      <td>Potentially classified files found at Biden pr...</td>\n",
       "      <td>The FBI is reportedly involved in the inquiry ...</td>\n",
       "      <td>https://www.bbc.co.uk/news/world-us-canada-642...</td>\n",
       "      <td>2023-01-10 04:09:11+00:00</td>\n",
       "    </tr>\n",
       "    <tr>\n",
       "      <th>7</th>\n",
       "      <td>Hong Kong: Jimmy Lai's UK lawyers call for mee...</td>\n",
       "      <td>In a letter they say the Hong Kong media tycoo...</td>\n",
       "      <td>https://www.bbc.co.uk/news/world-asia-china-64...</td>\n",
       "      <td>2023-01-10 00:00:06+00:00</td>\n",
       "    </tr>\n",
       "    <tr>\n",
       "      <th>8</th>\n",
       "      <td>Diabetes artificial pancreas tech recommended ...</td>\n",
       "      <td>It can improve life for thousands with type 1 ...</td>\n",
       "      <td>https://www.bbc.co.uk/news/health-64211479?at_...</td>\n",
       "      <td>2023-01-10 03:05:53+00:00</td>\n",
       "    </tr>\n",
       "    <tr>\n",
       "      <th>9</th>\n",
       "      <td>Peru protests: Many dead in new clashes</td>\n",
       "      <td>At least 17 people are killed as anti-governme...</td>\n",
       "      <td>https://www.bbc.co.uk/news/world-latin-america...</td>\n",
       "      <td>2023-01-10 05:05:51+00:00</td>\n",
       "    </tr>\n",
       "    <tr>\n",
       "      <th>10</th>\n",
       "      <td>Proud Boys face conspiracy trial for Capitol riot</td>\n",
       "      <td>The case includes some of the most serious cha...</td>\n",
       "      <td>https://www.bbc.co.uk/news/world-us-canada-642...</td>\n",
       "      <td>2023-01-10 06:28:32+00:00</td>\n",
       "    </tr>\n",
       "    <tr>\n",
       "      <th>11</th>\n",
       "      <td>California residents told to flee deadly downpour</td>\n",
       "      <td>Around 90% of Californians - some 34 million p...</td>\n",
       "      <td>https://www.bbc.co.uk/news/world-us-canada-642...</td>\n",
       "      <td>2023-01-10 06:24:47+00:00</td>\n",
       "    </tr>\n",
       "    <tr>\n",
       "      <th>12</th>\n",
       "      <td>Repairing broken gadgets for a greener future</td>\n",
       "      <td>A group of volunteers in Camden, London, want ...</td>\n",
       "      <td>https://www.bbc.co.uk/news/in-pictures-6373795...</td>\n",
       "      <td>2023-01-10 02:48:19+00:00</td>\n",
       "    </tr>\n",
       "    <tr>\n",
       "      <th>13</th>\n",
       "      <td>Can batch cooking help cut your shopping bills?</td>\n",
       "      <td>Suzanne Mulholland's time saving tips have gat...</td>\n",
       "      <td>https://www.bbc.co.uk/news/uk-scotland-south-s...</td>\n",
       "      <td>2023-01-08 09:23:25+00:00</td>\n",
       "    </tr>\n",
       "    <tr>\n",
       "      <th>14</th>\n",
       "      <td>The Suffolk manor house where 60 people live t...</td>\n",
       "      <td>Members of a farming community who live in an ...</td>\n",
       "      <td>https://www.bbc.co.uk/news/uk-england-suffolk-...</td>\n",
       "      <td>2023-01-09 06:20:23+00:00</td>\n",
       "    </tr>\n",
       "    <tr>\n",
       "      <th>15</th>\n",
       "      <td>Mortgage rate pain: 'Our home buying plans wer...</td>\n",
       "      <td>Higher rates mean that some people are putting...</td>\n",
       "      <td>https://www.bbc.co.uk/news/business-64179502?a...</td>\n",
       "      <td>2023-01-06 22:20:05+00:00</td>\n",
       "    </tr>\n",
       "    <tr>\n",
       "      <th>16</th>\n",
       "      <td>What is the energy price cap and what will hap...</td>\n",
       "      <td>The energy bill support package will continue ...</td>\n",
       "      <td>https://www.bbc.co.uk/news/business-58090533?a...</td>\n",
       "      <td>2023-01-09 19:52:01+00:00</td>\n",
       "    </tr>\n",
       "    <tr>\n",
       "      <th>17</th>\n",
       "      <td>When are the second cost-of-living payments an...</td>\n",
       "      <td>All UK households are getting £400 off their w...</td>\n",
       "      <td>https://www.bbc.co.uk/news/business-61592496?a...</td>\n",
       "      <td>2023-01-03 12:02:09+00:00</td>\n",
       "    </tr>\n",
       "    <tr>\n",
       "      <th>18</th>\n",
       "      <td>UK inflation rate calculator: How much are pri...</td>\n",
       "      <td>Use our calculator to find out how much the co...</td>\n",
       "      <td>https://www.bbc.co.uk/news/business-62558817?a...</td>\n",
       "      <td>2022-12-14 07:18:58+00:00</td>\n",
       "    </tr>\n",
       "    <tr>\n",
       "      <th>19</th>\n",
       "      <td>Shower at home vs at the gym: What’s cheaper?</td>\n",
       "      <td>We investigate if getting a gym membership cou...</td>\n",
       "      <td>https://www.bbc.co.uk/news/business-63988095?a...</td>\n",
       "      <td>2023-01-04 23:03:04+00:00</td>\n",
       "    </tr>\n",
       "    <tr>\n",
       "      <th>20</th>\n",
       "      <td>What is the UK inflation rate and why is the c...</td>\n",
       "      <td>The rate at which prices are rising has fallen...</td>\n",
       "      <td>https://www.bbc.co.uk/news/business-12196322?a...</td>\n",
       "      <td>2023-01-04 15:23:56+00:00</td>\n",
       "    </tr>\n",
       "    <tr>\n",
       "      <th>21</th>\n",
       "      <td>Warm winter may lower energy bills later this ...</td>\n",
       "      <td>Forecasts suggest bills for households may dro...</td>\n",
       "      <td>https://www.bbc.co.uk/news/business-64162811?a...</td>\n",
       "      <td>2023-01-04 14:07:11+00:00</td>\n",
       "    </tr>\n",
       "    <tr>\n",
       "      <th>22</th>\n",
       "      <td>BBC Food's family £1 recipe meal plan</td>\n",
       "      <td>This budget-friendly meal plan covers a week's...</td>\n",
       "      <td>https://www.bbc.co.uk/food/articles/budget_fam...</td>\n",
       "      <td>2022-10-18 11:42:16+00:00</td>\n",
       "    </tr>\n",
       "    <tr>\n",
       "      <th>23</th>\n",
       "      <td>The Papers: 'No way back' says Harry, and hope...</td>\n",
       "      <td>Tuesday's papers react to Prince Harry's comme...</td>\n",
       "      <td>https://www.bbc.co.uk/news/blogs-the-papers-64...</td>\n",
       "      <td>2023-01-10 07:11:42+00:00</td>\n",
       "    </tr>\n",
       "    <tr>\n",
       "      <th>24</th>\n",
       "      <td>Golden Globes: Will Hollywood stars return aft...</td>\n",
       "      <td>The awards ceremony is back this year, but the...</td>\n",
       "      <td>https://www.bbc.co.uk/news/entertainment-arts-...</td>\n",
       "      <td>2023-01-10 00:13:04+00:00</td>\n",
       "    </tr>\n",
       "    <tr>\n",
       "      <th>25</th>\n",
       "      <td>Collette Gallacher: Sisters of murdered girl c...</td>\n",
       "      <td>The sisters of a six-year-old say the authorit...</td>\n",
       "      <td>https://www.bbc.co.uk/news/uk-england-northamp...</td>\n",
       "      <td>2023-01-10 06:15:58+00:00</td>\n",
       "    </tr>\n",
       "    <tr>\n",
       "      <th>26</th>\n",
       "      <td>Edith Thompson: Hanged woman's pardon reconsid...</td>\n",
       "      <td>Edith Thompson, 29, was executed 100 years ago...</td>\n",
       "      <td>https://www.bbc.co.uk/news/uk-england-london-6...</td>\n",
       "      <td>2023-01-10 06:15:40+00:00</td>\n",
       "    </tr>\n",
       "    <tr>\n",
       "      <th>27</th>\n",
       "      <td>Could floating solar farms survive out at sea?</td>\n",
       "      <td>Engineers are working on building solar farms ...</td>\n",
       "      <td>https://www.bbc.co.uk/news/business-63728020?a...</td>\n",
       "      <td>2023-01-10 00:08:52+00:00</td>\n",
       "    </tr>\n",
       "    <tr>\n",
       "      <th>28</th>\n",
       "      <td>Energy bill support: Firms fear ‘worst to come’</td>\n",
       "      <td>Some businesses expressed disappointment over ...</td>\n",
       "      <td>https://www.bbc.co.uk/news/business-64211765?a...</td>\n",
       "      <td>2023-01-10 08:00:09+00:00</td>\n",
       "    </tr>\n",
       "    <tr>\n",
       "      <th>29</th>\n",
       "      <td>Why it is becoming easier to sue big tech in t...</td>\n",
       "      <td>The amount of damages being sought in class ac...</td>\n",
       "      <td>https://www.bbc.co.uk/news/technology-64210531...</td>\n",
       "      <td>2023-01-10 03:13:47+00:00</td>\n",
       "    </tr>\n",
       "    <tr>\n",
       "      <th>30</th>\n",
       "      <td>Joshimath: The trauma of living in India's sin...</td>\n",
       "      <td>Hundreds of buildings have developed cracks an...</td>\n",
       "      <td>https://www.bbc.co.uk/news/world-asia-india-64...</td>\n",
       "      <td>2023-01-09 22:04:04+00:00</td>\n",
       "    </tr>\n",
       "    <tr>\n",
       "      <th>31</th>\n",
       "      <td>Gareth Bale, arguably Wales' greatest, departs...</td>\n",
       "      <td>Gareth Bale's retirement is a seismic shock fo...</td>\n",
       "      <td>https://www.bbc.co.uk/sport/football/64215777?...</td>\n",
       "      <td>2023-01-10 05:13:00+00:00</td>\n",
       "    </tr>\n",
       "    <tr>\n",
       "      <th>32</th>\n",
       "      <td>Nottingham Forest boss Steve Cooper defends fl...</td>\n",
       "      <td>Nottingham Forest boss Steve Cooper defends hi...</td>\n",
       "      <td>https://www.bbc.co.uk/sport/football/64208101?...</td>\n",
       "      <td>2023-01-09 16:59:52+00:00</td>\n",
       "    </tr>\n",
       "    <tr>\n",
       "      <th>33</th>\n",
       "      <td>Watch the best goals from the FA Cup third round</td>\n",
       "      <td>Relive an epic FA Cup weekend as Harry Kane, D...</td>\n",
       "      <td>https://www.bbc.co.uk/sport/av/football/642160...</td>\n",
       "      <td>2023-01-10 06:09:38+00:00</td>\n",
       "    </tr>\n",
       "    <tr>\n",
       "      <th>34</th>\n",
       "      <td>Masters 2023: Ronnie O'Sullivan sweeps Luca Br...</td>\n",
       "      <td>World number one Ronnie O'Sullivan swept Luca ...</td>\n",
       "      <td>https://www.bbc.co.uk/sport/snooker/64214419?a...</td>\n",
       "      <td>2023-01-09 22:25:05+00:00</td>\n",
       "    </tr>\n",
       "    <tr>\n",
       "      <th>35</th>\n",
       "      <td>Formula 1: Andretti bid row reflects turbulent...</td>\n",
       "      <td>FIA president Mohammed Ben Sulaymen's vocal su...</td>\n",
       "      <td>https://www.bbc.co.uk/sport/formula1/64210632?...</td>\n",
       "      <td>2023-01-09 17:27:40+00:00</td>\n",
       "    </tr>\n",
       "    <tr>\n",
       "      <th>36</th>\n",
       "      <td>Australian Open qualifying: Wins for Katie Bou...</td>\n",
       "      <td>Katie Boulter is among three Britons to win on...</td>\n",
       "      <td>https://www.bbc.co.uk/sport/tennis/64219989?at...</td>\n",
       "      <td>2023-01-10 09:01:05+00:00</td>\n",
       "    </tr>\n",
       "    <tr>\n",
       "      <th>37</th>\n",
       "      <td>The enduring anguish of being the royal 'spare'</td>\n",
       "      <td>Why Harry isn't the first person to have the p...</td>\n",
       "      <td>https://www.bbc.co.uk/news/uk-64185317?at_medi...</td>\n",
       "      <td>2023-01-07 02:52:34+00:00</td>\n",
       "    </tr>\n",
       "    <tr>\n",
       "      <th>38</th>\n",
       "      <td>Who is Harry's ghostwriter, JR Moehringer - an...</td>\n",
       "      <td>The Pulitzer Prize-winning journalist is the c...</td>\n",
       "      <td>https://www.bbc.co.uk/news/world-us-canada-642...</td>\n",
       "      <td>2023-01-10 01:40:03+00:00</td>\n",
       "    </tr>\n",
       "    <tr>\n",
       "      <th>39</th>\n",
       "      <td>Prince Harry's Spare: Have leaks helped or hin...</td>\n",
       "      <td>Revelations from Prince Harry's memoir have up...</td>\n",
       "      <td>https://www.bbc.co.uk/news/entertainment-arts-...</td>\n",
       "      <td>2023-01-07 08:39:25+00:00</td>\n",
       "    </tr>\n",
       "    <tr>\n",
       "      <th>40</th>\n",
       "      <td>Prince Harry first heard of Queen Elizabeth's ...</td>\n",
       "      <td>Prince Harry describes how he found about the ...</td>\n",
       "      <td>https://www.bbc.co.uk/news/uk-64185446?at_medi...</td>\n",
       "      <td>2023-01-06 10:15:00+00:00</td>\n",
       "    </tr>\n",
       "    <tr>\n",
       "      <th>41</th>\n",
       "      <td>The key claims made in Spare</td>\n",
       "      <td>Harry claims William physically attacked him, ...</td>\n",
       "      <td>https://www.bbc.co.uk/news/uk-64179164?at_medi...</td>\n",
       "      <td>2023-01-07 05:14:54+00:00</td>\n",
       "    </tr>\n",
       "    <tr>\n",
       "      <th>42</th>\n",
       "      <td>One unanswered claim at the heart of the story</td>\n",
       "      <td>The duke says those meant to defend him were f...</td>\n",
       "      <td>https://www.bbc.co.uk/news/uk-64175772?at_medi...</td>\n",
       "      <td>2023-01-05 14:41:44+00:00</td>\n",
       "    </tr>\n",
       "    <tr>\n",
       "      <th>43</th>\n",
       "      <td>Repeated mentions of Diana show Harry's unreso...</td>\n",
       "      <td>Grief at his mother's death and anger towards ...</td>\n",
       "      <td>https://www.bbc.co.uk/news/uk-64182513?at_medi...</td>\n",
       "      <td>2023-01-06 08:55:54+00:00</td>\n",
       "    </tr>\n",
       "    <tr>\n",
       "      <th>44</th>\n",
       "      <td>'Reach out in private' - King Charles' biograp...</td>\n",
       "      <td>Jonathan Dimbleby interviewed and wrote a book...</td>\n",
       "      <td>https://www.bbc.co.uk/news/uk-64196499?at_medi...</td>\n",
       "      <td>2023-01-07 12:35:34+00:00</td>\n",
       "    </tr>\n",
       "    <tr>\n",
       "      <th>45</th>\n",
       "      <td>Prince Harry and Meghan: Where do they get the...</td>\n",
       "      <td>The Duke of Sussex's memoir Spare is published...</td>\n",
       "      <td>https://www.bbc.co.uk/news/explainers-51047186...</td>\n",
       "      <td>2023-01-06 09:58:38+00:00</td>\n",
       "    </tr>\n",
       "    <tr>\n",
       "      <th>46</th>\n",
       "      <td>Prince Harry: Revelations about drug taking an...</td>\n",
       "      <td>The Duke of Sussex opens up about his fracture...</td>\n",
       "      <td>https://www.bbc.co.uk/news/uk-64184331?at_medi...</td>\n",
       "      <td>2023-01-06 07:40:23+00:00</td>\n",
       "    </tr>\n",
       "    <tr>\n",
       "      <th>47</th>\n",
       "      <td>Ros Atkins on... Why the Brazil riots happened</td>\n",
       "      <td>The BBC's Analysis editor looks at the recent ...</td>\n",
       "      <td>https://www.bbc.co.uk/news/world-latin-america...</td>\n",
       "      <td>2023-01-09 21:06:16+00:00</td>\n",
       "    </tr>\n",
       "    <tr>\n",
       "      <th>48</th>\n",
       "      <td>What do the Bolsonaro protesters in Brazil want?</td>\n",
       "      <td>While much has been said about Bolsonaro's los...</td>\n",
       "      <td>https://www.bbc.co.uk/news/world-latin-america...</td>\n",
       "      <td>2023-01-09 13:36:26+00:00</td>\n",
       "    </tr>\n",
       "    <tr>\n",
       "      <th>49</th>\n",
       "      <td>Brazil Congress: How police failed to stop the...</td>\n",
       "      <td>President Lula has questioned police actions i...</td>\n",
       "      <td>https://www.bbc.co.uk/news/64212071?at_medium=...</td>\n",
       "      <td>2023-01-09 17:38:46+00:00</td>\n",
       "    </tr>\n",
       "    <tr>\n",
       "      <th>50</th>\n",
       "      <td>Brazil protests: Artwork suffers damage beyond...</td>\n",
       "      <td>Brazil mourns the loss of key parts of its art...</td>\n",
       "      <td>https://www.bbc.co.uk/news/world-latin-america...</td>\n",
       "      <td>2023-01-09 18:27:41+00:00</td>\n",
       "    </tr>\n",
       "    <tr>\n",
       "      <th>51</th>\n",
       "      <td>Bolsonaro supporters storm Brazil government b...</td>\n",
       "      <td>Thousands of protesters ransacked the Congress...</td>\n",
       "      <td>https://www.bbc.co.uk/news/world-latin-america...</td>\n",
       "      <td>2023-01-09 10:05:21+00:00</td>\n",
       "    </tr>\n",
       "    <tr>\n",
       "      <th>52</th>\n",
       "      <td>Brazil Congress storming: How did we get here?</td>\n",
       "      <td>How Brazil's Congress came to be stormed by su...</td>\n",
       "      <td>https://www.bbc.co.uk/news/world-latin-america...</td>\n",
       "      <td>2023-01-09 10:26:30+00:00</td>\n",
       "    </tr>\n",
       "    <tr>\n",
       "      <th>53</th>\n",
       "      <td>How Trump's allies stoked Brazil Congress attack</td>\n",
       "      <td>It is no mere coincidence that scenes in Brasi...</td>\n",
       "      <td>https://www.bbc.co.uk/news/world-us-canada-642...</td>\n",
       "      <td>2023-01-09 17:01:27+00:00</td>\n",
       "    </tr>\n",
       "  </tbody>\n",
       "</table>\n",
       "</div>"
      ],
      "text/plain": [
       "                                                title  \\\n",
       "0   UK space launch: Historic Cornwall rocket laun...   \n",
       "1   Prince Harry's book officially hits shops afte...   \n",
       "2    Anti-strikes bill to be introduced to Parliament   \n",
       "3   Two British men missing in Ukraine, say officials   \n",
       "4   Scotland's primary schools shut as teachers st...   \n",
       "5   Brazil Congress: Big pro-democracy rallies hel...   \n",
       "6   Potentially classified files found at Biden pr...   \n",
       "7   Hong Kong: Jimmy Lai's UK lawyers call for mee...   \n",
       "8   Diabetes artificial pancreas tech recommended ...   \n",
       "9             Peru protests: Many dead in new clashes   \n",
       "10  Proud Boys face conspiracy trial for Capitol riot   \n",
       "11  California residents told to flee deadly downpour   \n",
       "12      Repairing broken gadgets for a greener future   \n",
       "13    Can batch cooking help cut your shopping bills?   \n",
       "14  The Suffolk manor house where 60 people live t...   \n",
       "15  Mortgage rate pain: 'Our home buying plans wer...   \n",
       "16  What is the energy price cap and what will hap...   \n",
       "17  When are the second cost-of-living payments an...   \n",
       "18  UK inflation rate calculator: How much are pri...   \n",
       "19      Shower at home vs at the gym: What’s cheaper?   \n",
       "20  What is the UK inflation rate and why is the c...   \n",
       "21  Warm winter may lower energy bills later this ...   \n",
       "22              BBC Food's family £1 recipe meal plan   \n",
       "23  The Papers: 'No way back' says Harry, and hope...   \n",
       "24  Golden Globes: Will Hollywood stars return aft...   \n",
       "25  Collette Gallacher: Sisters of murdered girl c...   \n",
       "26  Edith Thompson: Hanged woman's pardon reconsid...   \n",
       "27     Could floating solar farms survive out at sea?   \n",
       "28    Energy bill support: Firms fear ‘worst to come’   \n",
       "29  Why it is becoming easier to sue big tech in t...   \n",
       "30  Joshimath: The trauma of living in India's sin...   \n",
       "31  Gareth Bale, arguably Wales' greatest, departs...   \n",
       "32  Nottingham Forest boss Steve Cooper defends fl...   \n",
       "33   Watch the best goals from the FA Cup third round   \n",
       "34  Masters 2023: Ronnie O'Sullivan sweeps Luca Br...   \n",
       "35  Formula 1: Andretti bid row reflects turbulent...   \n",
       "36  Australian Open qualifying: Wins for Katie Bou...   \n",
       "37    The enduring anguish of being the royal 'spare'   \n",
       "38  Who is Harry's ghostwriter, JR Moehringer - an...   \n",
       "39  Prince Harry's Spare: Have leaks helped or hin...   \n",
       "40  Prince Harry first heard of Queen Elizabeth's ...   \n",
       "41                       The key claims made in Spare   \n",
       "42     One unanswered claim at the heart of the story   \n",
       "43  Repeated mentions of Diana show Harry's unreso...   \n",
       "44  'Reach out in private' - King Charles' biograp...   \n",
       "45  Prince Harry and Meghan: Where do they get the...   \n",
       "46  Prince Harry: Revelations about drug taking an...   \n",
       "47     Ros Atkins on... Why the Brazil riots happened   \n",
       "48   What do the Bolsonaro protesters in Brazil want?   \n",
       "49  Brazil Congress: How police failed to stop the...   \n",
       "50  Brazil protests: Artwork suffers damage beyond...   \n",
       "51  Bolsonaro supporters storm Brazil government b...   \n",
       "52     Brazil Congress storming: How did we get here?   \n",
       "53   How Trump's allies stoked Brazil Congress attack   \n",
       "\n",
       "                                              summary  \\\n",
       "0   The first ever satellite mission launched from...   \n",
       "1   Fans queue to buy a hardback copy of the duke'...   \n",
       "2   Under the proposals, some trade union members ...   \n",
       "3   A search is under way for British nationals An...   \n",
       "4   The action by primary teachers will be followe...   \n",
       "5   They come after supporters of ex-President Jai...   \n",
       "6   The FBI is reportedly involved in the inquiry ...   \n",
       "7   In a letter they say the Hong Kong media tycoo...   \n",
       "8   It can improve life for thousands with type 1 ...   \n",
       "9   At least 17 people are killed as anti-governme...   \n",
       "10  The case includes some of the most serious cha...   \n",
       "11  Around 90% of Californians - some 34 million p...   \n",
       "12  A group of volunteers in Camden, London, want ...   \n",
       "13  Suzanne Mulholland's time saving tips have gat...   \n",
       "14  Members of a farming community who live in an ...   \n",
       "15  Higher rates mean that some people are putting...   \n",
       "16  The energy bill support package will continue ...   \n",
       "17  All UK households are getting £400 off their w...   \n",
       "18  Use our calculator to find out how much the co...   \n",
       "19  We investigate if getting a gym membership cou...   \n",
       "20  The rate at which prices are rising has fallen...   \n",
       "21  Forecasts suggest bills for households may dro...   \n",
       "22  This budget-friendly meal plan covers a week's...   \n",
       "23  Tuesday's papers react to Prince Harry's comme...   \n",
       "24  The awards ceremony is back this year, but the...   \n",
       "25  The sisters of a six-year-old say the authorit...   \n",
       "26  Edith Thompson, 29, was executed 100 years ago...   \n",
       "27  Engineers are working on building solar farms ...   \n",
       "28  Some businesses expressed disappointment over ...   \n",
       "29  The amount of damages being sought in class ac...   \n",
       "30  Hundreds of buildings have developed cracks an...   \n",
       "31  Gareth Bale's retirement is a seismic shock fo...   \n",
       "32  Nottingham Forest boss Steve Cooper defends hi...   \n",
       "33  Relive an epic FA Cup weekend as Harry Kane, D...   \n",
       "34  World number one Ronnie O'Sullivan swept Luca ...   \n",
       "35  FIA president Mohammed Ben Sulaymen's vocal su...   \n",
       "36  Katie Boulter is among three Britons to win on...   \n",
       "37  Why Harry isn't the first person to have the p...   \n",
       "38  The Pulitzer Prize-winning journalist is the c...   \n",
       "39  Revelations from Prince Harry's memoir have up...   \n",
       "40  Prince Harry describes how he found about the ...   \n",
       "41  Harry claims William physically attacked him, ...   \n",
       "42  The duke says those meant to defend him were f...   \n",
       "43  Grief at his mother's death and anger towards ...   \n",
       "44  Jonathan Dimbleby interviewed and wrote a book...   \n",
       "45  The Duke of Sussex's memoir Spare is published...   \n",
       "46  The Duke of Sussex opens up about his fracture...   \n",
       "47  The BBC's Analysis editor looks at the recent ...   \n",
       "48  While much has been said about Bolsonaro's los...   \n",
       "49  President Lula has questioned police actions i...   \n",
       "50  Brazil mourns the loss of key parts of its art...   \n",
       "51  Thousands of protesters ransacked the Congress...   \n",
       "52  How Brazil's Congress came to be stormed by su...   \n",
       "53  It is no mere coincidence that scenes in Brasi...   \n",
       "\n",
       "                                                 link  \\\n",
       "0   https://www.bbc.co.uk/news/science-environment...   \n",
       "1   https://www.bbc.co.uk/news/uk-64213852?at_medi...   \n",
       "2   https://www.bbc.co.uk/news/uk-64219016?at_medi...   \n",
       "3   https://www.bbc.co.uk/news/uk-64214977?at_medi...   \n",
       "4   https://www.bbc.co.uk/news/uk-scotland-6420997...   \n",
       "5   https://www.bbc.co.uk/news/world-latin-america...   \n",
       "6   https://www.bbc.co.uk/news/world-us-canada-642...   \n",
       "7   https://www.bbc.co.uk/news/world-asia-china-64...   \n",
       "8   https://www.bbc.co.uk/news/health-64211479?at_...   \n",
       "9   https://www.bbc.co.uk/news/world-latin-america...   \n",
       "10  https://www.bbc.co.uk/news/world-us-canada-642...   \n",
       "11  https://www.bbc.co.uk/news/world-us-canada-642...   \n",
       "12  https://www.bbc.co.uk/news/in-pictures-6373795...   \n",
       "13  https://www.bbc.co.uk/news/uk-scotland-south-s...   \n",
       "14  https://www.bbc.co.uk/news/uk-england-suffolk-...   \n",
       "15  https://www.bbc.co.uk/news/business-64179502?a...   \n",
       "16  https://www.bbc.co.uk/news/business-58090533?a...   \n",
       "17  https://www.bbc.co.uk/news/business-61592496?a...   \n",
       "18  https://www.bbc.co.uk/news/business-62558817?a...   \n",
       "19  https://www.bbc.co.uk/news/business-63988095?a...   \n",
       "20  https://www.bbc.co.uk/news/business-12196322?a...   \n",
       "21  https://www.bbc.co.uk/news/business-64162811?a...   \n",
       "22  https://www.bbc.co.uk/food/articles/budget_fam...   \n",
       "23  https://www.bbc.co.uk/news/blogs-the-papers-64...   \n",
       "24  https://www.bbc.co.uk/news/entertainment-arts-...   \n",
       "25  https://www.bbc.co.uk/news/uk-england-northamp...   \n",
       "26  https://www.bbc.co.uk/news/uk-england-london-6...   \n",
       "27  https://www.bbc.co.uk/news/business-63728020?a...   \n",
       "28  https://www.bbc.co.uk/news/business-64211765?a...   \n",
       "29  https://www.bbc.co.uk/news/technology-64210531...   \n",
       "30  https://www.bbc.co.uk/news/world-asia-india-64...   \n",
       "31  https://www.bbc.co.uk/sport/football/64215777?...   \n",
       "32  https://www.bbc.co.uk/sport/football/64208101?...   \n",
       "33  https://www.bbc.co.uk/sport/av/football/642160...   \n",
       "34  https://www.bbc.co.uk/sport/snooker/64214419?a...   \n",
       "35  https://www.bbc.co.uk/sport/formula1/64210632?...   \n",
       "36  https://www.bbc.co.uk/sport/tennis/64219989?at...   \n",
       "37  https://www.bbc.co.uk/news/uk-64185317?at_medi...   \n",
       "38  https://www.bbc.co.uk/news/world-us-canada-642...   \n",
       "39  https://www.bbc.co.uk/news/entertainment-arts-...   \n",
       "40  https://www.bbc.co.uk/news/uk-64185446?at_medi...   \n",
       "41  https://www.bbc.co.uk/news/uk-64179164?at_medi...   \n",
       "42  https://www.bbc.co.uk/news/uk-64175772?at_medi...   \n",
       "43  https://www.bbc.co.uk/news/uk-64182513?at_medi...   \n",
       "44  https://www.bbc.co.uk/news/uk-64196499?at_medi...   \n",
       "45  https://www.bbc.co.uk/news/explainers-51047186...   \n",
       "46  https://www.bbc.co.uk/news/uk-64184331?at_medi...   \n",
       "47  https://www.bbc.co.uk/news/world-latin-america...   \n",
       "48  https://www.bbc.co.uk/news/world-latin-america...   \n",
       "49  https://www.bbc.co.uk/news/64212071?at_medium=...   \n",
       "50  https://www.bbc.co.uk/news/world-latin-america...   \n",
       "51  https://www.bbc.co.uk/news/world-latin-america...   \n",
       "52  https://www.bbc.co.uk/news/world-latin-america...   \n",
       "53  https://www.bbc.co.uk/news/world-us-canada-642...   \n",
       "\n",
       "                   published  \n",
       "0  2023-01-10 08:12:10+00:00  \n",
       "1  2023-01-10 08:25:55+00:00  \n",
       "2  2023-01-10 08:06:55+00:00  \n",
       "3  2023-01-10 06:42:51+00:00  \n",
       "4  2023-01-10 06:21:47+00:00  \n",
       "5  2023-01-10 08:27:41+00:00  \n",
       "6  2023-01-10 04:09:11+00:00  \n",
       "7  2023-01-10 00:00:06+00:00  \n",
       "8  2023-01-10 03:05:53+00:00  \n",
       "9  2023-01-10 05:05:51+00:00  \n",
       "10 2023-01-10 06:28:32+00:00  \n",
       "11 2023-01-10 06:24:47+00:00  \n",
       "12 2023-01-10 02:48:19+00:00  \n",
       "13 2023-01-08 09:23:25+00:00  \n",
       "14 2023-01-09 06:20:23+00:00  \n",
       "15 2023-01-06 22:20:05+00:00  \n",
       "16 2023-01-09 19:52:01+00:00  \n",
       "17 2023-01-03 12:02:09+00:00  \n",
       "18 2022-12-14 07:18:58+00:00  \n",
       "19 2023-01-04 23:03:04+00:00  \n",
       "20 2023-01-04 15:23:56+00:00  \n",
       "21 2023-01-04 14:07:11+00:00  \n",
       "22 2022-10-18 11:42:16+00:00  \n",
       "23 2023-01-10 07:11:42+00:00  \n",
       "24 2023-01-10 00:13:04+00:00  \n",
       "25 2023-01-10 06:15:58+00:00  \n",
       "26 2023-01-10 06:15:40+00:00  \n",
       "27 2023-01-10 00:08:52+00:00  \n",
       "28 2023-01-10 08:00:09+00:00  \n",
       "29 2023-01-10 03:13:47+00:00  \n",
       "30 2023-01-09 22:04:04+00:00  \n",
       "31 2023-01-10 05:13:00+00:00  \n",
       "32 2023-01-09 16:59:52+00:00  \n",
       "33 2023-01-10 06:09:38+00:00  \n",
       "34 2023-01-09 22:25:05+00:00  \n",
       "35 2023-01-09 17:27:40+00:00  \n",
       "36 2023-01-10 09:01:05+00:00  \n",
       "37 2023-01-07 02:52:34+00:00  \n",
       "38 2023-01-10 01:40:03+00:00  \n",
       "39 2023-01-07 08:39:25+00:00  \n",
       "40 2023-01-06 10:15:00+00:00  \n",
       "41 2023-01-07 05:14:54+00:00  \n",
       "42 2023-01-05 14:41:44+00:00  \n",
       "43 2023-01-06 08:55:54+00:00  \n",
       "44 2023-01-07 12:35:34+00:00  \n",
       "45 2023-01-06 09:58:38+00:00  \n",
       "46 2023-01-06 07:40:23+00:00  \n",
       "47 2023-01-09 21:06:16+00:00  \n",
       "48 2023-01-09 13:36:26+00:00  \n",
       "49 2023-01-09 17:38:46+00:00  \n",
       "50 2023-01-09 18:27:41+00:00  \n",
       "51 2023-01-09 10:05:21+00:00  \n",
       "52 2023-01-09 10:26:30+00:00  \n",
       "53 2023-01-09 17:01:27+00:00  "
      ]
     },
     "execution_count": 14,
     "metadata": {},
     "output_type": "execute_result"
    }
   ],
   "source": [
    "# how to filter non null values \n",
    "tmp_filter = df['summary'].isnull()\n",
    "df[~tmp_filter]"
   ]
  },
  {
   "cell_type": "code",
   "execution_count": 15,
   "metadata": {
    "cell_id": "00023-609f9fe5-4a1d-4c21-be22-bafbead6cc6f",
    "deepnote_app_coordinates": {
     "h": 5,
     "w": 12,
     "x": 0,
     "y": 132
    },
    "deepnote_cell_height": 393,
    "deepnote_cell_type": "code",
    "deepnote_to_be_reexecuted": false,
    "execution_millis": 273,
    "execution_start": 1647003831741,
    "source_hash": "c085b6ba"
   },
   "outputs": [
    {
     "data": {
      "text/html": [
       "<div>\n",
       "<style scoped>\n",
       "    .dataframe tbody tr th:only-of-type {\n",
       "        vertical-align: middle;\n",
       "    }\n",
       "\n",
       "    .dataframe tbody tr th {\n",
       "        vertical-align: top;\n",
       "    }\n",
       "\n",
       "    .dataframe thead th {\n",
       "        text-align: right;\n",
       "    }\n",
       "</style>\n",
       "<table border=\"1\" class=\"dataframe\">\n",
       "  <thead>\n",
       "    <tr style=\"text-align: right;\">\n",
       "      <th></th>\n",
       "      <th>title</th>\n",
       "      <th>summary</th>\n",
       "      <th>link</th>\n",
       "      <th>published</th>\n",
       "    </tr>\n",
       "  </thead>\n",
       "  <tbody>\n",
       "    <tr>\n",
       "      <th>0</th>\n",
       "      <td>UK space launch: Historic Cornwall rocket laun...</td>\n",
       "      <td>The first ever satellite mission launched from...</td>\n",
       "      <td>https://www.bbc.co.uk/news/science-environment...</td>\n",
       "      <td>2023-01-10 08:12:10+00:00</td>\n",
       "    </tr>\n",
       "    <tr>\n",
       "      <th>1</th>\n",
       "      <td>Prince Harry's book officially hits shops afte...</td>\n",
       "      <td>Fans queue to buy a hardback copy of the duke'...</td>\n",
       "      <td>https://www.bbc.co.uk/news/uk-64213852?at_medi...</td>\n",
       "      <td>2023-01-10 08:25:55+00:00</td>\n",
       "    </tr>\n",
       "    <tr>\n",
       "      <th>2</th>\n",
       "      <td>Anti-strikes bill to be introduced to Parliament</td>\n",
       "      <td>Under the proposals, some trade union members ...</td>\n",
       "      <td>https://www.bbc.co.uk/news/uk-64219016?at_medi...</td>\n",
       "      <td>2023-01-10 08:06:55+00:00</td>\n",
       "    </tr>\n",
       "    <tr>\n",
       "      <th>3</th>\n",
       "      <td>Two British men missing in Ukraine, say officials</td>\n",
       "      <td>A search is under way for British nationals An...</td>\n",
       "      <td>https://www.bbc.co.uk/news/uk-64214977?at_medi...</td>\n",
       "      <td>2023-01-10 06:42:51+00:00</td>\n",
       "    </tr>\n",
       "    <tr>\n",
       "      <th>4</th>\n",
       "      <td>Scotland's primary schools shut as teachers st...</td>\n",
       "      <td>The action by primary teachers will be followe...</td>\n",
       "      <td>https://www.bbc.co.uk/news/uk-scotland-6420997...</td>\n",
       "      <td>2023-01-10 06:21:47+00:00</td>\n",
       "    </tr>\n",
       "  </tbody>\n",
       "</table>\n",
       "</div>"
      ],
      "text/plain": [
       "                                               title  \\\n",
       "0  UK space launch: Historic Cornwall rocket laun...   \n",
       "1  Prince Harry's book officially hits shops afte...   \n",
       "2   Anti-strikes bill to be introduced to Parliament   \n",
       "3  Two British men missing in Ukraine, say officials   \n",
       "4  Scotland's primary schools shut as teachers st...   \n",
       "\n",
       "                                             summary  \\\n",
       "0  The first ever satellite mission launched from...   \n",
       "1  Fans queue to buy a hardback copy of the duke'...   \n",
       "2  Under the proposals, some trade union members ...   \n",
       "3  A search is under way for British nationals An...   \n",
       "4  The action by primary teachers will be followe...   \n",
       "\n",
       "                                                link                 published  \n",
       "0  https://www.bbc.co.uk/news/science-environment... 2023-01-10 08:12:10+00:00  \n",
       "1  https://www.bbc.co.uk/news/uk-64213852?at_medi... 2023-01-10 08:25:55+00:00  \n",
       "2  https://www.bbc.co.uk/news/uk-64219016?at_medi... 2023-01-10 08:06:55+00:00  \n",
       "3  https://www.bbc.co.uk/news/uk-64214977?at_medi... 2023-01-10 06:42:51+00:00  \n",
       "4  https://www.bbc.co.uk/news/uk-scotland-6420997... 2023-01-10 06:21:47+00:00  "
      ]
     },
     "execution_count": 15,
     "metadata": {},
     "output_type": "execute_result"
    }
   ],
   "source": [
    "df.head()"
   ]
  },
  {
   "cell_type": "markdown",
   "metadata": {
    "cell_id": "00024-e071389d-1359-4bae-afab-0290990c9250",
    "deepnote_app_coordinates": {
     "h": 5,
     "w": 12,
     "x": 0,
     "y": 138
    },
    "deepnote_cell_height": 185.59375,
    "deepnote_cell_type": "markdown",
    "tags": []
   },
   "source": [
    "Now, save the dataframe into a CSV file for later use.\n",
    "\n",
    "<div class=\"alert alert-warning\">\n",
    "\n",
    "**Note:** if `index=True` (default option), `pandas` save an extra column indicating index number which, in our case, will be the row numbers. There are cases when index will be non-numerical or, if numerical, not representative of row numbers. `index=True` will be useful in those cases. \n",
    "\n",
    "</div>"
   ]
  },
  {
   "cell_type": "code",
   "execution_count": 17,
   "metadata": {},
   "outputs": [],
   "source": [
    "# The first argument to the function tells it what to call the new file\n",
    "df.to_csv(\"rss_feeds.csv\",index=False)"
   ]
  },
  {
   "cell_type": "code",
   "execution_count": 18,
   "metadata": {
    "cell_id": "00026-594676bb-ba0e-446b-8592-3dadda84c430",
    "deepnote_app_coordinates": {
     "h": 5,
     "w": 12,
     "x": 0,
     "y": 150
    },
    "deepnote_cell_height": 447,
    "deepnote_cell_type": "code",
    "deepnote_to_be_reexecuted": true,
    "execution_millis": 339,
    "execution_start": 1645793722799,
    "source_hash": "325965bc",
    "tags": []
   },
   "outputs": [
    {
     "data": {
      "text/html": [
       "<div>\n",
       "<style scoped>\n",
       "    .dataframe tbody tr th:only-of-type {\n",
       "        vertical-align: middle;\n",
       "    }\n",
       "\n",
       "    .dataframe tbody tr th {\n",
       "        vertical-align: top;\n",
       "    }\n",
       "\n",
       "    .dataframe thead th {\n",
       "        text-align: right;\n",
       "    }\n",
       "</style>\n",
       "<table border=\"1\" class=\"dataframe\">\n",
       "  <thead>\n",
       "    <tr style=\"text-align: right;\">\n",
       "      <th></th>\n",
       "      <th>title</th>\n",
       "      <th>summary</th>\n",
       "      <th>link</th>\n",
       "      <th>published</th>\n",
       "    </tr>\n",
       "  </thead>\n",
       "  <tbody>\n",
       "    <tr>\n",
       "      <th>0</th>\n",
       "      <td>UK space launch: Historic Cornwall rocket laun...</td>\n",
       "      <td>The first ever satellite mission launched from...</td>\n",
       "      <td>https://www.bbc.co.uk/news/science-environment...</td>\n",
       "      <td>2023-01-10 08:12:10+00:00</td>\n",
       "    </tr>\n",
       "    <tr>\n",
       "      <th>1</th>\n",
       "      <td>Prince Harry's book officially hits shops afte...</td>\n",
       "      <td>Fans queue to buy a hardback copy of the duke'...</td>\n",
       "      <td>https://www.bbc.co.uk/news/uk-64213852?at_medi...</td>\n",
       "      <td>2023-01-10 08:25:55+00:00</td>\n",
       "    </tr>\n",
       "    <tr>\n",
       "      <th>2</th>\n",
       "      <td>Anti-strikes bill to be introduced to Parliament</td>\n",
       "      <td>Under the proposals, some trade union members ...</td>\n",
       "      <td>https://www.bbc.co.uk/news/uk-64219016?at_medi...</td>\n",
       "      <td>2023-01-10 08:06:55+00:00</td>\n",
       "    </tr>\n",
       "    <tr>\n",
       "      <th>3</th>\n",
       "      <td>Two British men missing in Ukraine, say officials</td>\n",
       "      <td>A search is under way for British nationals An...</td>\n",
       "      <td>https://www.bbc.co.uk/news/uk-64214977?at_medi...</td>\n",
       "      <td>2023-01-10 06:42:51+00:00</td>\n",
       "    </tr>\n",
       "    <tr>\n",
       "      <th>4</th>\n",
       "      <td>Scotland's primary schools shut as teachers st...</td>\n",
       "      <td>The action by primary teachers will be followe...</td>\n",
       "      <td>https://www.bbc.co.uk/news/uk-scotland-6420997...</td>\n",
       "      <td>2023-01-10 06:21:47+00:00</td>\n",
       "    </tr>\n",
       "  </tbody>\n",
       "</table>\n",
       "</div>"
      ],
      "text/plain": [
       "                                               title  \\\n",
       "0  UK space launch: Historic Cornwall rocket laun...   \n",
       "1  Prince Harry's book officially hits shops afte...   \n",
       "2   Anti-strikes bill to be introduced to Parliament   \n",
       "3  Two British men missing in Ukraine, say officials   \n",
       "4  Scotland's primary schools shut as teachers st...   \n",
       "\n",
       "                                             summary  \\\n",
       "0  The first ever satellite mission launched from...   \n",
       "1  Fans queue to buy a hardback copy of the duke'...   \n",
       "2  Under the proposals, some trade union members ...   \n",
       "3  A search is under way for British nationals An...   \n",
       "4  The action by primary teachers will be followe...   \n",
       "\n",
       "                                                link  \\\n",
       "0  https://www.bbc.co.uk/news/science-environment...   \n",
       "1  https://www.bbc.co.uk/news/uk-64213852?at_medi...   \n",
       "2  https://www.bbc.co.uk/news/uk-64219016?at_medi...   \n",
       "3  https://www.bbc.co.uk/news/uk-64214977?at_medi...   \n",
       "4  https://www.bbc.co.uk/news/uk-scotland-6420997...   \n",
       "\n",
       "                   published  \n",
       "0  2023-01-10 08:12:10+00:00  \n",
       "1  2023-01-10 08:25:55+00:00  \n",
       "2  2023-01-10 08:06:55+00:00  \n",
       "3  2023-01-10 06:42:51+00:00  \n",
       "4  2023-01-10 06:21:47+00:00  "
      ]
     },
     "execution_count": 18,
     "metadata": {},
     "output_type": "execute_result"
    }
   ],
   "source": [
    "# Sanity checks - load the csv file and check the columns of the saved dataset\n",
    "# try this block after using `index=True` in the above block and note the difference.\n",
    "saved_rss = pd.read_csv(\"rss_feeds.csv\")\n",
    "saved_rss.head()"
   ]
  },
  {
   "cell_type": "code",
   "execution_count": 19,
   "metadata": {
    "cell_id": "00027-467d5f3f-0072-4df9-8990-5aaa0b42a843",
    "deepnote_cell_height": 136.1875,
    "deepnote_cell_type": "code",
    "deepnote_output_heights": [
     21.1875
    ],
    "deepnote_to_be_reexecuted": true,
    "execution_millis": 255,
    "execution_start": 1645794081435,
    "source_hash": "b1fa7447",
    "tags": []
   },
   "outputs": [
    {
     "data": {
      "text/plain": [
       "Timestamp('2023-01-10 06:42:51+0000', tz='UTC')"
      ]
     },
     "execution_count": 19,
     "metadata": {},
     "output_type": "execute_result"
    }
   ],
   "source": [
    "saved_rss['published'] = pd.to_datetime(saved_rss['published'])\n",
    "saved_rss['published'][3]"
   ]
  },
  {
   "cell_type": "markdown",
   "metadata": {
    "cell_id": "00028-04b619ce-2792-4822-be55-c0df2e6af441",
    "deepnote_app_coordinates": {
     "h": 5,
     "w": 12,
     "x": 0,
     "y": 156
    },
    "deepnote_cell_height": 252.984375,
    "deepnote_cell_type": "markdown",
    "tags": []
   },
   "source": [
    "<div class=\"alert alert-info\">\n",
    "\n",
    "##### Exercise 2.3: collection over time\n",
    "\n",
    "Assuming a day has passed, write a code snippet to:\n",
    "1. load the old CSV file with the RSS feeds you saved\n",
    "2.  fetch the new RSS feed, transform it into a pandas DataFrame\n",
    "3. concatenate it with the older RSS feeds\n",
    "4. save the resulting DataFrame to CSV back again.\n",
    "\n",
    "</div>"
   ]
  },
  {
   "cell_type": "code",
   "execution_count": 20,
   "metadata": {
    "cell_id": "00029-9f47f84d-45a8-4330-bf7d-fe66d3ac48e3",
    "deepnote_app_coordinates": {
     "h": 5,
     "w": 12,
     "x": 0,
     "y": 162
    },
    "deepnote_cell_height": 261,
    "deepnote_cell_type": "code",
    "deepnote_to_be_reexecuted": true,
    "execution_millis": 178,
    "execution_start": 1645181514009,
    "source_hash": "385a100a",
    "tags": []
   },
   "outputs": [],
   "source": [
    "# load the existing rss feeds\n",
    "saved_rss = pd.read_csv(\"rss_feeds.csv\")\n",
    "\n",
    "# retrieve new rss feeds and make a dataframe\n",
    "new_rss = feedparser.parse('feed://feeds.bbci.co.uk/news/rss.xml')\n",
    "new_rss = pd.DataFrame(new_rss.entries, columns=['title', 'summary', 'link', 'published'])\n",
    "new_rss.published = pd.to_datetime(new_rss.published)\n",
    "\n",
    "# concatenate and save \n",
    "concat_rss = pd.concat([saved_rss, new_rss])\n",
    "concat_rss.to_csv('rss_feeds.csv')"
   ]
  },
  {
   "cell_type": "markdown",
   "metadata": {
    "cell_id": "00030-67fa5e1d-43f0-4e9a-b8af-bdc6a9b334f1",
    "deepnote_app_coordinates": {
     "h": 5,
     "w": 12,
     "x": 0,
     "y": 168
    },
    "deepnote_cell_height": 286.390625,
    "deepnote_cell_type": "markdown",
    "tags": []
   },
   "source": [
    "<div class=\"alert alert-info\">\n",
    "\n",
    "##### Exercise 2.4 (optional)\n",
    "\n",
    "In data science and computer science, it is a good practice to write code in a modular fashion. This practice entails writing functions that are responsible for one and only one task. Can you think of modularizing the above code snippet?\n",
    "\n",
    "Here is one way to modularize the above code snippet:\n",
    "- a function `load_rss` takes as input, a string, and returns a pandas `DataFrame`;\n",
    "- a function `retrieve_rss` takes as input, a string for rss url, and returns a pandas `DataFrame`;\n",
    "- a function `concat_and_save_rss` takes as input, two pandas `DataFrame`, and returns nothing.\n",
    "\n",
    "</div>"
   ]
  },
  {
   "cell_type": "markdown",
   "metadata": {
    "cell_id": "00031-2e681eaa-7fce-4ec8-b9b9-c30d04c9c81d",
    "deepnote_app_coordinates": {
     "h": 5,
     "w": 12,
     "x": 0,
     "y": 186
    },
    "deepnote_cell_height": 316.984375,
    "deepnote_cell_type": "markdown"
   },
   "source": [
    "## Exercise 3: Understanding the collected feed\n",
    "\n",
    "<div class=\"alert alert-info\">\n",
    "\n",
    "##### Exercise 3.1\n",
    "\n",
    "Using the dataframe or the entries dictionary, **print out the time of the day each article was published**.\n",
    "\n",
    "For pandas, read the following pages to learn how to use datetime columns:\n",
    "- extracting hours: https://pandas.pydata.org/docs/reference/api/pandas.Series.dt.hour.html\n",
    "- and other attributes that can be computed automatically: https://pandas.pydata.org/pandas-docs/stable/user_guide/timeseries.html#time-date-components\n",
    "\n",
    "</div>"
   ]
  },
  {
   "cell_type": "code",
   "execution_count": 21,
   "metadata": {
    "cell_id": "00032-5512a1c5-4567-42ec-baed-187cd362e5b0",
    "deepnote_app_coordinates": {
     "h": 5,
     "w": 12,
     "x": 0,
     "y": 192
    },
    "deepnote_cell_height": 214.171875,
    "deepnote_cell_type": "code",
    "deepnote_output_heights": [
     117.171875
    ],
    "deepnote_to_be_reexecuted": true,
    "execution_millis": 9,
    "execution_start": 1645181520213,
    "source_hash": "56933bb1"
   },
   "outputs": [
    {
     "data": {
      "text/plain": [
       "0   2023-01-10 08:12:10+00:00\n",
       "1   2023-01-10 08:25:55+00:00\n",
       "2   2023-01-10 08:06:55+00:00\n",
       "3   2023-01-10 06:42:51+00:00\n",
       "4   2023-01-10 06:21:47+00:00\n",
       "Name: published, dtype: datetime64[ns, UTC]"
      ]
     },
     "execution_count": 21,
     "metadata": {},
     "output_type": "execute_result"
    }
   ],
   "source": [
    "df.published.head()"
   ]
  },
  {
   "cell_type": "code",
   "execution_count": 22,
   "metadata": {
    "cell_id": "00033-8bbf6039-1f53-4cf6-833d-78dff2bd149f",
    "deepnote_app_coordinates": {
     "h": 5,
     "w": 12,
     "x": 0,
     "y": 204
    },
    "deepnote_cell_height": 229.78125,
    "deepnote_cell_type": "code",
    "deepnote_output_heights": [
     78.78125
    ],
    "deepnote_to_be_reexecuted": true,
    "execution_millis": 9,
    "execution_start": 1645181587736,
    "source_hash": "ec0db1c7"
   },
   "outputs": [
    {
     "data": {
      "text/plain": [
       "array([ 8,  8,  8,  6,  6,  8,  4,  0,  3,  5,  6,  6,  2,  9,  6, 22, 19,\n",
       "       12,  7, 23, 15, 14, 11,  7,  0,  6,  6,  0,  8,  3, 22,  5, 16,  6,\n",
       "       22, 17,  9,  2,  1,  8, 10,  5, 14,  8, 12,  9,  7, 21, 13, 17, 18,\n",
       "       10, 10, 17], dtype=int64)"
      ]
     },
     "execution_count": 22,
     "metadata": {},
     "output_type": "execute_result"
    }
   ],
   "source": [
    "# Solution using the dt.hour series\n",
    "\n",
    "df['published_hour'] = df.published.dt.hour\n",
    "df.published_hour.values"
   ]
  },
  {
   "cell_type": "code",
   "execution_count": 23,
   "metadata": {
    "cell_id": "00034-5d7089ea-52a6-4730-8ad4-a2037dd0fa37",
    "deepnote_app_coordinates": {
     "h": 5,
     "w": 12,
     "x": 0,
     "y": 210
    },
    "deepnote_cell_height": 809,
    "deepnote_cell_type": "code",
    "deepnote_to_be_reexecuted": true,
    "execution_millis": 16,
    "execution_start": 1645181602975,
    "source_hash": "bb87f5f1"
   },
   "outputs": [
    {
     "name": "stdout",
     "output_type": "stream",
     "text": [
      "Article 'UK space launch: Historic Cornwall rocket launch ends in failure' at hour '8'\n",
      "Article 'Prince Harry's book officially hits shops after days of leaks' at hour '8'\n",
      "Article 'Anti-strikes bill to be introduced to Parliament' at hour '8'\n",
      "Article 'Two British men missing in Ukraine, say officials' at hour '6'\n",
      "Article 'Scotland's primary schools shut as teachers strike' at hour '6'\n",
      "Article 'Brazil Congress: Big pro-democracy rallies held to condemn rioters' at hour '8'\n",
      "Article 'Potentially classified files found at Biden private office' at hour '4'\n",
      "Article 'Hong Kong: Jimmy Lai's UK lawyers call for meeting with Rishi Sunak' at hour '0'\n",
      "Article 'Diabetes artificial pancreas tech recommended for thousands on NHS' at hour '3'\n",
      "Article 'Peru protests: Many dead in new clashes' at hour '5'\n",
      "Article 'Proud Boys face conspiracy trial for Capitol riot' at hour '6'\n",
      "Article 'California residents told to flee deadly downpour' at hour '6'\n",
      "Article 'Repairing broken gadgets for a greener future' at hour '2'\n",
      "Article 'Can batch cooking help cut your shopping bills?' at hour '9'\n",
      "Article 'The Suffolk manor house where 60 people live together' at hour '6'\n",
      "Article 'Mortgage rate pain: 'Our home buying plans were shot down'' at hour '22'\n",
      "Article 'What is the energy price cap and what will happen to bills?' at hour '19'\n",
      "Article 'When are the second cost-of-living payments and additional £900 due?' at hour '12'\n",
      "Article 'UK inflation rate calculator: How much are prices rising for you?' at hour '7'\n",
      "Article 'Shower at home vs at the gym: What’s cheaper?' at hour '23'\n",
      "Article 'What is the UK inflation rate and why is the cost of living rising?' at hour '15'\n",
      "Article 'Warm winter may lower energy bills later this year' at hour '14'\n",
      "Article 'BBC Food's family £1 recipe meal plan' at hour '11'\n",
      "Article 'The Papers: 'No way back' says Harry, and hope over strikes' at hour '7'\n",
      "Article 'Golden Globes: Will Hollywood stars return after controversy?' at hour '0'\n",
      "Article 'Collette Gallacher: Sisters of murdered girl call for prisoner recall transparency' at hour '6'\n",
      "Article 'Edith Thompson: Hanged woman's pardon reconsidered after U-turn' at hour '6'\n",
      "Article 'Could floating solar farms survive out at sea?' at hour '0'\n",
      "Article 'Energy bill support: Firms fear ‘worst to come’' at hour '8'\n",
      "Article 'Why it is becoming easier to sue big tech in the UK' at hour '3'\n",
      "Article 'Joshimath: The trauma of living in India's sinking Himalayan town' at hour '22'\n",
      "Article 'Gareth Bale, arguably Wales' greatest, departs - the day his country dreaded' at hour '5'\n",
      "Article 'Nottingham Forest boss Steve Cooper defends flying to Blackpool for FA Cup tie' at hour '16'\n",
      "Article 'Watch the best goals from the FA Cup third round' at hour '6'\n",
      "Article 'Masters 2023: Ronnie O'Sullivan sweeps Luca Brecel aside, Jack Lisowski beats John Higgins' at hour '22'\n",
      "Article 'Formula 1: Andretti bid row reflects turbulent relationship among F1's powerbrokers' at hour '17'\n",
      "Article 'Australian Open qualifying: Wins for Katie Boulter, Lily Miyazaki and Jodie Burrage' at hour '9'\n",
      "Article 'The enduring anguish of being the royal 'spare'' at hour '2'\n",
      "Article 'Who is Harry's ghostwriter, JR Moehringer - and how much did he make?' at hour '1'\n",
      "Article 'Prince Harry's Spare: Have leaks helped or hindered his book's PR strategy?' at hour '8'\n",
      "Article 'Prince Harry first heard of Queen Elizabeth's death from BBC website' at hour '10'\n",
      "Article 'The key claims made in Spare' at hour '5'\n",
      "Article 'One unanswered claim at the heart of the story' at hour '14'\n",
      "Article 'Repeated mentions of Diana show Harry's unresolved grief' at hour '8'\n",
      "Article ''Reach out in private' - King Charles' biographer to Prince Harry' at hour '12'\n",
      "Article 'Prince Harry and Meghan: Where do they get their money?' at hour '9'\n",
      "Article 'Prince Harry: Revelations about drug taking and clash with Prince William' at hour '7'\n",
      "Article 'Ros Atkins on... Why the Brazil riots happened' at hour '21'\n",
      "Article 'What do the Bolsonaro protesters in Brazil want?' at hour '13'\n",
      "Article 'Brazil Congress: How police failed to stop the protest' at hour '17'\n",
      "Article 'Brazil protests: Artwork suffers damage beyond repair' at hour '18'\n",
      "Article 'Bolsonaro supporters storm Brazil government buildings - Key moments' at hour '10'\n",
      "Article 'Brazil Congress storming: How did we get here?' at hour '10'\n",
      "Article 'How Trump's allies stoked Brazil Congress attack' at hour '17'\n"
     ]
    }
   ],
   "source": [
    "# Solution using a for loop to iterate over every row\n",
    "\n",
    "# We iterate over each row and, for each, print out the URL.\n",
    "for _, row in df.iterrows():\n",
    "    title = row['title']\n",
    "    hour = row['published_hour']\n",
    "    print(f\"Article '{title}' at hour '{hour}'\")"
   ]
  },
  {
   "cell_type": "markdown",
   "metadata": {
    "cell_id": "00035-a1cb0cfb-99f5-4092-b7a7-baeac1bce7d4",
    "deepnote_app_coordinates": {
     "h": 5,
     "w": 12,
     "x": 0,
     "y": 216
    },
    "deepnote_cell_height": 272.390625,
    "deepnote_cell_type": "markdown"
   },
   "source": [
    "<div class=\"alert alert-info\">\n",
    "\n",
    "##### Exercise 3.2: sanity checks\n",
    "\n",
    "We should always do some sanity checks on the data. For example,\n",
    "- Can you find the type of values that `df.published_hour` takes? Is it `str` or `int`? \n",
    "- What should be the type of `df.published_hour`? If it is not of correct type, can you perform the necessary conversion?\n",
    "- What is the timezone of `df.published`? Is it what we expect? Does it depend on the location of news source? For example, can you check what timezone are the RSS feeds from The New York Times (https://www.nytimes.com/rss)\n",
    "\n",
    "</div>\n",
    "\n"
   ]
  },
  {
   "cell_type": "code",
   "execution_count": null,
   "metadata": {
    "cell_id": "00036-750b3d6a-9e69-46d2-9775-8393560689b1",
    "deepnote_cell_height": 81,
    "deepnote_cell_type": "code",
    "deepnote_to_be_reexecuted": true,
    "source_hash": "b623e53d",
    "tags": []
   },
   "outputs": [],
   "source": []
  },
  {
   "cell_type": "markdown",
   "metadata": {
    "cell_id": "00037-a267a1f7-0244-42e1-9b7f-a8bd4d2e82a4",
    "deepnote_cell_height": 176.796875,
    "deepnote_cell_type": "markdown",
    "tags": []
   },
   "source": [
    "\n",
    "<div class=\"alert alert-info\">\n",
    "\n",
    "##### Exercise 3.3\n",
    "Count up all occurrences of publication hours. Which time of day seems to have the highest level of publication?\n",
    "\n",
    "Note: With pandas, you can use the `value_counts()` method of the `published.dt.hour` series.\n",
    "</div>"
   ]
  },
  {
   "cell_type": "code",
   "execution_count": null,
   "metadata": {
    "cell_id": "00038-52988977-e1ee-4d0d-9a27-dfc588bc7459",
    "deepnote_app_coordinates": {
     "h": 5,
     "w": 12,
     "x": 0,
     "y": 222
    },
    "deepnote_cell_height": 117,
    "deepnote_cell_type": "code",
    "deepnote_to_be_reexecuted": true,
    "execution_millis": 0,
    "execution_start": 1645181627415,
    "source_hash": "73e3a362",
    "tags": []
   },
   "outputs": [],
   "source": [
    "# Type conversion \n",
    "# Check out apply function in pandas here: https://pandas.pydata.org/docs/reference/api/pandas.DataFrame.apply.html\n",
    "df.published_hour = df.published_hour.apply(int)"
   ]
  },
  {
   "cell_type": "code",
   "execution_count": 24,
   "metadata": {
    "cell_id": "00039-7ece946d-eccd-4058-8465-b7ee9e809ed7",
    "deepnote_app_coordinates": {
     "h": 5,
     "w": 12,
     "x": 0,
     "y": 228
    },
    "deepnote_cell_height": 626.515625,
    "deepnote_cell_type": "code",
    "deepnote_to_be_reexecuted": true,
    "execution_millis": 7,
    "execution_start": 1643647759777,
    "source_hash": "906b12f"
   },
   "outputs": [
    {
     "name": "stdout",
     "output_type": "stream",
     "text": [
      "Hour 8 appeared 7 times\n",
      "Hour 6 appeared 8 times\n",
      "Hour 4 appeared 1 times\n",
      "Hour 0 appeared 3 times\n",
      "Hour 3 appeared 2 times\n",
      "Hour 5 appeared 3 times\n",
      "Hour 2 appeared 2 times\n",
      "Hour 9 appeared 3 times\n",
      "Hour 22 appeared 3 times\n",
      "Hour 19 appeared 1 times\n",
      "Hour 12 appeared 2 times\n",
      "Hour 7 appeared 3 times\n",
      "Hour 23 appeared 1 times\n",
      "Hour 15 appeared 1 times\n",
      "Hour 14 appeared 2 times\n",
      "Hour 11 appeared 1 times\n",
      "Hour 16 appeared 1 times\n",
      "Hour 17 appeared 3 times\n",
      "Hour 1 appeared 1 times\n",
      "Hour 10 appeared 3 times\n",
      "Hour 21 appeared 1 times\n",
      "Hour 13 appeared 1 times\n",
      "Hour 18 appeared 1 times\n"
     ]
    }
   ],
   "source": [
    "# Solution #1 using the entries dict:\n",
    "\n",
    "hours_count = {}\n",
    "for entry in d[\"entries\"]:\n",
    "    if not entry[\"published_parsed\"].tm_hour in hours_count:\n",
    "        hours_count[entry[\"published_parsed\"].tm_hour] = 1\n",
    "    else:\n",
    "        hours_count[entry[\"published_parsed\"].tm_hour] += 1\n",
    "\n",
    "for hour, count in hours_count.items():\n",
    "    print(f\"Hour {hour} appeared {count} times\")"
   ]
  },
  {
   "cell_type": "code",
   "execution_count": 25,
   "metadata": {
    "cell_id": "00040-61d4dc15-2428-42ae-ae18-5e74bad45c87",
    "deepnote_app_coordinates": {
     "h": 5,
     "w": 12,
     "x": 0,
     "y": 234
    },
    "deepnote_cell_height": 647.90625,
    "deepnote_cell_type": "code",
    "deepnote_to_be_reexecuted": true,
    "execution_millis": 9,
    "execution_start": 1645181641870,
    "source_hash": "d00b82fe"
   },
   "outputs": [
    {
     "name": "stdout",
     "output_type": "stream",
     "text": [
      "Hour 8 appeared 7 times\n",
      "Hour 6 appeared 8 times\n",
      "Hour 4 appeared 1 times\n",
      "Hour 0 appeared 3 times\n",
      "Hour 3 appeared 2 times\n",
      "Hour 5 appeared 3 times\n",
      "Hour 2 appeared 2 times\n",
      "Hour 9 appeared 3 times\n",
      "Hour 22 appeared 3 times\n",
      "Hour 19 appeared 1 times\n",
      "Hour 12 appeared 2 times\n",
      "Hour 7 appeared 3 times\n",
      "Hour 23 appeared 1 times\n",
      "Hour 15 appeared 1 times\n",
      "Hour 14 appeared 2 times\n",
      "Hour 11 appeared 1 times\n",
      "Hour 16 appeared 1 times\n",
      "Hour 17 appeared 3 times\n",
      "Hour 1 appeared 1 times\n",
      "Hour 10 appeared 3 times\n",
      "Hour 21 appeared 1 times\n",
      "Hour 13 appeared 1 times\n",
      "Hour 18 appeared 1 times\n"
     ]
    }
   ],
   "source": [
    "# Solution #2 using the entries dict with defaultdict:\n",
    "\n",
    "from collections import defaultdict\n",
    "\n",
    "hours_count = defaultdict(int)\n",
    "for entry in d[\"entries\"]:\n",
    "    hours_count[entry[\"published_parsed\"].tm_hour] += 1\n",
    "\n",
    "for hour, count in hours_count.items():\n",
    "    print(f\"Hour {hour} appeared {count} times\")"
   ]
  },
  {
   "cell_type": "code",
   "execution_count": 26,
   "metadata": {
    "cell_id": "00041-7eaba722-b76e-43ef-be89-3c3748846862",
    "deepnote_app_coordinates": {
     "h": 5,
     "w": 12,
     "x": 0,
     "y": 240
    },
    "deepnote_cell_height": 554.515625,
    "deepnote_cell_type": "code",
    "deepnote_to_be_reexecuted": true,
    "execution_millis": 10,
    "execution_start": 1643643504324,
    "source_hash": "fc3e2b16"
   },
   "outputs": [
    {
     "name": "stdout",
     "output_type": "stream",
     "text": [
      "Hour 6 appeared 8 times\n",
      "Hour 8 appeared 7 times\n",
      "Hour 9 appeared 3 times\n",
      "Hour 10 appeared 3 times\n",
      "Hour 17 appeared 3 times\n",
      "Hour 22 appeared 3 times\n",
      "Hour 7 appeared 3 times\n",
      "Hour 5 appeared 3 times\n",
      "Hour 0 appeared 3 times\n",
      "Hour 14 appeared 2 times\n",
      "Hour 3 appeared 2 times\n",
      "Hour 12 appeared 2 times\n",
      "Hour 2 appeared 2 times\n",
      "Hour 19 appeared 1 times\n",
      "Hour 23 appeared 1 times\n",
      "Hour 15 appeared 1 times\n",
      "Hour 11 appeared 1 times\n",
      "Hour 16 appeared 1 times\n",
      "Hour 1 appeared 1 times\n",
      "Hour 4 appeared 1 times\n",
      "Hour 21 appeared 1 times\n",
      "Hour 13 appeared 1 times\n",
      "Hour 18 appeared 1 times\n"
     ]
    }
   ],
   "source": [
    "# Solution #3 using pandas:\n",
    "\n",
    "hours_count = df.published_hour.value_counts()\n",
    "hours_count.sort_values(inplace=True, ascending=False)\n",
    "\n",
    "for hour, count in hours_count.to_dict().items():\n",
    "    print(f\"Hour {hour} appeared {count} times\")"
   ]
  },
  {
   "cell_type": "code",
   "execution_count": 27,
   "metadata": {
    "cell_id": "00042-5afc4162-be54-4fb3-b68d-caba54c87a7f",
    "deepnote_app_coordinates": {
     "h": 5,
     "w": 12,
     "x": 0,
     "y": 246
    },
    "deepnote_cell_height": 708.6875,
    "deepnote_cell_type": "code",
    "deepnote_to_be_reexecuted": true,
    "execution_millis": 8,
    "execution_start": 1643647331459,
    "source_hash": "511d9b5b",
    "tags": []
   },
   "outputs": [
    {
     "name": "stdout",
     "output_type": "stream",
     "text": [
      "Hour: 0 appeard 3 times\n",
      "Hour: 1 appeard 1 times\n",
      "Hour: 2 appeard 2 times\n",
      "Hour: 3 appeard 2 times\n",
      "Hour: 4 appeard 1 times\n",
      "Hour: 5 appeard 3 times\n",
      "Hour: 6 appeard 8 times\n",
      "Hour: 7 appeard 3 times\n",
      "Hour: 8 appeard 7 times\n",
      "Hour: 9 appeard 3 times\n",
      "Hour: 10 appeard 3 times\n",
      "Hour: 11 appeard 1 times\n",
      "Hour: 12 appeard 2 times\n",
      "Hour: 13 appeard 1 times\n",
      "Hour: 14 appeard 2 times\n",
      "Hour: 15 appeard 1 times\n",
      "Hour: 16 appeard 1 times\n",
      "Hour: 17 appeard 3 times\n",
      "Hour: 18 appeard 1 times\n",
      "Hour: 19 appeard 1 times\n",
      "Hour: 20 appeard 0 times\n",
      "Hour: 21 appeard 1 times\n",
      "Hour: 22 appeard 3 times\n",
      "Hour: 23 appeard 1 times\n"
     ]
    }
   ],
   "source": [
    "# Solution #4 using a Counter object\n",
    "\n",
    "from collections import Counter\n",
    "\n",
    "hours_count = Counter(df.published_hour)\n",
    "\n",
    "for i in range(0, 24):\n",
    "    print(f\"Hour: {i} appeard {hours_count[i]} times\")\n"
   ]
  },
  {
   "cell_type": "markdown",
   "metadata": {
    "cell_id": "00043-2c113122-197c-444a-bf69-f2d7cd18acea",
    "deepnote_app_coordinates": {
     "h": 5,
     "w": 12,
     "x": 0,
     "y": 252
    },
    "deepnote_cell_height": 221.59375,
    "deepnote_cell_type": "markdown"
   },
   "source": [
    "<div class=\"alert alert-info\">\n",
    "\n",
    "##### Exercise 3.3: searching for keywords\n",
    "\n",
    "Print out each article title where a keyword is present in either the title or the summary.\n",
    "\n",
    "You can do this by iterating over the entries dictionary `d[\"entries\"]` or, better, by selecting a subset of the DataFrame. For the latter, you can use the methods `df.summary.str.contains` (or `df.title.str.contains`) to search for rows for which the summary (title) contains a given substring.\n",
    "\n",
    "</div>"
   ]
  },
  {
   "cell_type": "code",
   "execution_count": null,
   "metadata": {
    "cell_id": "00044-50989db8-4a4b-4459-978e-50ae54e482fa",
    "deepnote_app_coordinates": {
     "h": 5,
     "w": 12,
     "x": 0,
     "y": 258
    },
    "deepnote_cell_height": 554.515625,
    "deepnote_cell_type": "code",
    "deepnote_to_be_reexecuted": true,
    "execution_millis": 7,
    "execution_start": 1645181676845,
    "source_hash": "6f09aa97"
   },
   "outputs": [
    {
     "name": "stdout",
     "output_type": "stream",
     "text": [
      "Covid: NHS bosses call for free tests and isolation to remain\n",
      "Call to keep testing free and Covid passes scrapped in Wales\n",
      "Covid pass: Wales' law for cinemas and nightclubs ends\n",
      "Covid: What's life like for unvaccinated people in the UK?\n",
      "Child Covid vaccinations: Your questions answered\n",
      "Covid-19 in the UK: How many coronavirus cases are there in my area?\n",
      "What are the Covid self-isolation rules and when will they be scrapped?\n",
      "How do we know Covid vaccines are safe?\n",
      "What are the Covid rules in England, Scotland, Wales and Northern Ireland?\n",
      "Covid: How to look after yourself at home\n",
      "Omicron symptoms: Is a runny nose a cold or Covid?\n",
      "What are the Covid rules in schools and will they stay open this term?\n",
      "What Covid tests do I still need to travel abroad?\n",
      "How do I book my Covid jab and does it work against Omicron?\n",
      "When should I take a Covid test now?\n",
      "Coronavirus treatments: What progress is being made?\n",
      "Covid: How will my exams be different this year?\n",
      "Covid map: Coronavirus cases, deaths, vaccinations by country\n"
     ]
    }
   ],
   "source": [
    "# Solution #1 using the entries dictionary:\n",
    "\n",
    "keyword = \"covid\"\n",
    "\n",
    "for entry in d[\"entries\"]:\n",
    "    if keyword in entry[\"title\"].lower() or keyword in entry[\"summary\"].lower():\n",
    "        print(entry[\"title\"])"
   ]
  },
  {
   "cell_type": "code",
   "execution_count": null,
   "metadata": {
    "cell_id": "00045-28b02751-c485-49e6-a69f-7ed0cba7fdba",
    "deepnote_app_coordinates": {
     "h": 5,
     "w": 12,
     "x": 0,
     "y": 264
    },
    "deepnote_cell_height": 517.703125,
    "deepnote_cell_type": "code",
    "deepnote_output_heights": [
     366.703125
    ],
    "deepnote_to_be_reexecuted": true,
    "execution_millis": 10,
    "execution_start": 1645181690234,
    "source_hash": "8854a680"
   },
   "outputs": [
    {
     "data": {
      "text/plain": [
       "1     Covid: NHS bosses call for free tests and isol...\n",
       "3     Call to keep testing free and Covid passes scr...\n",
       "5     Covid pass: Wales' law for cinemas and nightcl...\n",
       "18    Covid: What's life like for unvaccinated peopl...\n",
       "51    Child Covid vaccinations: Your questions answered\n",
       "53    Covid-19 in the UK: How many coronavirus cases...\n",
       "54    What are the Covid self-isolation rules and wh...\n",
       "56              How do we know Covid vaccines are safe?\n",
       "57    What are the Covid rules in England, Scotland,...\n",
       "58            Covid: How to look after yourself at home\n",
       "60    Omicron symptoms: Is a runny nose a cold or Co...\n",
       "61    What are the Covid rules in schools and will t...\n",
       "62    What Covid tests do I still need to travel abr...\n",
       "63    How do I book my Covid jab and does it work ag...\n",
       "64                 When should I take a Covid test now?\n",
       "65    Coronavirus treatments: What progress is being...\n",
       "66     Covid: How will my exams be different this year?\n",
       "67    Covid map: Coronavirus cases, deaths, vaccinat...\n",
       "Name: title, dtype: object"
      ]
     },
     "execution_count": 25,
     "metadata": {},
     "output_type": "execute_result"
    }
   ],
   "source": [
    "# Solution #2 by filtering the dataframe:\n",
    "\n",
    "df_filtered = df[(df.summary.str.contains(keyword, case=False)) | (df.title.str.contains(keyword, case=False))]\n",
    "df_filtered.title"
   ]
  },
  {
   "cell_type": "markdown",
   "metadata": {
    "cell_id": "00046-008b9b24-39ea-45a9-975b-5b4bbbd72a2b",
    "deepnote_app_coordinates": {
     "h": 5,
     "w": 12,
     "x": 0,
     "y": 270
    },
    "deepnote_cell_height": 140.390625,
    "deepnote_cell_type": "markdown"
   },
   "source": [
    "<div class=\"alert alert-info\">\n",
    "\n",
    "##### Exercise 3.4\n",
    "\n",
    "Now, count the number of entries containing the keyword in either the summary or the title.\n",
    "\n",
    "</div>"
   ]
  },
  {
   "cell_type": "code",
   "execution_count": null,
   "metadata": {
    "cell_id": "00047-f70464d9-7b5d-4029-8c20-a58a3daf7136",
    "deepnote_app_coordinates": {
     "h": 5,
     "w": 12,
     "x": 0,
     "y": 276
    },
    "deepnote_cell_height": 118.1875,
    "deepnote_cell_type": "code",
    "deepnote_output_heights": [
     21.1875
    ],
    "deepnote_to_be_reexecuted": true,
    "execution_millis": 5,
    "execution_start": 1645181702811,
    "source_hash": "c8220eba"
   },
   "outputs": [
    {
     "data": {
      "text/plain": [
       "18"
      ]
     },
     "execution_count": 26,
     "metadata": {},
     "output_type": "execute_result"
    }
   ],
   "source": [
    "len(df_filtered)"
   ]
  },
  {
   "cell_type": "code",
   "execution_count": null,
   "metadata": {
    "cell_id": "00048-dc9806d0-ad13-4856-9757-28c7f622f1a7",
    "deepnote_app_coordinates": {
     "h": 5,
     "w": 12,
     "x": 0,
     "y": 282
    },
    "deepnote_cell_height": 129.6875,
    "deepnote_cell_type": "code",
    "deepnote_to_be_reexecuted": true,
    "execution_millis": 9,
    "execution_start": 1645181703537,
    "source_hash": "c3a28a29"
   },
   "outputs": [
    {
     "name": "stdout",
     "output_type": "stream",
     "text": [
      "18\n"
     ]
    }
   ],
   "source": [
    "title_and_summary = (df.title + df.summary).str.lower()\n",
    "print(title_and_summary.str.contains(keyword).sum())"
   ]
  },
  {
   "cell_type": "markdown",
   "metadata": {
    "cell_id": "00049-37cfb159-247b-4231-9637-18b3ef9465cd",
    "deepnote_app_coordinates": {
     "h": 5,
     "w": 12,
     "x": 0,
     "y": 288
    },
    "deepnote_cell_height": 179.1875,
    "deepnote_cell_type": "markdown"
   },
   "source": [
    "# Homework: RSS from multiple sources\n",
    "\n",
    "In this exercise, we will aggregate RSS feeds from multiple news soruces. As a standard practice, when the same task needs to be repeated, it is useful to write a function to do so. \n",
    "\n",
    "We will use the following `website_name` and `url` pairs for our demonstration."
   ]
  },
  {
   "cell_type": "code",
   "execution_count": null,
   "metadata": {
    "cell_id": "00050-74122a3a-875c-4b41-b2bc-de5a6bbf6bf9",
    "deepnote_app_coordinates": {
     "h": 5,
     "w": 12,
     "x": 0,
     "y": 294
    },
    "deepnote_cell_height": 225,
    "deepnote_cell_type": "code",
    "deepnote_to_be_reexecuted": true,
    "execution_millis": 1,
    "execution_start": 1645181706661,
    "source_hash": "4ad3cb75"
   },
   "outputs": [],
   "source": [
    "rss_feeds = {\n",
    "    'BBC': 'feed://feeds.bbci.co.uk/news/rss.xml',\n",
    "    'Daily Mail': 'feed://dailymail.co.uk/home/index.rss',\n",
    "    'Telegraph': 'feed://telegraph.co.uk/rss.xml',\n",
    "    'Independent': 'feed://independent.co.uk/rss',\n",
    "    'Daily Mirror': 'feed://mirror.co.uk/?service=rss',\n",
    "    'Guardian': 'feed://theguardian.com/uk/rss',\n",
    "    'FT': 'feed://ft.com/rss/home/uk'\n",
    "}"
   ]
  },
  {
   "cell_type": "markdown",
   "metadata": {
    "cell_id": "00051-205ff771-dfce-49b2-a22f-f4e723f17168",
    "deepnote_app_coordinates": {
     "h": 5,
     "w": 12,
     "x": 0,
     "y": 414
    },
    "deepnote_cell_height": 162.796875,
    "deepnote_cell_type": "markdown",
    "tags": []
   },
   "source": [
    "<div class=\"alert alert-info\">\n",
    "\n",
    "##### Exercise 4.1\n",
    "\n",
    "Write a function `parse_rss_feed(url, website_name)` that takes in two inputs, `url` of string type and `website_name` of string type, and returns a pandas `DataFrame` of RSS feeds (including a new column with the website name).\n",
    "\n",
    "</div>"
   ]
  },
  {
   "cell_type": "code",
   "execution_count": null,
   "metadata": {
    "cell_id": "00052-ce3793c3-82f4-4467-8ac5-f4d1ba575f3f",
    "deepnote_app_coordinates": {
     "h": 5,
     "w": 12,
     "x": 0,
     "y": 300
    },
    "deepnote_cell_height": 189,
    "deepnote_cell_type": "code",
    "deepnote_to_be_reexecuted": true,
    "execution_millis": 0,
    "execution_start": 1645181719005,
    "source_hash": "34cec10d"
   },
   "outputs": [],
   "source": [
    "def parse_rss_feed(url, website_name):\n",
    "    parsed_rss = feedparser.parse(url)\n",
    "\n",
    "    df = pd.DataFrame(parsed_rss['entries'], columns=['title', 'summary', 'link', 'published'])\n",
    "    df['website'] = website_name\n",
    "    df.published = pd.to_datetime(df.published)\n",
    "    return df"
   ]
  },
  {
   "cell_type": "markdown",
   "metadata": {
    "cell_id": "00053-03c2d911-703d-4edc-8332-b4ddb6ed9e9d",
    "deepnote_app_coordinates": {
     "h": 5,
     "w": 12,
     "x": 0,
     "y": 420
    },
    "deepnote_cell_height": 140.390625,
    "deepnote_cell_type": "markdown",
    "tags": []
   },
   "source": [
    "<div class=\"alert alert-info\">\n",
    "\n",
    "##### Exercise 4.2\n",
    "\n",
    "Using the pandas `pd.concat` method and the function `parse_rss_feed` aggregate all the RSS feeds from `rss_feeds`.\n",
    "\n",
    "</div>"
   ]
  },
  {
   "cell_type": "code",
   "execution_count": null,
   "metadata": {
    "cell_id": "00054-7a452222-646e-4753-af48-a40b06473eef",
    "deepnote_app_coordinates": {
     "h": 5,
     "w": 12,
     "x": 0,
     "y": 306
    },
    "deepnote_cell_height": 81,
    "deepnote_cell_type": "code",
    "deepnote_to_be_reexecuted": true,
    "execution_millis": 2276,
    "execution_start": 1645181720863,
    "source_hash": "1ea886f8"
   },
   "outputs": [],
   "source": [
    "df_all = pd.concat([parse_rss_feed(feed, website_name) for website_name, feed in rss_feeds.items()], ignore_index=True)"
   ]
  },
  {
   "cell_type": "markdown",
   "metadata": {
    "cell_id": "00055-f68dca80-9766-4b28-b23f-dc3fc9595e0a",
    "deepnote_app_coordinates": {
     "h": 5,
     "w": 12,
     "x": 0,
     "y": 312
    },
    "deepnote_cell_height": 394.1875,
    "deepnote_cell_type": "markdown",
    "tags": []
   },
   "source": [
    "<div class=\"alert alert-info\">\n",
    "\n",
    "##### Exercise 4.3\n",
    "Make a bar plot displaying number of RSS feeds on a particular (a) date, (b) publishing hour, and (c) website. \n",
    "\n",
    "**Hint:** Checkout `sns.countplot`: https://seaborn.pydata.org/generated/seaborn.countplot.html\n",
    "\n",
    "</div>\n",
    "\n",
    "<br />\n",
    "\n",
    "<div class=\"alert alert-warning\">\n",
    "\n",
    "**Note:** As we develop visualization, it is considered a good practice to use a color-blind friendly palette to make your work more inclusive. \n",
    "\n",
    "Here are some resources on colour-blind palette in seaborn:\n",
    "<ul>\n",
    "    <li>https://seaborn.pydata.org/tutorial/color_palettes.html#qualitative-color-palettes</li>\n",
    "    <li>https://medium.com/@neuralnets/data-visualization-with-python-and-seaborn-part-3-69647c19bf2</li>\n",
    "</ul>\n",
    "\n",
    "</div>\n"
   ]
  },
  {
   "cell_type": "code",
   "execution_count": null,
   "metadata": {
    "cell_id": "00056-01322bbf-8d99-4dc4-823c-7f62248a4916",
    "deepnote_app_coordinates": {
     "h": 5,
     "w": 12,
     "x": 0,
     "y": 318
    },
    "deepnote_cell_height": 367,
    "deepnote_cell_type": "code",
    "deepnote_output_heights": [
     270
    ],
    "deepnote_to_be_reexecuted": true,
    "execution_millis": 821,
    "execution_start": 1645181724344,
    "source_hash": "7041453b"
   },
   "outputs": [
    {
     "data": {
      "image/png": "[encoded data removed]",
      "text/plain": [
       "<Figure size 432x288 with 1 Axes>"
      ]
     },
     "metadata": {
      "image/png": {
       "height": 268,
       "width": 439
      }
     },
     "output_type": "display_data"
    }
   ],
   "source": [
    "sns.countplot(y=df_all.published.dt.date, data=df_all);"
   ]
  },
  {
   "cell_type": "markdown",
   "metadata": {
    "cell_id": "00057-fbbbf9be-bbc8-46e5-96dc-f62ef1646423",
    "deepnote_app_coordinates": {
     "h": 5,
     "w": 12,
     "x": 0,
     "y": 324
    },
    "deepnote_cell_height": 46,
    "deepnote_cell_type": "markdown",
    "tags": []
   },
   "source": []
  },
  {
   "cell_type": "code",
   "execution_count": null,
   "metadata": {
    "cell_id": "00058-05132ef7-28de-4db8-80e4-e6eb9a6ad5fd",
    "deepnote_app_coordinates": {
     "h": 5,
     "w": 12,
     "x": 0,
     "y": 330
    },
    "deepnote_cell_height": 367,
    "deepnote_cell_type": "code",
    "deepnote_output_heights": [
     270
    ],
    "deepnote_to_be_reexecuted": true,
    "execution_millis": 424,
    "execution_start": 1645181727674,
    "source_hash": "748ddc4f"
   },
   "outputs": [
    {
     "data": {
      "image/png": "[encoded data removed]",
      "text/plain": [
       "<Figure size 432x288 with 1 Axes>"
      ]
     },
     "metadata": {
      "image/png": {
       "height": 268,
       "width": 389
      }
     },
     "output_type": "display_data"
    }
   ],
   "source": [
    "sns.countplot(y=df_all.published.dt.hour, data=df_all);"
   ]
  },
  {
   "cell_type": "code",
   "execution_count": null,
   "metadata": {
    "cell_id": "00059-bd110603-5652-4944-a131-721b6e4bc6fe",
    "deepnote_app_coordinates": {
     "h": 5,
     "w": 12,
     "x": 0,
     "y": 336
    },
    "deepnote_cell_height": 367,
    "deepnote_cell_type": "code",
    "deepnote_output_heights": [
     270
    ],
    "deepnote_to_be_reexecuted": true,
    "execution_millis": 370,
    "execution_start": 1645181730334,
    "source_hash": "ed3556f2"
   },
   "outputs": [
    {
     "data": {
      "image/png": "[encoded data removed]",
      "text/plain": [
       "<Figure size 432x288 with 1 Axes>"
      ]
     },
     "metadata": {
      "image/png": {
       "height": 268,
       "width": 445
      }
     },
     "output_type": "display_data"
    }
   ],
   "source": [
    "sns.countplot(y=\"website\", data=df_all);"
   ]
  },
  {
   "cell_type": "markdown",
   "metadata": {
    "cell_id": "00060-9829393c-d9e0-46cc-bb29-577445f30686",
    "deepnote_app_coordinates": {
     "h": 5,
     "w": 12,
     "x": 0,
     "y": 426
    },
    "deepnote_cell_height": 433.375,
    "deepnote_cell_type": "markdown",
    "tags": []
   },
   "source": [
    "<div class=\"alert alert-info\">\n",
    "\n",
    "##### Exercise 4.4\n",
    "\n",
    "Find all those RSS Feeds that contain either of the words in its title or summary. Use the following list of words:\n",
    "- Word List A: climate, carbon, sustainab, green, energy\n",
    "- Word List B: police, constable, cops, officer, weapon\n",
    "\n",
    "</div>\n",
    "\n",
    "<div class=\"alert alert-warning\">\n",
    "\n",
    "**Note1:** If you are not familiar with Regular Expressions, it will be useful to learn a bit about them here. From Wikipedia - *A regular expression (shortened as regex or regexp) is a sequence of characters that specifies a search pattern in text.* It can be extremely powerful **if used correctly**. There are various ways one can form patterns. Here is a cheatsheet that can be useful to learn what are various ways one can form these expressions — https://dl.icewarp.com/online_help/203030104.htm. \n",
    "\n",
    "**Note2:** Check here for all pandas functions that can use regex — https://dl.icewarp.com/online_help/203030104.htm and https://kanoki.org/2019/11/12/how-to-use-regex-in-pandas/ \n",
    "\n",
    "</div>"
   ]
  },
  {
   "cell_type": "code",
   "execution_count": null,
   "metadata": {
    "cell_id": "00061-94e2eaa1-df92-424a-9d40-fc9519d1c1ff",
    "deepnote_app_coordinates": {
     "h": 5,
     "w": 12,
     "x": 0,
     "y": 342
    },
    "deepnote_cell_height": 670,
    "deepnote_cell_type": "code",
    "deepnote_to_be_reexecuted": true,
    "execution_millis": 73,
    "execution_start": 1645181737726,
    "source_hash": "c6017436"
   },
   "outputs": [
    {
     "data": {
      "application/vnd.deepnote.dataframe.v3+json": {
       "column_count": 5,
       "columns": [
        {
         "dtype": "object",
         "name": "title",
         "stats": {
          "categories": [
           {
            "count": 1,
            "name": "Two men have a lucky escape when car smashes into cable box right next to them in Willenhall [Video]"
           },
           {
            "count": 1,
            "name": "Spring could arrive 10 DAYS earlier by 2100, study warns"
           },
           {
            "count": 22,
            "name": "22 others"
           }
          ],
          "nan_count": 0,
          "unique_count": 24
         }
        },
        {
         "dtype": "object",
         "name": "summary",
         "stats": {
          "categories": [
           {
            "count": 1,
            "name": "Two men narrowly avoided being ploughed into by an out-of-control car that smashed into a green BT cable box right next to them on Ashmore Lake Way, Willenhall, West Midlands on January 28."
           },
           {
            "count": 22,
            "name": "22 others"
           },
           {
            "count": 1,
            "name": "Missing"
           }
          ],
          "nan_count": 1,
          "unique_count": 23
         }
        },
        {
         "dtype": "object",
         "name": "link",
         "stats": {
          "categories": [
           {
            "count": 1,
            "name": "https://www.dailymail.co.uk/news/article-10526731/Two-men-lucky-escape-car-smashes-cable-box-right-Willenhall-Video.html?ns_mchannel=rss&ns_campaign=1490&ito=1490"
           },
           {
            "count": 1,
            "name": "https://www.dailymail.co.uk/sciencetech/article-10526879/Spring-arrive-10-DAYS-earlier-2100-study-warns.html?ns_mchannel=rss&ns_campaign=1490&ito=1490"
           },
           {
            "count": 22,
            "name": "22 others"
           }
          ],
          "nan_count": 0,
          "unique_count": 24
         }
        },
        {
         "dtype": "datetime64[ns, UTC]",
         "name": "published",
         "stats": {
          "histogram": [
           {
            "bin_end": 1635789357900000000,
            "bin_start": 1634745850000000000,
            "count": 1
           },
           {
            "bin_end": 1636832865800000000,
            "bin_start": 1635789357900000000,
            "count": 1
           },
           {
            "bin_end": 1637876373700000000,
            "bin_start": 1636832865800000000,
            "count": 0
           },
           {
            "bin_end": 1638919881600000000,
            "bin_start": 1637876373700000000,
            "count": 0
           },
           {
            "bin_end": 1639963389500000000,
            "bin_start": 1638919881600000000,
            "count": 0
           },
           {
            "bin_end": 1641006897400000000,
            "bin_start": 1639963389500000000,
            "count": 0
           },
           {
            "bin_end": 1642050405300000000,
            "bin_start": 1641006897400000000,
            "count": 1
           },
           {
            "bin_end": 1643093913200000000,
            "bin_start": 1642050405300000000,
            "count": 3
           },
           {
            "bin_end": 1644137421100000000,
            "bin_start": 1643093913200000000,
            "count": 1
           },
           {
            "bin_end": 1645180929000000000,
            "bin_start": 1644137421100000000,
            "count": 17
           }
          ],
          "max": "2022-02-18 10:42:09+00:00",
          "min": "2021-10-20 16:04:10+00:00",
          "nan_count": 0,
          "unique_count": 24
         }
        },
        {
         "dtype": "object",
         "name": "website",
         "stats": {
          "categories": [
           {
            "count": 17,
            "name": "Guardian"
           },
           {
            "count": 4,
            "name": "Daily Mail"
           },
           {
            "count": 3,
            "name": "2 others"
           }
          ],
          "nan_count": 0,
          "unique_count": 4
         }
        },
        {
         "dtype": "int64",
         "name": "_deepnote_index_column"
        }
       ],
       "row_count": 24,
       "rows": [
        {
         "_deepnote_index_column": 77,
         "link": "https://www.dailymail.co.uk/news/article-10526731/Two-men-lucky-escape-car-smashes-cable-box-right-…",
         "published": "2022-02-18T10:42:09.000000",
         "summary": "Two men narrowly avoided being ploughed into by an out-of-control car that smashed into a green BT …",
         "title": "Two men have a lucky escape when car smashes into cable box right next to them in Willenhall [Video]",
         "website": "Daily Mail"
        },
        {
         "_deepnote_index_column": 86,
         "link": "https://www.dailymail.co.uk/sciencetech/article-10526879/Spring-arrive-10-DAYS-earlier-2100-study-w…",
         "published": "2022-02-18T10:15:42.000000",
         "summary": "Researchers from the Ohio State University say that a drop in the total number of rainy days is cau…",
         "title": "Spring could arrive 10 DAYS earlier by 2100, study warns",
         "website": "Daily Mail"
        },
        {
         "_deepnote_index_column": 121,
         "link": "https://www.dailymail.co.uk/femail/article-10525363/Why-ghosted-best-friend-cruellest-heartbreak-wr…",
         "published": "2022-02-18T02:57:13.000000",
         "summary": "JANE GREEN: Despite being able to move between many different groups, I am the kind of woman who li…",
         "title": "Why being 'ghosted' by a best friend is the cruellest heartbreak, writes top novelist JANE GREEN",
         "website": "Daily Mail"
        },
        {
         "_deepnote_index_column": 217,
         "link": "https://www.dailymail.co.uk/home/you/article-10484797/ROSIE-GREEN-love-like-red-red-nose.html?ns_mc…",
         "published": "2022-02-13T00:02:23.000000",
         "summary": "There's a reason in sickness and in health is included in the marriage vows: illness is testing not…",
         "title": "ROSIE GREEN: My love is like a red, red nose…",
         "website": "Daily Mail"
        },
        {
         "_deepnote_index_column": 261,
         "link": "https://www.telegraph.co.uk/money/consumer-affairs/how-avoid-green-levies-social-environenal-tax-en…",
         "published": "2022-02-18T07:56:16.000000",
         "summary": "nan",
         "title": "How to avoid the green levies that add £153 on to energy bills",
         "website": "Telegraph"
        },
        {
         "_deepnote_index_column": 367,
         "link": "https://www.independent.co.uk/news/uk/home-news/energy-bill-council-tax-help-claim-b2017255.html",
         "published": "2022-02-18T09:47:37.000000",
         "summary": "<p>Electricity and gas costs to soar by almost £700 a year from April, says Ofgem </p>",
         "title": "Who is eligible for help with energy bills and council tax?",
         "website": "Independent"
        },
        {
         "_deepnote_index_column": 380,
         "link": "https://www.independent.co.uk/news/uk/politics/storm-eunice-wind-today-electricity-uk-b2018031.html",
         "published": "2022-02-18T09:35:35.000000",
         "summary": "<p>But storm is expected to cause major disruption </p>",
         "title": "Storm Eunice: Wind energy generating staggering 42% of electricity across Britain",
         "website": "Independent"
        },
        {
         "_deepnote_index_column": 464,
         "link": "https://www.theguardian.com/society/2022/feb/17/double-trouble-with-insulation-in-older-homes",
         "published": "2022-02-17T18:15:08.000000",
         "summary": "<p><strong>Colin Burke </strong>on when thick curtains won’t suffice, <strong>Phil Ebbrell </strong…",
         "title": "Double trouble with insulation in older homes | Letters",
         "website": "Guardian"
        },
        {
         "_deepnote_index_column": 478,
         "link": "https://www.theguardian.com/environment/2022/feb/17/staff-from-climate-sceptic-group-recruited-by-t…",
         "published": "2022-02-17T14:17:51.000000",
         "summary": "<p>Further links emerge between Craig Mackinlay’s Net Zero Scrutiny Group and Global Warming Policy…",
         "title": "Staff from climate sceptic group recruited by Tory MP behind net zero attacks",
         "website": "Guardian"
        },
        {
         "_deepnote_index_column": 479,
         "link": "https://www.theguardian.com/environment/2022/feb/17/harmful-subsidies-why-is-the-world-still-fundin…",
         "published": "2022-02-17T06:30:28.000000",
         "summary": "<p>Government-financed support in sectors including agriculture, fossil fuels and water is incentiv…",
         "title": "Harmful subsidies: why is the world still funding the destruction of nature?",
         "website": "Guardian"
        }
       ]
      },
      "text/html": [
       "<div>\n",
       "<style scoped>\n",
       "    .dataframe tbody tr th:only-of-type {\n",
       "        vertical-align: middle;\n",
       "    }\n",
       "\n",
       "    .dataframe tbody tr th {\n",
       "        vertical-align: top;\n",
       "    }\n",
       "\n",
       "    .dataframe thead th {\n",
       "        text-align: right;\n",
       "    }\n",
       "</style>\n",
       "<table border=\"1\" class=\"dataframe\">\n",
       "  <thead>\n",
       "    <tr style=\"text-align: right;\">\n",
       "      <th></th>\n",
       "      <th>title</th>\n",
       "      <th>summary</th>\n",
       "      <th>link</th>\n",
       "      <th>published</th>\n",
       "      <th>website</th>\n",
       "    </tr>\n",
       "  </thead>\n",
       "  <tbody>\n",
       "    <tr>\n",
       "      <th>77</th>\n",
       "      <td>Two men have a lucky escape when car smashes i...</td>\n",
       "      <td>Two men narrowly avoided being ploughed into b...</td>\n",
       "      <td>https://www.dailymail.co.uk/news/article-10526...</td>\n",
       "      <td>2022-02-18 10:42:09+00:00</td>\n",
       "      <td>Daily Mail</td>\n",
       "    </tr>\n",
       "    <tr>\n",
       "      <th>86</th>\n",
       "      <td>Spring could arrive 10 DAYS earlier by 2100, s...</td>\n",
       "      <td>Researchers from the Ohio State University say...</td>\n",
       "      <td>https://www.dailymail.co.uk/sciencetech/articl...</td>\n",
       "      <td>2022-02-18 10:15:42+00:00</td>\n",
       "      <td>Daily Mail</td>\n",
       "    </tr>\n",
       "    <tr>\n",
       "      <th>121</th>\n",
       "      <td>Why being 'ghosted' by a best friend is the cr...</td>\n",
       "      <td>JANE GREEN: Despite being able to move between...</td>\n",
       "      <td>https://www.dailymail.co.uk/femail/article-105...</td>\n",
       "      <td>2022-02-18 02:57:13+00:00</td>\n",
       "      <td>Daily Mail</td>\n",
       "    </tr>\n",
       "    <tr>\n",
       "      <th>217</th>\n",
       "      <td>ROSIE GREEN: My love is like a red, red nose…</td>\n",
       "      <td>There's a reason in sickness and in health is ...</td>\n",
       "      <td>https://www.dailymail.co.uk/home/you/article-1...</td>\n",
       "      <td>2022-02-13 00:02:23+00:00</td>\n",
       "      <td>Daily Mail</td>\n",
       "    </tr>\n",
       "    <tr>\n",
       "      <th>261</th>\n",
       "      <td>How to avoid the green levies that add £153 on...</td>\n",
       "      <td>NaN</td>\n",
       "      <td>https://www.telegraph.co.uk/money/consumer-aff...</td>\n",
       "      <td>2022-02-18 07:56:16+00:00</td>\n",
       "      <td>Telegraph</td>\n",
       "    </tr>\n",
       "    <tr>\n",
       "      <th>367</th>\n",
       "      <td>Who is eligible for help with energy bills and...</td>\n",
       "      <td>&lt;p&gt;Electricity and gas costs to soar by almost...</td>\n",
       "      <td>https://www.independent.co.uk/news/uk/home-new...</td>\n",
       "      <td>2022-02-18 09:47:37+00:00</td>\n",
       "      <td>Independent</td>\n",
       "    </tr>\n",
       "    <tr>\n",
       "      <th>380</th>\n",
       "      <td>Storm Eunice: Wind energy generating staggerin...</td>\n",
       "      <td>&lt;p&gt;But storm is expected to cause major disrup...</td>\n",
       "      <td>https://www.independent.co.uk/news/uk/politics...</td>\n",
       "      <td>2022-02-18 09:35:35+00:00</td>\n",
       "      <td>Independent</td>\n",
       "    </tr>\n",
       "    <tr>\n",
       "      <th>464</th>\n",
       "      <td>Double trouble with insulation in older homes ...</td>\n",
       "      <td>&lt;p&gt;&lt;strong&gt;Colin Burke &lt;/strong&gt;on when thick ...</td>\n",
       "      <td>https://www.theguardian.com/society/2022/feb/1...</td>\n",
       "      <td>2022-02-17 18:15:08+00:00</td>\n",
       "      <td>Guardian</td>\n",
       "    </tr>\n",
       "    <tr>\n",
       "      <th>478</th>\n",
       "      <td>Staff from climate sceptic group recruited by ...</td>\n",
       "      <td>&lt;p&gt;Further links emerge between Craig Mackinla...</td>\n",
       "      <td>https://www.theguardian.com/environment/2022/f...</td>\n",
       "      <td>2022-02-17 14:17:51+00:00</td>\n",
       "      <td>Guardian</td>\n",
       "    </tr>\n",
       "    <tr>\n",
       "      <th>479</th>\n",
       "      <td>Harmful subsidies: why is the world still fund...</td>\n",
       "      <td>&lt;p&gt;Government-financed support in sectors incl...</td>\n",
       "      <td>https://www.theguardian.com/environment/2022/f...</td>\n",
       "      <td>2022-02-17 06:30:28+00:00</td>\n",
       "      <td>Guardian</td>\n",
       "    </tr>\n",
       "    <tr>\n",
       "      <th>480</th>\n",
       "      <td>UK green economy has failed to grow since 2014...</td>\n",
       "      <td>&lt;p&gt;Office for National Statistics finds ‘no si...</td>\n",
       "      <td>https://www.theguardian.com/environment/2022/f...</td>\n",
       "      <td>2022-02-17 15:12:29+00:00</td>\n",
       "      <td>Guardian</td>\n",
       "    </tr>\n",
       "    <tr>\n",
       "      <th>481</th>\n",
       "      <td>Lobbying fears as MPs’ interest groups receive...</td>\n",
       "      <td>&lt;p&gt;Exclusive: chair of standards committee cal...</td>\n",
       "      <td>https://www.theguardian.com/politics/2022/feb/...</td>\n",
       "      <td>2022-02-17 17:15:41+00:00</td>\n",
       "      <td>Guardian</td>\n",
       "    </tr>\n",
       "    <tr>\n",
       "      <th>487</th>\n",
       "      <td>TfL junk food ad ban has helped Londoners shop...</td>\n",
       "      <td>&lt;p&gt;Researchers estimate a 1,000 calorie decrea...</td>\n",
       "      <td>https://www.theguardian.com/society/2022/feb/1...</td>\n",
       "      <td>2022-02-17 21:34:05+00:00</td>\n",
       "      <td>Guardian</td>\n",
       "    </tr>\n",
       "    <tr>\n",
       "      <th>501</th>\n",
       "      <td>The Tories attacking the UK’s net zero plans -...</td>\n",
       "      <td>&lt;p&gt;The Net Zero Scrutiny Group insists it acce...</td>\n",
       "      <td>https://www.theguardian.com/environment/audio/...</td>\n",
       "      <td>2022-02-18 03:00:01+00:00</td>\n",
       "      <td>Guardian</td>\n",
       "    </tr>\n",
       "    <tr>\n",
       "      <th>507</th>\n",
       "      <td>Life in the Arctic: how climate change is kill...</td>\n",
       "      <td>&lt;p&gt;As the arctic warms four times faster than ...</td>\n",
       "      <td>https://www.theguardian.com/world/video/2022/j...</td>\n",
       "      <td>2022-01-25 11:30:33+00:00</td>\n",
       "      <td>Guardian</td>\n",
       "    </tr>\n",
       "    <tr>\n",
       "      <th>512</th>\n",
       "      <td>Indigenous activists on tackling the climate c...</td>\n",
       "      <td>&lt;p&gt;Despite only making up about 6% of the glob...</td>\n",
       "      <td>https://www.theguardian.com/environment/video/...</td>\n",
       "      <td>2021-11-04 10:30:27+00:00</td>\n",
       "      <td>Guardian</td>\n",
       "    </tr>\n",
       "    <tr>\n",
       "      <th>517</th>\n",
       "      <td>Nikesh Shukla: ‘Reading Spider-Man made me fee...</td>\n",
       "      <td>&lt;p&gt;The author and screenwriter on his love of ...</td>\n",
       "      <td>https://www.theguardian.com/books/2022/feb/18/...</td>\n",
       "      <td>2022-02-18 10:00:02+00:00</td>\n",
       "      <td>Guardian</td>\n",
       "    </tr>\n",
       "    <tr>\n",
       "      <th>522</th>\n",
       "      <td>Lab-grown chicken and ‘bleeding bean burgers’:...</td>\n",
       "      <td>&lt;p&gt;From 3D-printed steak to vegan junk food, p...</td>\n",
       "      <td>https://www.theguardian.com/norm-and-als-guide...</td>\n",
       "      <td>2022-01-17 11:59:20+00:00</td>\n",
       "      <td>Guardian</td>\n",
       "    </tr>\n",
       "    <tr>\n",
       "      <th>524</th>\n",
       "      <td>From flexible working to voice notes: 11 thing...</td>\n",
       "      <td>&lt;p&gt;The pandemic and climate crisis have accele...</td>\n",
       "      <td>https://www.theguardian.com/norm-and-als-guide...</td>\n",
       "      <td>2022-01-17 11:57:35+00:00</td>\n",
       "      <td>Guardian</td>\n",
       "    </tr>\n",
       "    <tr>\n",
       "      <th>529</th>\n",
       "      <td>Eating out is an indulgence – so is putting ca...</td>\n",
       "      <td>&lt;p&gt;Yes, we need to do something about obesity....</td>\n",
       "      <td>https://www.theguardian.com/food/2022/feb/17/e...</td>\n",
       "      <td>2022-02-17 12:00:35+00:00</td>\n",
       "      <td>Guardian</td>\n",
       "    </tr>\n",
       "    <tr>\n",
       "      <th>531</th>\n",
       "      <td>New York brand Collina Strada offers a club-re...</td>\n",
       "      <td>&lt;p&gt;Spoof reality TV film substituted for fashi...</td>\n",
       "      <td>https://www.theguardian.com/fashion/2022/feb/1...</td>\n",
       "      <td>2022-02-17 13:55:20+00:00</td>\n",
       "      <td>Guardian</td>\n",
       "    </tr>\n",
       "    <tr>\n",
       "      <th>535</th>\n",
       "      <td>Tell us: share your experience of the cost of ...</td>\n",
       "      <td>&lt;p&gt;Tell us how you manage financially as price...</td>\n",
       "      <td>https://www.theguardian.com/money/2022/jan/12/...</td>\n",
       "      <td>2022-01-12 15:44:59+00:00</td>\n",
       "      <td>Guardian</td>\n",
       "    </tr>\n",
       "    <tr>\n",
       "      <th>544</th>\n",
       "      <td>Sign up for the Winter Olympics daily briefing...</td>\n",
       "      <td>&lt;p&gt;Running throughout the Winter Olympics, a g...</td>\n",
       "      <td>https://www.theguardian.com/sport/2022/jan/19/...</td>\n",
       "      <td>2022-01-19 12:18:34+00:00</td>\n",
       "      <td>Guardian</td>\n",
       "    </tr>\n",
       "    <tr>\n",
       "      <th>545</th>\n",
       "      <td>Sign up for Down to Earth: The best way to mak...</td>\n",
       "      <td>&lt;p&gt;Subscribe to receive an exclusive weekly pi...</td>\n",
       "      <td>https://www.theguardian.com/info/ng-interactiv...</td>\n",
       "      <td>2021-10-20 16:04:10+00:00</td>\n",
       "      <td>Guardian</td>\n",
       "    </tr>\n",
       "  </tbody>\n",
       "</table>\n",
       "</div>"
      ],
      "text/plain": [
       "                                                 title  \\\n",
       "77   Two men have a lucky escape when car smashes i...   \n",
       "86   Spring could arrive 10 DAYS earlier by 2100, s...   \n",
       "121  Why being 'ghosted' by a best friend is the cr...   \n",
       "217      ROSIE GREEN: My love is like a red, red nose…   \n",
       "261  How to avoid the green levies that add £153 on...   \n",
       "367  Who is eligible for help with energy bills and...   \n",
       "380  Storm Eunice: Wind energy generating staggerin...   \n",
       "464  Double trouble with insulation in older homes ...   \n",
       "478  Staff from climate sceptic group recruited by ...   \n",
       "479  Harmful subsidies: why is the world still fund...   \n",
       "480  UK green economy has failed to grow since 2014...   \n",
       "481  Lobbying fears as MPs’ interest groups receive...   \n",
       "487  TfL junk food ad ban has helped Londoners shop...   \n",
       "501  The Tories attacking the UK’s net zero plans -...   \n",
       "507  Life in the Arctic: how climate change is kill...   \n",
       "512  Indigenous activists on tackling the climate c...   \n",
       "517  Nikesh Shukla: ‘Reading Spider-Man made me fee...   \n",
       "522  Lab-grown chicken and ‘bleeding bean burgers’:...   \n",
       "524  From flexible working to voice notes: 11 thing...   \n",
       "529  Eating out is an indulgence – so is putting ca...   \n",
       "531  New York brand Collina Strada offers a club-re...   \n",
       "535  Tell us: share your experience of the cost of ...   \n",
       "544  Sign up for the Winter Olympics daily briefing...   \n",
       "545  Sign up for Down to Earth: The best way to mak...   \n",
       "\n",
       "                                               summary  \\\n",
       "77   Two men narrowly avoided being ploughed into b...   \n",
       "86   Researchers from the Ohio State University say...   \n",
       "121  JANE GREEN: Despite being able to move between...   \n",
       "217  There's a reason in sickness and in health is ...   \n",
       "261                                                NaN   \n",
       "367  <p>Electricity and gas costs to soar by almost...   \n",
       "380  <p>But storm is expected to cause major disrup...   \n",
       "464  <p><strong>Colin Burke </strong>on when thick ...   \n",
       "478  <p>Further links emerge between Craig Mackinla...   \n",
       "479  <p>Government-financed support in sectors incl...   \n",
       "480  <p>Office for National Statistics finds ‘no si...   \n",
       "481  <p>Exclusive: chair of standards committee cal...   \n",
       "487  <p>Researchers estimate a 1,000 calorie decrea...   \n",
       "501  <p>The Net Zero Scrutiny Group insists it acce...   \n",
       "507  <p>As the arctic warms four times faster than ...   \n",
       "512  <p>Despite only making up about 6% of the glob...   \n",
       "517  <p>The author and screenwriter on his love of ...   \n",
       "522  <p>From 3D-printed steak to vegan junk food, p...   \n",
       "524  <p>The pandemic and climate crisis have accele...   \n",
       "529  <p>Yes, we need to do something about obesity....   \n",
       "531  <p>Spoof reality TV film substituted for fashi...   \n",
       "535  <p>Tell us how you manage financially as price...   \n",
       "544  <p>Running throughout the Winter Olympics, a g...   \n",
       "545  <p>Subscribe to receive an exclusive weekly pi...   \n",
       "\n",
       "                                                  link  \\\n",
       "77   https://www.dailymail.co.uk/news/article-10526...   \n",
       "86   https://www.dailymail.co.uk/sciencetech/articl...   \n",
       "121  https://www.dailymail.co.uk/femail/article-105...   \n",
       "217  https://www.dailymail.co.uk/home/you/article-1...   \n",
       "261  https://www.telegraph.co.uk/money/consumer-aff...   \n",
       "367  https://www.independent.co.uk/news/uk/home-new...   \n",
       "380  https://www.independent.co.uk/news/uk/politics...   \n",
       "464  https://www.theguardian.com/society/2022/feb/1...   \n",
       "478  https://www.theguardian.com/environment/2022/f...   \n",
       "479  https://www.theguardian.com/environment/2022/f...   \n",
       "480  https://www.theguardian.com/environment/2022/f...   \n",
       "481  https://www.theguardian.com/politics/2022/feb/...   \n",
       "487  https://www.theguardian.com/society/2022/feb/1...   \n",
       "501  https://www.theguardian.com/environment/audio/...   \n",
       "507  https://www.theguardian.com/world/video/2022/j...   \n",
       "512  https://www.theguardian.com/environment/video/...   \n",
       "517  https://www.theguardian.com/books/2022/feb/18/...   \n",
       "522  https://www.theguardian.com/norm-and-als-guide...   \n",
       "524  https://www.theguardian.com/norm-and-als-guide...   \n",
       "529  https://www.theguardian.com/food/2022/feb/17/e...   \n",
       "531  https://www.theguardian.com/fashion/2022/feb/1...   \n",
       "535  https://www.theguardian.com/money/2022/jan/12/...   \n",
       "544  https://www.theguardian.com/sport/2022/jan/19/...   \n",
       "545  https://www.theguardian.com/info/ng-interactiv...   \n",
       "\n",
       "                    published      website  \n",
       "77  2022-02-18 10:42:09+00:00   Daily Mail  \n",
       "86  2022-02-18 10:15:42+00:00   Daily Mail  \n",
       "121 2022-02-18 02:57:13+00:00   Daily Mail  \n",
       "217 2022-02-13 00:02:23+00:00   Daily Mail  \n",
       "261 2022-02-18 07:56:16+00:00    Telegraph  \n",
       "367 2022-02-18 09:47:37+00:00  Independent  \n",
       "380 2022-02-18 09:35:35+00:00  Independent  \n",
       "464 2022-02-17 18:15:08+00:00     Guardian  \n",
       "478 2022-02-17 14:17:51+00:00     Guardian  \n",
       "479 2022-02-17 06:30:28+00:00     Guardian  \n",
       "480 2022-02-17 15:12:29+00:00     Guardian  \n",
       "481 2022-02-17 17:15:41+00:00     Guardian  \n",
       "487 2022-02-17 21:34:05+00:00     Guardian  \n",
       "501 2022-02-18 03:00:01+00:00     Guardian  \n",
       "507 2022-01-25 11:30:33+00:00     Guardian  \n",
       "512 2021-11-04 10:30:27+00:00     Guardian  \n",
       "517 2022-02-18 10:00:02+00:00     Guardian  \n",
       "522 2022-01-17 11:59:20+00:00     Guardian  \n",
       "524 2022-01-17 11:57:35+00:00     Guardian  \n",
       "529 2022-02-17 12:00:35+00:00     Guardian  \n",
       "531 2022-02-17 13:55:20+00:00     Guardian  \n",
       "535 2022-01-12 15:44:59+00:00     Guardian  \n",
       "544 2022-01-19 12:18:34+00:00     Guardian  \n",
       "545 2021-10-20 16:04:10+00:00     Guardian  "
      ]
     },
     "execution_count": 34,
     "metadata": {},
     "output_type": "execute_result"
    }
   ],
   "source": [
    "pattern = 'climate|carbon|sustainab|green|energy'\n",
    "\n",
    "matching_items = df_all.title.str.contains(pattern, case=False) | df_all.summary.str.contains(pattern, case=False)\n",
    "\n",
    "df_all[matching_items]"
   ]
  },
  {
   "cell_type": "code",
   "execution_count": null,
   "metadata": {
    "cell_id": "00062-d97bdd1e-26ab-4f02-b56d-0d7d31132fd1",
    "deepnote_app_coordinates": {
     "h": 5,
     "w": 12,
     "x": 0,
     "y": 348
    },
    "deepnote_cell_height": 54,
    "deepnote_cell_type": "visualization",
    "deepnote_to_be_reexecuted": true,
    "execution_millis": 0,
    "execution_start": 1645181739297,
    "source_hash": "b623e53d"
   },
   "outputs": [],
   "source": []
  },
  {
   "cell_type": "code",
   "execution_count": null,
   "metadata": {
    "cell_id": "00063-5c6b7fdc-4a19-4bb8-8041-605d656ab656",
    "deepnote_app_coordinates": {
     "h": 5,
     "w": 12,
     "x": 0,
     "y": 354
    },
    "deepnote_cell_height": 670,
    "deepnote_cell_type": "code",
    "deepnote_to_be_reexecuted": true,
    "execution_millis": 76,
    "execution_start": 1645181739433,
    "source_hash": "3b6887cf"
   },
   "outputs": [
    {
     "data": {
      "application/vnd.deepnote.dataframe.v3+json": {
       "column_count": 5,
       "columns": [
        {
         "dtype": "object",
         "name": "title",
         "stats": {
          "categories": [
           {
            "count": 1,
            "name": "Quiz of the week: Which songs were used as a weapon?"
           },
           {
            "count": 1,
            "name": "SmartWater: The forensic spray helping keep women safe"
           },
           {
            "count": 23,
            "name": "23 others"
           }
          ],
          "nan_count": 0,
          "unique_count": 25
         }
        },
        {
         "dtype": "object",
         "name": "summary",
         "stats": {
          "categories": [
           {
            "count": 1,
            "name": "How closely have you been paying attention to what's been going on during the past seven days?"
           },
           {
            "count": 22,
            "name": "22 others"
           },
           {
            "count": 2,
            "name": "Missing"
           }
          ],
          "nan_count": 2,
          "unique_count": 23
         }
        },
        {
         "dtype": "object",
         "name": "link",
         "stats": {
          "categories": [
           {
            "count": 1,
            "name": "https://www.bbc.co.uk/news/world-60394107?at_medium=RSS&at_campaign=KARANGA"
           },
           {
            "count": 1,
            "name": "https://www.bbc.co.uk/news/technology-60414452?at_medium=RSS&at_campaign=KARANGA"
           },
           {
            "count": 23,
            "name": "23 others"
           }
          ],
          "nan_count": 0,
          "unique_count": 25
         }
        },
        {
         "dtype": "datetime64[ns, UTC]",
         "name": "published",
         "stats": {
          "histogram": [
           {
            "bin_end": 1640357459600000000,
            "bin_start": 1639821600000000000,
            "count": 1
           },
           {
            "bin_end": 1640893319200000000,
            "bin_start": 1640357459600000000,
            "count": 0
           },
           {
            "bin_end": 1641429178800000000,
            "bin_start": 1640893319200000000,
            "count": 0
           },
           {
            "bin_end": 1641965038400000000,
            "bin_start": 1641429178800000000,
            "count": 0
           },
           {
            "bin_end": 1642500898000000000,
            "bin_start": 1641965038400000000,
            "count": 0
           },
           {
            "bin_end": 1643036757600000000,
            "bin_start": 1642500898000000000,
            "count": 1
           },
           {
            "bin_end": 1643572617200000000,
            "bin_start": 1643036757600000000,
            "count": 0
           },
           {
            "bin_end": 1644108476800000000,
            "bin_start": 1643572617200000000,
            "count": 0
           },
           {
            "bin_end": 1644644336400000000,
            "bin_start": 1644108476800000000,
            "count": 0
           },
           {
            "bin_end": 1645180196000000000,
            "bin_start": 1644644336400000000,
            "count": 23
           }
          ],
          "max": "2022-02-18 10:29:56+00:00",
          "min": "2021-12-18 10:00:00+00:00",
          "nan_count": 0,
          "unique_count": 25
         }
        },
        {
         "dtype": "object",
         "name": "website",
         "stats": {
          "categories": [
           {
            "count": 10,
            "name": "Daily Mail"
           },
           {
            "count": 6,
            "name": "Guardian"
           },
           {
            "count": 9,
            "name": "4 others"
           }
          ],
          "nan_count": 0,
          "unique_count": 6
         }
        },
        {
         "dtype": "int64",
         "name": "_deepnote_index_column"
        }
       ],
       "row_count": 25,
       "rows": [
        {
         "_deepnote_index_column": 10,
         "link": "https://www.bbc.co.uk/news/world-60394107?at_medium=RSS&at_campaign=KARANGA",
         "published": "2022-02-17T17:24:51.000000",
         "summary": "How closely have you been paying attention to what's been going on during the past seven days?",
         "title": "Quiz of the week: Which songs were used as a weapon?",
         "website": "BBC"
        },
        {
         "_deepnote_index_column": 19,
         "link": "https://www.bbc.co.uk/news/technology-60414452?at_medium=RSS&at_campaign=KARANGA",
         "published": "2022-02-18T00:55:07.000000",
         "summary": "Police forces in England are trialling SmartWater as one of their domestic violence tools.",
         "title": "SmartWater: The forensic spray helping keep women safe",
         "website": "BBC"
        },
        {
         "_deepnote_index_column": 52,
         "link": "https://www.bbc.co.uk/news/uk-politics-60401498?at_medium=RSS&at_campaign=KARANGA",
         "published": "2022-02-17T00:57:27.000000",
         "summary": "The PM is hoping his replies to police on Downing Street gatherings will get him off the hook.",
         "title": "Can Boris Johnson avoid a lockdown party fine?",
         "website": "BBC"
        },
        {
         "_deepnote_index_column": 83,
         "link": "https://www.dailymail.co.uk/news/article-10526921/Mental-health-nurse-accused-assault-lost-unborn-b…",
         "published": "2022-02-18T10:22:24.000000",
         "summary": "Heidi Mullis, 32, who was pregnant at the time, was charged with assault and using threatening beha…",
         "title": "Mental health nurse who was accused of assault and lost her unborn baby wins two-year court battle",
         "website": "Daily Mail"
        },
        {
         "_deepnote_index_column": 85,
         "link": "https://www.dailymail.co.uk/news/article-10524801/Trudeau-fights-emergency-powers-alive-Parliament.…",
         "published": "2022-02-18T10:17:41.000000",
         "summary": "Protest leaders Tamara Lich and Chris Barber were arrested in Ottawa on Thursday evening as police …",
         "title": "Canada cops arrest Freedom Convoy organizer after warning protesters in Ottawa to 'get out now'",
         "website": "Daily Mail"
        },
        {
         "_deepnote_index_column": 132,
         "link": "https://www.dailymail.co.uk/news/article-10524891/If-Trudeau-orders-police-drag-away-Freedom-Convoy…",
         "published": "2022-02-18T01:36:55.000000",
         "summary": "HENLEY: I fear that Canadians are headed for the sort of volatile, drawn-out, intractable conflict …",
         "title": "If Trudeau orders the police to drag away the Freedom Convoy he'll tear Canada apart: TARA HENLEY",
         "website": "Daily Mail"
        },
        {
         "_deepnote_index_column": 135,
         "link": "https://www.dailymail.co.uk/news/article-10523575/Three-Met-Police-officers-charged-sharing-grossly…",
         "published": "2022-02-18T01:17:30.000000",
         "summary": "Two serving Met Police officers and one former PC have been charged with sharing 'grossly offensive…",
         "title": "Three Met Police officers charged with sharing 'grossly offensive' messages with Wayne Couzens",
         "website": "Daily Mail"
        },
        {
         "_deepnote_index_column": 147,
         "link": "https://www.dailymail.co.uk/news/article-10525213/Katie-Prices-fiance-Carl-Woods-33-insists-didnt-l…",
         "published": "2022-02-17T23:43:29.000000",
         "summary": "Police confirmed today that the 33-year-old, who is engaged to the reality star, had been charged u…",
         "title": "Katie Price's fiance Carl Woods, 33, insists he 'didn't lay a finger on her'",
         "website": "Daily Mail"
        },
        {
         "_deepnote_index_column": 148,
         "link": "https://www.dailymail.co.uk/news/article-10523601/Kamala-Harris-leaves-Munich-Conference-artillery-…",
         "published": "2022-02-17T23:34:50.000000",
         "summary": "Blinken on Thursday said Russia's plans for a false flag operation could include a chemical attack …",
         "title": "Blinken says Putin might use a 'REAL' chemical weapons attack before invading Ukraine",
         "website": "Daily Mail"
        },
        {
         "_deepnote_index_column": 163,
         "link": "https://www.dailymail.co.uk/home/books/article-10524765/A-legend-landscape-decades-John-Constable-s…",
         "published": "2022-02-17T22:03:48.000000",
         "summary": "James Hamilton's latest biography of Suffolk-born landscape painter John Constable is warm-hearted …",
         "title": "A legend in his own landscape: For decades John Constable was spurned by a snobby art establishment",
         "website": "Daily Mail"
        }
       ]
      },
      "text/html": [
       "<div>\n",
       "<style scoped>\n",
       "    .dataframe tbody tr th:only-of-type {\n",
       "        vertical-align: middle;\n",
       "    }\n",
       "\n",
       "    .dataframe tbody tr th {\n",
       "        vertical-align: top;\n",
       "    }\n",
       "\n",
       "    .dataframe thead th {\n",
       "        text-align: right;\n",
       "    }\n",
       "</style>\n",
       "<table border=\"1\" class=\"dataframe\">\n",
       "  <thead>\n",
       "    <tr style=\"text-align: right;\">\n",
       "      <th></th>\n",
       "      <th>title</th>\n",
       "      <th>summary</th>\n",
       "      <th>link</th>\n",
       "      <th>published</th>\n",
       "      <th>website</th>\n",
       "    </tr>\n",
       "  </thead>\n",
       "  <tbody>\n",
       "    <tr>\n",
       "      <th>10</th>\n",
       "      <td>Quiz of the week: Which songs were used as a w...</td>\n",
       "      <td>How closely have you been paying attention to ...</td>\n",
       "      <td>https://www.bbc.co.uk/news/world-60394107?at_m...</td>\n",
       "      <td>2022-02-17 17:24:51+00:00</td>\n",
       "      <td>BBC</td>\n",
       "    </tr>\n",
       "    <tr>\n",
       "      <th>19</th>\n",
       "      <td>SmartWater: The forensic spray helping keep wo...</td>\n",
       "      <td>Police forces in England are trialling SmartWa...</td>\n",
       "      <td>https://www.bbc.co.uk/news/technology-60414452...</td>\n",
       "      <td>2022-02-18 00:55:07+00:00</td>\n",
       "      <td>BBC</td>\n",
       "    </tr>\n",
       "    <tr>\n",
       "      <th>52</th>\n",
       "      <td>Can Boris Johnson avoid a lockdown party fine?</td>\n",
       "      <td>The PM is hoping his replies to police on Down...</td>\n",
       "      <td>https://www.bbc.co.uk/news/uk-politics-6040149...</td>\n",
       "      <td>2022-02-17 00:57:27+00:00</td>\n",
       "      <td>BBC</td>\n",
       "    </tr>\n",
       "    <tr>\n",
       "      <th>83</th>\n",
       "      <td>Mental health nurse who was accused of assault...</td>\n",
       "      <td>Heidi Mullis, 32, who was pregnant at the time...</td>\n",
       "      <td>https://www.dailymail.co.uk/news/article-10526...</td>\n",
       "      <td>2022-02-18 10:22:24+00:00</td>\n",
       "      <td>Daily Mail</td>\n",
       "    </tr>\n",
       "    <tr>\n",
       "      <th>85</th>\n",
       "      <td>Canada cops arrest Freedom Convoy organizer af...</td>\n",
       "      <td>Protest leaders Tamara Lich and Chris Barber w...</td>\n",
       "      <td>https://www.dailymail.co.uk/news/article-10524...</td>\n",
       "      <td>2022-02-18 10:17:41+00:00</td>\n",
       "      <td>Daily Mail</td>\n",
       "    </tr>\n",
       "    <tr>\n",
       "      <th>132</th>\n",
       "      <td>If Trudeau orders the police to drag away the ...</td>\n",
       "      <td>HENLEY: I fear that Canadians are headed for t...</td>\n",
       "      <td>https://www.dailymail.co.uk/news/article-10524...</td>\n",
       "      <td>2022-02-18 01:36:55+00:00</td>\n",
       "      <td>Daily Mail</td>\n",
       "    </tr>\n",
       "    <tr>\n",
       "      <th>135</th>\n",
       "      <td>Three Met Police officers charged with sharing...</td>\n",
       "      <td>Two serving Met Police officers and one former...</td>\n",
       "      <td>https://www.dailymail.co.uk/news/article-10523...</td>\n",
       "      <td>2022-02-18 01:17:30+00:00</td>\n",
       "      <td>Daily Mail</td>\n",
       "    </tr>\n",
       "    <tr>\n",
       "      <th>147</th>\n",
       "      <td>Katie Price's fiance Carl Woods, 33, insists h...</td>\n",
       "      <td>Police confirmed today that the 33-year-old, w...</td>\n",
       "      <td>https://www.dailymail.co.uk/news/article-10525...</td>\n",
       "      <td>2022-02-17 23:43:29+00:00</td>\n",
       "      <td>Daily Mail</td>\n",
       "    </tr>\n",
       "    <tr>\n",
       "      <th>148</th>\n",
       "      <td>Blinken says Putin might use a 'REAL' chemical...</td>\n",
       "      <td>Blinken on Thursday said Russia's plans for a ...</td>\n",
       "      <td>https://www.dailymail.co.uk/news/article-10523...</td>\n",
       "      <td>2022-02-17 23:34:50+00:00</td>\n",
       "      <td>Daily Mail</td>\n",
       "    </tr>\n",
       "    <tr>\n",
       "      <th>163</th>\n",
       "      <td>A legend in his own landscape: For decades Joh...</td>\n",
       "      <td>James Hamilton's latest biography of Suffolk-b...</td>\n",
       "      <td>https://www.dailymail.co.uk/home/books/article...</td>\n",
       "      <td>2022-02-17 22:03:48+00:00</td>\n",
       "      <td>Daily Mail</td>\n",
       "    </tr>\n",
       "    <tr>\n",
       "      <th>166</th>\n",
       "      <td>Police launch murder probe after mother, 35, a...</td>\n",
       "      <td>EXCLUSIVE: The mum - named by friends as Nicho...</td>\n",
       "      <td>https://www.dailymail.co.uk/news/article-10524...</td>\n",
       "      <td>2022-02-17 21:26:59+00:00</td>\n",
       "      <td>Daily Mail</td>\n",
       "    </tr>\n",
       "    <tr>\n",
       "      <th>183</th>\n",
       "      <td>Met Police firearms officer David Carrick, 47,...</td>\n",
       "      <td>PC David Carrick, 47, who has been suspended b...</td>\n",
       "      <td>https://www.dailymail.co.uk/news/article-10524...</td>\n",
       "      <td>2022-02-17 16:03:43+00:00</td>\n",
       "      <td>Daily Mail</td>\n",
       "    </tr>\n",
       "    <tr>\n",
       "      <th>184</th>\n",
       "      <td>Controversial royal satire which mocked Prince...</td>\n",
       "      <td>The Prince, which starred Prince Harry's frien...</td>\n",
       "      <td>https://www.dailymail.co.uk/femail/article-105...</td>\n",
       "      <td>2022-02-17 15:28:56+00:00</td>\n",
       "      <td>Daily Mail</td>\n",
       "    </tr>\n",
       "    <tr>\n",
       "      <th>289</th>\n",
       "      <td>How Chelsea are weaponising the loan system - ...</td>\n",
       "      <td>NaN</td>\n",
       "      <td>https://www.telegraph.co.uk/football/2022/02/1...</td>\n",
       "      <td>2022-02-18 07:30:00+00:00</td>\n",
       "      <td>Telegraph</td>\n",
       "    </tr>\n",
       "    <tr>\n",
       "      <th>296</th>\n",
       "      <td>Canada protest: Police arrest leaders of truck...</td>\n",
       "      <td>NaN</td>\n",
       "      <td>https://www.telegraph.co.uk/world-news/2022/02...</td>\n",
       "      <td>2022-02-18 06:00:00+00:00</td>\n",
       "      <td>Telegraph</td>\n",
       "    </tr>\n",
       "    <tr>\n",
       "      <th>343</th>\n",
       "      <td>Dozens of live monkeys found inside bags secur...</td>\n",
       "      <td>&lt;p&gt;Police suspect it is a failed attempt to sm...</td>\n",
       "      <td>https://www.independent.co.uk/asia/southeast-a...</td>\n",
       "      <td>2022-02-18 10:16:32+00:00</td>\n",
       "      <td>Independent</td>\n",
       "    </tr>\n",
       "    <tr>\n",
       "      <th>376</th>\n",
       "      <td>Met Police deletes ‘unacceptable’ tweet critic...</td>\n",
       "      <td>&lt;p&gt;London mayor says force ‘amplifying informa...</td>\n",
       "      <td>https://www.independent.co.uk/news/uk/politics...</td>\n",
       "      <td>2022-02-17 17:30:54+00:00</td>\n",
       "      <td>Independent</td>\n",
       "    </tr>\n",
       "    <tr>\n",
       "      <th>381</th>\n",
       "      <td>Thieves kill TV producer in Pakistan's Karachi...</td>\n",
       "      <td>Police say thieves on a motorcycle shot and ki...</td>\n",
       "      <td>https://www.independent.co.uk/news/karachi-pak...</td>\n",
       "      <td>2022-02-18 09:32:56+00:00</td>\n",
       "      <td>Independent</td>\n",
       "    </tr>\n",
       "    <tr>\n",
       "      <th>414</th>\n",
       "      <td>'Perfectly healthy' man, 20, dies suddenly as ...</td>\n",
       "      <td>Police broke into missing Abraham Bamgbose's f...</td>\n",
       "      <td>https://www.mirror.co.uk/news/uk-news/perfectl...</td>\n",
       "      <td>2022-02-18 10:29:56+00:00</td>\n",
       "      <td>Daily Mirror</td>\n",
       "    </tr>\n",
       "    <tr>\n",
       "      <th>454</th>\n",
       "      <td>British police are hounding a journalist for h...</td>\n",
       "      <td>&lt;p&gt;Chris Mullin’s exposure of the Birmingham S...</td>\n",
       "      <td>https://www.theguardian.com/commentisfree/2022...</td>\n",
       "      <td>2022-02-18 08:00:06+00:00</td>\n",
       "      <td>Guardian</td>\n",
       "    </tr>\n",
       "    <tr>\n",
       "      <th>459</th>\n",
       "      <td>Clearly Britain loses more than it gains from ...</td>\n",
       "      <td>&lt;p&gt;The royal jubilee would be a cheerful end t...</td>\n",
       "      <td>https://www.theguardian.com/commentisfree/2022...</td>\n",
       "      <td>2022-02-17 14:50:36+00:00</td>\n",
       "      <td>Guardian</td>\n",
       "    </tr>\n",
       "    <tr>\n",
       "      <th>464</th>\n",
       "      <td>Double trouble with insulation in older homes ...</td>\n",
       "      <td>&lt;p&gt;&lt;strong&gt;Colin Burke &lt;/strong&gt;on when thick ...</td>\n",
       "      <td>https://www.theguardian.com/society/2022/feb/1...</td>\n",
       "      <td>2022-02-17 18:15:08+00:00</td>\n",
       "      <td>Guardian</td>\n",
       "    </tr>\n",
       "    <tr>\n",
       "      <th>485</th>\n",
       "      <td>Angela Rayner: police should ‘shoot terrorists...</td>\n",
       "      <td>&lt;p&gt;Deputy Labour leader criticised for hardlin...</td>\n",
       "      <td>https://www.theguardian.com/politics/2022/feb/...</td>\n",
       "      <td>2022-02-17 17:12:44+00:00</td>\n",
       "      <td>Guardian</td>\n",
       "    </tr>\n",
       "    <tr>\n",
       "      <th>510</th>\n",
       "      <td>The Black Cop: a police officer's story of rac...</td>\n",
       "      <td>&lt;p&gt;This intimate portrait of Gamal 'G' Turawa,...</td>\n",
       "      <td>https://www.theguardian.com/global/video/2022/...</td>\n",
       "      <td>2022-01-19 12:00:11+00:00</td>\n",
       "      <td>Guardian</td>\n",
       "    </tr>\n",
       "    <tr>\n",
       "      <th>514</th>\n",
       "      <td>How white mobs firebombed homes and decimated ...</td>\n",
       "      <td>&lt;p&gt;&lt;i&gt;This is the final episode of &lt;a href=\"ht...</td>\n",
       "      <td>https://www.theguardian.com/us-news/video/2021...</td>\n",
       "      <td>2021-12-18 10:00:00+00:00</td>\n",
       "      <td>Guardian</td>\n",
       "    </tr>\n",
       "  </tbody>\n",
       "</table>\n",
       "</div>"
      ],
      "text/plain": [
       "                                                 title  \\\n",
       "10   Quiz of the week: Which songs were used as a w...   \n",
       "19   SmartWater: The forensic spray helping keep wo...   \n",
       "52      Can Boris Johnson avoid a lockdown party fine?   \n",
       "83   Mental health nurse who was accused of assault...   \n",
       "85   Canada cops arrest Freedom Convoy organizer af...   \n",
       "132  If Trudeau orders the police to drag away the ...   \n",
       "135  Three Met Police officers charged with sharing...   \n",
       "147  Katie Price's fiance Carl Woods, 33, insists h...   \n",
       "148  Blinken says Putin might use a 'REAL' chemical...   \n",
       "163  A legend in his own landscape: For decades Joh...   \n",
       "166  Police launch murder probe after mother, 35, a...   \n",
       "183  Met Police firearms officer David Carrick, 47,...   \n",
       "184  Controversial royal satire which mocked Prince...   \n",
       "289  How Chelsea are weaponising the loan system - ...   \n",
       "296  Canada protest: Police arrest leaders of truck...   \n",
       "343  Dozens of live monkeys found inside bags secur...   \n",
       "376  Met Police deletes ‘unacceptable’ tweet critic...   \n",
       "381  Thieves kill TV producer in Pakistan's Karachi...   \n",
       "414  'Perfectly healthy' man, 20, dies suddenly as ...   \n",
       "454  British police are hounding a journalist for h...   \n",
       "459  Clearly Britain loses more than it gains from ...   \n",
       "464  Double trouble with insulation in older homes ...   \n",
       "485  Angela Rayner: police should ‘shoot terrorists...   \n",
       "510  The Black Cop: a police officer's story of rac...   \n",
       "514  How white mobs firebombed homes and decimated ...   \n",
       "\n",
       "                                               summary  \\\n",
       "10   How closely have you been paying attention to ...   \n",
       "19   Police forces in England are trialling SmartWa...   \n",
       "52   The PM is hoping his replies to police on Down...   \n",
       "83   Heidi Mullis, 32, who was pregnant at the time...   \n",
       "85   Protest leaders Tamara Lich and Chris Barber w...   \n",
       "132  HENLEY: I fear that Canadians are headed for t...   \n",
       "135  Two serving Met Police officers and one former...   \n",
       "147  Police confirmed today that the 33-year-old, w...   \n",
       "148  Blinken on Thursday said Russia's plans for a ...   \n",
       "163  James Hamilton's latest biography of Suffolk-b...   \n",
       "166  EXCLUSIVE: The mum - named by friends as Nicho...   \n",
       "183  PC David Carrick, 47, who has been suspended b...   \n",
       "184  The Prince, which starred Prince Harry's frien...   \n",
       "289                                                NaN   \n",
       "296                                                NaN   \n",
       "343  <p>Police suspect it is a failed attempt to sm...   \n",
       "376  <p>London mayor says force ‘amplifying informa...   \n",
       "381  Police say thieves on a motorcycle shot and ki...   \n",
       "414  Police broke into missing Abraham Bamgbose's f...   \n",
       "454  <p>Chris Mullin’s exposure of the Birmingham S...   \n",
       "459  <p>The royal jubilee would be a cheerful end t...   \n",
       "464  <p><strong>Colin Burke </strong>on when thick ...   \n",
       "485  <p>Deputy Labour leader criticised for hardlin...   \n",
       "510  <p>This intimate portrait of Gamal 'G' Turawa,...   \n",
       "514  <p><i>This is the final episode of <a href=\"ht...   \n",
       "\n",
       "                                                  link  \\\n",
       "10   https://www.bbc.co.uk/news/world-60394107?at_m...   \n",
       "19   https://www.bbc.co.uk/news/technology-60414452...   \n",
       "52   https://www.bbc.co.uk/news/uk-politics-6040149...   \n",
       "83   https://www.dailymail.co.uk/news/article-10526...   \n",
       "85   https://www.dailymail.co.uk/news/article-10524...   \n",
       "132  https://www.dailymail.co.uk/news/article-10524...   \n",
       "135  https://www.dailymail.co.uk/news/article-10523...   \n",
       "147  https://www.dailymail.co.uk/news/article-10525...   \n",
       "148  https://www.dailymail.co.uk/news/article-10523...   \n",
       "163  https://www.dailymail.co.uk/home/books/article...   \n",
       "166  https://www.dailymail.co.uk/news/article-10524...   \n",
       "183  https://www.dailymail.co.uk/news/article-10524...   \n",
       "184  https://www.dailymail.co.uk/femail/article-105...   \n",
       "289  https://www.telegraph.co.uk/football/2022/02/1...   \n",
       "296  https://www.telegraph.co.uk/world-news/2022/02...   \n",
       "343  https://www.independent.co.uk/asia/southeast-a...   \n",
       "376  https://www.independent.co.uk/news/uk/politics...   \n",
       "381  https://www.independent.co.uk/news/karachi-pak...   \n",
       "414  https://www.mirror.co.uk/news/uk-news/perfectl...   \n",
       "454  https://www.theguardian.com/commentisfree/2022...   \n",
       "459  https://www.theguardian.com/commentisfree/2022...   \n",
       "464  https://www.theguardian.com/society/2022/feb/1...   \n",
       "485  https://www.theguardian.com/politics/2022/feb/...   \n",
       "510  https://www.theguardian.com/global/video/2022/...   \n",
       "514  https://www.theguardian.com/us-news/video/2021...   \n",
       "\n",
       "                    published       website  \n",
       "10  2022-02-17 17:24:51+00:00           BBC  \n",
       "19  2022-02-18 00:55:07+00:00           BBC  \n",
       "52  2022-02-17 00:57:27+00:00           BBC  \n",
       "83  2022-02-18 10:22:24+00:00    Daily Mail  \n",
       "85  2022-02-18 10:17:41+00:00    Daily Mail  \n",
       "132 2022-02-18 01:36:55+00:00    Daily Mail  \n",
       "135 2022-02-18 01:17:30+00:00    Daily Mail  \n",
       "147 2022-02-17 23:43:29+00:00    Daily Mail  \n",
       "148 2022-02-17 23:34:50+00:00    Daily Mail  \n",
       "163 2022-02-17 22:03:48+00:00    Daily Mail  \n",
       "166 2022-02-17 21:26:59+00:00    Daily Mail  \n",
       "183 2022-02-17 16:03:43+00:00    Daily Mail  \n",
       "184 2022-02-17 15:28:56+00:00    Daily Mail  \n",
       "289 2022-02-18 07:30:00+00:00     Telegraph  \n",
       "296 2022-02-18 06:00:00+00:00     Telegraph  \n",
       "343 2022-02-18 10:16:32+00:00   Independent  \n",
       "376 2022-02-17 17:30:54+00:00   Independent  \n",
       "381 2022-02-18 09:32:56+00:00   Independent  \n",
       "414 2022-02-18 10:29:56+00:00  Daily Mirror  \n",
       "454 2022-02-18 08:00:06+00:00      Guardian  \n",
       "459 2022-02-17 14:50:36+00:00      Guardian  \n",
       "464 2022-02-17 18:15:08+00:00      Guardian  \n",
       "485 2022-02-17 17:12:44+00:00      Guardian  \n",
       "510 2022-01-19 12:00:11+00:00      Guardian  \n",
       "514 2021-12-18 10:00:00+00:00      Guardian  "
      ]
     },
     "execution_count": 35,
     "metadata": {},
     "output_type": "execute_result"
    }
   ],
   "source": [
    "pattern = 'police|constable|cops|officer|weapon'\n",
    "\n",
    "matching_items = df_all.title.str.contains(pattern, case=False) | df_all.summary.str.contains(pattern, case=False)\n",
    "\n",
    "df_all[matching_items]"
   ]
  },
  {
   "cell_type": "markdown",
   "metadata": {
    "cell_id": "00064-a6c5ead6-3135-4e41-839d-ed7a783002dc",
    "deepnote_cell_height": 305.578125,
    "deepnote_cell_type": "markdown",
    "tags": []
   },
   "source": [
    "<div class=\"alert alert-danger\">\n",
    "\n",
    "##### Advanced! If you need a challenge: robust search for keywords\n",
    "\n",
    "The method we used works well for a basic search, but is not perfect. For instance, searching for ‘river’ will match both ‘river’, ‘rivers’, but also ’screwdrivers’, ‘strivers’, and ‘driver’. A much better solution is to use simple NLP techniques to extract words and lemmatize them. If you are interested, look at spacy's <a href=\"https://spacy.io/usage/linguistic-features#lemmatization\">lemmatization tutorial</a>.\n",
    "\n",
    "This library is reasonably easy to use, highly recommend using it! If you are interested, try below to install spacy and define a small function that match a word in a sentence:\n",
    "\n",
    "```\n",
    "match_word(\"driver\", \"My screwdriver is on the table\")  # returns False\n",
    "match_word(\"read\", \"I was reading the paper.\")  # returns True\n",
    "``` \n",
    "\n",
    "</div>"
   ]
  },
  {
   "cell_type": "code",
   "execution_count": null,
   "metadata": {
    "cell_id": "00065-e23dc00f-8769-4beb-873d-318748115ef0",
    "deepnote_cell_height": 81,
    "deepnote_cell_type": "code",
    "deepnote_to_be_reexecuted": true,
    "source_hash": "b623e53d",
    "tags": []
   },
   "outputs": [],
   "source": []
  },
  {
   "cell_type": "markdown",
   "metadata": {
    "cell_id": "00066-e2f58170-a26f-46e4-94fb-825a48d72d44",
    "deepnote_app_coordinates": {
     "h": 5,
     "w": 12,
     "x": 0,
     "y": 360
    },
    "deepnote_cell_height": 410.984375,
    "deepnote_cell_type": "markdown"
   },
   "source": [
    "# Optional: RSS Aggregators\n",
    "\n",
    "Imagine you want to get RSS feeds from all available news sources in the UK, far more than you know of. Due to the widespread use of RSS feeds, there are commercial services that have been developed to aggregate RSS feeds from various sources. NewsCatcher (and its Python package `newscatcherapi`) is one of them. Read more about it here: https://github.com/NewscatcherAPI/newscatcherapi-sdk-python\n",
    "\n",
    "\n",
    "In this exercise, we will run a basic setup of the library. There are far more things that can be done with such aggregators, but our aim is to expose to the tools that you can use in your research.\n",
    "\n",
    "<div class=\"alert alert-info\">\n",
    "\n",
    "- First, install the Python package `newscatcherapi`\n",
    "\n",
    "- Second, register at app.newscatcherapi.com for a free acount and save your access key.\n",
    "\n",
    "- Finally, as a simple exercise, query the aggregator to collect all news article related to climate and do a value count on the source. \n",
    "</div>"
   ]
  },
  {
   "cell_type": "code",
   "execution_count": null,
   "metadata": {
    "cell_id": "00067-f330a449-9581-46ed-95ee-4510e517b27f",
    "deepnote_app_coordinates": {
     "h": 5,
     "w": 12,
     "x": 0,
     "y": 366
    },
    "deepnote_cell_height": 99,
    "deepnote_cell_type": "code",
    "deepnote_to_be_reexecuted": true,
    "execution_millis": 3913,
    "execution_start": 1643643506837,
    "source_hash": "ad40862"
   },
   "outputs": [],
   "source": [
    "%%capture\n",
    "!pip install newscatcherapi"
   ]
  },
  {
   "cell_type": "code",
   "execution_count": null,
   "metadata": {
    "cell_id": "00068-3d30b198-b3ac-4018-b1e6-9cb312f0827e",
    "deepnote_app_coordinates": {
     "h": 5,
     "w": 12,
     "x": 0,
     "y": 372
    },
    "deepnote_cell_height": 81,
    "deepnote_cell_type": "code",
    "deepnote_to_be_reexecuted": true,
    "execution_millis": 5,
    "execution_start": 1643643510751,
    "source_hash": "83236973"
   },
   "outputs": [],
   "source": [
    "from newscatcherapi import NewsCatcherApiClient"
   ]
  },
  {
   "cell_type": "code",
   "execution_count": null,
   "metadata": {
    "cell_id": "00069-15753505-f2c4-4bd9-893d-1709d039f474",
    "deepnote_app_coordinates": {
     "h": 5,
     "w": 12,
     "x": 0,
     "y": 378
    },
    "deepnote_cell_height": 207,
    "deepnote_cell_type": "code",
    "deepnote_to_be_reexecuted": true,
    "execution_millis": 1,
    "execution_start": 1643643510759,
    "source_hash": "49bccec6"
   },
   "outputs": [],
   "source": [
    "newscatcherapi = NewsCatcherApiClient(x_api_key='YOUR API KEY GOES HERE') \n",
    "\n",
    "all_articles = newscatcherapi.get_search(q='climate',\n",
    "                                         lang='en',\n",
    "                                         countries='GB',\n",
    "                                         page_size=100)\n",
    "\n",
    "df_news = pd.DataFrame(all_articles['articles'])"
   ]
  },
  {
   "cell_type": "markdown",
   "metadata": {
    "cell_id": "00070-84c0609c-23c9-4b25-8ed4-9d0feeed8694",
    "deepnote_cell_height": 74.796875,
    "deepnote_cell_type": "markdown",
    "tags": []
   },
   "source": [
    "Explore how NewsCatcher encodes information. What additional fields does this service offer compared to RSS feeds?\n",
    "Where do you think they come from?"
   ]
  },
  {
   "cell_type": "code",
   "execution_count": null,
   "metadata": {
    "cell_id": "00071-604fd0ed-7dee-4e6d-b658-72803db20235",
    "deepnote_cell_height": 81,
    "deepnote_cell_type": "code",
    "deepnote_to_be_reexecuted": true,
    "source_hash": "3cb29d37",
    "tags": []
   },
   "outputs": [],
   "source": [
    "df_news.head()"
   ]
  },
  {
   "cell_type": "code",
   "execution_count": null,
   "metadata": {
    "cell_id": "00072-3d23acbd-e677-4f70-afb2-2118af946c59",
    "deepnote_app_coordinates": {
     "h": 5,
     "w": 12,
     "x": 0,
     "y": 402
    },
    "deepnote_cell_height": 350,
    "deepnote_cell_type": "code",
    "deepnote_output_heights": [
     253
    ],
    "deepnote_to_be_reexecuted": true,
    "execution_millis": 371,
    "execution_start": 1643643511255,
    "source_hash": "6b862059"
   },
   "outputs": [
    {
     "data": {
      "image/png": "[encoded data removed]",
      "text/plain": [
       "<Figure size 432x288 with 1 Axes>"
      ]
     },
     "metadata": {
      "image/png": {
       "height": 251,
       "width": 482
      }
     },
     "output_type": "display_data"
    }
   ],
   "source": [
    "df_news.clean_url.value_counts()[:10].plot.barh();"
   ]
  },
  {
   "cell_type": "markdown",
   "metadata": {
    "cell_id": "00073-e3527f7a-5009-46a8-b289-024dc0a4d5ca",
    "deepnote_cell_height": 104.390625,
    "deepnote_cell_type": "markdown",
    "tags": []
   },
   "source": [
    "<div class=\"alert alert-info\">\n",
    "\n",
    "Now, reproduce the exercise 4.4 using NewsCatcher. What do you notice in terms of volume of collected articles?\n",
    "\n",
    "</div>"
   ]
  },
  {
   "cell_type": "code",
   "execution_count": null,
   "metadata": {
    "cell_id": "00074-4e71ca3b-a014-4ad5-879d-030d47f66e91",
    "deepnote_cell_height": 81,
    "deepnote_cell_type": "code",
    "deepnote_to_be_reexecuted": true,
    "source_hash": "b623e53d",
    "tags": []
   },
   "outputs": [],
   "source": []
  },
  {
   "cell_type": "markdown",
   "metadata": {
    "cell_id": "00075-ac931006-b2cc-4b70-b103-31faad1a279e",
    "deepnote_cell_height": 553.375,
    "deepnote_cell_type": "markdown",
    "tags": []
   },
   "source": [
    "## Documenting your final dataset using a ‘datasheet’\n",
    "\n",
    "In exercise 4.4, you built a dataset from online sources, parsed, filtered, processed using code you developed. Increasingly, journals and conferences ask researchers to document how they collected data.\n",
    "\n",
    "Gebru et al. proposed in 2018 a new toolkit ([Datasheets for Datasets](https://arxiv.org/abs/1803.09010)) to improve the transparency when releasing datasets as well as the standardise how datasets are described. A ‘datasheet’ documents the motivation behind the dataset creation, the dataset composition, collection process, recommended uses, and many other characteristics. In the words of Gebru et al., the goal is to:\n",
    "\n",
    "> facilitate better communication between dataset creators and dataset consumers, and encourage the […] community to prioritize transparency and accountability.\n",
    "\n",
    "Throughout this course, we will aim to build on the practice of documenting our datasets. For each week, the homework  will comprise some form of dataset collection. You will also be required to answer 4-5 questions on the dataset you collect for that week.\n",
    "\n",
    "You can find an example of a datasheet here: https://github.com/zykls/folktables/blob/main/datasheet.md for the Folktables Python package. You can think of a datasheet as a set of standardised questions & answers that describe the content and ethics of your dataset.\n",
    "\n",
    "--------\n",
    "\n",
    "\n",
    "<div class=\"alert alert-info\">\n",
    "For this week's homework, we will start with basic Motivation and Composition questions. Look back at the dataset you assembed for exercise 4.4 and answer the following questions.\n",
    "</div>"
   ]
  },
  {
   "cell_type": "markdown",
   "metadata": {
    "cell_id": "00076-96fb1d2c-7ff6-4493-b0c4-038b1bca7ee8",
    "deepnote_cell_height": 125.1875,
    "deepnote_cell_type": "markdown",
    "tags": []
   },
   "source": [
    "\n",
    ">**For what purpose was the dataset created?** *Was there a specific task in mind? Was there a specific gap that needed to be filled?*\n",
    ">\n",
    ">..."
   ]
  },
  {
   "cell_type": "markdown",
   "metadata": {
    "cell_id": "00077-10a7ebff-2c61-413e-a7f5-223ab09e06a3",
    "deepnote_cell_height": 102.796875,
    "deepnote_cell_type": "markdown",
    "tags": []
   },
   "source": [
    "\n",
    ">**Who created the dataset (e.g., which team) and on behalf of which entity?**\n",
    ">\n",
    ">..."
   ]
  },
  {
   "cell_type": "markdown",
   "metadata": {
    "cell_id": "00078-06819048-c4ed-46be-bfe9-7bfae6eae930",
    "deepnote_cell_height": 147.59375,
    "deepnote_cell_type": "markdown",
    "tags": []
   },
   "source": [
    "\n",
    ">**What do the instances that comprise the dataset represent (e.g., documents, photos, people, countries)?** Are there multiple types of instances (e.g., movies, users, and ratings; people and interactions between them; nodes and edges)? Please provide a description.\n",
    ">\n",
    ">..."
   ]
  },
  {
   "cell_type": "markdown",
   "metadata": {
    "cell_id": "00079-8ba66278-3307-4f7a-86ed-746245e1a4f4",
    "deepnote_cell_height": 102.796875,
    "deepnote_cell_type": "markdown",
    "tags": []
   },
   "source": [
    "\n",
    ">**How many instances are there in total (of each type, if appropriate)?**\n",
    ">\n",
    ">...\n"
   ]
  },
  {
   "cell_type": "markdown",
   "metadata": {
    "cell_id": "00080-8ce2f940-f2b3-4f13-9ad8-8ecc511985c3",
    "deepnote_cell_height": 192.390625,
    "deepnote_cell_type": "markdown",
    "tags": []
   },
   "source": [
    "\n",
    "\n",
    ">**Does the dataset contain all possible instances or is it a sample (not necessarily random) of instances from a larger set? If the dataset is a sample, then what is the larger set? Is the sample representative of the larger set (e.g., geographic coverage)?** If so, please describe how this representativeness was validated/verified. If it is not representative of the larger set, please describe why not (e.g., to cover a more diverse range of instances, because instances were withheld or unavailable)\n",
    ">\n",
    ">..."
   ]
  },
  {
   "cell_type": "code",
   "execution_count": null,
   "metadata": {
    "cell_id": "00081-1b9014f9-7bcf-49d0-8384-207ec7ae43d3",
    "deepnote_app_coordinates": {
     "h": 5,
     "w": 12,
     "x": 0,
     "y": 408
    },
    "deepnote_cell_height": 81,
    "deepnote_cell_type": "code",
    "deepnote_to_be_reexecuted": true,
    "execution_millis": 1,
    "execution_start": 1643643511626,
    "source_hash": "b623e53d"
   },
   "outputs": [],
   "source": []
  },
  {
   "cell_type": "markdown",
   "metadata": {
    "created_in_deepnote_cell": true,
    "deepnote_cell_type": "markdown",
    "tags": []
   },
   "source": [
    "<a style='text-decoration:none;line-height:16px;display:flex;color:#5B5B62;padding:10px;justify-content:end;' href='https://deepnote.com?utm_source=created-in-deepnote-cell&projectId=f746e373-dc41-4dbe-b3f9-5f3af42ff658' target=\"_blank\">\n",
    "<img alt='Created in deepnote.com' style='display:inline;max-height:16px;margin:0px;margin-right:7.5px;' src='data:image/svg+xml;base64,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' > </img>\n",
    "Created in <span style='font-weight:600;margin-left:4px;'>Deepnote</span></a>"
   ]
  }
 ],
 "metadata": {
  "deepnote": {},
  "deepnote_app_layout": "article",
  "deepnote_execution_queue": [],
  "deepnote_notebook_id": "fcd3e2f5-8818-45df-9d8a-0ddfb9dfaa63",
  "kernelspec": {
   "display_name": "base",
   "language": "python",
   "name": "python3"
  },
  "language_info": {
   "codemirror_mode": {
    "name": "ipython",
    "version": 3
   },
   "file_extension": ".py",
   "mimetype": "text/x-python",
   "name": "python",
   "nbconvert_exporter": "python",
   "pygments_lexer": "ipython3",
   "version": "3.9.12"
  },
  "orig_nbformat": 4,
  "vscode": {
   "interpreter": {
    "hash": "cc8e5058f68ae25fd0b682edbcb4bd875f373e41e844c915b7302617da639678"
   }
  }
 },
 "nbformat": 4,
 "nbformat_minor": 2
}
