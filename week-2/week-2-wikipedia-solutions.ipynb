{
 "cells": [
  {
   "cell_type": "markdown",
   "metadata": {
    "cell_id": "80ac79ca-a0ef-4081-a14b-42ec81ce898f",
    "deepnote_app_coordinates": {
     "h": 5,
     "w": 12,
     "x": 0,
     "y": null
    },
    "deepnote_cell_type": "markdown",
    "tags": []
   },
   "source": [
    "# Week 2A: Accessing data from Wikipedia"
   ]
  },
  {
   "cell_type": "markdown",
   "metadata": {
    "cell_id": "d9c467b0-446d-4028-aa67-d2feb87132ca",
    "deepnote_app_coordinates": {
     "h": 5,
     "w": 12,
     "x": 0,
     "y": 18
    },
    "deepnote_cell_height": 226,
    "deepnote_cell_type": "markdown",
    "tags": []
   },
   "source": [
    "## Learning to use the ‘requests‘ Python library\n",
    "\n",
    "In this notebook we use the Wikipedia API with generic tools which could be used to access any API. API stands ‘application programming interface‘, a way for computers to share information with each other. APIs create a promise that the same information will be accessible to an external user in the same way even if something changes behind the scenes. Each API has its own specification which tell you how to write a request to get the information you want, which comes with detailed documentation to follow. Typically, web APIs are queried by accessing a specfic URL which then returns a JSON or XML object. \n",
    "\n",
    "With Wikipedia, we will use the documentation to manually select the parameters we want, form them into a URL, call it, and parse the answer. For many APIs, there are custom Python packages which make this easier to use. In the second notebook, we will look at a Python library specialised for the Reddit API. \n",
    "\n",
    "`requests` is a general purpose Python library to send HTTP requests, the technical protocol used to communicate with remote APIs. There are different types of HTTP requests that this library support and that you may encounter for more complex APIs (e.g., GET, POST, PUT, DELETE, etc.). For the purpose of requesting data from the APIs we cover in this couse, we will only need to learn about the GET requests. \n",
    "\n",
    "The library is extremely well documented with tutorials: https://docs.python-requests.org/en/latest/\n"
   ]
  },
  {
   "cell_type": "code",
   "execution_count": 1,
   "metadata": {
    "cell_id": "5efbed6a-e825-4b2a-8bda-7cc4f2671139",
    "deepnote_app_coordinates": {
     "h": 5,
     "w": 12,
     "x": 0,
     "y": 24
    },
    "deepnote_cell_height": 99,
    "deepnote_cell_type": "code",
    "deepnote_to_be_reexecuted": false,
    "execution_millis": 3020,
    "execution_start": 1646038770920,
    "source_hash": "a933caac",
    "tags": []
   },
   "outputs": [],
   "source": [
    "%%capture\n",
    "# Run this cell to install the requests library using the Python package manager pip\n",
    "!pip install requests"
   ]
  },
  {
   "cell_type": "code",
   "execution_count": 2,
   "metadata": {
    "cell_id": "c52acc9e-91b3-49d7-b54a-a85bb87fd2c7",
    "deepnote_app_coordinates": {
     "h": 5,
     "w": 12,
     "x": 0,
     "y": 30
    },
    "deepnote_cell_type": "code",
    "deepnote_to_be_reexecuted": false,
    "execution_millis": 0,
    "execution_start": 1646038773946,
    "source_hash": "f6cb1ae6",
    "tags": []
   },
   "outputs": [],
   "source": [
    "import json\n",
    "import pandas as pd\n",
    "import requests"
   ]
  },
  {
   "cell_type": "markdown",
   "metadata": {
    "cell_id": "d1d9a692-23b9-4e5a-8eb2-6720ecde63f5",
    "deepnote_app_coordinates": {
     "h": 5,
     "w": 12,
     "x": 0,
     "y": 6
    },
    "deepnote_cell_height": 70,
    "deepnote_cell_type": "markdown",
    "tags": []
   },
   "source": [
    "## Using the request library to query Wikipedia\n",
    "\n",
    "Have a look at https://stats.wikimedia.org/#/en.wikipedia.org, this is what we'll be accessing today! You can get programmatic access to all of that: pages, pageviews, user contributions, etc.\n",
    "\n",
    "### Wikipedia API\n",
    "\n",
    "Wikimedia Foundation hosts several initiatives (e.g.,  Wikipedia, Wikibooks, Wikidata, etc.). All of the Wikimedia Wikis have specific API endpoints. For example, English Wikipedia has the following endpoint - https://en.wikipedia.org/w/api.php. \n",
    "\n",
    "The full details for the Wikimedia APIs are here: https://mediawiki.org/wiki/API:Main_page. \n",
    "\n",
    "That page lists several necessary parameters that are required in an URL string for their API:\n",
    "- `action`\n",
    "- `format`\n",
    "- and some combination of `list`, `prop`, or `meta` depending on the requirement\n",
    "\n",
    "`action` tells the endpoint what type of action is to be performed. For requesting data, we need `action` to be `query`. We will ask for the data in JSON format, so `format` is set to `json`. Finally, there are three broad types of query actions we can perform:\n",
    "\n",
    "   - prop (https://www.mediawiki.org/wiki/Special:MyLanguage/API:Properties) - get properties of pages  \n",
    "   - list (https://www.mediawiki.org/wiki/Special:MyLanguage/API:Lists) - get list of pages matching a certain criterion\n",
    "   - meta (https://www.mediawiki.org/wiki/Special:MyLanguage/API:Meta) - get meta information about the wiki and user\n",
    "\n",
    "\n",
    "The rest of the parameters will depend on the type of query action that is to be performed.\n",
    "\n",
    "The Wikimedia Foundation also requires users of the API to send some information about who they are. This is a basic protection in case a query is causing issues. The identifying information is sent in the `header` of the HTTP request."
   ]
  },
  {
   "cell_type": "markdown",
   "metadata": {
    "cell_id": "11bb52c8-ad91-4153-ad78-92d5590e6f47",
    "deepnote_app_coordinates": {
     "h": 5,
     "w": 12,
     "x": 0,
     "y": 72
    },
    "deepnote_cell_type": "markdown",
    "tags": []
   },
   "source": [
    "### Exercise 1: Querying the main Wikipedia API"
   ]
  },
  {
   "cell_type": "markdown",
   "metadata": {
    "cell_id": "210db550-fe4d-4e4f-a250-da92c07137d1",
    "deepnote_app_coordinates": {
     "h": 5,
     "w": 12,
     "x": 0,
     "y": 78
    },
    "deepnote_cell_height": 229.8000030517578,
    "deepnote_cell_type": "markdown",
    "tags": []
   },
   "source": [
    "<div class=\"alert alert-info\">\n",
    "\n",
    "**Exercise 1.1:** Use `requests` to search for English Wikipedia articles containing the term “Oxford”. Here are the parameters that we will need:\n",
    "1. API endpoint: http://en.wikipedia.org/w/api.php\n",
    "2. Parameters\n",
    "   - `action=query`\n",
    "   - `format=json`\n",
    "   - `list=search`\n",
    "   - `srsearch=oxford`\n",
    "\n",
    "- Call `requests.get` with appropriate endpoint and parameters \n",
    "- Print the url that was accessed through the above call\n",
    "- Print the response of the above call, i.e., use `.json()` method\n",
    "- Read through some of the key-value pairs in the above `.json()` output. Which key corresponds to the search results? Is the value a `list` or a `dict`?\n",
    "- Make a pandas `DataFrame` of the search results. What are the various columns available? Count the number of search articles that were returned by the query \n",
    "\n",
    "</div>"
   ]
  },
  {
   "cell_type": "markdown",
   "metadata": {},
   "source": [
    "If you think you can manage this yourself, do so here and then continue to the next blue box. If you need more help, the subquestions below help to build the pieces you need before you put them together."
   ]
  },
  {
   "cell_type": "code",
   "execution_count": 3,
   "metadata": {},
   "outputs": [],
   "source": [
    "# Specific parameters for the Wikipedia API:\n",
    "params = {\n",
    "    \"action\": \"query\",\n",
    "    \"list\": \"search\",\n",
    "    \"srsearch\": \"oxford\",\n",
    "    \"format\": \"json\"\n",
    "}\n",
    "\n",
    "# Finally, we need to add some meta information identifying us so that the WikiMedia\n",
    "# foundation can know who is querying what. This is specified by the headers variable.\n",
    "\n",
    "# Replace the User-Agent with your own ‘user agent’, a unique name of your choosing that\n",
    "# the Wikimedia sysadmin staff can identify in case of abuse. We provide a suggestion, but\n",
    "# do replace the email address with your own email adddress so that Wikimedia can contact you\n",
    "# if your scripts use too many resources:\n",
    "\n",
    "WP_HEADERS = {\n",
    "    'User-Agent': 'Andrew Bean (andrew.bean@oii.ox.ac.uk)', \n",
    "}\n",
    "\n",
    "# Because we are making a GET request (the most basic kind, which you will typically use)\n",
    "# we use the requests.get() function.\n",
    "\n",
    "# The requests package is doing a lot for us here. Rather than putting together the long\n",
    "# url ourselves, we can pass a dictionary of parameters and it will append them to the URL.\n",
    "# It also handles sending the header information for us.\n",
    "\n",
    "r = requests.get(\"http://en.wikipedia.org/w/api.php\", params=params, headers=WP_HEADERS)"
   ]
  },
  {
   "cell_type": "markdown",
   "metadata": {},
   "source": [
    "If you were successful, move on to exercise 1.1a. If you are stuck, try the steps below."
   ]
  },
  {
   "cell_type": "markdown",
   "metadata": {
    "cell_id": "2213eef4-6c53-47e6-8be1-5ea843a79f7a",
    "deepnote_app_coordinates": {
     "h": 5,
     "w": 12,
     "x": 0,
     "y": 84
    },
    "deepnote_cell_height": 189,
    "deepnote_cell_type": "code",
    "deepnote_to_be_reexecuted": false,
    "execution_millis": 343,
    "execution_start": 1646038810161,
    "source_hash": "561e8f53",
    "tags": []
   },
   "source": [
    "Because we are making a GET request (the most basic kind, which you will typically use) we use the requests.get() function.\n",
    "\n",
    "As you could see in the documentation, the requests get function needs: \n",
    "- a URL to query\n",
    "- any params you want to pass\n",
    "- any other args (in this case we have a `headers` arg to pass)\n",
    "\n",
    "The line of code below does not run because the pieces are not filled in. We will now work on adding them.\n",
    "\n",
    "`r = requests.get(your_url, params=your_params, headers=YOUR_HEADERS)`"
   ]
  },
  {
   "cell_type": "code",
   "execution_count": 4,
   "metadata": {},
   "outputs": [],
   "source": [
    "# your_url should be the base URL for the API we want to access:\n",
    "\n",
    "# your_url = ________"
   ]
  },
  {
   "cell_type": "code",
   "execution_count": 5,
   "metadata": {},
   "outputs": [],
   "source": [
    "# params needs a dictionary where each key is the param to set, \n",
    "# and each value is the value for that param\n",
    "\n",
    "# your_params = {'key': 'value'}"
   ]
  },
  {
   "cell_type": "code",
   "execution_count": 6,
   "metadata": {},
   "outputs": [],
   "source": [
    "# YOUR_HEADERS needs a dictionary where there is one key, \n",
    "# 'User-Agent', and the value is your name and email.\n",
    "\n",
    "# I have used ALL_CAPS for this variable because it is a \n",
    "# variable that I do not want to share with other users of \n",
    "# this code. Typically you would store this somewhere else \n",
    "# and load it from a file to protect it.\n",
    "\n",
    "# YOUR_HEADERS = {'User-Agent': 'name (email@oii.ox.ac.uk)'}"
   ]
  },
  {
   "cell_type": "code",
   "execution_count": 7,
   "metadata": {},
   "outputs": [],
   "source": [
    "# Now try calling the line of code from before with the new variables we've made\n",
    "\n",
    "# r = requests.get()"
   ]
  },
  {
   "cell_type": "markdown",
   "metadata": {},
   "source": [
    "<div class=\"alert alert-info\">\n",
    "<b>Exercise 1.1a:</b> Now we can see what the API returned by inspecting our variable `r`:\n",
    "</div>"
   ]
  },
  {
   "cell_type": "code",
   "execution_count": 8,
   "metadata": {
    "cell_id": "9196af2b-8eb8-4320-96c3-60ac9607938a",
    "deepnote_app_coordinates": {
     "h": 5,
     "w": 12,
     "x": 0,
     "y": 90
    },
    "deepnote_cell_height": 111.69999694824219,
    "deepnote_cell_type": "code",
    "deepnote_output_heights": [
     21.1875
    ],
    "deepnote_to_be_reexecuted": false,
    "execution_millis": 3,
    "execution_start": 1645985832700,
    "source_hash": "efa21cb7",
    "tags": []
   },
   "outputs": [
    {
     "name": "stdout",
     "output_type": "stream",
     "text": [
      "https://en.wikipedia.org/w/api.php?action=query&format=json&list=search&srsearch=oxford\n"
     ]
    }
   ],
   "source": [
    "# Which URL was accessed?\n",
    "print(r.url)"
   ]
  },
  {
   "cell_type": "code",
   "execution_count": 9,
   "metadata": {
    "cell_id": "d16b1544-1513-4bde-a2a0-e297eb15237f",
    "deepnote_app_coordinates": {
     "h": 5,
     "w": 12,
     "x": 0,
     "y": 96
    },
    "deepnote_cell_height": 708,
    "deepnote_cell_type": "code",
    "deepnote_output_heights": [
     611
    ],
    "deepnote_to_be_reexecuted": false,
    "execution_millis": 6,
    "execution_start": 1645983330556,
    "source_hash": "1824bf1a",
    "tags": []
   },
   "outputs": [
    {
     "data": {
      "text/plain": [
       "{'batchcomplete': '',\n",
       " 'continue': {'sroffset': 10, 'continue': '-||'},\n",
       " 'query': {'searchinfo': {'totalhits': 303905},\n",
       "  'search': [{'ns': 0,\n",
       "    'title': 'Oxford',\n",
       "    'pageid': 22308,\n",
       "    'size': 120803,\n",
       "    'wordcount': 9864,\n",
       "    'snippet': '<span class=\"searchmatch\">Oxford</span> (/ˈɒksfərd/) is a city in England. It is the county town and only city of Oxfordshire. In 2020, its population was estimated at 151,584. It is 56',\n",
       "    'timestamp': '2023-01-24T19:31:01Z'},\n",
       "   {'ns': 0,\n",
       "    'title': 'University of Oxford',\n",
       "    'pageid': 31797,\n",
       "    'size': 194113,\n",
       "    'wordcount': 17427,\n",
       "    'snippet': 'The University of <span class=\"searchmatch\">Oxford</span> is a collegiate research university in <span class=\"searchmatch\">Oxford</span>, England. There is evidence of teaching as early as 1096, making it the oldest university',\n",
       "    'timestamp': '2023-01-24T16:55:00Z'},\n",
       "   {'ns': 0,\n",
       "    'title': 'Oxford University Press',\n",
       "    'pageid': 48518,\n",
       "    'size': 37491,\n",
       "    'wordcount': 4450,\n",
       "    'snippet': '<span class=\"searchmatch\">Oxford</span> University Press (OUP) is the university press of the University of <span class=\"searchmatch\">Oxford</span>. It is the largest university press in the world, and its printing history',\n",
       "    'timestamp': '2023-01-23T19:52:43Z'},\n",
       "   {'ns': 0,\n",
       "    'title': 'Oxford (cloth)',\n",
       "    'pageid': 2259236,\n",
       "    'size': 1839,\n",
       "    'wordcount': 164,\n",
       "    'snippet': '<span class=\"searchmatch\">Oxford</span> cloth is a type of woven dress shirt fabric, employed to make dress shirts sometimes called <span class=\"searchmatch\">Oxford</span> shirts worn on casual to formal occasions. Oxford',\n",
       "    'timestamp': '2023-01-05T22:41:19Z'},\n",
       "   {'ns': 0,\n",
       "    'title': 'Oxford dictionary',\n",
       "    'pageid': 37819174,\n",
       "    'size': 840,\n",
       "    'wordcount': 103,\n",
       "    'snippet': '<span class=\"searchmatch\">Oxford</span> dictionary may refer to any dictionary published by <span class=\"searchmatch\">Oxford</span> University Press, particularly: <span class=\"searchmatch\">Oxford</span> English Dictionary (OED) Shorter <span class=\"searchmatch\">Oxford</span> English',\n",
       "    'timestamp': '2023-01-09T00:36:08Z'},\n",
       "   {'ns': 0,\n",
       "    'title': 'Oxford Clay',\n",
       "    'pageid': 1770920,\n",
       "    'size': 15267,\n",
       "    'wordcount': 834,\n",
       "    'snippet': 'The <span class=\"searchmatch\">Oxford</span> Clay (or <span class=\"searchmatch\">Oxford</span> Clay Formation) is a Jurassic marine sedimentary rock formation underlying much of southeast England, from as far west as Dorset',\n",
       "    'timestamp': '2023-01-03T13:52:36Z'},\n",
       "   {'ns': 0,\n",
       "    'title': 'Oxford, Mississippi',\n",
       "    'pageid': 122337,\n",
       "    'size': 37321,\n",
       "    'wordcount': 3291,\n",
       "    'snippet': '<span class=\"searchmatch\">Oxford</span> is a city and college town in the U.S. state of Mississippi. <span class=\"searchmatch\">Oxford</span> lies 75 miles (121\\xa0km) south-southeast of Memphis, Tennessee, and is the county',\n",
       "    'timestamp': '2023-01-03T06:05:34Z'},\n",
       "   {'ns': 0,\n",
       "    'title': 'Oxford, Florida',\n",
       "    'pageid': 37917817,\n",
       "    'size': 3280,\n",
       "    'wordcount': 129,\n",
       "    'snippet': '<span class=\"searchmatch\">Oxford</span> is an unincorporated community in Sumter County, Florida, United States. Its ZIP code is 34484. <span class=\"searchmatch\">Oxford</span> is bordered by Wildwood to the south, rural',\n",
       "    'timestamp': '2021-01-30T11:21:14Z'},\n",
       "   {'ns': 0,\n",
       "    'title': 'Oxford, Georgia',\n",
       "    'pageid': 110284,\n",
       "    'size': 12343,\n",
       "    'wordcount': 789,\n",
       "    'snippet': '<span class=\"searchmatch\">Oxford</span> is a city in Newton County, Georgia, United States. As of the 2010 census, the city population was 2,134. It is the location of <span class=\"searchmatch\">Oxford</span> College',\n",
       "    'timestamp': '2022-09-27T13:56:48Z'},\n",
       "   {'ns': 0,\n",
       "    'title': 'Oxford Union',\n",
       "    'pageid': 12059055,\n",
       "    'size': 47270,\n",
       "    'wordcount': 5414,\n",
       "    'snippet': 'The <span class=\"searchmatch\">Oxford</span> Union Society, commonly referred to simply as the <span class=\"searchmatch\">Oxford</span> Union, is a debating society in the city of <span class=\"searchmatch\">Oxford</span>, England, whose membership is drawn',\n",
       "    'timestamp': '2023-01-23T18:15:18Z'}]}}"
      ]
     },
     "execution_count": 9,
     "metadata": {},
     "output_type": "execute_result"
    }
   ],
   "source": [
    "# Result of the query to the API, automatically formatted as a Python dictionary by requests:\n",
    "r.json()"
   ]
  },
  {
   "cell_type": "code",
   "execution_count": 10,
   "metadata": {
    "cell_id": "4908acf3-2959-46b6-8e13-875b17c43dda",
    "deepnote_app_coordinates": {
     "h": 5,
     "w": 12,
     "x": 0,
     "y": 102
    },
    "deepnote_cell_type": "code",
    "deepnote_to_be_reexecuted": false,
    "execution_millis": 4,
    "execution_start": 1645983331822,
    "source_hash": "9e7e9891",
    "tags": []
   },
   "outputs": [],
   "source": [
    "# Let's select all the articles and import them into a pandas DataFrame:\n",
    "\n",
    "# 1) Get the json portion of the response to our request\n",
    "result = r.json()\n",
    "\n",
    "# 2) Find which piece of the dicitonary has the search results\n",
    "pages = result['query']['search']\n",
    "\n",
    "# 3) Use pd.DataFrame to convert the search results to a DataFrame\n",
    "df_pages_oxford = pd.DataFrame(pages)"
   ]
  },
  {
   "cell_type": "code",
   "execution_count": 11,
   "metadata": {
    "cell_id": "7823fbf9-dee2-420a-a8f1-259e6f043185",
    "deepnote_app_coordinates": {
     "h": 5,
     "w": 12,
     "x": 0,
     "y": 108
    },
    "deepnote_cell_type": "code",
    "deepnote_to_be_reexecuted": false,
    "execution_millis": 5,
    "execution_start": 1645983336191,
    "source_hash": "9177b855",
    "tags": []
   },
   "outputs": [
    {
     "data": {
      "text/plain": [
       "Index(['ns', 'title', 'pageid', 'size', 'wordcount', 'snippet', 'timestamp'], dtype='object')"
      ]
     },
     "execution_count": 11,
     "metadata": {},
     "output_type": "execute_result"
    }
   ],
   "source": [
    "# What columns are in this DataFrame?\n",
    "df_pages_oxford.columns"
   ]
  },
  {
   "cell_type": "code",
   "execution_count": 12,
   "metadata": {
    "cell_id": "39c8f950-62bd-474a-a4b7-b5eee8b79f30",
    "deepnote_app_coordinates": {
     "h": 5,
     "w": 12,
     "x": 0,
     "y": 114
    },
    "deepnote_cell_type": "code",
    "deepnote_to_be_reexecuted": false,
    "execution_millis": 4,
    "execution_start": 1645983336760,
    "source_hash": "93cb9a53",
    "tags": []
   },
   "outputs": [
    {
     "name": "stdout",
     "output_type": "stream",
     "text": [
      "nb of search articles returned by the query: 10\n"
     ]
    }
   ],
   "source": [
    "# How many articles are there?\n",
    "print(\"nb of search articles returned by the query:\", len(df_pages_oxford))"
   ]
  },
  {
   "cell_type": "markdown",
   "metadata": {},
   "source": [
    "Does this number of articles make sense? What might have happened? Can you find the answer in the API documentation?"
   ]
  },
  {
   "cell_type": "markdown",
   "metadata": {
    "cell_id": "0a5b8119-64a4-47d7-b4a0-c3075ccfacce",
    "deepnote_app_coordinates": {
     "h": 5,
     "w": 12,
     "x": 0,
     "y": 126
    },
    "deepnote_cell_type": "markdown",
    "tags": []
   },
   "source": [
    "<div class=\"alert alert-info\">\n",
    "\n",
    "**Exercise 1.2 (optional):** Write a function that takes as a string input, `search_term`, and returns the wikipedia pages corresponding to that `search_term`. Call this function with the `search_term` as `oxford` and compare to what we did already. Then try another search term to see how using functions makes it easy to reuse code.\n",
    "\n",
    "</div>"
   ]
  },
  {
   "cell_type": "code",
   "execution_count": 13,
   "metadata": {
    "cell_id": "8623152e-2b6c-4b83-ae29-441782333b3f",
    "deepnote_app_coordinates": {
     "h": 5,
     "w": 12,
     "x": 0,
     "y": 132
    },
    "deepnote_cell_type": "code",
    "deepnote_to_be_reexecuted": false,
    "execution_millis": 12,
    "execution_start": 1645983339075,
    "source_hash": "254deb7f",
    "tags": []
   },
   "outputs": [],
   "source": [
    "def search_pages(search_term):\n",
    "    \"\"\"\n",
    "    Search for pages on Wikipedia matching a given query.\n",
    "    Return a pandas DataFrame where each row is one Wikipedia page.\n",
    "    \"\"\"\n",
    "\n",
    "    params = {\n",
    "        \"action\": \"query\",\n",
    "        \"list\": \"search\",\n",
    "        \"srsearch\": search_term,\n",
    "        \"format\": \"json\"\n",
    "    }\n",
    "    r = requests.get(\"http://en.wikipedia.org/w/api.php\", params=params, headers=WP_HEADERS)\n",
    "\n",
    "    results = r.json()\n",
    "    pages = result['query']['search']\n",
    "    df_pages_query = pd.DataFrame(pages)\n",
    "\n",
    "    return df_pages_query\n",
    "    "
   ]
  },
  {
   "cell_type": "code",
   "execution_count": 14,
   "metadata": {
    "cell_id": "a7c65c80-f4f7-407f-a6ed-ac9d2963d8d1",
    "deepnote_app_coordinates": {
     "h": 5,
     "w": 12,
     "x": 0,
     "y": 138
    },
    "deepnote_cell_type": "code",
    "deepnote_to_be_reexecuted": false,
    "execution_millis": 382,
    "execution_start": 1645983339950,
    "source_hash": "886bbb67",
    "tags": []
   },
   "outputs": [
    {
     "data": {
      "text/html": [
       "<div>\n",
       "<style scoped>\n",
       "    .dataframe tbody tr th:only-of-type {\n",
       "        vertical-align: middle;\n",
       "    }\n",
       "\n",
       "    .dataframe tbody tr th {\n",
       "        vertical-align: top;\n",
       "    }\n",
       "\n",
       "    .dataframe thead th {\n",
       "        text-align: right;\n",
       "    }\n",
       "</style>\n",
       "<table border=\"1\" class=\"dataframe\">\n",
       "  <thead>\n",
       "    <tr style=\"text-align: right;\">\n",
       "      <th></th>\n",
       "      <th>ns</th>\n",
       "      <th>title</th>\n",
       "      <th>pageid</th>\n",
       "      <th>size</th>\n",
       "      <th>wordcount</th>\n",
       "      <th>snippet</th>\n",
       "      <th>timestamp</th>\n",
       "    </tr>\n",
       "  </thead>\n",
       "  <tbody>\n",
       "    <tr>\n",
       "      <th>0</th>\n",
       "      <td>0</td>\n",
       "      <td>Oxford</td>\n",
       "      <td>22308</td>\n",
       "      <td>120803</td>\n",
       "      <td>9864</td>\n",
       "      <td>&lt;span class=\"searchmatch\"&gt;Oxford&lt;/span&gt; (/ˈɒks...</td>\n",
       "      <td>2023-01-24T19:31:01Z</td>\n",
       "    </tr>\n",
       "    <tr>\n",
       "      <th>1</th>\n",
       "      <td>0</td>\n",
       "      <td>University of Oxford</td>\n",
       "      <td>31797</td>\n",
       "      <td>194113</td>\n",
       "      <td>17427</td>\n",
       "      <td>The University of &lt;span class=\"searchmatch\"&gt;Ox...</td>\n",
       "      <td>2023-01-24T16:55:00Z</td>\n",
       "    </tr>\n",
       "    <tr>\n",
       "      <th>2</th>\n",
       "      <td>0</td>\n",
       "      <td>Oxford University Press</td>\n",
       "      <td>48518</td>\n",
       "      <td>37491</td>\n",
       "      <td>4450</td>\n",
       "      <td>&lt;span class=\"searchmatch\"&gt;Oxford&lt;/span&gt; Univer...</td>\n",
       "      <td>2023-01-23T19:52:43Z</td>\n",
       "    </tr>\n",
       "    <tr>\n",
       "      <th>3</th>\n",
       "      <td>0</td>\n",
       "      <td>Oxford (cloth)</td>\n",
       "      <td>2259236</td>\n",
       "      <td>1839</td>\n",
       "      <td>164</td>\n",
       "      <td>&lt;span class=\"searchmatch\"&gt;Oxford&lt;/span&gt; cloth ...</td>\n",
       "      <td>2023-01-05T22:41:19Z</td>\n",
       "    </tr>\n",
       "    <tr>\n",
       "      <th>4</th>\n",
       "      <td>0</td>\n",
       "      <td>Oxford dictionary</td>\n",
       "      <td>37819174</td>\n",
       "      <td>840</td>\n",
       "      <td>103</td>\n",
       "      <td>&lt;span class=\"searchmatch\"&gt;Oxford&lt;/span&gt; dictio...</td>\n",
       "      <td>2023-01-09T00:36:08Z</td>\n",
       "    </tr>\n",
       "  </tbody>\n",
       "</table>\n",
       "</div>"
      ],
      "text/plain": [
       "   ns                    title    pageid    size  wordcount  \\\n",
       "0   0                   Oxford     22308  120803       9864   \n",
       "1   0     University of Oxford     31797  194113      17427   \n",
       "2   0  Oxford University Press     48518   37491       4450   \n",
       "3   0           Oxford (cloth)   2259236    1839        164   \n",
       "4   0        Oxford dictionary  37819174     840        103   \n",
       "\n",
       "                                             snippet             timestamp  \n",
       "0  <span class=\"searchmatch\">Oxford</span> (/ˈɒks...  2023-01-24T19:31:01Z  \n",
       "1  The University of <span class=\"searchmatch\">Ox...  2023-01-24T16:55:00Z  \n",
       "2  <span class=\"searchmatch\">Oxford</span> Univer...  2023-01-23T19:52:43Z  \n",
       "3  <span class=\"searchmatch\">Oxford</span> cloth ...  2023-01-05T22:41:19Z  \n",
       "4  <span class=\"searchmatch\">Oxford</span> dictio...  2023-01-09T00:36:08Z  "
      ]
     },
     "execution_count": 14,
     "metadata": {},
     "output_type": "execute_result"
    }
   ],
   "source": [
    "df_pages_oxford = search_pages(\"oxford\")\n",
    "df_pages_oxford.head()"
   ]
  },
  {
   "cell_type": "markdown",
   "metadata": {
    "cell_id": "57d78a62-f3d1-4447-912b-372f84dc0c0f",
    "deepnote_app_coordinates": {
     "h": 5,
     "w": 12,
     "x": 0,
     "y": 144
    },
    "deepnote_cell_type": "markdown",
    "tags": []
   },
   "source": [
    "### Exercise 2: Accessing categories of a WP page"
   ]
  },
  {
   "cell_type": "markdown",
   "metadata": {
    "cell_id": "f7cee406-302d-4cb3-86e7-698359f46d53",
    "deepnote_app_coordinates": {
     "h": 5,
     "w": 12,
     "x": 0,
     "y": 150
    },
    "deepnote_cell_type": "markdown",
    "tags": []
   },
   "source": [
    "<div class=\"alert alert-info\">\n",
    "\n",
    "**Exercise 2.1:** List all the categories for the Wikipedia page of Ada Lovelace (https://en.wikipedia.org/wiki/Ada_Lovelace)\n",
    "\n",
    "- Think of the parameters that you will pass along with the endpoint. What will be  `action`, `format`?\n",
    "- Go back to the top of this notebok and read through the section on `wikipedia API`. Which one of `prop`, `list`, or `meta` will you use?\n",
    "- For example, if you think `prop` is what we need, head over to the corresponding URL, i.e., https://www.mediawiki.org/wiki/API:Properties to check what are other related parameters that are neded. In this case, we need `titles` key to define our query, i.e, Ada Lovelace, and we are interested in `categories` property of this page, so `prop` must be `categories`. \n",
    "- Click on the corresponding `categories` link on that page, i.e., https://www.mediawiki.org/wiki/Special:MyLanguage/API:Categories to check additional parameters that can be passed to this endpoint. We will set `cllimit` to `max` so that we get back all possible categories instead of just 10 (defafult). \n",
    "\n",
    "\n",
    "</div>"
   ]
  },
  {
   "cell_type": "code",
   "execution_count": 15,
   "metadata": {
    "cell_id": "0285dd35-7639-4675-a017-1bf5b921e3c7",
    "deepnote_app_coordinates": {
     "h": 5,
     "w": 12,
     "x": 0,
     "y": 156
    },
    "deepnote_cell_type": "code",
    "deepnote_to_be_reexecuted": false,
    "execution_millis": 195,
    "execution_start": 1645983342628,
    "source_hash": "a0b2d5ea",
    "tags": []
   },
   "outputs": [],
   "source": [
    "# This should be very similar to what we just did. You need three things, a URL, params, and headers.\n",
    "\n",
    "# r = request.get()\n",
    "\n",
    "params = {\n",
    "    \"action\": \"query\",\n",
    "    \"prop\": \"categories\",\n",
    "    \"titles\": \"Ada Lovelace\",\n",
    "    \"format\": \"json\",\n",
    "    \"cllimit\": \"max\",\n",
    "}\n",
    "\n",
    "r = requests.get(\"http://en.wikipedia.org/w/api.php\", params=params, headers=WP_HEADERS)"
   ]
  },
  {
   "cell_type": "markdown",
   "metadata": {
    "cell_id": "d19cb29a-c54e-49b4-a109-363ed3fcabaf",
    "deepnote_app_coordinates": {
     "h": 5,
     "w": 12,
     "x": 0,
     "y": 162
    },
    "deepnote_cell_type": "markdown",
    "tags": []
   },
   "source": [
    "<div class=\"alert alert-info\">\n",
    "\n",
    "**Exercise 2.2:** Access the categories of the resulting response \n",
    "\n",
    "- Look at the returned response from the API, i.e., investigate `.json()` output of the `requests.get` formulated above\n",
    "- How do you access the categories of the query? \n",
    "- Print all those categories\n",
    "\n",
    "</div>"
   ]
  },
  {
   "cell_type": "code",
   "execution_count": 16,
   "metadata": {
    "cell_id": "eff96c69-0a1f-4af3-8cf7-35f12c9c1b4e",
    "deepnote_app_coordinates": {
     "h": 5,
     "w": 12,
     "x": 0,
     "y": 168
    },
    "deepnote_cell_type": "code",
    "deepnote_to_be_reexecuted": false,
    "execution_millis": 14,
    "execution_start": 1645983346396,
    "source_hash": "f723c12e",
    "tags": []
   },
   "outputs": [
    {
     "data": {
      "text/plain": [
       "{'batchcomplete': '',\n",
       " 'query': {'pages': {'974': {'pageid': 974,\n",
       "    'ns': 0,\n",
       "    'title': 'Ada Lovelace',\n",
       "    'categories': [{'ns': 14, 'title': 'Category:1815 births'},\n",
       "     {'ns': 14, 'title': 'Category:1852 deaths'},\n",
       "     {'ns': 14, 'title': 'Category:19th-century British inventors'},\n",
       "     {'ns': 14, 'title': 'Category:19th-century British women scientists'},\n",
       "     {'ns': 14, 'title': 'Category:19th-century British writers'},\n",
       "     {'ns': 14, 'title': 'Category:19th-century English mathematicians'},\n",
       "     {'ns': 14, 'title': 'Category:19th-century English nobility'},\n",
       "     {'ns': 14, 'title': 'Category:19th-century English women writers'},\n",
       "     {'ns': 14, 'title': 'Category:Ada (programming language)'},\n",
       "     {'ns': 14, 'title': 'Category:All articles with dead external links'},\n",
       "     {'ns': 14, 'title': 'Category:All articles with unsourced statements'},\n",
       "     {'ns': 14, 'title': 'Category:Articles with BIBSYS identifiers'},\n",
       "     {'ns': 14, 'title': 'Category:Articles with BNE identifiers'},\n",
       "     {'ns': 14, 'title': 'Category:Articles with BNF identifiers'},\n",
       "     {'ns': 14, 'title': 'Category:Articles with DTBIO identifiers'},\n",
       "     {'ns': 14, 'title': 'Category:Articles with FAST identifiers'},\n",
       "     {'ns': 14, 'title': 'Category:Articles with GND identifiers'},\n",
       "     {'ns': 14, 'title': 'Category:Articles with ISNI identifiers'},\n",
       "     {'ns': 14, 'title': 'Category:Articles with J9U identifiers'},\n",
       "     {'ns': 14, 'title': 'Category:Articles with LCCN identifiers'},\n",
       "     {'ns': 14, 'title': 'Category:Articles with NDL identifiers'},\n",
       "     {'ns': 14, 'title': 'Category:Articles with NKC identifiers'},\n",
       "     {'ns': 14, 'title': 'Category:Articles with NLK identifiers'},\n",
       "     {'ns': 14, 'title': 'Category:Articles with NTA identifiers'},\n",
       "     {'ns': 14, 'title': 'Category:Articles with Open Library links'},\n",
       "     {'ns': 14, 'title': 'Category:Articles with PLWABN identifiers'},\n",
       "     {'ns': 14, 'title': 'Category:Articles with SELIBR identifiers'},\n",
       "     {'ns': 14, 'title': 'Category:Articles with SNAC-ID identifiers'},\n",
       "     {'ns': 14, 'title': 'Category:Articles with SUDOC identifiers'},\n",
       "     {'ns': 14, 'title': 'Category:Articles with VIAF identifiers'},\n",
       "     {'ns': 14, 'title': 'Category:Articles with WorldCat identifiers'},\n",
       "     {'ns': 14, 'title': 'Category:Articles with ZBMATH identifiers'},\n",
       "     {'ns': 14,\n",
       "      'title': 'Category:Articles with dead external links from March 2022'},\n",
       "     {'ns': 14, 'title': 'Category:Articles with hCards'},\n",
       "     {'ns': 14,\n",
       "      'title': 'Category:Articles with permanently dead external links'},\n",
       "     {'ns': 14, 'title': 'Category:Articles with short description'},\n",
       "     {'ns': 14,\n",
       "      'title': 'Category:Articles with unsourced statements from November 2020'},\n",
       "     {'ns': 14, 'title': 'Category:Biography with signature'},\n",
       "     {'ns': 14, 'title': 'Category:British countesses'},\n",
       "     {'ns': 14, 'title': 'Category:British women computer scientists'},\n",
       "     {'ns': 14, 'title': 'Category:British women mathematicians'},\n",
       "     {'ns': 14,\n",
       "      'title': 'Category:Burials at the Church of St Mary Magdalene, Hucknall'},\n",
       "     {'ns': 14, 'title': 'Category:Burials in Nottinghamshire'},\n",
       "     {'ns': 14, 'title': 'Category:Byron family'},\n",
       "     {'ns': 14, 'title': 'Category:CS1: Julian–Gregorian uncertainty'},\n",
       "     {'ns': 14, 'title': 'Category:CS1 Spanish-language sources (es)'},\n",
       "     {'ns': 14, 'title': 'Category:Commons category link from Wikidata'},\n",
       "     {'ns': 14, 'title': 'Category:Computer designers'},\n",
       "     {'ns': 14, 'title': 'Category:Daughters of barons'},\n",
       "     {'ns': 14, 'title': 'Category:Deaths from cancer in England'},\n",
       "     {'ns': 14, 'title': 'Category:Deaths from uterine cancer'},\n",
       "     {'ns': 14, 'title': 'Category:English computer programmers'},\n",
       "     {'ns': 14, 'title': 'Category:English people of Scottish descent'},\n",
       "     {'ns': 14, 'title': 'Category:English women poets'},\n",
       "     {'ns': 14, 'title': 'Category:Godwin family'},\n",
       "     {'ns': 14, 'title': 'Category:Lord Byron'},\n",
       "     {'ns': 14, 'title': 'Category:Mathematicians from London'},\n",
       "     {'ns': 14, 'title': 'Category:Open Library ID different from Wikidata'},\n",
       "     {'ns': 14,\n",
       "      'title': 'Category:Short description is different from Wikidata'},\n",
       "     {'ns': 14, 'title': 'Category:Use British English from November 2019'},\n",
       "     {'ns': 14, 'title': 'Category:Use dmy dates from September 2020'},\n",
       "     {'ns': 14,\n",
       "      'title': 'Category:Wikipedia indefinitely semi-protected pages'},\n",
       "     {'ns': 14, 'title': 'Category:Women computer scientists'},\n",
       "     {'ns': 14, 'title': 'Category:Women of the Victorian era'}]}}},\n",
       " 'limits': {'categories': 500}}"
      ]
     },
     "execution_count": 16,
     "metadata": {},
     "output_type": "execute_result"
    }
   ],
   "source": [
    "# Inspect the response\n",
    "response = r.json()\n",
    "response\n"
   ]
  },
  {
   "cell_type": "code",
   "execution_count": 17,
   "metadata": {
    "cell_id": "87323e3e-ae9f-45fb-87e7-2000bdebc322",
    "deepnote_app_coordinates": {
     "h": 5,
     "w": 12,
     "x": 0,
     "y": 174
    },
    "deepnote_cell_type": "code",
    "deepnote_to_be_reexecuted": false,
    "execution_millis": 6,
    "execution_start": 1645983356972,
    "source_hash": "e434e0b8",
    "tags": []
   },
   "outputs": [
    {
     "name": "stdout",
     "output_type": "stream",
     "text": [
      "Category:1815 births\n",
      "Category:1852 deaths\n",
      "Category:19th-century British inventors\n",
      "Category:19th-century British women scientists\n",
      "Category:19th-century British writers\n",
      "Category:19th-century English mathematicians\n",
      "Category:19th-century English nobility\n",
      "Category:19th-century English women writers\n",
      "Category:Ada (programming language)\n",
      "Category:All articles with dead external links\n",
      "Category:All articles with unsourced statements\n",
      "Category:Articles with BIBSYS identifiers\n",
      "Category:Articles with BNE identifiers\n",
      "Category:Articles with BNF identifiers\n",
      "Category:Articles with DTBIO identifiers\n",
      "Category:Articles with FAST identifiers\n",
      "Category:Articles with GND identifiers\n",
      "Category:Articles with ISNI identifiers\n",
      "Category:Articles with J9U identifiers\n",
      "Category:Articles with LCCN identifiers\n",
      "Category:Articles with NDL identifiers\n",
      "Category:Articles with NKC identifiers\n",
      "Category:Articles with NLK identifiers\n",
      "Category:Articles with NTA identifiers\n",
      "Category:Articles with Open Library links\n",
      "Category:Articles with PLWABN identifiers\n",
      "Category:Articles with SELIBR identifiers\n",
      "Category:Articles with SNAC-ID identifiers\n",
      "Category:Articles with SUDOC identifiers\n",
      "Category:Articles with VIAF identifiers\n",
      "Category:Articles with WorldCat identifiers\n",
      "Category:Articles with ZBMATH identifiers\n",
      "Category:Articles with dead external links from March 2022\n",
      "Category:Articles with hCards\n",
      "Category:Articles with permanently dead external links\n",
      "Category:Articles with short description\n",
      "Category:Articles with unsourced statements from November 2020\n",
      "Category:Biography with signature\n",
      "Category:British countesses\n",
      "Category:British women computer scientists\n",
      "Category:British women mathematicians\n",
      "Category:Burials at the Church of St Mary Magdalene, Hucknall\n",
      "Category:Burials in Nottinghamshire\n",
      "Category:Byron family\n",
      "Category:CS1: Julian–Gregorian uncertainty\n",
      "Category:CS1 Spanish-language sources (es)\n",
      "Category:Commons category link from Wikidata\n",
      "Category:Computer designers\n",
      "Category:Daughters of barons\n",
      "Category:Deaths from cancer in England\n",
      "Category:Deaths from uterine cancer\n",
      "Category:English computer programmers\n",
      "Category:English people of Scottish descent\n",
      "Category:English women poets\n",
      "Category:Godwin family\n",
      "Category:Lord Byron\n",
      "Category:Mathematicians from London\n",
      "Category:Open Library ID different from Wikidata\n",
      "Category:Short description is different from Wikidata\n",
      "Category:Use British English from November 2019\n",
      "Category:Use dmy dates from September 2020\n",
      "Category:Wikipedia indefinitely semi-protected pages\n",
      "Category:Women computer scientists\n",
      "Category:Women of the Victorian era\n"
     ]
    }
   ],
   "source": [
    "# Use a for loop to print all the categories\n",
    "\n",
    "page_information = list(response['query']['pages'].values())[0]\n",
    "\n",
    "for cat in page_information['categories']:\n",
    "    print(cat['title'])"
   ]
  },
  {
   "cell_type": "markdown",
   "metadata": {
    "cell_id": "905e4e0c-ec12-41b4-a870-7761289c7dad",
    "deepnote_app_coordinates": {
     "h": 5,
     "w": 12,
     "x": 0,
     "y": 180
    },
    "deepnote_cell_type": "markdown",
    "tags": []
   },
   "source": [
    "<div class=\"alert alert-info\">\n",
    "\n",
    "**Exercise 2.3:** Let's do the opposite. We are going to list all the pages for a given category, such as https://en.wikipedia.org/wiki/Category:19th-century_British_women_scientists\n",
    "\n",
    "Again, there's a specific set of action, list, and prop for to do so (you can read more at https://www.mediawiki.org/wiki/API:Categorymembers). Run the code below.\n",
    "\n",
    "- Fill in the appropriate values for the keys in `params`\n",
    "- Complete the API call with appropriate arguments\n",
    "- investigate the response from the API call\n",
    "- print the list of all the women scientists\n",
    "\n",
    "</div>"
   ]
  },
  {
   "cell_type": "code",
   "execution_count": 18,
   "metadata": {
    "cell_id": "27b627c2-61c3-4921-acf2-df18a49f31ec",
    "deepnote_app_coordinates": {
     "h": 5,
     "w": 12,
     "x": 0,
     "y": 186
    },
    "deepnote_cell_type": "code",
    "deepnote_to_be_reexecuted": false,
    "execution_millis": 218,
    "execution_start": 1646038821338,
    "source_hash": "5ff30c79",
    "tags": []
   },
   "outputs": [
    {
     "data": {
      "text/plain": [
       "{'batchcomplete': '',\n",
       " 'limits': {'categorymembers': 500},\n",
       " 'query': {'categorymembers': [{'pageid': 38334,\n",
       "    'ns': 0,\n",
       "    'title': 'Mary Anning'},\n",
       "   {'pageid': 56459269, 'ns': 0, 'title': 'Emily Aston'},\n",
       "   {'pageid': 3329579, 'ns': 0, 'title': 'Anna Atkins'},\n",
       "   {'pageid': 1805181, 'ns': 0, 'title': 'Hertha Ayrton'},\n",
       "   {'pageid': 43626398, 'ns': 0, 'title': 'Alice Blanche Balfour'},\n",
       "   {'pageid': 5346209, 'ns': 0, 'title': 'Sarah Sophia Banks'},\n",
       "   {'pageid': 37384258, 'ns': 0, 'title': 'Mary Elizabeth Barber'},\n",
       "   {'pageid': 421866, 'ns': 0, 'title': 'Etheldred Benett'},\n",
       "   {'pageid': 39005794, 'ns': 0, 'title': 'Margaret Jane Benson'},\n",
       "   {'pageid': 43973894, 'ns': 0, 'title': 'Marion Bidder'},\n",
       "   {'pageid': 34678179, 'ns': 0, 'title': 'Ellen Blackwell'},\n",
       "   {'pageid': 37385494, 'ns': 0, 'title': 'Elizabeth Brown (astronomer)'},\n",
       "   {'pageid': 30078546, 'ns': 0, 'title': 'Margaret Bryan (philosopher)'},\n",
       "   {'pageid': 14360112, 'ns': 0, 'title': 'Priscilla Susan Bury'},\n",
       "   {'pageid': 14352056, 'ns': 0, 'title': 'Elizabeth Carne'},\n",
       "   {'pageid': 41260157, 'ns': 0, 'title': 'Margaret Crosfield'},\n",
       "   {'pageid': 55497682, 'ns': 0, 'title': 'Clare de Brereton Evans'},\n",
       "   {'pageid': 63974334, 'ns': 0, 'title': 'Lettice Digby (scientist)'},\n",
       "   {'pageid': 49639249, 'ns': 0, 'title': 'Thereza Dillwyn Llewelyn'},\n",
       "   {'pageid': 56278327, 'ns': 0, 'title': 'Margaret Douie Dougal'},\n",
       "   {'pageid': 13245530, 'ns': 0, 'title': 'Sarah Drake'},\n",
       "   {'pageid': 37385554, 'ns': 0, 'title': 'Mary Edwards (human computer)'},\n",
       "   {'pageid': 37436314, 'ns': 0, 'title': 'Marian Farquharson'},\n",
       "   {'pageid': 55497163, 'ns': 0, 'title': 'Emily Fortey'},\n",
       "   {'pageid': 37387826, 'ns': 0, 'title': 'Ida Freund'},\n",
       "   {'pageid': 46759963, 'ns': 0, 'title': 'Catherine Gage'},\n",
       "   {'pageid': 54855876, 'ns': 0, 'title': 'Ethel Sarel Gepp'},\n",
       "   {'pageid': 58696233, 'ns': 0, 'title': 'Isabella Gifford'},\n",
       "   {'pageid': 55726465, 'ns': 0, 'title': 'Eliza Maria Gordon-Cumming'},\n",
       "   {'pageid': 20952313, 'ns': 0, 'title': 'Maria Gordon'},\n",
       "   {'pageid': 49845615, 'ns': 0, 'title': 'Lilian Jane Gould'},\n",
       "   {'pageid': 25754272, 'ns': 0, 'title': 'Amelia Griffiths'},\n",
       "   {'pageid': 453672, 'ns': 0, 'title': 'Jane Ellen Harrison'},\n",
       "   {'pageid': 207843, 'ns': 0, 'title': 'Caroline Herschel'},\n",
       "   {'pageid': 72691979, 'ns': 0, 'title': 'Alice Hibbert-Ware'},\n",
       "   {'pageid': 41259616, 'ns': 0, 'title': 'Mary Horner Lyell'},\n",
       "   {'pageid': 42111071, 'ns': 0, 'title': 'Edith Humphrey'},\n",
       "   {'pageid': 26287868, 'ns': 0, 'title': 'Anna Maria Hussey'},\n",
       "   {'pageid': 56958913, 'ns': 0, 'title': 'Emma Hutchinson'},\n",
       "   {'pageid': 29178517, 'ns': 0, 'title': 'Agnes Ibbetson'},\n",
       "   {'pageid': 45576944, 'ns': 0, 'title': 'Maria Elizabetha Jacson'},\n",
       "   {'pageid': 53424238, 'ns': 0, 'title': 'Mariamne Johnes'},\n",
       "   {'pageid': 48444839, 'ns': 0, 'title': 'Alice Johnson (zoologist)'},\n",
       "   {'pageid': 46308574, 'ns': 0, 'title': 'Catharine Johnston'},\n",
       "   {'pageid': 45320819, 'ns': 0, 'title': 'Charlotte Knight'},\n",
       "   {'pageid': 47599740, 'ns': 0, 'title': 'Phoebe Lankester'},\n",
       "   {'pageid': 46822411, 'ns': 0, 'title': 'Mary Leebody'},\n",
       "   {'pageid': 46656676, 'ns': 0, 'title': 'Gulielma Lister'},\n",
       "   {'pageid': 54261556, 'ns': 0, 'title': 'Emily Lloyd (chemist)'},\n",
       "   {'pageid': 48917694, 'ns': 0, 'title': 'Elizabeth Lomax'},\n",
       "   {'pageid': 974, 'ns': 0, 'title': 'Ada Lovelace'},\n",
       "   {'pageid': 48669031, 'ns': 0, 'title': 'Katharine Murray Lyell'},\n",
       "   {'pageid': 62634745, 'ns': 0, 'title': 'Lilian Martin-Leake'},\n",
       "   {'pageid': 213936, 'ns': 0, 'title': 'Harriet Martineau'},\n",
       "   {'pageid': 52149480, 'ns': 0, 'title': 'Katherine Clerk Maxwell'},\n",
       "   {'pageid': 52505273, 'ns': 0, 'title': 'Frances Micklethwait'},\n",
       "   {'pageid': 63628095, 'ns': 0, 'title': 'Rose Monteiro'},\n",
       "   {'pageid': 63620023, 'ns': 0, 'title': 'Mary De la Beche Nicholl'},\n",
       "   {'pageid': 759204, 'ns': 0, 'title': 'Eleanor Anne Ormerod'},\n",
       "   {'pageid': 40802030, 'ns': 0, 'title': 'Jessica Duncan Piazzi Smyth'},\n",
       "   {'pageid': 54870902, 'ns': 0, 'title': 'Margaret Plues'},\n",
       "   {'pageid': 37410375, 'ns': 0, 'title': 'Isis Pogson'},\n",
       "   {'pageid': 53426695, 'ns': 0, 'title': 'Margaretta Riley'},\n",
       "   {'pageid': 67214100, 'ns': 0, 'title': 'Anne Rudge'},\n",
       "   {'pageid': 47747452, 'ns': 0, 'title': 'Anna Russell (botanist)'},\n",
       "   {'pageid': 9125531, 'ns': 0, 'title': 'Ethel Sargant'},\n",
       "   {'pageid': 48449484, 'ns': 0, 'title': 'Lilian Sheldon'},\n",
       "   {'pageid': 7502109, 'ns': 0, 'title': 'Annie Lorrain Smith'},\n",
       "   {'pageid': 600171, 'ns': 0, 'title': 'Mary Somerville'},\n",
       "   {'pageid': 48978653, 'ns': 0, 'title': 'Frances Stackhouse Acton'},\n",
       "   {'pageid': 49859683, 'ns': 0, 'title': 'Emily Stackhouse'},\n",
       "   {'pageid': 66470395, 'ns': 0, 'title': 'Eliza Fanny Staveley'},\n",
       "   {'pageid': 42895806, 'ns': 0, 'title': 'Edith Anne Stoney'},\n",
       "   {'pageid': 40066460, 'ns': 0, 'title': 'Janet Taylor'},\n",
       "   {'pageid': 33939840, 'ns': 0, 'title': 'Anna Thynne'},\n",
       "   {'pageid': 60413235, 'ns': 0, 'title': 'Charlotte Georgina Trower'},\n",
       "   {'pageid': 49846780, 'ns': 0, 'title': 'Anna Vickers'},\n",
       "   {'pageid': 49856829, 'ns': 0, 'title': 'Elizabeth Andrew Warren'},\n",
       "   {'pageid': 39533448, 'ns': 0, 'title': 'Mary Anne Whitby'},\n",
       "   {'pageid': 42335308, 'ns': 0, 'title': 'Martha Annie Whiteley'},\n",
       "   {'pageid': 53258689, 'ns': 0, 'title': 'Sibyl Taite Widdows'},\n",
       "   {'pageid': 58124683, 'ns': 0, 'title': 'Caroline Catharine Wilkinson'},\n",
       "   {'pageid': 71095752, 'ns': 0, 'title': 'Mary Wyatt'},\n",
       "   {'pageid': 55855023, 'ns': 0, 'title': 'Rosina Zornlin'}]}}"
      ]
     },
     "execution_count": 18,
     "metadata": {},
     "output_type": "execute_result"
    }
   ],
   "source": [
    "# Hopefully this is starting to feel repetitive\n",
    "\n",
    "# Make the request\n",
    "# r = requests.get(???)\n",
    "\n",
    "params = {\n",
    "    \"action\": \"query\",\n",
    "    \"list\": \"categorymembers\",\n",
    "    \"cmtitle\": \"Category:19th-century British women scientists\", # (c)ategory (m)ember: title\n",
    "    \"format\": \"json\",\n",
    "    \"cmlimit\": \"max\" # (c)ategory (m)member: limit on the number of returned items\n",
    "}\n",
    "\n",
    "r = requests.get(\"http://en.wikipedia.org/w/api.php\", params=params, headers=WP_HEADERS)\n",
    "\n",
    "# Inspect the response\n",
    "\n",
    "response = r.json()\n",
    "response"
   ]
  },
  {
   "cell_type": "code",
   "execution_count": 19,
   "metadata": {
    "cell_id": "110847f1-1d43-41ab-a736-4e1a2d0b008d",
    "deepnote_app_coordinates": {
     "h": 5,
     "w": 12,
     "x": 0,
     "y": 192
    },
    "deepnote_cell_type": "code",
    "deepnote_table_loading": false,
    "deepnote_table_state": {
     "filters": [],
     "pageIndex": 0,
     "pageSize": 10,
     "sortBy": []
    },
    "deepnote_to_be_reexecuted": false,
    "execution_millis": 17,
    "execution_start": 1646038830688,
    "source_hash": "9e0e3c48",
    "tags": []
   },
   "outputs": [
    {
     "data": {
      "text/html": [
       "<div>\n",
       "<style scoped>\n",
       "    .dataframe tbody tr th:only-of-type {\n",
       "        vertical-align: middle;\n",
       "    }\n",
       "\n",
       "    .dataframe tbody tr th {\n",
       "        vertical-align: top;\n",
       "    }\n",
       "\n",
       "    .dataframe thead th {\n",
       "        text-align: right;\n",
       "    }\n",
       "</style>\n",
       "<table border=\"1\" class=\"dataframe\">\n",
       "  <thead>\n",
       "    <tr style=\"text-align: right;\">\n",
       "      <th></th>\n",
       "      <th>pageid</th>\n",
       "      <th>ns</th>\n",
       "      <th>title</th>\n",
       "    </tr>\n",
       "  </thead>\n",
       "  <tbody>\n",
       "    <tr>\n",
       "      <th>0</th>\n",
       "      <td>38334</td>\n",
       "      <td>0</td>\n",
       "      <td>Mary Anning</td>\n",
       "    </tr>\n",
       "    <tr>\n",
       "      <th>1</th>\n",
       "      <td>56459269</td>\n",
       "      <td>0</td>\n",
       "      <td>Emily Aston</td>\n",
       "    </tr>\n",
       "    <tr>\n",
       "      <th>2</th>\n",
       "      <td>3329579</td>\n",
       "      <td>0</td>\n",
       "      <td>Anna Atkins</td>\n",
       "    </tr>\n",
       "    <tr>\n",
       "      <th>3</th>\n",
       "      <td>1805181</td>\n",
       "      <td>0</td>\n",
       "      <td>Hertha Ayrton</td>\n",
       "    </tr>\n",
       "    <tr>\n",
       "      <th>4</th>\n",
       "      <td>43626398</td>\n",
       "      <td>0</td>\n",
       "      <td>Alice Blanche Balfour</td>\n",
       "    </tr>\n",
       "    <tr>\n",
       "      <th>...</th>\n",
       "      <td>...</td>\n",
       "      <td>...</td>\n",
       "      <td>...</td>\n",
       "    </tr>\n",
       "    <tr>\n",
       "      <th>79</th>\n",
       "      <td>42335308</td>\n",
       "      <td>0</td>\n",
       "      <td>Martha Annie Whiteley</td>\n",
       "    </tr>\n",
       "    <tr>\n",
       "      <th>80</th>\n",
       "      <td>53258689</td>\n",
       "      <td>0</td>\n",
       "      <td>Sibyl Taite Widdows</td>\n",
       "    </tr>\n",
       "    <tr>\n",
       "      <th>81</th>\n",
       "      <td>58124683</td>\n",
       "      <td>0</td>\n",
       "      <td>Caroline Catharine Wilkinson</td>\n",
       "    </tr>\n",
       "    <tr>\n",
       "      <th>82</th>\n",
       "      <td>71095752</td>\n",
       "      <td>0</td>\n",
       "      <td>Mary Wyatt</td>\n",
       "    </tr>\n",
       "    <tr>\n",
       "      <th>83</th>\n",
       "      <td>55855023</td>\n",
       "      <td>0</td>\n",
       "      <td>Rosina Zornlin</td>\n",
       "    </tr>\n",
       "  </tbody>\n",
       "</table>\n",
       "<p>84 rows × 3 columns</p>\n",
       "</div>"
      ],
      "text/plain": [
       "      pageid  ns                         title\n",
       "0      38334   0                   Mary Anning\n",
       "1   56459269   0                   Emily Aston\n",
       "2    3329579   0                   Anna Atkins\n",
       "3    1805181   0                 Hertha Ayrton\n",
       "4   43626398   0         Alice Blanche Balfour\n",
       "..       ...  ..                           ...\n",
       "79  42335308   0         Martha Annie Whiteley\n",
       "80  53258689   0           Sibyl Taite Widdows\n",
       "81  58124683   0  Caroline Catharine Wilkinson\n",
       "82  71095752   0                    Mary Wyatt\n",
       "83  55855023   0                Rosina Zornlin\n",
       "\n",
       "[84 rows x 3 columns]"
      ]
     },
     "execution_count": 19,
     "metadata": {},
     "output_type": "execute_result"
    }
   ],
   "source": [
    "# Store just the category members in a DataFrame\n",
    "\n",
    "df = pd.DataFrame(response['query']['categorymembers'])\n",
    "df"
   ]
  },
  {
   "cell_type": "markdown",
   "metadata": {
    "cell_id": "696eefe3-5f6b-43c8-ad9e-edba79336b70",
    "deepnote_app_coordinates": {
     "h": 5,
     "w": 12,
     "x": 0,
     "y": 198
    },
    "deepnote_cell_type": "markdown",
    "tags": []
   },
   "source": [
    "We now have a dataframe with the unique ID and the page title of all 19th-century British women scientists on Wikipedia."
   ]
  },
  {
   "cell_type": "code",
   "execution_count": 20,
   "metadata": {
    "cell_id": "668f8896-2748-41ec-8023-ca32ad72782c",
    "deepnote_app_coordinates": {
     "h": 5,
     "w": 12,
     "x": 0,
     "y": 204
    },
    "deepnote_cell_type": "code",
    "deepnote_to_be_reexecuted": false,
    "execution_millis": 237,
    "execution_start": 1645898946592,
    "source_hash": "417abf22",
    "tags": []
   },
   "outputs": [
    {
     "name": "stdout",
     "output_type": "stream",
     "text": [
      "['Mary Anning', 'Emily Aston', 'Anna Atkins', 'Hertha Ayrton', 'Alice Blanche Balfour', 'Sarah Sophia Banks', 'Mary Elizabeth Barber', 'Etheldred Benett', 'Margaret Jane Benson', 'Marion Bidder', 'Ellen Blackwell', 'Elizabeth Brown (astronomer)', 'Margaret Bryan (philosopher)', 'Priscilla Susan Bury', 'Elizabeth Carne', 'Margaret Crosfield', 'Clare de Brereton Evans', 'Lettice Digby (scientist)', 'Thereza Dillwyn Llewelyn', 'Margaret Douie Dougal', 'Sarah Drake', 'Mary Edwards (human computer)', 'Marian Farquharson', 'Emily Fortey', 'Ida Freund', 'Catherine Gage', 'Ethel Sarel Gepp', 'Isabella Gifford', 'Eliza Maria Gordon-Cumming', 'Maria Gordon', 'Lilian Jane Gould', 'Amelia Griffiths', 'Jane Ellen Harrison', 'Caroline Herschel', 'Alice Hibbert-Ware', 'Mary Horner Lyell', 'Edith Humphrey', 'Anna Maria Hussey', 'Emma Hutchinson', 'Agnes Ibbetson', 'Maria Elizabetha Jacson', 'Mariamne Johnes', 'Alice Johnson (zoologist)', 'Catharine Johnston', 'Charlotte Knight', 'Phoebe Lankester', 'Mary Leebody', 'Gulielma Lister', 'Emily Lloyd (chemist)', 'Elizabeth Lomax', 'Ada Lovelace', 'Katharine Murray Lyell', 'Lilian Martin-Leake', 'Harriet Martineau', 'Katherine Clerk Maxwell', 'Frances Micklethwait', 'Rose Monteiro', 'Mary De la Beche Nicholl', 'Eleanor Anne Ormerod', 'Jessica Duncan Piazzi Smyth', 'Margaret Plues', 'Isis Pogson', 'Margaretta Riley', 'Anne Rudge', 'Anna Russell (botanist)', 'Ethel Sargant', 'Lilian Sheldon', 'Annie Lorrain Smith', 'Mary Somerville', 'Frances Stackhouse Acton', 'Emily Stackhouse', 'Eliza Fanny Staveley', 'Edith Anne Stoney', 'Janet Taylor', 'Anna Thynne', 'Charlotte Georgina Trower', 'Anna Vickers', 'Elizabeth Andrew Warren', 'Mary Anne Whitby', 'Martha Annie Whiteley', 'Sibyl Taite Widdows', 'Caroline Catharine Wilkinson', 'Mary Wyatt', 'Rosina Zornlin']\n"
     ]
    }
   ],
   "source": [
    "# Now, if you want to have a list of all the page titles, you can use:\n",
    "list_of_women_scientists = list(df['title'])\n",
    "\n",
    "print(list_of_women_scientists)"
   ]
  },
  {
   "cell_type": "markdown",
   "metadata": {
    "cell_id": "fc240bac-e706-441b-84c9-011aa121b3a2",
    "deepnote_app_coordinates": {
     "h": 5,
     "w": 12,
     "x": 0,
     "y": 210
    },
    "deepnote_cell_type": "markdown",
    "tags": []
   },
   "source": [
    "<div class=\"alert alert-warning\">\n",
    "\n",
    "This Wikipedia API is very powerful and there are also many more services that aggregate and complement it. We will stop here on the content, but there's a lot more you can query.\n",
    "\n",
    "If you're interested in doing more with Wikipedia, you can look at XTools: https://xtools.wmflabs.org/articleinfo/en.wikipedia.org/Oxford.\n",
    "\n",
    "It's a visual tool that shows you the sort of information you could query on Wikipedia users, pages, categories, etc. It even has its own advanced API.\n",
    "\n",
    "</div>"
   ]
  },
  {
   "cell_type": "markdown",
   "metadata": {
    "cell_id": "e2930ae1-e7de-49ef-a9f0-928841b97f7c",
    "deepnote_app_coordinates": {
     "h": 5,
     "w": 12,
     "x": 0,
     "y": 222
    },
    "deepnote_cell_type": "markdown",
    "tags": []
   },
   "source": [
    "### Exercise 3: Accessing metrics about Wikipedia visits\n",
    "\n",
    "Let's now look at statistics on how users browse Wikipedia. This is also something we can query with an API.\n",
    "We are going to the the Pageview API, another API published by the Wikimedia Foundation. You can find documentation and information here: https://wikitech.wikimedia.org/wiki/Analytics/AQS/Pageviews\n",
    "\n",
    "\n",
    "This API is quite different from the one we used above. Instead of passing parameters through requests.get, every parameter is specified in the URL by a set of words between trailing slash (/). For example, to access number of monthly pageviews on the page \"blah blah\" between 01-01-2020 and 31-12-2020, our URL will look like:\n",
    "\n",
    "    https://wikimedia.org/api/rest_v1/metrics/pageviews/per-article/en.wikipedia/all-access/all-agents/blah_blah/monthly/2020010100/2020123100\n",
    "\n",
    "<br />"
   ]
  },
  {
   "cell_type": "markdown",
   "metadata": {
    "cell_id": "2c64e5db-b6a9-4bb7-8ca8-55f230c26e6a",
    "deepnote_app_coordinates": {
     "h": 5,
     "w": 12,
     "x": 0,
     "y": 228
    },
    "deepnote_cell_type": "markdown",
    "tags": []
   },
   "source": [
    "<div class=\"alert alert-info\">\n",
    "\n",
    "**Exercise 3.1:** Construct a `requests.get` query to retrieve number of monthly pageviews for the page on \"Oxford\" between 01-01-2022 and 31-12-2022\n",
    "- Look at the response of the above call\n",
    "- Where can you find the number of pageviews in this response?\n",
    "- Make a dataframe with each row as a month and the corresponding number pf pageviews.\n",
    "\n",
    "</div>"
   ]
  },
  {
   "cell_type": "code",
   "execution_count": 21,
   "metadata": {
    "cell_id": "62da1f7e-8aa2-4a59-a973-7b06d89e1ade",
    "deepnote_app_coordinates": {
     "h": 5,
     "w": 12,
     "x": 0,
     "y": 234
    },
    "deepnote_cell_type": "code",
    "deepnote_to_be_reexecuted": false,
    "execution_millis": 170,
    "execution_start": 1645983480084,
    "source_hash": "85fdfd6b",
    "tags": []
   },
   "outputs": [
    {
     "data": {
      "text/plain": [
       "{'items': [{'project': 'en.wikipedia',\n",
       "   'article': 'Oxford',\n",
       "   'granularity': 'monthly',\n",
       "   'timestamp': '2022010100',\n",
       "   'access': 'all-access',\n",
       "   'agent': 'all-agents',\n",
       "   'views': 64953},\n",
       "  {'project': 'en.wikipedia',\n",
       "   'article': 'Oxford',\n",
       "   'granularity': 'monthly',\n",
       "   'timestamp': '2022020100',\n",
       "   'access': 'all-access',\n",
       "   'agent': 'all-agents',\n",
       "   'views': 57884},\n",
       "  {'project': 'en.wikipedia',\n",
       "   'article': 'Oxford',\n",
       "   'granularity': 'monthly',\n",
       "   'timestamp': '2022030100',\n",
       "   'access': 'all-access',\n",
       "   'agent': 'all-agents',\n",
       "   'views': 57131},\n",
       "  {'project': 'en.wikipedia',\n",
       "   'article': 'Oxford',\n",
       "   'granularity': 'monthly',\n",
       "   'timestamp': '2022040100',\n",
       "   'access': 'all-access',\n",
       "   'agent': 'all-agents',\n",
       "   'views': 56806},\n",
       "  {'project': 'en.wikipedia',\n",
       "   'article': 'Oxford',\n",
       "   'granularity': 'monthly',\n",
       "   'timestamp': '2022050100',\n",
       "   'access': 'all-access',\n",
       "   'agent': 'all-agents',\n",
       "   'views': 60297},\n",
       "  {'project': 'en.wikipedia',\n",
       "   'article': 'Oxford',\n",
       "   'granularity': 'monthly',\n",
       "   'timestamp': '2022060100',\n",
       "   'access': 'all-access',\n",
       "   'agent': 'all-agents',\n",
       "   'views': 53813},\n",
       "  {'project': 'en.wikipedia',\n",
       "   'article': 'Oxford',\n",
       "   'granularity': 'monthly',\n",
       "   'timestamp': '2022070100',\n",
       "   'access': 'all-access',\n",
       "   'agent': 'all-agents',\n",
       "   'views': 59907},\n",
       "  {'project': 'en.wikipedia',\n",
       "   'article': 'Oxford',\n",
       "   'granularity': 'monthly',\n",
       "   'timestamp': '2022080100',\n",
       "   'access': 'all-access',\n",
       "   'agent': 'all-agents',\n",
       "   'views': 60292},\n",
       "  {'project': 'en.wikipedia',\n",
       "   'article': 'Oxford',\n",
       "   'granularity': 'monthly',\n",
       "   'timestamp': '2022090100',\n",
       "   'access': 'all-access',\n",
       "   'agent': 'all-agents',\n",
       "   'views': 70379},\n",
       "  {'project': 'en.wikipedia',\n",
       "   'article': 'Oxford',\n",
       "   'granularity': 'monthly',\n",
       "   'timestamp': '2022100100',\n",
       "   'access': 'all-access',\n",
       "   'agent': 'all-agents',\n",
       "   'views': 64060},\n",
       "  {'project': 'en.wikipedia',\n",
       "   'article': 'Oxford',\n",
       "   'granularity': 'monthly',\n",
       "   'timestamp': '2022110100',\n",
       "   'access': 'all-access',\n",
       "   'agent': 'all-agents',\n",
       "   'views': 59417},\n",
       "  {'project': 'en.wikipedia',\n",
       "   'article': 'Oxford',\n",
       "   'granularity': 'monthly',\n",
       "   'timestamp': '2022120100',\n",
       "   'access': 'all-access',\n",
       "   'agent': 'all-agents',\n",
       "   'views': 54557}]}"
      ]
     },
     "execution_count": 21,
     "metadata": {},
     "output_type": "execute_result"
    }
   ],
   "source": [
    "api_location = 'https://wikimedia.org/api/rest_v1/metrics/pageviews/per-article/en.wikipedia/all-access/all-agents/Oxford/monthly/2022010100/2022123100'\n",
    "\n",
    "response = requests.get(api_location, headers=WP_HEADERS)\n",
    "result = response.json()\n",
    "\n",
    "result"
   ]
  },
  {
   "cell_type": "code",
   "execution_count": 22,
   "metadata": {
    "cell_id": "a0be09aa-5088-42a1-b001-2ccc08421b9f",
    "deepnote_app_coordinates": {
     "h": 5,
     "w": 12,
     "x": 0,
     "y": 246
    },
    "deepnote_cell_type": "code",
    "deepnote_to_be_reexecuted": false,
    "execution_millis": 13,
    "execution_start": 1645983483148,
    "source_hash": "7b1515ca",
    "tags": []
   },
   "outputs": [
    {
     "data": {
      "text/html": [
       "<div>\n",
       "<style scoped>\n",
       "    .dataframe tbody tr th:only-of-type {\n",
       "        vertical-align: middle;\n",
       "    }\n",
       "\n",
       "    .dataframe tbody tr th {\n",
       "        vertical-align: top;\n",
       "    }\n",
       "\n",
       "    .dataframe thead th {\n",
       "        text-align: right;\n",
       "    }\n",
       "</style>\n",
       "<table border=\"1\" class=\"dataframe\">\n",
       "  <thead>\n",
       "    <tr style=\"text-align: right;\">\n",
       "      <th></th>\n",
       "      <th>project</th>\n",
       "      <th>article</th>\n",
       "      <th>granularity</th>\n",
       "      <th>timestamp</th>\n",
       "      <th>access</th>\n",
       "      <th>agent</th>\n",
       "      <th>views</th>\n",
       "    </tr>\n",
       "  </thead>\n",
       "  <tbody>\n",
       "    <tr>\n",
       "      <th>0</th>\n",
       "      <td>en.wikipedia</td>\n",
       "      <td>Oxford</td>\n",
       "      <td>monthly</td>\n",
       "      <td>2022010100</td>\n",
       "      <td>all-access</td>\n",
       "      <td>all-agents</td>\n",
       "      <td>64953</td>\n",
       "    </tr>\n",
       "    <tr>\n",
       "      <th>1</th>\n",
       "      <td>en.wikipedia</td>\n",
       "      <td>Oxford</td>\n",
       "      <td>monthly</td>\n",
       "      <td>2022020100</td>\n",
       "      <td>all-access</td>\n",
       "      <td>all-agents</td>\n",
       "      <td>57884</td>\n",
       "    </tr>\n",
       "    <tr>\n",
       "      <th>2</th>\n",
       "      <td>en.wikipedia</td>\n",
       "      <td>Oxford</td>\n",
       "      <td>monthly</td>\n",
       "      <td>2022030100</td>\n",
       "      <td>all-access</td>\n",
       "      <td>all-agents</td>\n",
       "      <td>57131</td>\n",
       "    </tr>\n",
       "    <tr>\n",
       "      <th>3</th>\n",
       "      <td>en.wikipedia</td>\n",
       "      <td>Oxford</td>\n",
       "      <td>monthly</td>\n",
       "      <td>2022040100</td>\n",
       "      <td>all-access</td>\n",
       "      <td>all-agents</td>\n",
       "      <td>56806</td>\n",
       "    </tr>\n",
       "    <tr>\n",
       "      <th>4</th>\n",
       "      <td>en.wikipedia</td>\n",
       "      <td>Oxford</td>\n",
       "      <td>monthly</td>\n",
       "      <td>2022050100</td>\n",
       "      <td>all-access</td>\n",
       "      <td>all-agents</td>\n",
       "      <td>60297</td>\n",
       "    </tr>\n",
       "  </tbody>\n",
       "</table>\n",
       "</div>"
      ],
      "text/plain": [
       "        project article granularity   timestamp      access       agent  views\n",
       "0  en.wikipedia  Oxford     monthly  2022010100  all-access  all-agents  64953\n",
       "1  en.wikipedia  Oxford     monthly  2022020100  all-access  all-agents  57884\n",
       "2  en.wikipedia  Oxford     monthly  2022030100  all-access  all-agents  57131\n",
       "3  en.wikipedia  Oxford     monthly  2022040100  all-access  all-agents  56806\n",
       "4  en.wikipedia  Oxford     monthly  2022050100  all-access  all-agents  60297"
      ]
     },
     "execution_count": 22,
     "metadata": {},
     "output_type": "execute_result"
    }
   ],
   "source": [
    "df_views = pd.DataFrame(result['items'])\n",
    "df_views.head()"
   ]
  },
  {
   "cell_type": "markdown",
   "metadata": {
    "cell_id": "2b483979-f360-4600-a27a-ecd1cfc5e2af",
    "deepnote_app_coordinates": {
     "h": 5,
     "w": 12,
     "x": 0,
     "y": 252
    },
    "deepnote_cell_type": "markdown",
    "tags": []
   },
   "source": [
    "<div class=\"alert alert-info\">\n",
    "\n",
    "**Exercise 3.2:** Complete the function below that takes a string input `page` and returns a dataframe containing monthly pageviews.\n",
    "\n",
    "</div>"
   ]
  },
  {
   "cell_type": "code",
   "execution_count": 23,
   "metadata": {
    "cell_id": "72c5dcb7-2f0a-4071-a9a9-c35bceead029",
    "deepnote_app_coordinates": {
     "h": 5,
     "w": 12,
     "x": 0,
     "y": 258
    },
    "deepnote_cell_type": "code",
    "deepnote_to_be_reexecuted": false,
    "execution_millis": 0,
    "execution_start": 1645983522240,
    "source_hash": "4ffd2909",
    "tags": []
   },
   "outputs": [],
   "source": [
    "def pageviews(page):\n",
    "    # This line replaces spaces with underscores for the URL\n",
    "    page_with_underscore = page.replace(' ', '_')\n",
    "    # We insert page_with_underscore into the URL of this Wikipedia API: \n",
    "    \n",
    "    # api_location = ???\n",
    "    api_location = f'https://wikimedia.org/api/rest_v1/metrics/pageviews/per-article/en.wikipedia/all-access/all-agents/{page_with_underscore}/monthly/2020010100/2022123100'\n",
    "\n",
    "    # response = request.get(???)\n",
    "    response = requests.get(api_location, headers=WP_HEADERS)\n",
    "    \n",
    "    result = response.json()\n",
    "    df = pd.DataFrame(result['items'])\n",
    "    df['timestamp'] = pd.to_datetime(df.timestamp, format='%Y%m%d%H')\n",
    "    return df"
   ]
  },
  {
   "cell_type": "markdown",
   "metadata": {
    "cell_id": "95e1caa3-c1c4-4679-9fea-823467093697",
    "deepnote_app_coordinates": {
     "h": 5,
     "w": 12,
     "x": 0,
     "y": 264
    },
    "deepnote_cell_type": "markdown",
    "tags": []
   },
   "source": [
    "<div class=\"alert alert-info\">\n",
    "\n",
    "**Exercise 3.3:** Call the function defined above to find out monthly pageviews on the following pages:\n",
    "- \"Ukraine\"\n",
    "- \"Russia\"\n",
    "\n",
    "Finally, plot their monthly pageviews. You can use Pandas inbuilt function to plot a timeseries. Checkout `DataFrame.plot` documentation on how to do it: https://pandas.pydata.org/docs/reference/api/pandas.DataFrame.plot.html\n",
    "\n",
    "</div>"
   ]
  },
  {
   "cell_type": "code",
   "execution_count": 24,
   "metadata": {
    "cell_id": "a6fa6415-29db-460e-978b-4f8349f28bc3",
    "deepnote_app_coordinates": {
     "h": 5,
     "w": 12,
     "x": 0,
     "y": 270
    },
    "deepnote_cell_type": "code",
    "deepnote_to_be_reexecuted": false,
    "execution_millis": 536,
    "execution_start": 1645983522874,
    "source_hash": "11707b99",
    "tags": []
   },
   "outputs": [
    {
     "data": {
      "text/html": [
       "<div>\n",
       "<style scoped>\n",
       "    .dataframe tbody tr th:only-of-type {\n",
       "        vertical-align: middle;\n",
       "    }\n",
       "\n",
       "    .dataframe tbody tr th {\n",
       "        vertical-align: top;\n",
       "    }\n",
       "\n",
       "    .dataframe thead th {\n",
       "        text-align: right;\n",
       "    }\n",
       "</style>\n",
       "<table border=\"1\" class=\"dataframe\">\n",
       "  <thead>\n",
       "    <tr style=\"text-align: right;\">\n",
       "      <th></th>\n",
       "      <th>project</th>\n",
       "      <th>article</th>\n",
       "      <th>granularity</th>\n",
       "      <th>timestamp</th>\n",
       "      <th>access</th>\n",
       "      <th>agent</th>\n",
       "      <th>views</th>\n",
       "    </tr>\n",
       "  </thead>\n",
       "  <tbody>\n",
       "    <tr>\n",
       "      <th>0</th>\n",
       "      <td>en.wikipedia</td>\n",
       "      <td>Ukraine</td>\n",
       "      <td>monthly</td>\n",
       "      <td>2020-01-01</td>\n",
       "      <td>all-access</td>\n",
       "      <td>all-agents</td>\n",
       "      <td>353748</td>\n",
       "    </tr>\n",
       "    <tr>\n",
       "      <th>1</th>\n",
       "      <td>en.wikipedia</td>\n",
       "      <td>Ukraine</td>\n",
       "      <td>monthly</td>\n",
       "      <td>2020-02-01</td>\n",
       "      <td>all-access</td>\n",
       "      <td>all-agents</td>\n",
       "      <td>211943</td>\n",
       "    </tr>\n",
       "    <tr>\n",
       "      <th>2</th>\n",
       "      <td>en.wikipedia</td>\n",
       "      <td>Ukraine</td>\n",
       "      <td>monthly</td>\n",
       "      <td>2020-03-01</td>\n",
       "      <td>all-access</td>\n",
       "      <td>all-agents</td>\n",
       "      <td>262364</td>\n",
       "    </tr>\n",
       "    <tr>\n",
       "      <th>3</th>\n",
       "      <td>en.wikipedia</td>\n",
       "      <td>Ukraine</td>\n",
       "      <td>monthly</td>\n",
       "      <td>2020-04-01</td>\n",
       "      <td>all-access</td>\n",
       "      <td>all-agents</td>\n",
       "      <td>244259</td>\n",
       "    </tr>\n",
       "    <tr>\n",
       "      <th>4</th>\n",
       "      <td>en.wikipedia</td>\n",
       "      <td>Ukraine</td>\n",
       "      <td>monthly</td>\n",
       "      <td>2020-05-01</td>\n",
       "      <td>all-access</td>\n",
       "      <td>all-agents</td>\n",
       "      <td>240272</td>\n",
       "    </tr>\n",
       "  </tbody>\n",
       "</table>\n",
       "</div>"
      ],
      "text/plain": [
       "        project  article granularity  timestamp      access       agent  \\\n",
       "0  en.wikipedia  Ukraine     monthly 2020-01-01  all-access  all-agents   \n",
       "1  en.wikipedia  Ukraine     monthly 2020-02-01  all-access  all-agents   \n",
       "2  en.wikipedia  Ukraine     monthly 2020-03-01  all-access  all-agents   \n",
       "3  en.wikipedia  Ukraine     monthly 2020-04-01  all-access  all-agents   \n",
       "4  en.wikipedia  Ukraine     monthly 2020-05-01  all-access  all-agents   \n",
       "\n",
       "    views  \n",
       "0  353748  \n",
       "1  211943  \n",
       "2  262364  \n",
       "3  244259  \n",
       "4  240272  "
      ]
     },
     "execution_count": 24,
     "metadata": {},
     "output_type": "execute_result"
    }
   ],
   "source": [
    "df_ukraine = pageviews('Ukraine')\n",
    "df_ukraine.head()"
   ]
  },
  {
   "cell_type": "markdown",
   "metadata": {
    "cell_id": "9bdc726e-c9f7-4959-b071-dcd4a845b1a6",
    "deepnote_app_coordinates": {
     "h": 5,
     "w": 12,
     "x": 0,
     "y": 276
    },
    "deepnote_cell_type": "markdown",
    "tags": []
   },
   "source": [
    "We can now quickly visualise the number of page views per month using pandas:"
   ]
  },
  {
   "cell_type": "code",
   "execution_count": 25,
   "metadata": {
    "cell_id": "2a04d956-5c62-4bee-953b-ba51c60d0eaa",
    "deepnote_app_coordinates": {
     "h": 5,
     "w": 12,
     "x": 0,
     "y": 282
    },
    "deepnote_cell_type": "code",
    "deepnote_to_be_reexecuted": false,
    "execution_millis": 2556,
    "execution_start": 1645983526942,
    "source_hash": "1ea2d061",
    "tags": []
   },
   "outputs": [
    {
     "data": {
      "image/png": "[encoded data removed]",
      "text/plain": [
       "<Figure size 432x288 with 1 Axes>"
      ]
     },
     "metadata": {
      "needs_background": "light"
     },
     "output_type": "display_data"
    }
   ],
   "source": [
    "df_ukraine.plot('timestamp', 'views');"
   ]
  },
  {
   "cell_type": "code",
   "execution_count": 26,
   "metadata": {
    "cell_id": "4e16b59f-51eb-4171-81f6-d0d32994b980",
    "deepnote_app_coordinates": {
     "h": 5,
     "w": 12,
     "x": 0,
     "y": 288
    },
    "deepnote_cell_type": "code",
    "deepnote_to_be_reexecuted": false,
    "execution_millis": 244,
    "execution_start": 1645983534451,
    "source_hash": "80ca84ce",
    "tags": []
   },
   "outputs": [
    {
     "data": {
      "text/html": [
       "<div>\n",
       "<style scoped>\n",
       "    .dataframe tbody tr th:only-of-type {\n",
       "        vertical-align: middle;\n",
       "    }\n",
       "\n",
       "    .dataframe tbody tr th {\n",
       "        vertical-align: top;\n",
       "    }\n",
       "\n",
       "    .dataframe thead th {\n",
       "        text-align: right;\n",
       "    }\n",
       "</style>\n",
       "<table border=\"1\" class=\"dataframe\">\n",
       "  <thead>\n",
       "    <tr style=\"text-align: right;\">\n",
       "      <th></th>\n",
       "      <th>project</th>\n",
       "      <th>article</th>\n",
       "      <th>granularity</th>\n",
       "      <th>timestamp</th>\n",
       "      <th>access</th>\n",
       "      <th>agent</th>\n",
       "      <th>views</th>\n",
       "    </tr>\n",
       "  </thead>\n",
       "  <tbody>\n",
       "    <tr>\n",
       "      <th>0</th>\n",
       "      <td>en.wikipedia</td>\n",
       "      <td>Russia</td>\n",
       "      <td>monthly</td>\n",
       "      <td>2020-01-01</td>\n",
       "      <td>all-access</td>\n",
       "      <td>all-agents</td>\n",
       "      <td>568966</td>\n",
       "    </tr>\n",
       "    <tr>\n",
       "      <th>1</th>\n",
       "      <td>en.wikipedia</td>\n",
       "      <td>Russia</td>\n",
       "      <td>monthly</td>\n",
       "      <td>2020-02-01</td>\n",
       "      <td>all-access</td>\n",
       "      <td>all-agents</td>\n",
       "      <td>467814</td>\n",
       "    </tr>\n",
       "    <tr>\n",
       "      <th>2</th>\n",
       "      <td>en.wikipedia</td>\n",
       "      <td>Russia</td>\n",
       "      <td>monthly</td>\n",
       "      <td>2020-03-01</td>\n",
       "      <td>all-access</td>\n",
       "      <td>all-agents</td>\n",
       "      <td>587419</td>\n",
       "    </tr>\n",
       "    <tr>\n",
       "      <th>3</th>\n",
       "      <td>en.wikipedia</td>\n",
       "      <td>Russia</td>\n",
       "      <td>monthly</td>\n",
       "      <td>2020-04-01</td>\n",
       "      <td>all-access</td>\n",
       "      <td>all-agents</td>\n",
       "      <td>701076</td>\n",
       "    </tr>\n",
       "    <tr>\n",
       "      <th>4</th>\n",
       "      <td>en.wikipedia</td>\n",
       "      <td>Russia</td>\n",
       "      <td>monthly</td>\n",
       "      <td>2020-05-01</td>\n",
       "      <td>all-access</td>\n",
       "      <td>all-agents</td>\n",
       "      <td>630985</td>\n",
       "    </tr>\n",
       "  </tbody>\n",
       "</table>\n",
       "</div>"
      ],
      "text/plain": [
       "        project article granularity  timestamp      access       agent   views\n",
       "0  en.wikipedia  Russia     monthly 2020-01-01  all-access  all-agents  568966\n",
       "1  en.wikipedia  Russia     monthly 2020-02-01  all-access  all-agents  467814\n",
       "2  en.wikipedia  Russia     monthly 2020-03-01  all-access  all-agents  587419\n",
       "3  en.wikipedia  Russia     monthly 2020-04-01  all-access  all-agents  701076\n",
       "4  en.wikipedia  Russia     monthly 2020-05-01  all-access  all-agents  630985"
      ]
     },
     "execution_count": 26,
     "metadata": {},
     "output_type": "execute_result"
    }
   ],
   "source": [
    "df_russia = pageviews('Russia')\n",
    "df_russia.head()"
   ]
  },
  {
   "cell_type": "code",
   "execution_count": 27,
   "metadata": {
    "cell_id": "adccd0bc-ac81-4590-acab-c6d21c9812e4",
    "deepnote_app_coordinates": {
     "h": 5,
     "w": 12,
     "x": 0,
     "y": 294
    },
    "deepnote_cell_type": "code",
    "deepnote_to_be_reexecuted": false,
    "execution_millis": 332,
    "execution_start": 1645983536225,
    "source_hash": "9b6ba042",
    "tags": []
   },
   "outputs": [
    {
     "data": {
      "image/png": "[encoded data removed]",
      "text/plain": [
       "<Figure size 432x288 with 1 Axes>"
      ]
     },
     "metadata": {
      "needs_background": "light"
     },
     "output_type": "display_data"
    }
   ],
   "source": [
    "df_russia.plot('timestamp', 'views');"
   ]
  },
  {
   "cell_type": "markdown",
   "metadata": {
    "cell_id": "f83b9558-2951-43ce-848e-310b252be766",
    "deepnote_app_coordinates": {
     "h": 5,
     "w": 12,
     "x": 0,
     "y": 312
    },
    "deepnote_cell_height": 130.8000030517578,
    "deepnote_cell_type": "markdown",
    "tags": []
   },
   "source": [
    "### Wikipedia-API Python Library\n",
    "\n",
    "<div class=\"alert alert-warning\">\n",
    "\n",
    "In this notebook, we learned to manually craft queries for the Wikipedia API (and then the PageViews API). There's actually an unoffical Python library for the Wikipedia API, called…  `Wikipedia-API` (https://wikipedia-api.readthedocs.io/en/latest/README.html). This library makes it easier to query Wikipedia (only).\n",
    "\n",
    "The documentation has several examples on how to use it, however, it will not be able to make complex queries. At those times, it would be necessary to delve deeper into the specifics of the Wikimedia APIs and manually craft queries.\n",
    "\n",
    "</div>"
   ]
  },
  {
   "cell_type": "markdown",
   "metadata": {
    "cell_id": "f2cd8fc8-9b5f-4983-91d6-0764125f30f9",
    "deepnote_app_coordinates": {
     "h": 5,
     "w": 12,
     "x": 0,
     "y": 300
    },
    "deepnote_cell_type": "markdown",
    "tags": []
   },
   "source": [
    "# Homework\n",
    "\n",
    "<div class=\"alert-info alert\">\n",
    "\n",
    "Compute average number of monthly page views for 19th century male and female British scientists\n",
    "\n",
    "</div>\n",
    "\n"
   ]
  },
  {
   "cell_type": "markdown",
   "metadata": {
    "cell_id": "b246c682-fae5-4a0e-95b7-d40c2bca96bf",
    "deepnote_app_coordinates": {
     "h": 5,
     "w": 12,
     "x": 0,
     "y": 0
    },
    "deepnote_cell_type": "markdown",
    "tags": []
   },
   "source": [
    "\n",
    "Let's break this exercise down into the following steps - \n",
    "\n",
    "<div class=\"alert-info alert\">\n",
    "\n",
    "1. Query the WP API for (a) the list of all ‘19th century British female scientists’ and (b) the list of all ‘19th century British male scientists’.\n",
    "\n",
    "2. Iterate over each page in the above two lists and query the number of page views for them\n",
    "\n",
    "3. Report the average number of page views for male and female British scientists.\n",
    "\n",
    "4. Prepare a CSV file (or two files) to save the two lists and the associated pageviews. How would you structure your dataset?\n",
    "\n",
    "5. Optional: The Wikipedia articles are sometimes renamed, merged, or deleted. How would you ensure that the data you extract and report in your CSV file can still be reused by researchers if the title change?\n",
    "\n",
    "</div>"
   ]
  },
  {
   "cell_type": "markdown",
   "metadata": {
    "cell_id": "2e6042fd-ec47-43a1-9cd8-c39dfd9911d9",
    "deepnote_app_coordinates": {
     "h": 5,
     "w": 12,
     "x": 0,
     "y": 0
    },
    "deepnote_cell_type": "markdown",
    "tags": []
   },
   "source": [
    "<div class=\"alert-info alert\">\n",
    "\n",
    "**HW1:** Query the WP API for (a) the list of all ‘19th century British female scientists’ and (b) the list of all ‘19th century British male scientists’.\n",
    "\n",
    "-   Complete the function `all_pages_from_category` defined below\n",
    "-   Call this function on (a) \"Category:19th-century British women scientists\" and store the result in `articles_women`, and (b) \"Category:19th-century British scientists\" and store the result in `articles_all`\n",
    "-   Make a list `articles_men` excluding those scientists which are already present in `articles_women`\n",
    "-   Print the number of women scientists and men scientists\n",
    "\n",
    "</div>"
   ]
  },
  {
   "cell_type": "code",
   "execution_count": 28,
   "metadata": {
    "cell_id": "099afa18-d2e5-4b3d-94f2-74a29d6cb920",
    "deepnote_app_coordinates": {
     "h": 5,
     "w": 12,
     "x": 0,
     "y": 0
    },
    "deepnote_cell_type": "code",
    "deepnote_to_be_reexecuted": false,
    "execution_millis": 393,
    "execution_start": 1646040588678,
    "source_hash": "72f9cde7",
    "tags": []
   },
   "outputs": [],
   "source": [
    "WP_HEADERS = {\n",
    "    'User-Agent': 'OIIARDCourse/1.0 (ssi@oii.ox.ac.uk)',\n",
    "}\n",
    "\n",
    "def all_pages_from_category(cat_name):\n",
    "    \"\"\" Return all the pages in a category from Wikipedia EN. \"\"\"\n",
    "    params = {\n",
    "        \"action\": \"query\",\n",
    "        \"list\": \"categorymembers\",\n",
    "        \"cmtitle\": cat_name,\n",
    "        \"format\": \"json\",\n",
    "        \"cmlimit\": \"max\"\n",
    "    }\n",
    "\n",
    "    r = requests.get(\"http://en.wikipedia.org/w/api.php\", params=params, headers=WP_HEADERS)\n",
    "    response = r.json()\n",
    "\n",
    "    df = pd.DataFrame(response['query']['categorymembers'])\n",
    "    title_of_pages = list(df['title'])\n",
    "\n",
    "    # We remove ‘sub categories’, to keep only true articles:\n",
    "    return [title for title in title_of_pages if 'Category' not in title]\n",
    "\n",
    "\n",
    "# Wikipedia has a male-dominated hierarchical structure: women have their categories (women scientists), but men are simply listed as scientists.\n",
    "\n",
    "articles_women = all_pages_from_category(\"Category:19th-century British women scientists\")\n",
    "articles_all = all_pages_from_category(\"Category:19th-century_British_scientists\")\n",
    "\n",
    "# We use a list comprehension to exclude women from the ‘all’ list, returning all the pages about men:\n",
    "articles_men = [name for name in articles_all if name not in articles_women]"
   ]
  },
  {
   "cell_type": "code",
   "execution_count": 29,
   "metadata": {
    "cell_id": "df380e5b-60dd-49d9-8339-fb3c6da2f55e",
    "deepnote_app_coordinates": {
     "h": 5,
     "w": 12,
     "x": 0,
     "y": 0
    },
    "deepnote_cell_type": "code",
    "deepnote_to_be_reexecuted": false,
    "execution_millis": 9,
    "execution_start": 1646040590546,
    "source_hash": "312c4c8b",
    "tags": []
   },
   "outputs": [
    {
     "name": "stdout",
     "output_type": "stream",
     "text": [
      "nb of men scientists: 32\n",
      "nb of women scientists: 84\n"
     ]
    }
   ],
   "source": [
    "# Observation 1: the two lists are not balanced and many male scientists are missing.\n",
    "# That's because the categorisation is more precise for men (physicist, chemist, etc.).\n",
    "# In theory, you would also need to crawl pages about 19th century British chemist, etc.\n",
    "\n",
    "# Don't trust other people to do sensible things with data!\n",
    "\n",
    "print(f\"nb of men scientists: {len(articles_men)}\")\n",
    "print(f\"nb of women scientists: {len(articles_women)}\")"
   ]
  },
  {
   "cell_type": "markdown",
   "metadata": {
    "cell_id": "e0c5526c-2d3f-4b06-8793-3eff3ec12cdd",
    "deepnote_app_coordinates": {
     "h": 5,
     "w": 12,
     "x": 0,
     "y": 0
    },
    "deepnote_cell_type": "markdown",
    "tags": []
   },
   "source": [
    "<div class=\"alert-info alert\">\n",
    "\n",
    "**HW2:** Iterate over each page in the above two lists and query the number of page views for them\n",
    "\n",
    "- Complete the function `pageviews` below. It queries WP and retrieves monthly pageviews for a `page`.\n",
    "- Complete the function `pageviews_list_of_pages`. It calls `pageviews` on each of the pages listed in `list_of_pages` and returns average monthly views for each of those pages. \n",
    "- Call `pageviews_list_of_pages` on the list of women and men scientists\n",
    "\n",
    "</div>"
   ]
  },
  {
   "cell_type": "code",
   "execution_count": 46,
   "metadata": {
    "cell_id": "7820bbf2-2d6f-4b3b-9b9a-e53a80fc72b2",
    "deepnote_app_coordinates": {
     "h": 5,
     "w": 12,
     "x": 0,
     "y": 0
    },
    "deepnote_cell_type": "code",
    "deepnote_to_be_reexecuted": false,
    "execution_millis": 4,
    "execution_start": 1645984873882,
    "source_hash": "ba627bf",
    "tags": []
   },
   "outputs": [],
   "source": [
    "# We reuse the function coded previously to collect the monthly pageviews.\n",
    "\n",
    "def pageviews(page):\n",
    "    \"\"\" Return the monthly pageviews for a given Wikipedia page. \"\"\"\n",
    "    page_with_underscore = page.replace(' ', '_')\n",
    "    # We insert page_with_underscore into the URL of this Wikipedia API: \n",
    "    api_location = f'https://wikimedia.org/api/rest_v1/metrics/pageviews/per-article/en.wikipedia/all-access/all-agents/{page_with_underscore}/monthly/2020010100/2022123100'\n",
    "\n",
    "    response = requests.get(api_location, headers=WP_HEADERS)\n",
    "    result = response.json()\n",
    "    df = pd.DataFrame(result['items'])\n",
    "    \n",
    "    print(df.columns)\n",
    "\n",
    "    df['timestamp'] = pd.to_datetime(df.timestamp, format='%Y%m%d%H')\n",
    "    return df"
   ]
  },
  {
   "cell_type": "code",
   "execution_count": 52,
   "metadata": {
    "cell_id": "6a1ebe87-d5f6-4511-b643-f60a893f942f",
    "deepnote_app_coordinates": {
     "h": 5,
     "w": 12,
     "x": 0,
     "y": 0
    },
    "deepnote_cell_type": "code",
    "deepnote_to_be_reexecuted": false,
    "execution_millis": 12,
    "execution_start": 1645984958969,
    "source_hash": "61ee22fe",
    "tags": []
   },
   "outputs": [],
   "source": [
    "def pageviews_list_of_pages(list_of_pages):\n",
    "    \"\"\" Return the average monthly pageview for all the pages in a list of pages. \"\"\"\n",
    "\n",
    "    views_articles = []\n",
    "    views_dfs = []\n",
    "\n",
    "    for article_title in list_of_pages:\n",
    "        # The try-except block is used to not raise an error when the PageViews API\n",
    "        # returns no data (for articles without enough views).\n",
    "        # try: tells Python to try to run the following code\n",
    "        # If an error occurs, it will instead run the code after except:\n",
    "        try:\n",
    "            df_pv = pageviews(article_title) # We call the Wikipedia PageViews API\n",
    "            average_views_per_month = df_pv.views.mean()\n",
    "            views_articles.append(average_views_per_month)\n",
    "            views_dfs.append(df_pv)\n",
    "        except:\n",
    "            print(\"! Error for article:\", article_title)\n",
    "    \n",
    "    views_df = pd.concat(views_dfs)\n",
    "\n",
    "    return views_articles, views_df"
   ]
  },
  {
   "cell_type": "code",
   "execution_count": 47,
   "metadata": {
    "cell_id": "d6d5d650-ae21-47a4-8f14-b9c6b1790967",
    "deepnote_app_coordinates": {
     "h": 5,
     "w": 12,
     "x": 0,
     "y": 0
    },
    "deepnote_cell_type": "code",
    "deepnote_to_be_reexecuted": false,
    "execution_millis": 14988,
    "execution_start": 1645984959665,
    "source_hash": "a3b1961c",
    "tags": []
   },
   "outputs": [
    {
     "name": "stdout",
     "output_type": "stream",
     "text": [
      "Index(['project', 'article', 'granularity', 'timestamp', 'access', 'agent',\n",
      "       'views'],\n",
      "      dtype='object')\n",
      "Index(['project', 'article', 'granularity', 'timestamp', 'access', 'agent',\n",
      "       'views'],\n",
      "      dtype='object')\n",
      "Index(['project', 'article', 'granularity', 'timestamp', 'access', 'agent',\n",
      "       'views'],\n",
      "      dtype='object')\n",
      "Index(['project', 'article', 'granularity', 'timestamp', 'access', 'agent',\n",
      "       'views'],\n",
      "      dtype='object')\n",
      "Index(['project', 'article', 'granularity', 'timestamp', 'access', 'agent',\n",
      "       'views'],\n",
      "      dtype='object')\n",
      "Index(['project', 'article', 'granularity', 'timestamp', 'access', 'agent',\n",
      "       'views'],\n",
      "      dtype='object')\n",
      "Index(['project', 'article', 'granularity', 'timestamp', 'access', 'agent',\n",
      "       'views'],\n",
      "      dtype='object')\n",
      "Index(['project', 'article', 'granularity', 'timestamp', 'access', 'agent',\n",
      "       'views'],\n",
      "      dtype='object')\n",
      "Index(['project', 'article', 'granularity', 'timestamp', 'access', 'agent',\n",
      "       'views'],\n",
      "      dtype='object')\n",
      "Index(['project', 'article', 'granularity', 'timestamp', 'access', 'agent',\n",
      "       'views'],\n",
      "      dtype='object')\n",
      "Index(['project', 'article', 'granularity', 'timestamp', 'access', 'agent',\n",
      "       'views'],\n",
      "      dtype='object')\n",
      "Index(['project', 'article', 'granularity', 'timestamp', 'access', 'agent',\n",
      "       'views'],\n",
      "      dtype='object')\n",
      "Index(['project', 'article', 'granularity', 'timestamp', 'access', 'agent',\n",
      "       'views'],\n",
      "      dtype='object')\n",
      "Index(['project', 'article', 'granularity', 'timestamp', 'access', 'agent',\n",
      "       'views'],\n",
      "      dtype='object')\n",
      "Index(['project', 'article', 'granularity', 'timestamp', 'access', 'agent',\n",
      "       'views'],\n",
      "      dtype='object')\n",
      "Index(['project', 'article', 'granularity', 'timestamp', 'access', 'agent',\n",
      "       'views'],\n",
      "      dtype='object')\n",
      "Index(['project', 'article', 'granularity', 'timestamp', 'access', 'agent',\n",
      "       'views'],\n",
      "      dtype='object')\n",
      "Index(['project', 'article', 'granularity', 'timestamp', 'access', 'agent',\n",
      "       'views'],\n",
      "      dtype='object')\n",
      "Index(['project', 'article', 'granularity', 'timestamp', 'access', 'agent',\n",
      "       'views'],\n",
      "      dtype='object')\n",
      "Index(['project', 'article', 'granularity', 'timestamp', 'access', 'agent',\n",
      "       'views'],\n",
      "      dtype='object')\n",
      "Index(['project', 'article', 'granularity', 'timestamp', 'access', 'agent',\n",
      "       'views'],\n",
      "      dtype='object')\n",
      "Index(['project', 'article', 'granularity', 'timestamp', 'access', 'agent',\n",
      "       'views'],\n",
      "      dtype='object')\n",
      "Index(['project', 'article', 'granularity', 'timestamp', 'access', 'agent',\n",
      "       'views'],\n",
      "      dtype='object')\n",
      "Index(['project', 'article', 'granularity', 'timestamp', 'access', 'agent',\n",
      "       'views'],\n",
      "      dtype='object')\n",
      "Index(['project', 'article', 'granularity', 'timestamp', 'access', 'agent',\n",
      "       'views'],\n",
      "      dtype='object')\n",
      "Index(['project', 'article', 'granularity', 'timestamp', 'access', 'agent',\n",
      "       'views'],\n",
      "      dtype='object')\n",
      "Index(['project', 'article', 'granularity', 'timestamp', 'access', 'agent',\n",
      "       'views'],\n",
      "      dtype='object')\n",
      "Index(['project', 'article', 'granularity', 'timestamp', 'access', 'agent',\n",
      "       'views'],\n",
      "      dtype='object')\n",
      "Index(['project', 'article', 'granularity', 'timestamp', 'access', 'agent',\n",
      "       'views'],\n",
      "      dtype='object')\n",
      "Index(['project', 'article', 'granularity', 'timestamp', 'access', 'agent',\n",
      "       'views'],\n",
      "      dtype='object')\n",
      "Index(['project', 'article', 'granularity', 'timestamp', 'access', 'agent',\n",
      "       'views'],\n",
      "      dtype='object')\n",
      "Index(['project', 'article', 'granularity', 'timestamp', 'access', 'agent',\n",
      "       'views'],\n",
      "      dtype='object')\n",
      "Index(['project', 'article', 'granularity', 'timestamp', 'access', 'agent',\n",
      "       'views'],\n",
      "      dtype='object')\n",
      "Index(['project', 'article', 'granularity', 'timestamp', 'access', 'agent',\n",
      "       'views'],\n",
      "      dtype='object')\n"
     ]
    },
    {
     "ename": "KeyError",
     "evalue": "'items'",
     "output_type": "error",
     "traceback": [
      "\u001b[1;31m---------------------------------------------------------------------------\u001b[0m",
      "\u001b[1;31mKeyError\u001b[0m                                  Traceback (most recent call last)",
      "Input \u001b[1;32mIn [47]\u001b[0m, in \u001b[0;36m<cell line: 1>\u001b[1;34m()\u001b[0m\n\u001b[1;32m----> 1\u001b[0m pageviews_women, pageviews_women_df \u001b[38;5;241m=\u001b[39m \u001b[43mpageviews_list_of_pages\u001b[49m\u001b[43m(\u001b[49m\u001b[43marticles_women\u001b[49m\u001b[43m)\u001b[49m\n",
      "Input \u001b[1;32mIn [43]\u001b[0m, in \u001b[0;36mpageviews_list_of_pages\u001b[1;34m(list_of_pages)\u001b[0m\n\u001b[0;32m      5\u001b[0m views_dfs \u001b[38;5;241m=\u001b[39m []\n\u001b[0;32m      7\u001b[0m \u001b[38;5;28;01mfor\u001b[39;00m article_title \u001b[38;5;129;01min\u001b[39;00m list_of_pages:\n\u001b[0;32m      8\u001b[0m     \u001b[38;5;66;03m# The try-except block is used to not raise an error when the PageViews API\u001b[39;00m\n\u001b[0;32m      9\u001b[0m     \u001b[38;5;66;03m# returns no data (for articles without enough views).\u001b[39;00m\n\u001b[0;32m     10\u001b[0m     \u001b[38;5;66;03m# try: tells Python to try to run the following code\u001b[39;00m\n\u001b[0;32m     11\u001b[0m     \u001b[38;5;66;03m# If an error occurs, it will instead run the code after except:\u001b[39;00m\n\u001b[0;32m     12\u001b[0m     \u001b[38;5;66;03m#try:\u001b[39;00m\n\u001b[1;32m---> 13\u001b[0m     df_pv \u001b[38;5;241m=\u001b[39m \u001b[43mpageviews\u001b[49m\u001b[43m(\u001b[49m\u001b[43marticle_title\u001b[49m\u001b[43m)\u001b[49m \u001b[38;5;66;03m# We call the Wikipedia PageViews API\u001b[39;00m\n\u001b[0;32m     14\u001b[0m     average_views_per_month \u001b[38;5;241m=\u001b[39m df_pv\u001b[38;5;241m.\u001b[39mviews\u001b[38;5;241m.\u001b[39mmean()\n\u001b[0;32m     15\u001b[0m     views_articles\u001b[38;5;241m.\u001b[39mappend(average_views_per_month)\n",
      "Input \u001b[1;32mIn [46]\u001b[0m, in \u001b[0;36mpageviews\u001b[1;34m(page)\u001b[0m\n\u001b[0;32m      9\u001b[0m response \u001b[38;5;241m=\u001b[39m requests\u001b[38;5;241m.\u001b[39mget(api_location, headers\u001b[38;5;241m=\u001b[39mWP_HEADERS)\n\u001b[0;32m     10\u001b[0m result \u001b[38;5;241m=\u001b[39m response\u001b[38;5;241m.\u001b[39mjson()\n\u001b[1;32m---> 11\u001b[0m df \u001b[38;5;241m=\u001b[39m pd\u001b[38;5;241m.\u001b[39mDataFrame(\u001b[43mresult\u001b[49m\u001b[43m[\u001b[49m\u001b[38;5;124;43m'\u001b[39;49m\u001b[38;5;124;43mitems\u001b[39;49m\u001b[38;5;124;43m'\u001b[39;49m\u001b[43m]\u001b[49m)\n\u001b[0;32m     13\u001b[0m \u001b[38;5;28mprint\u001b[39m(df\u001b[38;5;241m.\u001b[39mcolumns)\n\u001b[0;32m     15\u001b[0m df[\u001b[38;5;124m'\u001b[39m\u001b[38;5;124mtimestamp\u001b[39m\u001b[38;5;124m'\u001b[39m] \u001b[38;5;241m=\u001b[39m pd\u001b[38;5;241m.\u001b[39mto_datetime(df\u001b[38;5;241m.\u001b[39mtimestamp, \u001b[38;5;28mformat\u001b[39m\u001b[38;5;241m=\u001b[39m\u001b[38;5;124m'\u001b[39m\u001b[38;5;124m%\u001b[39m\u001b[38;5;124mY\u001b[39m\u001b[38;5;124m%\u001b[39m\u001b[38;5;124mm\u001b[39m\u001b[38;5;132;01m%d\u001b[39;00m\u001b[38;5;124m%\u001b[39m\u001b[38;5;124mH\u001b[39m\u001b[38;5;124m'\u001b[39m)\n",
      "\u001b[1;31mKeyError\u001b[0m: 'items'"
     ]
    }
   ],
   "source": [
    "pageviews_women, pageviews_women_df = pageviews_list_of_pages(articles_women)"
   ]
  },
  {
   "cell_type": "code",
   "execution_count": 33,
   "metadata": {
    "cell_id": "123f5a6e-a216-43ed-b454-3a8aa97d3a68",
    "deepnote_app_coordinates": {
     "h": 5,
     "w": 12,
     "x": 0,
     "y": 0
    },
    "deepnote_cell_type": "code",
    "deepnote_to_be_reexecuted": false,
    "execution_millis": 3606,
    "execution_start": 1645984928804,
    "source_hash": "f36689c9",
    "tags": []
   },
   "outputs": [],
   "source": [
    "pageviews_men, pageviews_men_df = pageviews_list_of_pages(articles_men)"
   ]
  },
  {
   "cell_type": "markdown",
   "metadata": {
    "cell_id": "7a0926c7-3fa5-4ff7-9335-b3764a05ad66",
    "deepnote_app_coordinates": {
     "h": 5,
     "w": 12,
     "x": 0,
     "y": 0
    },
    "deepnote_cell_type": "markdown",
    "tags": []
   },
   "source": [
    "<div class=\"alert-info alert\">\n",
    "\n",
    "**HW3:** \n",
    "\n",
    "- Print the average number of monthly view for a 19th century female scientist \n",
    "- Print the average number of monthly view for a 19th century male scientist \n",
    "\n",
    "</div>"
   ]
  },
  {
   "cell_type": "code",
   "execution_count": 50,
   "metadata": {},
   "outputs": [
    {
     "data": {
      "text/html": [
       "<div>\n",
       "<style scoped>\n",
       "    .dataframe tbody tr th:only-of-type {\n",
       "        vertical-align: middle;\n",
       "    }\n",
       "\n",
       "    .dataframe tbody tr th {\n",
       "        vertical-align: top;\n",
       "    }\n",
       "\n",
       "    .dataframe thead th {\n",
       "        text-align: right;\n",
       "    }\n",
       "</style>\n",
       "<table border=\"1\" class=\"dataframe\">\n",
       "  <thead>\n",
       "    <tr style=\"text-align: right;\">\n",
       "      <th></th>\n",
       "      <th>project</th>\n",
       "      <th>article</th>\n",
       "      <th>granularity</th>\n",
       "      <th>timestamp</th>\n",
       "      <th>access</th>\n",
       "      <th>agent</th>\n",
       "      <th>views</th>\n",
       "    </tr>\n",
       "  </thead>\n",
       "  <tbody>\n",
       "    <tr>\n",
       "      <th>0</th>\n",
       "      <td>en.wikipedia</td>\n",
       "      <td>Mary_Anning</td>\n",
       "      <td>monthly</td>\n",
       "      <td>2020-01-01</td>\n",
       "      <td>all-access</td>\n",
       "      <td>all-agents</td>\n",
       "      <td>28741</td>\n",
       "    </tr>\n",
       "    <tr>\n",
       "      <th>1</th>\n",
       "      <td>en.wikipedia</td>\n",
       "      <td>Mary_Anning</td>\n",
       "      <td>monthly</td>\n",
       "      <td>2020-02-01</td>\n",
       "      <td>all-access</td>\n",
       "      <td>all-agents</td>\n",
       "      <td>26026</td>\n",
       "    </tr>\n",
       "    <tr>\n",
       "      <th>2</th>\n",
       "      <td>en.wikipedia</td>\n",
       "      <td>Mary_Anning</td>\n",
       "      <td>monthly</td>\n",
       "      <td>2020-03-01</td>\n",
       "      <td>all-access</td>\n",
       "      <td>all-agents</td>\n",
       "      <td>28446</td>\n",
       "    </tr>\n",
       "    <tr>\n",
       "      <th>3</th>\n",
       "      <td>en.wikipedia</td>\n",
       "      <td>Mary_Anning</td>\n",
       "      <td>monthly</td>\n",
       "      <td>2020-04-01</td>\n",
       "      <td>all-access</td>\n",
       "      <td>all-agents</td>\n",
       "      <td>23194</td>\n",
       "    </tr>\n",
       "    <tr>\n",
       "      <th>4</th>\n",
       "      <td>en.wikipedia</td>\n",
       "      <td>Mary_Anning</td>\n",
       "      <td>monthly</td>\n",
       "      <td>2020-05-01</td>\n",
       "      <td>all-access</td>\n",
       "      <td>all-agents</td>\n",
       "      <td>23845</td>\n",
       "    </tr>\n",
       "    <tr>\n",
       "      <th>...</th>\n",
       "      <td>...</td>\n",
       "      <td>...</td>\n",
       "      <td>...</td>\n",
       "      <td>...</td>\n",
       "      <td>...</td>\n",
       "      <td>...</td>\n",
       "      <td>...</td>\n",
       "    </tr>\n",
       "    <tr>\n",
       "      <th>31</th>\n",
       "      <td>en.wikipedia</td>\n",
       "      <td>Rosina_Zornlin</td>\n",
       "      <td>monthly</td>\n",
       "      <td>2022-08-01</td>\n",
       "      <td>all-access</td>\n",
       "      <td>all-agents</td>\n",
       "      <td>79</td>\n",
       "    </tr>\n",
       "    <tr>\n",
       "      <th>32</th>\n",
       "      <td>en.wikipedia</td>\n",
       "      <td>Rosina_Zornlin</td>\n",
       "      <td>monthly</td>\n",
       "      <td>2022-09-01</td>\n",
       "      <td>all-access</td>\n",
       "      <td>all-agents</td>\n",
       "      <td>34</td>\n",
       "    </tr>\n",
       "    <tr>\n",
       "      <th>33</th>\n",
       "      <td>en.wikipedia</td>\n",
       "      <td>Rosina_Zornlin</td>\n",
       "      <td>monthly</td>\n",
       "      <td>2022-10-01</td>\n",
       "      <td>all-access</td>\n",
       "      <td>all-agents</td>\n",
       "      <td>73</td>\n",
       "    </tr>\n",
       "    <tr>\n",
       "      <th>34</th>\n",
       "      <td>en.wikipedia</td>\n",
       "      <td>Rosina_Zornlin</td>\n",
       "      <td>monthly</td>\n",
       "      <td>2022-11-01</td>\n",
       "      <td>all-access</td>\n",
       "      <td>all-agents</td>\n",
       "      <td>48</td>\n",
       "    </tr>\n",
       "    <tr>\n",
       "      <th>35</th>\n",
       "      <td>en.wikipedia</td>\n",
       "      <td>Rosina_Zornlin</td>\n",
       "      <td>monthly</td>\n",
       "      <td>2022-12-01</td>\n",
       "      <td>all-access</td>\n",
       "      <td>all-agents</td>\n",
       "      <td>46</td>\n",
       "    </tr>\n",
       "  </tbody>\n",
       "</table>\n",
       "<p>2920 rows × 7 columns</p>\n",
       "</div>"
      ],
      "text/plain": [
       "         project         article granularity  timestamp      access  \\\n",
       "0   en.wikipedia     Mary_Anning     monthly 2020-01-01  all-access   \n",
       "1   en.wikipedia     Mary_Anning     monthly 2020-02-01  all-access   \n",
       "2   en.wikipedia     Mary_Anning     monthly 2020-03-01  all-access   \n",
       "3   en.wikipedia     Mary_Anning     monthly 2020-04-01  all-access   \n",
       "4   en.wikipedia     Mary_Anning     monthly 2020-05-01  all-access   \n",
       "..           ...             ...         ...        ...         ...   \n",
       "31  en.wikipedia  Rosina_Zornlin     monthly 2022-08-01  all-access   \n",
       "32  en.wikipedia  Rosina_Zornlin     monthly 2022-09-01  all-access   \n",
       "33  en.wikipedia  Rosina_Zornlin     monthly 2022-10-01  all-access   \n",
       "34  en.wikipedia  Rosina_Zornlin     monthly 2022-11-01  all-access   \n",
       "35  en.wikipedia  Rosina_Zornlin     monthly 2022-12-01  all-access   \n",
       "\n",
       "         agent  views  \n",
       "0   all-agents  28741  \n",
       "1   all-agents  26026  \n",
       "2   all-agents  28446  \n",
       "3   all-agents  23194  \n",
       "4   all-agents  23845  \n",
       "..         ...    ...  \n",
       "31  all-agents     79  \n",
       "32  all-agents     34  \n",
       "33  all-agents     73  \n",
       "34  all-agents     48  \n",
       "35  all-agents     46  \n",
       "\n",
       "[2920 rows x 7 columns]"
      ]
     },
     "execution_count": 50,
     "metadata": {},
     "output_type": "execute_result"
    }
   ],
   "source": [
    "pageviews_women_df"
   ]
  },
  {
   "cell_type": "code",
   "execution_count": 34,
   "metadata": {
    "cell_id": "832f6bc9-9233-461d-a069-5b5961729cd3",
    "deepnote_app_coordinates": {
     "h": 5,
     "w": 12,
     "x": 0,
     "y": 0
    },
    "deepnote_cell_type": "code",
    "deepnote_to_be_reexecuted": false,
    "execution_millis": 271,
    "execution_start": 1645985001197,
    "source_hash": "4a7691dd",
    "tags": []
   },
   "outputs": [
    {
     "data": {
      "text/plain": [
       "2446.6524240903"
      ]
     },
     "execution_count": 34,
     "metadata": {},
     "output_type": "execute_result"
    }
   ],
   "source": [
    "# Average number of monthly view for a 19th century female scientist:\n",
    "sum(pageviews_women) / len(pageviews_women)"
   ]
  },
  {
   "cell_type": "code",
   "execution_count": 35,
   "metadata": {
    "cell_id": "1b26e6b1-3b62-4651-b20e-fb5e2758a251",
    "deepnote_app_coordinates": {
     "h": 5,
     "w": 12,
     "x": 0,
     "y": 0
    },
    "deepnote_cell_type": "code",
    "deepnote_to_be_reexecuted": false,
    "execution_millis": 6,
    "execution_start": 1645985013522,
    "source_hash": "8141ca00",
    "tags": []
   },
   "outputs": [
    {
     "data": {
      "text/plain": [
       "1443.8899936868686"
      ]
     },
     "execution_count": 35,
     "metadata": {},
     "output_type": "execute_result"
    }
   ],
   "source": [
    "# Average number of monthly view for a 19th century male scientist:\n",
    "sum(pageviews_men) / len(pageviews_men)"
   ]
  },
  {
   "cell_type": "markdown",
   "metadata": {
    "cell_id": "9834dfe8-7342-41de-aaa3-e71a35177be6",
    "deepnote_app_coordinates": {
     "h": 5,
     "w": 12,
     "x": 0,
     "y": 0
    },
    "deepnote_cell_type": "markdown",
    "tags": []
   },
   "source": [
    "<div class=\"alert-info alert\">\n",
    "\n",
    "**HW4:** \n",
    "Prepare a CSV file (or two files) to save the two lists and the associated pageviews. How would you structure your dataset?\n",
    "\n",
    "</div>"
   ]
  },
  {
   "cell_type": "code",
   "execution_count": 36,
   "metadata": {},
   "outputs": [
    {
     "data": {
      "text/html": [
       "<div>\n",
       "<style scoped>\n",
       "    .dataframe tbody tr th:only-of-type {\n",
       "        vertical-align: middle;\n",
       "    }\n",
       "\n",
       "    .dataframe tbody tr th {\n",
       "        vertical-align: top;\n",
       "    }\n",
       "\n",
       "    .dataframe thead th {\n",
       "        text-align: right;\n",
       "    }\n",
       "</style>\n",
       "<table border=\"1\" class=\"dataframe\">\n",
       "  <thead>\n",
       "    <tr style=\"text-align: right;\">\n",
       "      <th></th>\n",
       "      <th>project</th>\n",
       "      <th>article</th>\n",
       "      <th>granularity</th>\n",
       "      <th>timestamp</th>\n",
       "      <th>access</th>\n",
       "      <th>agent</th>\n",
       "      <th>views</th>\n",
       "    </tr>\n",
       "  </thead>\n",
       "  <tbody>\n",
       "    <tr>\n",
       "      <th>0</th>\n",
       "      <td>en.wikipedia</td>\n",
       "      <td>John_Romilly_Allen</td>\n",
       "      <td>monthly</td>\n",
       "      <td>2020-01-01</td>\n",
       "      <td>all-access</td>\n",
       "      <td>all-agents</td>\n",
       "      <td>185</td>\n",
       "    </tr>\n",
       "    <tr>\n",
       "      <th>1</th>\n",
       "      <td>en.wikipedia</td>\n",
       "      <td>John_Romilly_Allen</td>\n",
       "      <td>monthly</td>\n",
       "      <td>2020-02-01</td>\n",
       "      <td>all-access</td>\n",
       "      <td>all-agents</td>\n",
       "      <td>125</td>\n",
       "    </tr>\n",
       "    <tr>\n",
       "      <th>2</th>\n",
       "      <td>en.wikipedia</td>\n",
       "      <td>John_Romilly_Allen</td>\n",
       "      <td>monthly</td>\n",
       "      <td>2020-03-01</td>\n",
       "      <td>all-access</td>\n",
       "      <td>all-agents</td>\n",
       "      <td>151</td>\n",
       "    </tr>\n",
       "    <tr>\n",
       "      <th>3</th>\n",
       "      <td>en.wikipedia</td>\n",
       "      <td>John_Romilly_Allen</td>\n",
       "      <td>monthly</td>\n",
       "      <td>2020-04-01</td>\n",
       "      <td>all-access</td>\n",
       "      <td>all-agents</td>\n",
       "      <td>142</td>\n",
       "    </tr>\n",
       "    <tr>\n",
       "      <th>4</th>\n",
       "      <td>en.wikipedia</td>\n",
       "      <td>John_Romilly_Allen</td>\n",
       "      <td>monthly</td>\n",
       "      <td>2020-05-01</td>\n",
       "      <td>all-access</td>\n",
       "      <td>all-agents</td>\n",
       "      <td>151</td>\n",
       "    </tr>\n",
       "    <tr>\n",
       "      <th>...</th>\n",
       "      <td>...</td>\n",
       "      <td>...</td>\n",
       "      <td>...</td>\n",
       "      <td>...</td>\n",
       "      <td>...</td>\n",
       "      <td>...</td>\n",
       "      <td>...</td>\n",
       "    </tr>\n",
       "    <tr>\n",
       "      <th>31</th>\n",
       "      <td>en.wikipedia</td>\n",
       "      <td>Beatrice_Webb</td>\n",
       "      <td>monthly</td>\n",
       "      <td>2022-08-01</td>\n",
       "      <td>all-access</td>\n",
       "      <td>all-agents</td>\n",
       "      <td>5170</td>\n",
       "    </tr>\n",
       "    <tr>\n",
       "      <th>32</th>\n",
       "      <td>en.wikipedia</td>\n",
       "      <td>Beatrice_Webb</td>\n",
       "      <td>monthly</td>\n",
       "      <td>2022-09-01</td>\n",
       "      <td>all-access</td>\n",
       "      <td>all-agents</td>\n",
       "      <td>5531</td>\n",
       "    </tr>\n",
       "    <tr>\n",
       "      <th>33</th>\n",
       "      <td>en.wikipedia</td>\n",
       "      <td>Beatrice_Webb</td>\n",
       "      <td>monthly</td>\n",
       "      <td>2022-10-01</td>\n",
       "      <td>all-access</td>\n",
       "      <td>all-agents</td>\n",
       "      <td>5388</td>\n",
       "    </tr>\n",
       "    <tr>\n",
       "      <th>34</th>\n",
       "      <td>en.wikipedia</td>\n",
       "      <td>Beatrice_Webb</td>\n",
       "      <td>monthly</td>\n",
       "      <td>2022-11-01</td>\n",
       "      <td>all-access</td>\n",
       "      <td>all-agents</td>\n",
       "      <td>5917</td>\n",
       "    </tr>\n",
       "    <tr>\n",
       "      <th>35</th>\n",
       "      <td>en.wikipedia</td>\n",
       "      <td>Beatrice_Webb</td>\n",
       "      <td>monthly</td>\n",
       "      <td>2022-12-01</td>\n",
       "      <td>all-access</td>\n",
       "      <td>all-agents</td>\n",
       "      <td>4160</td>\n",
       "    </tr>\n",
       "  </tbody>\n",
       "</table>\n",
       "<p>1125 rows × 7 columns</p>\n",
       "</div>"
      ],
      "text/plain": [
       "         project             article granularity  timestamp      access  \\\n",
       "0   en.wikipedia  John_Romilly_Allen     monthly 2020-01-01  all-access   \n",
       "1   en.wikipedia  John_Romilly_Allen     monthly 2020-02-01  all-access   \n",
       "2   en.wikipedia  John_Romilly_Allen     monthly 2020-03-01  all-access   \n",
       "3   en.wikipedia  John_Romilly_Allen     monthly 2020-04-01  all-access   \n",
       "4   en.wikipedia  John_Romilly_Allen     monthly 2020-05-01  all-access   \n",
       "..           ...                 ...         ...        ...         ...   \n",
       "31  en.wikipedia       Beatrice_Webb     monthly 2022-08-01  all-access   \n",
       "32  en.wikipedia       Beatrice_Webb     monthly 2022-09-01  all-access   \n",
       "33  en.wikipedia       Beatrice_Webb     monthly 2022-10-01  all-access   \n",
       "34  en.wikipedia       Beatrice_Webb     monthly 2022-11-01  all-access   \n",
       "35  en.wikipedia       Beatrice_Webb     monthly 2022-12-01  all-access   \n",
       "\n",
       "         agent  views  \n",
       "0   all-agents    185  \n",
       "1   all-agents    125  \n",
       "2   all-agents    151  \n",
       "3   all-agents    142  \n",
       "4   all-agents    151  \n",
       "..         ...    ...  \n",
       "31  all-agents   5170  \n",
       "32  all-agents   5531  \n",
       "33  all-agents   5388  \n",
       "34  all-agents   5917  \n",
       "35  all-agents   4160  \n",
       "\n",
       "[1125 rows x 7 columns]"
      ]
     },
     "execution_count": 36,
     "metadata": {},
     "output_type": "execute_result"
    }
   ],
   "source": [
    "pageviews_men_df"
   ]
  },
  {
   "cell_type": "code",
   "execution_count": 37,
   "metadata": {
    "cell_id": "df0ec5cd-ffc0-4269-bf2c-a8ba9fb190df",
    "deepnote_app_coordinates": {
     "h": 5,
     "w": 12,
     "x": 0,
     "y": 0
    },
    "deepnote_cell_type": "code",
    "tags": []
   },
   "outputs": [],
   "source": [
    "# Option 1: Save the two dataframes separately - \n",
    "pageviews_men_df.to_csv('men_scientist.csv', index=False)\n",
    "pageviews_women_df.to_csv('women_scientist.csv', index=False)\n",
    "\n",
    "# Option 2: Save a single csv of all the scientists\n",
    "pageviews_men_df['gender'] = \"male\"\n",
    "pageviews_women_df['gender'] = \"female\"\n",
    "all_scientists = pd.concat([pageviews_women_df, pageviews_men_df])\n",
    "all_scientists.to_csv(\"all.csv\", index=False)"
   ]
  },
  {
   "cell_type": "markdown",
   "metadata": {
    "cell_id": "262979be-1b37-4968-81ff-b79d40a09b0a",
    "deepnote_app_coordinates": {
     "h": 5,
     "w": 12,
     "x": 0,
     "y": 0
    },
    "deepnote_cell_type": "markdown",
    "tags": []
   },
   "source": [
    "<div class=\"alert-info alert\">\n",
    "\n",
    "**HW5 (optional):** \n",
    "The Wikipedia articles are sometimes renamed, merged, or deleted. How would you ensure that the data you extract and report in your CSV file can still be reused by researchers if the title change?\n",
    "\n",
    "</div>"
   ]
  },
  {
   "cell_type": "code",
   "execution_count": 38,
   "metadata": {
    "cell_id": "c36aa96e-df5a-4e18-aedd-e507a2119e76",
    "deepnote_app_coordinates": {
     "h": 5,
     "w": 12,
     "x": 0,
     "y": 0
    },
    "deepnote_cell_type": "code",
    "tags": []
   },
   "outputs": [],
   "source": [
    "# The solution is simple: the pageid column is a unique identifier that doesn't change over time,\n",
    "# compared to the page title that can change.\n",
    "\n",
    "# This will be left as an exercise. You could for instance start by modifying all_pages_from_category()\n",
    "# to return both the page title and the page id."
   ]
  },
  {
   "cell_type": "markdown",
   "metadata": {
    "cell_id": "9c2ee6ec-0bca-4614-bcf2-3c0c66906d48",
    "deepnote_app_coordinates": {
     "h": 5,
     "w": 12,
     "x": 0,
     "y": 0
    },
    "deepnote_cell_type": "markdown",
    "tags": []
   },
   "source": [
    "<div class=\"alert alert-warning\">\n",
    "\n",
    "By now, you should have obtained empirical results.\n",
    "But do reflect on the quality of the experiment: were all female/male pages correctly crawled? What about ‘Alice Hibbert-Ware’?\n",
    "Are you confident enough in the quality of the data to report your results?\n",
    "\n",
    "Even if the data are publicly available, a lot of rigor is needed to not overlook the potential biases associated with data creation and curation.\n",
    "\n",
    "</div>"
   ]
  },
  {
   "cell_type": "markdown",
   "metadata": {
    "cell_id": "952cdc5d-2d44-4bb9-9de5-4f187c804418",
    "deepnote_app_coordinates": {
     "h": 5,
     "w": 12,
     "x": 0,
     "y": 318
    },
    "deepnote_cell_height": 70,
    "deepnote_cell_type": "markdown",
    "tags": []
   },
   "source": [
    "\n",
    "## This week's Datasheet questions "
   ]
  },
  {
   "cell_type": "markdown",
   "metadata": {
    "cell_id": "36d3024e-a6f9-4bbe-aa50-fbe6a29a8837",
    "deepnote_app_coordinates": {
     "h": 5,
     "w": 12,
     "x": 0,
     "y": 324
    },
    "deepnote_cell_height": 133.60000610351562,
    "deepnote_cell_type": "markdown",
    "tags": []
   },
   "source": [
    "Throughout this course, we will aim to build on the practice of documenting our datasets, using the Datasheet for Datasets framework (here is an <a href=\"https://github.com/zykls/folktables/blob/main/datasheet.md\">example of a datasheet\"</a>). In the homework for this week, you designed a small dataset of pageviews for British male and female mathematicians. Let's assume you plan to release this dataset online.\n",
    "\n",
    "How would you structure your Datasheet for this small dataset? For this week's homework, please answer the following questions:"
   ]
  },
  {
   "cell_type": "markdown",
   "metadata": {
    "cell_id": "e778344e-d69b-4c34-8530-b8f07f28395e",
    "deepnote_app_coordinates": {
     "h": 5,
     "w": 12,
     "x": 0,
     "y": 330
    },
    "deepnote_cell_height": 461.20001220703125,
    "deepnote_cell_type": "markdown",
    "tags": []
   },
   "source": [
    ">**What data does each instance consist of?** \"Raw\" data (e.g., unprocessed text or images) or features? In either case, please provide a description.\n",
    ">\n",
    ">...\n",
    "\n",
    "\n",
    ">**Are there any errors, sources of noise, or redundancies in the dataset?** If so, please provide a description.\n",
    ">\n",
    ">...\n",
    "\n",
    ">**Does the dataset contain data that, if viewed directly, might be offensive, insulting, threatening, or might otherwise cause anxiety?** If so, please describe why.\n",
    ">\n",
    ">...\n",
    "\n",
    ">**Is the dataset self-contained, or does it link to or otherwise rely on external resources (e.g., websites, tweets, other datasets)?** If it links to or relies on external resources, a) are there guarantees that they will exist, and remain constant, over time; b) are there official archival versions of the complete dataset (i.e., including the external resources as they existed at the time the dataset was created); c) are there any restrictions (e.g., licenses, fees) associated with any of the external resources that might apply to a future user? Please provide descriptions of all external resources and any restrictions associated with them, as well as links or other access points, as appropriate.\n",
    ">\n",
    ">...\n",
    "\n",
    "\n"
   ]
  },
  {
   "cell_type": "markdown",
   "metadata": {
    "cell_id": "a1c28883-1249-4843-ad60-1e1ebd3028c2",
    "deepnote_app_coordinates": {
     "h": 5,
     "w": 12,
     "x": 0,
     "y": 336
    },
    "deepnote_cell_type": "markdown",
    "tags": []
   },
   "source": [
    "## Advanced and Optional: going further with the WikiWho API\n",
    "\n",
    "If you are bored and want to go further at this stage, there are a lot of advanced tools developed by researchers to study Wikipedia. One of them is WikiWho by fabian flöck of the Leibniz Institute for the Social Sciences.\n",
    "\n",
    "<div class=\"alert alert-info\">\n",
    "\n",
    "From https://f-squared.org/wikiwho/:\n",
    "> the core functionality of wikiwho is to parse the complete set of all historical revisions (versions) of a wikipedia article in order to find out who wrote and/or removed which exact text at what point in time. this means that given a specific revision of an article (e.g., the current one) wikiwho can determine for each word and special character which user first introduced that word and if and how it was deleted/reintroduced afterwards. this functionality is not offered by wikipedia as such and wikiwho was shown to perform this task with very high accuracy (~95%) and very efficiently, being the only tool that has been scientifically proven to perform this task that well\n",
    "\n",
    "WikiWho is a service that reports the editions on Wikipedia articles. Have a look at what it outputs for the ‘Oxford Internet Institute’ page:\n",
    "\n",
    "<a href=\"https://api.wikiwho.net/en/api/v1.0.0-beta/rev_content/Oxford Internet Institute/?o_rev_id=true&editor=true&token_id=true&out=true&in=true\">Oxford Internet Institute through the WikiWho API</a>\n",
    "\n",
    "What sort of research could you do using WikiWho?\n",
    "\n",
    "</div>"
   ]
  }
 ],
 "metadata": {
  "deepnote": {
   "is_reactive": false
  },
  "deepnote_app_layout": "article",
  "deepnote_execution_queue": [],
  "deepnote_notebook_id": "e14e0833-7f70-4764-8920-14303e12f9cc",
  "kernelspec": {
   "display_name": "Python 3 (ipykernel)",
   "language": "python",
   "name": "python3"
  },
  "language_info": {
   "codemirror_mode": {
    "name": "ipython",
    "version": 3
   },
   "file_extension": ".py",
   "mimetype": "text/x-python",
   "name": "python",
   "nbconvert_exporter": "python",
   "pygments_lexer": "ipython3",
   "version": "3.9.12"
  }
 },
 "nbformat": 4,
 "nbformat_minor": 4
}
