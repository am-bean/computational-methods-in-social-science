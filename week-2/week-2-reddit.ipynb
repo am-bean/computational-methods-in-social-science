{
 "cells": [
  {
   "cell_type": "markdown",
   "metadata": {
    "cell_id": "6bc34ed3-9ded-4a9a-b40c-9b046b2c468e",
    "deepnote_cell_height": 744.5999755859375,
    "deepnote_cell_type": "markdown",
    "tags": []
   },
   "source": [
    "# Week 2B: Accessing data from Reddit\n",
    "\n",
    "## Overview\n",
    "\n",
    "Reddit is an online bulletin board system to host user-generated content; text, image, video, and audio `posts`. It is categorized into `subreddits` which are communities or user-groups meant to serve as a bulletin board on a specific topic or for a specific group of people. The users can `comment` on posts, which can then be `upvoted` or `downvoted` by other users. Each subreddit is moderated by `moderators` who try to enforce community rules to the comments and discussion therein.\n",
    "\n",
    "## APIs\n",
    "\n",
    "There are two APIs that are widely used to scrape data from Reddit\n",
    "- Reddit API (https://www.reddit.com/dev/api/) - This is the most detailed API with endpoints that can enable us to find almost anything on Reddit. There is a Python wrapper, `praw`,  that helps us access this API (https://praw.readthedocs.io/en/stable/index.html). \n",
    "- Pushshift API (https://www.reddit.com/r/pushshift/comments/bcxguf/new_to_pushshift_read_this_faq/) - Pushshift is a big-data storage and analytics project that enables access to the Reddit data albeit with some delay related to specific content (e.g, editing of comments might not be included instantly). It allows us to process data before accessing it, e.g., counting comments by specific users. In a raw Reddit API, we will need to do it locally, while Pushshift API enables us to do this without the hassle of downloading data. There is a Python wrapper, `psaw`, that helps us access Reddit data easily using Pushshit API (https://pypi.org/project/psaw/). Pushshift can be less stable than the pure Reddit API because it is a third-party application.\n",
    "\n",
    "In this exercise, we will use `praw`, because when Andrew tested `psaw` this weekend it wasn't working. "
   ]
  },
  {
   "cell_type": "code",
   "execution_count": 1,
   "metadata": {
    "cell_id": "00001-e39ee5e7-e0e1-4400-9966-8f1da14b0264",
    "deepnote_cell_height": 134.3333282470703,
    "deepnote_cell_type": "code",
    "deepnote_to_be_reexecuted": false,
    "execution_millis": 9085,
    "execution_start": 1645983168884,
    "source_hash": "4f02b477",
    "tags": []
   },
   "outputs": [],
   "source": [
    "%%capture\n",
    "# We call the Python package manager pip to install the praw package\n",
    "# Using ! in ipython notebook runs the command in the bash shell and not in the python; try running !ls in a new cell\n",
    "!pip install --upgrade praw"
   ]
  },
  {
   "cell_type": "markdown",
   "metadata": {
    "cell_id": "00007-0e8a0ad6-234c-495e-9106-450100887b56",
    "deepnote_cell_height": 122.13333129882812,
    "deepnote_cell_type": "markdown",
    "tags": []
   },
   "source": [
    "### Querying Pushshift API using Python\n",
    "\n",
    "\n",
    "There are several parameters that can be passed to this search query. We will work through some of those parameters in this notebook. From here on, we will make use of `psaw` API. "
   ]
  },
  {
   "cell_type": "code",
   "execution_count": 2,
   "metadata": {
    "cell_id": "00008-9bdd3042-a1d6-4c06-a5d7-227c69332859",
    "deepnote_cell_height": 152.3333282470703,
    "deepnote_cell_type": "code",
    "deepnote_to_be_reexecuted": false,
    "execution_millis": 71,
    "execution_start": 1645983182505,
    "source_hash": "fdfcfc6c",
    "tags": []
   },
   "outputs": [],
   "source": [
    "import pandas as pd\n",
    "import praw\n"
   ]
  },
  {
   "cell_type": "markdown",
   "metadata": {},
   "source": [
    "To use `praw` you need a Reddit user account. The startup instructions are here: https://praw.readthedocs.io/en/stable/getting_started/quick_start.html\n",
    "\n",
    "Once you have a user account, and have made a `script` type app. Add your client secret, username, and user agent to a local json file using the code below. JSON is a file format which is very similar to a dictionary in Python, making it ideal for saving this sort of information. It is also easy to read and write.\n",
    "\n",
    "This code creates a file on your computer with your login info. Do NOT share this file. This way, when you share the code, your account is safe. Anyone else could only run the code if they have their own login."
   ]
  },
  {
   "cell_type": "code",
   "execution_count": 3,
   "metadata": {},
   "outputs": [],
   "source": [
    "import json\n",
    "\n",
    "# Fill this out with your own info, then delete your info and comment it out once you have the file on your local machine.\n",
    "\n",
    "secret =   {'client_id':\"\", #this should be right under the words 'personal use script'\n",
    "            'client_secret':\"\", # this should be next to the word 'secret'\n",
    "            'password':\"\", # this is your reddit password\n",
    "            'user_agent':\"testscript by u/username\", # this is a description of the project\n",
    "            'username':\"\", # this is your reddit username\n",
    "           } \n",
    " \n",
    "with open(\"secret.json\", \"w\") as f:\n",
    "    json.dump(secret, f)"
   ]
  },
  {
   "cell_type": "code",
   "execution_count": 4,
   "metadata": {},
   "outputs": [],
   "source": [
    "# Read your secret dictionary in from the file\n",
    "\n",
    "with open(\"secret.json\", \"r\") as f:\n",
    "    secret = json.load(f)"
   ]
  },
  {
   "cell_type": "code",
   "execution_count": 5,
   "metadata": {},
   "outputs": [],
   "source": [
    "# Use your secret dictionary to fill out the login info\n",
    "\n",
    "reddit = praw.Reddit(\n",
    "    client_id = secret['client_id'],\n",
    "    client_secret = secret['client_secret'],\n",
    "    username = secret['username'],\n",
    "    password = secret['password'],\n",
    "    user_agent = secret['user_agent']\n",
    ")"
   ]
  },
  {
   "cell_type": "markdown",
   "metadata": {},
   "source": [
    "If the login worked, the cell below should print out your username:"
   ]
  },
  {
   "cell_type": "code",
   "execution_count": 6,
   "metadata": {},
   "outputs": [
    {
     "name": "stdout",
     "output_type": "stream",
     "text": [
      "None\n"
     ]
    }
   ],
   "source": [
    "print(reddit.user.me())"
   ]
  },
  {
   "cell_type": "markdown",
   "metadata": {},
   "source": [
    "As a precaution, we are setting read-only to True. Otherwise you can accidentally post to Reddit with your script."
   ]
  },
  {
   "cell_type": "code",
   "execution_count": 7,
   "metadata": {},
   "outputs": [],
   "source": [
    "reddit.read_only = True"
   ]
  },
  {
   "cell_type": "markdown",
   "metadata": {
    "cell_id": "00010-3bf8f5b8-7eef-4081-adb2-95cdef9af027",
    "deepnote_cell_height": 147.86666870117188,
    "deepnote_cell_type": "markdown",
    "tags": []
   },
   "source": [
    "<div class=\"alert alert-info\">\n",
    "\n",
    "**Exercise 0.1:** We are going to start with collecting the 100 hottest posts on Reddit from the subreddit Ask me Anything (IAmA; https://www.reddit.com/r/AMA/) and filtering for posts with more than 100 upvotes:\n",
    "</div>"
   ]
  },
  {
   "cell_type": "code",
   "execution_count": 8,
   "metadata": {
    "cell_id": "00011-cbc4327e-1296-4da2-b50c-005c191131db",
    "deepnote_cell_height": 80.33332824707031,
    "deepnote_cell_type": "code",
    "deepnote_to_be_reexecuted": false,
    "execution_millis": 6,
    "execution_start": 1645983186940,
    "source_hash": "c15fdde6",
    "tags": []
   },
   "outputs": [],
   "source": [
    "# To access a particular subreddit, use the .subreddit method of your reddit instance\n",
    "# and pass in the name of the subreddit as the argument\n",
    "\n",
    "subreddit = reddit.subreddit(\"AMA\")"
   ]
  },
  {
   "cell_type": "markdown",
   "metadata": {},
   "source": [
    "The `subreddit` object has several methods for getting posts; controversial, gilded, hot, new, rising, and top. For each of them, you can call the method and the number of responses you want."
   ]
  },
  {
   "cell_type": "markdown",
   "metadata": {
    "cell_id": "00013-d8e2c374-fa65-4c2c-8b23-c5c2d327de80",
    "deepnote_cell_height": 96.53334045410156,
    "deepnote_cell_type": "markdown",
    "tags": []
   },
   "source": [
    "The API returns a generator object, which is an iterator over the list. We can only access the elements of this list through iteration in a sequential manner, i.e, we can not index on this generator like `posts[0]`. You can convert generators to lists, but be careful of having enough memory available if you try to do so."
   ]
  },
  {
   "cell_type": "code",
   "execution_count": 9,
   "metadata": {
    "cell_id": "00012-365923da-2b21-4bd4-b7b4-ec1dd80d13ef",
    "deepnote_cell_height": 117,
    "deepnote_cell_type": "code",
    "deepnote_output_heights": [
     21
    ],
    "deepnote_to_be_reexecuted": false,
    "execution_millis": 412,
    "execution_start": 1645983191370,
    "source_hash": "d7410215",
    "tags": []
   },
   "outputs": [
    {
     "ename": "ResponseException",
     "evalue": "received 401 HTTP response",
     "output_type": "error",
     "traceback": [
      "\u001b[1;31m---------------------------------------------------------------------------\u001b[0m",
      "\u001b[1;31mResponseException\u001b[0m                         Traceback (most recent call last)",
      "Input \u001b[1;32mIn [9]\u001b[0m, in \u001b[0;36m<cell line: 1>\u001b[1;34m()\u001b[0m\n\u001b[1;32m----> 1\u001b[0m \u001b[38;5;28;01mfor\u001b[39;00m post \u001b[38;5;129;01min\u001b[39;00m subreddit\u001b[38;5;241m.\u001b[39mhot(limit\u001b[38;5;241m=\u001b[39m\u001b[38;5;241m100\u001b[39m):\n\u001b[0;32m      2\u001b[0m     \u001b[38;5;28;01mif\u001b[39;00m (post\u001b[38;5;241m.\u001b[39mscore \u001b[38;5;241m>\u001b[39m \u001b[38;5;241m100\u001b[39m) \u001b[38;5;129;01mand\u001b[39;00m \u001b[38;5;129;01mnot\u001b[39;00m (post\u001b[38;5;241m.\u001b[39mover_18):\n\u001b[0;32m      3\u001b[0m         \u001b[38;5;66;03m# Output: the post's title\u001b[39;00m\n\u001b[0;32m      4\u001b[0m         \u001b[38;5;28mprint\u001b[39m(post\u001b[38;5;241m.\u001b[39mtitle)\n",
      "File \u001b[1;32m~\\anaconda3\\lib\\site-packages\\praw\\models\\listing\\generator.py:63\u001b[0m, in \u001b[0;36mListingGenerator.__next__\u001b[1;34m(self)\u001b[0m\n\u001b[0;32m     60\u001b[0m     \u001b[38;5;28;01mraise\u001b[39;00m \u001b[38;5;167;01mStopIteration\u001b[39;00m()\n\u001b[0;32m     62\u001b[0m \u001b[38;5;28;01mif\u001b[39;00m \u001b[38;5;28mself\u001b[39m\u001b[38;5;241m.\u001b[39m_listing \u001b[38;5;129;01mis\u001b[39;00m \u001b[38;5;28;01mNone\u001b[39;00m \u001b[38;5;129;01mor\u001b[39;00m \u001b[38;5;28mself\u001b[39m\u001b[38;5;241m.\u001b[39m_list_index \u001b[38;5;241m>\u001b[39m\u001b[38;5;241m=\u001b[39m \u001b[38;5;28mlen\u001b[39m(\u001b[38;5;28mself\u001b[39m\u001b[38;5;241m.\u001b[39m_listing):\n\u001b[1;32m---> 63\u001b[0m     \u001b[38;5;28;43mself\u001b[39;49m\u001b[38;5;241;43m.\u001b[39;49m\u001b[43m_next_batch\u001b[49m\u001b[43m(\u001b[49m\u001b[43m)\u001b[49m\n\u001b[0;32m     65\u001b[0m \u001b[38;5;28mself\u001b[39m\u001b[38;5;241m.\u001b[39m_list_index \u001b[38;5;241m+\u001b[39m\u001b[38;5;241m=\u001b[39m \u001b[38;5;241m1\u001b[39m\n\u001b[0;32m     66\u001b[0m \u001b[38;5;28mself\u001b[39m\u001b[38;5;241m.\u001b[39myielded \u001b[38;5;241m+\u001b[39m\u001b[38;5;241m=\u001b[39m \u001b[38;5;241m1\u001b[39m\n",
      "File \u001b[1;32m~\\anaconda3\\lib\\site-packages\\praw\\models\\listing\\generator.py:89\u001b[0m, in \u001b[0;36mListingGenerator._next_batch\u001b[1;34m(self)\u001b[0m\n\u001b[0;32m     86\u001b[0m \u001b[38;5;28;01mif\u001b[39;00m \u001b[38;5;28mself\u001b[39m\u001b[38;5;241m.\u001b[39m_exhausted:\n\u001b[0;32m     87\u001b[0m     \u001b[38;5;28;01mraise\u001b[39;00m \u001b[38;5;167;01mStopIteration\u001b[39;00m()\n\u001b[1;32m---> 89\u001b[0m \u001b[38;5;28mself\u001b[39m\u001b[38;5;241m.\u001b[39m_listing \u001b[38;5;241m=\u001b[39m \u001b[38;5;28;43mself\u001b[39;49m\u001b[38;5;241;43m.\u001b[39;49m\u001b[43m_reddit\u001b[49m\u001b[38;5;241;43m.\u001b[39;49m\u001b[43mget\u001b[49m\u001b[43m(\u001b[49m\u001b[38;5;28;43mself\u001b[39;49m\u001b[38;5;241;43m.\u001b[39;49m\u001b[43murl\u001b[49m\u001b[43m,\u001b[49m\u001b[43m \u001b[49m\u001b[43mparams\u001b[49m\u001b[38;5;241;43m=\u001b[39;49m\u001b[38;5;28;43mself\u001b[39;49m\u001b[38;5;241;43m.\u001b[39;49m\u001b[43mparams\u001b[49m\u001b[43m)\u001b[49m\n\u001b[0;32m     90\u001b[0m \u001b[38;5;28mself\u001b[39m\u001b[38;5;241m.\u001b[39m_listing \u001b[38;5;241m=\u001b[39m \u001b[38;5;28mself\u001b[39m\u001b[38;5;241m.\u001b[39m_extract_sublist(\u001b[38;5;28mself\u001b[39m\u001b[38;5;241m.\u001b[39m_listing)\n\u001b[0;32m     91\u001b[0m \u001b[38;5;28mself\u001b[39m\u001b[38;5;241m.\u001b[39m_list_index \u001b[38;5;241m=\u001b[39m \u001b[38;5;241m0\u001b[39m\n",
      "File \u001b[1;32m~\\anaconda3\\lib\\site-packages\\praw\\util\\deprecate_args.py:43\u001b[0m, in \u001b[0;36m_deprecate_args.<locals>.wrapper.<locals>.wrapped\u001b[1;34m(*args, **kwargs)\u001b[0m\n\u001b[0;32m     36\u001b[0m     arg_string \u001b[38;5;241m=\u001b[39m _generate_arg_string(_old_args[: \u001b[38;5;28mlen\u001b[39m(args)])\n\u001b[0;32m     37\u001b[0m     warn(\n\u001b[0;32m     38\u001b[0m         \u001b[38;5;124mf\u001b[39m\u001b[38;5;124m\"\u001b[39m\u001b[38;5;124mPositional arguments for \u001b[39m\u001b[38;5;132;01m{\u001b[39;00mfunc\u001b[38;5;241m.\u001b[39m\u001b[38;5;18m__qualname__\u001b[39m\u001b[38;5;132;01m!r}\u001b[39;00m\u001b[38;5;124m will no longer be\u001b[39m\u001b[38;5;124m\"\u001b[39m\n\u001b[0;32m     39\u001b[0m         \u001b[38;5;124mf\u001b[39m\u001b[38;5;124m\"\u001b[39m\u001b[38;5;124m supported in PRAW 8.\u001b[39m\u001b[38;5;130;01m\\n\u001b[39;00m\u001b[38;5;124mCall this function with \u001b[39m\u001b[38;5;132;01m{\u001b[39;00marg_string\u001b[38;5;132;01m}\u001b[39;00m\u001b[38;5;124m.\u001b[39m\u001b[38;5;124m\"\u001b[39m,\n\u001b[0;32m     40\u001b[0m         \u001b[38;5;167;01mDeprecationWarning\u001b[39;00m,\n\u001b[0;32m     41\u001b[0m         stacklevel\u001b[38;5;241m=\u001b[39m\u001b[38;5;241m2\u001b[39m,\n\u001b[0;32m     42\u001b[0m     )\n\u001b[1;32m---> 43\u001b[0m \u001b[38;5;28;01mreturn\u001b[39;00m func(\u001b[38;5;241m*\u001b[39m\u001b[38;5;241m*\u001b[39m\u001b[38;5;28mdict\u001b[39m(\u001b[38;5;28mzip\u001b[39m(_old_args, args)), \u001b[38;5;241m*\u001b[39m\u001b[38;5;241m*\u001b[39mkwargs)\n",
      "File \u001b[1;32m~\\anaconda3\\lib\\site-packages\\praw\\reddit.py:634\u001b[0m, in \u001b[0;36mReddit.get\u001b[1;34m(self, path, params)\u001b[0m\n\u001b[0;32m    621\u001b[0m \u001b[38;5;129m@_deprecate_args\u001b[39m(\u001b[38;5;124m\"\u001b[39m\u001b[38;5;124mpath\u001b[39m\u001b[38;5;124m\"\u001b[39m, \u001b[38;5;124m\"\u001b[39m\u001b[38;5;124mparams\u001b[39m\u001b[38;5;124m\"\u001b[39m)\n\u001b[0;32m    622\u001b[0m \u001b[38;5;28;01mdef\u001b[39;00m \u001b[38;5;21mget\u001b[39m(\n\u001b[0;32m    623\u001b[0m     \u001b[38;5;28mself\u001b[39m,\n\u001b[1;32m   (...)\u001b[0m\n\u001b[0;32m    626\u001b[0m     params: Optional[Union[\u001b[38;5;28mstr\u001b[39m, Dict[\u001b[38;5;28mstr\u001b[39m, Union[\u001b[38;5;28mstr\u001b[39m, \u001b[38;5;28mint\u001b[39m]]]] \u001b[38;5;241m=\u001b[39m \u001b[38;5;28;01mNone\u001b[39;00m,\n\u001b[0;32m    627\u001b[0m ):\n\u001b[0;32m    628\u001b[0m     \u001b[38;5;124;03m\"\"\"Return parsed objects returned from a GET request to ``path``.\u001b[39;00m\n\u001b[0;32m    629\u001b[0m \n\u001b[0;32m    630\u001b[0m \u001b[38;5;124;03m    :param path: The path to fetch.\u001b[39;00m\n\u001b[0;32m    631\u001b[0m \u001b[38;5;124;03m    :param params: The query parameters to add to the request (default: ``None``).\u001b[39;00m\n\u001b[0;32m    632\u001b[0m \n\u001b[0;32m    633\u001b[0m \u001b[38;5;124;03m    \"\"\"\u001b[39;00m\n\u001b[1;32m--> 634\u001b[0m     \u001b[38;5;28;01mreturn\u001b[39;00m \u001b[38;5;28;43mself\u001b[39;49m\u001b[38;5;241;43m.\u001b[39;49m\u001b[43m_objectify_request\u001b[49m\u001b[43m(\u001b[49m\u001b[43mmethod\u001b[49m\u001b[38;5;241;43m=\u001b[39;49m\u001b[38;5;124;43m\"\u001b[39;49m\u001b[38;5;124;43mGET\u001b[39;49m\u001b[38;5;124;43m\"\u001b[39;49m\u001b[43m,\u001b[49m\u001b[43m \u001b[49m\u001b[43mparams\u001b[49m\u001b[38;5;241;43m=\u001b[39;49m\u001b[43mparams\u001b[49m\u001b[43m,\u001b[49m\u001b[43m \u001b[49m\u001b[43mpath\u001b[49m\u001b[38;5;241;43m=\u001b[39;49m\u001b[43mpath\u001b[49m\u001b[43m)\u001b[49m\n",
      "File \u001b[1;32m~\\anaconda3\\lib\\site-packages\\praw\\reddit.py:739\u001b[0m, in \u001b[0;36mReddit._objectify_request\u001b[1;34m(self, data, files, json, method, params, path)\u001b[0m\n\u001b[0;32m    713\u001b[0m \u001b[38;5;28;01mdef\u001b[39;00m \u001b[38;5;21m_objectify_request\u001b[39m(\n\u001b[0;32m    714\u001b[0m     \u001b[38;5;28mself\u001b[39m,\n\u001b[0;32m    715\u001b[0m     \u001b[38;5;241m*\u001b[39m,\n\u001b[1;32m   (...)\u001b[0m\n\u001b[0;32m    721\u001b[0m     path: \u001b[38;5;28mstr\u001b[39m \u001b[38;5;241m=\u001b[39m \u001b[38;5;124m\"\u001b[39m\u001b[38;5;124m\"\u001b[39m,\n\u001b[0;32m    722\u001b[0m ) \u001b[38;5;241m-\u001b[39m\u001b[38;5;241m>\u001b[39m Any:\n\u001b[0;32m    723\u001b[0m     \u001b[38;5;124;03m\"\"\"Run a request through the ``Objector``.\u001b[39;00m\n\u001b[0;32m    724\u001b[0m \n\u001b[0;32m    725\u001b[0m \u001b[38;5;124;03m    :param data: Dictionary, bytes, or file-like object to send in the body of the\u001b[39;00m\n\u001b[1;32m   (...)\u001b[0m\n\u001b[0;32m    736\u001b[0m \n\u001b[0;32m    737\u001b[0m \u001b[38;5;124;03m    \"\"\"\u001b[39;00m\n\u001b[0;32m    738\u001b[0m     \u001b[38;5;28;01mreturn\u001b[39;00m \u001b[38;5;28mself\u001b[39m\u001b[38;5;241m.\u001b[39m_objector\u001b[38;5;241m.\u001b[39mobjectify(\n\u001b[1;32m--> 739\u001b[0m         \u001b[38;5;28;43mself\u001b[39;49m\u001b[38;5;241;43m.\u001b[39;49m\u001b[43mrequest\u001b[49m\u001b[43m(\u001b[49m\n\u001b[0;32m    740\u001b[0m \u001b[43m            \u001b[49m\u001b[43mdata\u001b[49m\u001b[38;5;241;43m=\u001b[39;49m\u001b[43mdata\u001b[49m\u001b[43m,\u001b[49m\n\u001b[0;32m    741\u001b[0m \u001b[43m            \u001b[49m\u001b[43mfiles\u001b[49m\u001b[38;5;241;43m=\u001b[39;49m\u001b[43mfiles\u001b[49m\u001b[43m,\u001b[49m\n\u001b[0;32m    742\u001b[0m \u001b[43m            \u001b[49m\u001b[43mjson\u001b[49m\u001b[38;5;241;43m=\u001b[39;49m\u001b[43mjson\u001b[49m\u001b[43m,\u001b[49m\n\u001b[0;32m    743\u001b[0m \u001b[43m            \u001b[49m\u001b[43mmethod\u001b[49m\u001b[38;5;241;43m=\u001b[39;49m\u001b[43mmethod\u001b[49m\u001b[43m,\u001b[49m\n\u001b[0;32m    744\u001b[0m \u001b[43m            \u001b[49m\u001b[43mparams\u001b[49m\u001b[38;5;241;43m=\u001b[39;49m\u001b[43mparams\u001b[49m\u001b[43m,\u001b[49m\n\u001b[0;32m    745\u001b[0m \u001b[43m            \u001b[49m\u001b[43mpath\u001b[49m\u001b[38;5;241;43m=\u001b[39;49m\u001b[43mpath\u001b[49m\u001b[43m,\u001b[49m\n\u001b[0;32m    746\u001b[0m \u001b[43m        \u001b[49m\u001b[43m)\u001b[49m\n\u001b[0;32m    747\u001b[0m     )\n",
      "File \u001b[1;32m~\\anaconda3\\lib\\site-packages\\praw\\util\\deprecate_args.py:43\u001b[0m, in \u001b[0;36m_deprecate_args.<locals>.wrapper.<locals>.wrapped\u001b[1;34m(*args, **kwargs)\u001b[0m\n\u001b[0;32m     36\u001b[0m     arg_string \u001b[38;5;241m=\u001b[39m _generate_arg_string(_old_args[: \u001b[38;5;28mlen\u001b[39m(args)])\n\u001b[0;32m     37\u001b[0m     warn(\n\u001b[0;32m     38\u001b[0m         \u001b[38;5;124mf\u001b[39m\u001b[38;5;124m\"\u001b[39m\u001b[38;5;124mPositional arguments for \u001b[39m\u001b[38;5;132;01m{\u001b[39;00mfunc\u001b[38;5;241m.\u001b[39m\u001b[38;5;18m__qualname__\u001b[39m\u001b[38;5;132;01m!r}\u001b[39;00m\u001b[38;5;124m will no longer be\u001b[39m\u001b[38;5;124m\"\u001b[39m\n\u001b[0;32m     39\u001b[0m         \u001b[38;5;124mf\u001b[39m\u001b[38;5;124m\"\u001b[39m\u001b[38;5;124m supported in PRAW 8.\u001b[39m\u001b[38;5;130;01m\\n\u001b[39;00m\u001b[38;5;124mCall this function with \u001b[39m\u001b[38;5;132;01m{\u001b[39;00marg_string\u001b[38;5;132;01m}\u001b[39;00m\u001b[38;5;124m.\u001b[39m\u001b[38;5;124m\"\u001b[39m,\n\u001b[0;32m     40\u001b[0m         \u001b[38;5;167;01mDeprecationWarning\u001b[39;00m,\n\u001b[0;32m     41\u001b[0m         stacklevel\u001b[38;5;241m=\u001b[39m\u001b[38;5;241m2\u001b[39m,\n\u001b[0;32m     42\u001b[0m     )\n\u001b[1;32m---> 43\u001b[0m \u001b[38;5;28;01mreturn\u001b[39;00m func(\u001b[38;5;241m*\u001b[39m\u001b[38;5;241m*\u001b[39m\u001b[38;5;28mdict\u001b[39m(\u001b[38;5;28mzip\u001b[39m(_old_args, args)), \u001b[38;5;241m*\u001b[39m\u001b[38;5;241m*\u001b[39mkwargs)\n",
      "File \u001b[1;32m~\\anaconda3\\lib\\site-packages\\praw\\reddit.py:941\u001b[0m, in \u001b[0;36mReddit.request\u001b[1;34m(self, data, files, json, method, params, path)\u001b[0m\n\u001b[0;32m    939\u001b[0m     \u001b[38;5;28;01mraise\u001b[39;00m ClientException(\u001b[38;5;124m\"\u001b[39m\u001b[38;5;124mAt most one of \u001b[39m\u001b[38;5;124m'\u001b[39m\u001b[38;5;124mdata\u001b[39m\u001b[38;5;124m'\u001b[39m\u001b[38;5;124m or \u001b[39m\u001b[38;5;124m'\u001b[39m\u001b[38;5;124mjson\u001b[39m\u001b[38;5;124m'\u001b[39m\u001b[38;5;124m is supported.\u001b[39m\u001b[38;5;124m\"\u001b[39m)\n\u001b[0;32m    940\u001b[0m \u001b[38;5;28;01mtry\u001b[39;00m:\n\u001b[1;32m--> 941\u001b[0m     \u001b[38;5;28;01mreturn\u001b[39;00m \u001b[38;5;28;43mself\u001b[39;49m\u001b[38;5;241;43m.\u001b[39;49m\u001b[43m_core\u001b[49m\u001b[38;5;241;43m.\u001b[39;49m\u001b[43mrequest\u001b[49m\u001b[43m(\u001b[49m\n\u001b[0;32m    942\u001b[0m \u001b[43m        \u001b[49m\u001b[43mdata\u001b[49m\u001b[38;5;241;43m=\u001b[39;49m\u001b[43mdata\u001b[49m\u001b[43m,\u001b[49m\n\u001b[0;32m    943\u001b[0m \u001b[43m        \u001b[49m\u001b[43mfiles\u001b[49m\u001b[38;5;241;43m=\u001b[39;49m\u001b[43mfiles\u001b[49m\u001b[43m,\u001b[49m\n\u001b[0;32m    944\u001b[0m \u001b[43m        \u001b[49m\u001b[43mjson\u001b[49m\u001b[38;5;241;43m=\u001b[39;49m\u001b[43mjson\u001b[49m\u001b[43m,\u001b[49m\n\u001b[0;32m    945\u001b[0m \u001b[43m        \u001b[49m\u001b[43mmethod\u001b[49m\u001b[38;5;241;43m=\u001b[39;49m\u001b[43mmethod\u001b[49m\u001b[43m,\u001b[49m\n\u001b[0;32m    946\u001b[0m \u001b[43m        \u001b[49m\u001b[43mparams\u001b[49m\u001b[38;5;241;43m=\u001b[39;49m\u001b[43mparams\u001b[49m\u001b[43m,\u001b[49m\n\u001b[0;32m    947\u001b[0m \u001b[43m        \u001b[49m\u001b[43mpath\u001b[49m\u001b[38;5;241;43m=\u001b[39;49m\u001b[43mpath\u001b[49m\u001b[43m,\u001b[49m\n\u001b[0;32m    948\u001b[0m \u001b[43m    \u001b[49m\u001b[43m)\u001b[49m\n\u001b[0;32m    949\u001b[0m \u001b[38;5;28;01mexcept\u001b[39;00m BadRequest \u001b[38;5;28;01mas\u001b[39;00m exception:\n\u001b[0;32m    950\u001b[0m     \u001b[38;5;28;01mtry\u001b[39;00m:\n",
      "File \u001b[1;32m~\\anaconda3\\lib\\site-packages\\prawcore\\sessions.py:330\u001b[0m, in \u001b[0;36mSession.request\u001b[1;34m(self, method, path, data, files, json, params, timeout)\u001b[0m\n\u001b[0;32m    328\u001b[0m     json[\u001b[38;5;124m\"\u001b[39m\u001b[38;5;124mapi_type\u001b[39m\u001b[38;5;124m\"\u001b[39m] \u001b[38;5;241m=\u001b[39m \u001b[38;5;124m\"\u001b[39m\u001b[38;5;124mjson\u001b[39m\u001b[38;5;124m\"\u001b[39m\n\u001b[0;32m    329\u001b[0m url \u001b[38;5;241m=\u001b[39m urljoin(\u001b[38;5;28mself\u001b[39m\u001b[38;5;241m.\u001b[39m_requestor\u001b[38;5;241m.\u001b[39moauth_url, path)\n\u001b[1;32m--> 330\u001b[0m \u001b[38;5;28;01mreturn\u001b[39;00m \u001b[38;5;28;43mself\u001b[39;49m\u001b[38;5;241;43m.\u001b[39;49m\u001b[43m_request_with_retries\u001b[49m\u001b[43m(\u001b[49m\n\u001b[0;32m    331\u001b[0m \u001b[43m    \u001b[49m\u001b[43mdata\u001b[49m\u001b[38;5;241;43m=\u001b[39;49m\u001b[43mdata\u001b[49m\u001b[43m,\u001b[49m\n\u001b[0;32m    332\u001b[0m \u001b[43m    \u001b[49m\u001b[43mfiles\u001b[49m\u001b[38;5;241;43m=\u001b[39;49m\u001b[43mfiles\u001b[49m\u001b[43m,\u001b[49m\n\u001b[0;32m    333\u001b[0m \u001b[43m    \u001b[49m\u001b[43mjson\u001b[49m\u001b[38;5;241;43m=\u001b[39;49m\u001b[43mjson\u001b[49m\u001b[43m,\u001b[49m\n\u001b[0;32m    334\u001b[0m \u001b[43m    \u001b[49m\u001b[43mmethod\u001b[49m\u001b[38;5;241;43m=\u001b[39;49m\u001b[43mmethod\u001b[49m\u001b[43m,\u001b[49m\n\u001b[0;32m    335\u001b[0m \u001b[43m    \u001b[49m\u001b[43mparams\u001b[49m\u001b[38;5;241;43m=\u001b[39;49m\u001b[43mparams\u001b[49m\u001b[43m,\u001b[49m\n\u001b[0;32m    336\u001b[0m \u001b[43m    \u001b[49m\u001b[43mtimeout\u001b[49m\u001b[38;5;241;43m=\u001b[39;49m\u001b[43mtimeout\u001b[49m\u001b[43m,\u001b[49m\n\u001b[0;32m    337\u001b[0m \u001b[43m    \u001b[49m\u001b[43murl\u001b[49m\u001b[38;5;241;43m=\u001b[39;49m\u001b[43murl\u001b[49m\u001b[43m,\u001b[49m\n\u001b[0;32m    338\u001b[0m \u001b[43m\u001b[49m\u001b[43m)\u001b[49m\n",
      "File \u001b[1;32m~\\anaconda3\\lib\\site-packages\\prawcore\\sessions.py:228\u001b[0m, in \u001b[0;36mSession._request_with_retries\u001b[1;34m(self, data, files, json, method, params, timeout, url, retry_strategy_state)\u001b[0m\n\u001b[0;32m    226\u001b[0m retry_strategy_state\u001b[38;5;241m.\u001b[39msleep()\n\u001b[0;32m    227\u001b[0m \u001b[38;5;28mself\u001b[39m\u001b[38;5;241m.\u001b[39m_log_request(data, method, params, url)\n\u001b[1;32m--> 228\u001b[0m response, saved_exception \u001b[38;5;241m=\u001b[39m \u001b[38;5;28;43mself\u001b[39;49m\u001b[38;5;241;43m.\u001b[39;49m\u001b[43m_make_request\u001b[49m\u001b[43m(\u001b[49m\n\u001b[0;32m    229\u001b[0m \u001b[43m    \u001b[49m\u001b[43mdata\u001b[49m\u001b[43m,\u001b[49m\n\u001b[0;32m    230\u001b[0m \u001b[43m    \u001b[49m\u001b[43mfiles\u001b[49m\u001b[43m,\u001b[49m\n\u001b[0;32m    231\u001b[0m \u001b[43m    \u001b[49m\u001b[43mjson\u001b[49m\u001b[43m,\u001b[49m\n\u001b[0;32m    232\u001b[0m \u001b[43m    \u001b[49m\u001b[43mmethod\u001b[49m\u001b[43m,\u001b[49m\n\u001b[0;32m    233\u001b[0m \u001b[43m    \u001b[49m\u001b[43mparams\u001b[49m\u001b[43m,\u001b[49m\n\u001b[0;32m    234\u001b[0m \u001b[43m    \u001b[49m\u001b[43mretry_strategy_state\u001b[49m\u001b[43m,\u001b[49m\n\u001b[0;32m    235\u001b[0m \u001b[43m    \u001b[49m\u001b[43mtimeout\u001b[49m\u001b[43m,\u001b[49m\n\u001b[0;32m    236\u001b[0m \u001b[43m    \u001b[49m\u001b[43murl\u001b[49m\u001b[43m,\u001b[49m\n\u001b[0;32m    237\u001b[0m \u001b[43m\u001b[49m\u001b[43m)\u001b[49m\n\u001b[0;32m    239\u001b[0m do_retry \u001b[38;5;241m=\u001b[39m \u001b[38;5;28;01mFalse\u001b[39;00m\n\u001b[0;32m    240\u001b[0m \u001b[38;5;28;01mif\u001b[39;00m (\n\u001b[0;32m    241\u001b[0m     response \u001b[38;5;129;01mis\u001b[39;00m \u001b[38;5;129;01mnot\u001b[39;00m \u001b[38;5;28;01mNone\u001b[39;00m\n\u001b[0;32m    242\u001b[0m     \u001b[38;5;129;01mand\u001b[39;00m response\u001b[38;5;241m.\u001b[39mstatus_code \u001b[38;5;241m==\u001b[39m codes[\u001b[38;5;124m\"\u001b[39m\u001b[38;5;124munauthorized\u001b[39m\u001b[38;5;124m\"\u001b[39m]\n\u001b[0;32m    243\u001b[0m ):\n",
      "File \u001b[1;32m~\\anaconda3\\lib\\site-packages\\prawcore\\sessions.py:185\u001b[0m, in \u001b[0;36mSession._make_request\u001b[1;34m(self, data, files, json, method, params, retry_strategy_state, timeout, url)\u001b[0m\n\u001b[0;32m    173\u001b[0m \u001b[38;5;28;01mdef\u001b[39;00m \u001b[38;5;21m_make_request\u001b[39m(\n\u001b[0;32m    174\u001b[0m     \u001b[38;5;28mself\u001b[39m,\n\u001b[0;32m    175\u001b[0m     data,\n\u001b[1;32m   (...)\u001b[0m\n\u001b[0;32m    182\u001b[0m     url,\n\u001b[0;32m    183\u001b[0m ):\n\u001b[0;32m    184\u001b[0m     \u001b[38;5;28;01mtry\u001b[39;00m:\n\u001b[1;32m--> 185\u001b[0m         response \u001b[38;5;241m=\u001b[39m \u001b[38;5;28;43mself\u001b[39;49m\u001b[38;5;241;43m.\u001b[39;49m\u001b[43m_rate_limiter\u001b[49m\u001b[38;5;241;43m.\u001b[39;49m\u001b[43mcall\u001b[49m\u001b[43m(\u001b[49m\n\u001b[0;32m    186\u001b[0m \u001b[43m            \u001b[49m\u001b[38;5;28;43mself\u001b[39;49m\u001b[38;5;241;43m.\u001b[39;49m\u001b[43m_requestor\u001b[49m\u001b[38;5;241;43m.\u001b[39;49m\u001b[43mrequest\u001b[49m\u001b[43m,\u001b[49m\n\u001b[0;32m    187\u001b[0m \u001b[43m            \u001b[49m\u001b[38;5;28;43mself\u001b[39;49m\u001b[38;5;241;43m.\u001b[39;49m\u001b[43m_set_header_callback\u001b[49m\u001b[43m,\u001b[49m\n\u001b[0;32m    188\u001b[0m \u001b[43m            \u001b[49m\u001b[43mmethod\u001b[49m\u001b[43m,\u001b[49m\n\u001b[0;32m    189\u001b[0m \u001b[43m            \u001b[49m\u001b[43murl\u001b[49m\u001b[43m,\u001b[49m\n\u001b[0;32m    190\u001b[0m \u001b[43m            \u001b[49m\u001b[43mallow_redirects\u001b[49m\u001b[38;5;241;43m=\u001b[39;49m\u001b[38;5;28;43;01mFalse\u001b[39;49;00m\u001b[43m,\u001b[49m\n\u001b[0;32m    191\u001b[0m \u001b[43m            \u001b[49m\u001b[43mdata\u001b[49m\u001b[38;5;241;43m=\u001b[39;49m\u001b[43mdata\u001b[49m\u001b[43m,\u001b[49m\n\u001b[0;32m    192\u001b[0m \u001b[43m            \u001b[49m\u001b[43mfiles\u001b[49m\u001b[38;5;241;43m=\u001b[39;49m\u001b[43mfiles\u001b[49m\u001b[43m,\u001b[49m\n\u001b[0;32m    193\u001b[0m \u001b[43m            \u001b[49m\u001b[43mjson\u001b[49m\u001b[38;5;241;43m=\u001b[39;49m\u001b[43mjson\u001b[49m\u001b[43m,\u001b[49m\n\u001b[0;32m    194\u001b[0m \u001b[43m            \u001b[49m\u001b[43mparams\u001b[49m\u001b[38;5;241;43m=\u001b[39;49m\u001b[43mparams\u001b[49m\u001b[43m,\u001b[49m\n\u001b[0;32m    195\u001b[0m \u001b[43m            \u001b[49m\u001b[43mtimeout\u001b[49m\u001b[38;5;241;43m=\u001b[39;49m\u001b[43mtimeout\u001b[49m\u001b[43m,\u001b[49m\n\u001b[0;32m    196\u001b[0m \u001b[43m        \u001b[49m\u001b[43m)\u001b[49m\n\u001b[0;32m    197\u001b[0m         log\u001b[38;5;241m.\u001b[39mdebug(\n\u001b[0;32m    198\u001b[0m             \u001b[38;5;124mf\u001b[39m\u001b[38;5;124m\"\u001b[39m\u001b[38;5;124mResponse: \u001b[39m\u001b[38;5;132;01m{\u001b[39;00mresponse\u001b[38;5;241m.\u001b[39mstatus_code\u001b[38;5;132;01m}\u001b[39;00m\u001b[38;5;124m\"\u001b[39m\n\u001b[0;32m    199\u001b[0m             \u001b[38;5;124mf\u001b[39m\u001b[38;5;124m\"\u001b[39m\u001b[38;5;124m (\u001b[39m\u001b[38;5;132;01m{\u001b[39;00mresponse\u001b[38;5;241m.\u001b[39mheaders\u001b[38;5;241m.\u001b[39mget(\u001b[38;5;124m'\u001b[39m\u001b[38;5;124mcontent-length\u001b[39m\u001b[38;5;124m'\u001b[39m)\u001b[38;5;132;01m}\u001b[39;00m\u001b[38;5;124m bytes)\u001b[39m\u001b[38;5;124m\"\u001b[39m\n\u001b[0;32m    200\u001b[0m         )\n\u001b[0;32m    201\u001b[0m         \u001b[38;5;28;01mreturn\u001b[39;00m response, \u001b[38;5;28;01mNone\u001b[39;00m\n",
      "File \u001b[1;32m~\\anaconda3\\lib\\site-packages\\prawcore\\rate_limit.py:33\u001b[0m, in \u001b[0;36mRateLimiter.call\u001b[1;34m(self, request_function, set_header_callback, *args, **kwargs)\u001b[0m\n\u001b[0;32m     23\u001b[0m \u001b[38;5;124;03m\"\"\"Rate limit the call to request_function.\u001b[39;00m\n\u001b[0;32m     24\u001b[0m \n\u001b[0;32m     25\u001b[0m \u001b[38;5;124;03m:param request_function: A function call that returns an HTTP response object.\u001b[39;00m\n\u001b[1;32m   (...)\u001b[0m\n\u001b[0;32m     30\u001b[0m \n\u001b[0;32m     31\u001b[0m \u001b[38;5;124;03m\"\"\"\u001b[39;00m\n\u001b[0;32m     32\u001b[0m \u001b[38;5;28mself\u001b[39m\u001b[38;5;241m.\u001b[39mdelay()\n\u001b[1;32m---> 33\u001b[0m kwargs[\u001b[38;5;124m\"\u001b[39m\u001b[38;5;124mheaders\u001b[39m\u001b[38;5;124m\"\u001b[39m] \u001b[38;5;241m=\u001b[39m \u001b[43mset_header_callback\u001b[49m\u001b[43m(\u001b[49m\u001b[43m)\u001b[49m\n\u001b[0;32m     34\u001b[0m response \u001b[38;5;241m=\u001b[39m request_function(\u001b[38;5;241m*\u001b[39margs, \u001b[38;5;241m*\u001b[39m\u001b[38;5;241m*\u001b[39mkwargs)\n\u001b[0;32m     35\u001b[0m \u001b[38;5;28mself\u001b[39m\u001b[38;5;241m.\u001b[39mupdate(response\u001b[38;5;241m.\u001b[39mheaders)\n",
      "File \u001b[1;32m~\\anaconda3\\lib\\site-packages\\prawcore\\sessions.py:283\u001b[0m, in \u001b[0;36mSession._set_header_callback\u001b[1;34m(self)\u001b[0m\n\u001b[0;32m    279\u001b[0m \u001b[38;5;28;01mdef\u001b[39;00m \u001b[38;5;21m_set_header_callback\u001b[39m(\u001b[38;5;28mself\u001b[39m):\n\u001b[0;32m    280\u001b[0m     \u001b[38;5;28;01mif\u001b[39;00m \u001b[38;5;129;01mnot\u001b[39;00m \u001b[38;5;28mself\u001b[39m\u001b[38;5;241m.\u001b[39m_authorizer\u001b[38;5;241m.\u001b[39mis_valid() \u001b[38;5;129;01mand\u001b[39;00m \u001b[38;5;28mhasattr\u001b[39m(\n\u001b[0;32m    281\u001b[0m         \u001b[38;5;28mself\u001b[39m\u001b[38;5;241m.\u001b[39m_authorizer, \u001b[38;5;124m\"\u001b[39m\u001b[38;5;124mrefresh\u001b[39m\u001b[38;5;124m\"\u001b[39m\n\u001b[0;32m    282\u001b[0m     ):\n\u001b[1;32m--> 283\u001b[0m         \u001b[38;5;28;43mself\u001b[39;49m\u001b[38;5;241;43m.\u001b[39;49m\u001b[43m_authorizer\u001b[49m\u001b[38;5;241;43m.\u001b[39;49m\u001b[43mrefresh\u001b[49m\u001b[43m(\u001b[49m\u001b[43m)\u001b[49m\n\u001b[0;32m    284\u001b[0m     \u001b[38;5;28;01mreturn\u001b[39;00m {\u001b[38;5;124m\"\u001b[39m\u001b[38;5;124mAuthorization\u001b[39m\u001b[38;5;124m\"\u001b[39m: \u001b[38;5;124mf\u001b[39m\u001b[38;5;124m\"\u001b[39m\u001b[38;5;124mbearer \u001b[39m\u001b[38;5;132;01m{\u001b[39;00m\u001b[38;5;28mself\u001b[39m\u001b[38;5;241m.\u001b[39m_authorizer\u001b[38;5;241m.\u001b[39maccess_token\u001b[38;5;132;01m}\u001b[39;00m\u001b[38;5;124m\"\u001b[39m}\n",
      "File \u001b[1;32m~\\anaconda3\\lib\\site-packages\\prawcore\\auth.py:314\u001b[0m, in \u001b[0;36mDeviceIDAuthorizer.refresh\u001b[1;34m(self)\u001b[0m\n\u001b[0;32m    312\u001b[0m     additional_kwargs[\u001b[38;5;124m\"\u001b[39m\u001b[38;5;124mscope\u001b[39m\u001b[38;5;124m\"\u001b[39m] \u001b[38;5;241m=\u001b[39m \u001b[38;5;124m\"\u001b[39m\u001b[38;5;124m \u001b[39m\u001b[38;5;124m\"\u001b[39m\u001b[38;5;241m.\u001b[39mjoin(\u001b[38;5;28mself\u001b[39m\u001b[38;5;241m.\u001b[39m_scopes)\n\u001b[0;32m    313\u001b[0m grant_type \u001b[38;5;241m=\u001b[39m \u001b[38;5;124m\"\u001b[39m\u001b[38;5;124mhttps://oauth.reddit.com/grants/installed_client\u001b[39m\u001b[38;5;124m\"\u001b[39m\n\u001b[1;32m--> 314\u001b[0m \u001b[38;5;28mself\u001b[39m\u001b[38;5;241m.\u001b[39m_request_token(\n\u001b[0;32m    315\u001b[0m     grant_type\u001b[38;5;241m=\u001b[39mgrant_type,\n\u001b[0;32m    316\u001b[0m     device_id\u001b[38;5;241m=\u001b[39m\u001b[38;5;28mself\u001b[39m\u001b[38;5;241m.\u001b[39m_device_id,\n\u001b[0;32m    317\u001b[0m     \u001b[38;5;241m*\u001b[39m\u001b[38;5;241m*\u001b[39madditional_kwargs,\n\u001b[0;32m    318\u001b[0m )\n",
      "File \u001b[1;32m~\\anaconda3\\lib\\site-packages\\prawcore\\auth.py:155\u001b[0m, in \u001b[0;36mBaseAuthorizer._request_token\u001b[1;34m(self, **data)\u001b[0m\n\u001b[0;32m    151\u001b[0m url \u001b[38;5;241m=\u001b[39m (\n\u001b[0;32m    152\u001b[0m     \u001b[38;5;28mself\u001b[39m\u001b[38;5;241m.\u001b[39m_authenticator\u001b[38;5;241m.\u001b[39m_requestor\u001b[38;5;241m.\u001b[39mreddit_url \u001b[38;5;241m+\u001b[39m const\u001b[38;5;241m.\u001b[39mACCESS_TOKEN_PATH\n\u001b[0;32m    153\u001b[0m )\n\u001b[0;32m    154\u001b[0m pre_request_time \u001b[38;5;241m=\u001b[39m time\u001b[38;5;241m.\u001b[39mtime()\n\u001b[1;32m--> 155\u001b[0m response \u001b[38;5;241m=\u001b[39m \u001b[38;5;28mself\u001b[39m\u001b[38;5;241m.\u001b[39m_authenticator\u001b[38;5;241m.\u001b[39m_post(url, \u001b[38;5;241m*\u001b[39m\u001b[38;5;241m*\u001b[39mdata)\n\u001b[0;32m    156\u001b[0m payload \u001b[38;5;241m=\u001b[39m response\u001b[38;5;241m.\u001b[39mjson()\n\u001b[0;32m    157\u001b[0m \u001b[38;5;28;01mif\u001b[39;00m \u001b[38;5;124m\"\u001b[39m\u001b[38;5;124merror\u001b[39m\u001b[38;5;124m\"\u001b[39m \u001b[38;5;129;01min\u001b[39;00m payload:  \u001b[38;5;66;03m# Why are these OKAY responses?\u001b[39;00m\n",
      "File \u001b[1;32m~\\anaconda3\\lib\\site-packages\\prawcore\\auth.py:38\u001b[0m, in \u001b[0;36mBaseAuthenticator._post\u001b[1;34m(self, url, success_status, **data)\u001b[0m\n\u001b[0;32m     30\u001b[0m response \u001b[38;5;241m=\u001b[39m \u001b[38;5;28mself\u001b[39m\u001b[38;5;241m.\u001b[39m_requestor\u001b[38;5;241m.\u001b[39mrequest(\n\u001b[0;32m     31\u001b[0m     \u001b[38;5;124m\"\u001b[39m\u001b[38;5;124mpost\u001b[39m\u001b[38;5;124m\"\u001b[39m,\n\u001b[0;32m     32\u001b[0m     url,\n\u001b[1;32m   (...)\u001b[0m\n\u001b[0;32m     35\u001b[0m     headers\u001b[38;5;241m=\u001b[39m{\u001b[38;5;124m\"\u001b[39m\u001b[38;5;124mConnection\u001b[39m\u001b[38;5;124m\"\u001b[39m: \u001b[38;5;124m\"\u001b[39m\u001b[38;5;124mclose\u001b[39m\u001b[38;5;124m\"\u001b[39m},\n\u001b[0;32m     36\u001b[0m )\n\u001b[0;32m     37\u001b[0m \u001b[38;5;28;01mif\u001b[39;00m response\u001b[38;5;241m.\u001b[39mstatus_code \u001b[38;5;241m!=\u001b[39m success_status:\n\u001b[1;32m---> 38\u001b[0m     \u001b[38;5;28;01mraise\u001b[39;00m ResponseException(response)\n\u001b[0;32m     39\u001b[0m \u001b[38;5;28;01mreturn\u001b[39;00m response\n",
      "\u001b[1;31mResponseException\u001b[0m: received 401 HTTP response"
     ]
    }
   ],
   "source": [
    "for post in subreddit.hot(limit=100):\n",
    "    if (post.score > 100) and not (post.over_18):\n",
    "        # Output: the post's title\n",
    "        print(post.title)\n",
    "        # Output: the post's score        \n",
    "        print(post.score)\n",
    "        # Output: the URL the submission points to or the submission's URL if it's a self post\n",
    "        print(post.url)"
   ]
  },
  {
   "cell_type": "markdown",
   "metadata": {
    "cell_id": "00014-81b2c78c-857a-40dd-bc67-3a614c39aae2",
    "deepnote_cell_height": 103.06666564941406,
    "deepnote_cell_type": "markdown",
    "tags": []
   },
   "source": [
    "<div class=\"alert alert-info\">\n",
    "\n",
    "**Exercise 0.2:** Make a pandas dataframe of the entries returned by the API\n",
    "</div>"
   ]
  },
  {
   "cell_type": "markdown",
   "metadata": {
    "cell_id": "00015-2981a081-65b5-4eb6-857e-d50773a7f7f1",
    "deepnote_cell_height": 155.3333282470703,
    "deepnote_cell_type": "markdown",
    "tags": []
   },
   "source": [
    "The code below is a list comprehension that loops through the generator and extracts relevant data for each matching Reddit post. It then turns that list into a Pandas DataFrame.\n",
    "\n",
    "Note: Each element of `posts` is of type `praw.models.submission` which is a special object. You will want the `vars()` function to convert it to a dict."
   ]
  },
  {
   "cell_type": "code",
   "execution_count": 75,
   "metadata": {
    "cell_id": "00016-7adb98b4-9a97-4e3f-89db-947969a3b15d",
    "deepnote_cell_height": 148.06666564941406,
    "deepnote_cell_type": "code",
    "deepnote_to_be_reexecuted": false,
    "execution_millis": 1006,
    "execution_start": 1645983198393,
    "source_hash": "442db682",
    "tags": []
   },
   "outputs": [],
   "source": [
    "list_of_posts = [vars(p) for p in subreddit.hot(limit=100)]\n",
    "\n",
    "df_posts = pd.DataFrame(list_of_posts)\n"
   ]
  },
  {
   "cell_type": "markdown",
   "metadata": {
    "cell_id": "00017-75a42ea1-e6f6-48f6-a598-c9c26955728c",
    "deepnote_cell_height": 212.6666717529297,
    "deepnote_cell_type": "markdown",
    "tags": []
   },
   "source": [
    "<div class=\"alert alert-info\">\n",
    "\n",
    "**Exercise 0.3:** Now check for yourself the following - \n",
    "\n",
    "1. Number of rows and columns in the resulting dataframe \n",
    "2. The list of fieldnames that are returned by the API\n",
    "</div>"
   ]
  },
  {
   "cell_type": "code",
   "execution_count": 11,
   "metadata": {
    "cell_id": "00018-ddfe76b3-7450-47a0-9d10-fe1d92ba677f",
    "deepnote_cell_height": 110.86666870117188,
    "deepnote_cell_type": "code",
    "deepnote_to_be_reexecuted": false,
    "execution_millis": 14,
    "execution_start": 1645983200534,
    "source_hash": "de7e7e1b",
    "tags": []
   },
   "outputs": [],
   "source": [
    "# Shape of the data frame"
   ]
  },
  {
   "cell_type": "code",
   "execution_count": 10,
   "metadata": {
    "cell_id": "00019-08abd486-6eec-4c9a-8852-4717070b7e18",
    "deepnote_cell_height": 519,
    "deepnote_cell_type": "code",
    "deepnote_output_heights": [
     405
    ],
    "deepnote_to_be_reexecuted": false,
    "execution_millis": 26,
    "execution_start": 1645983201226,
    "source_hash": "b2185722",
    "tags": []
   },
   "outputs": [],
   "source": [
    "# Which attributes do we now have access to?\n"
   ]
  },
  {
   "cell_type": "markdown",
   "metadata": {
    "cell_id": "00021-3dd13f9f-9bd8-4daa-991b-af5235e376af",
    "deepnote_cell_height": 405.33331298828125,
    "deepnote_cell_type": "markdown",
    "tags": []
   },
   "source": [
    "### Exercise 1: Extracting texts from Reddit posts\n",
    "\n",
    "<div class=\"alert alert-info\">\n",
    "\n",
    "**Exercise 1.1:** Let's now collect submissions in the `news` subreddit\n",
    "- access the news subreddit and create an iterator of the most recent 1000 posts\n",
    "- check if the post contains a keyword of your choice in either the title or body of the post\n",
    "- make a dataframe where each row consists of a single entry returned by the API. \n",
    "- check the number of rows and columns in the resulting dataframe\n",
    "</div>\n",
    "\n",
    "\n"
   ]
  },
  {
   "cell_type": "code",
   "execution_count": 84,
   "metadata": {},
   "outputs": [],
   "source": [
    "subreddit = ?"
   ]
  },
  {
   "cell_type": "code",
   "execution_count": 102,
   "metadata": {
    "cell_id": "00022-9239b7dc-fda3-4bca-ad01-dc9b9e72d1bc",
    "deepnote_cell_height": 166.06666564941406,
    "deepnote_cell_type": "code",
    "deepnote_to_be_reexecuted": false,
    "execution_millis": 9813,
    "execution_start": 1645983209293,
    "source_hash": "f986bf6b",
    "tags": []
   },
   "outputs": [
    {
     "name": "stdout",
     "output_type": "stream",
     "text": [
      "Navy SEAL deserter killed in Ukraine, official says\n",
      "Ukraine: US and European countries pledge heavy weapons\n",
      "Medvedev warns of nuclear war if Russia defeated in Ukraine | Russia-Ukraine war News\n",
      "Ukraine war: Ukraine admits retreat from front line town of Soledar\n",
      "Berlin Won’t Allow Exports of German Tanks to Ukraine Unless U.S. Sends Its Own\n",
      "Ukraine crash: Ministers killed as helicopter comes down near nursery\n",
      "Organizers ban Russian, Belarusian flags from Australian Open site after Ukraine's ambassador to Australia condemns Russian flag display | CNN\n",
      "UK to supply tanks; Russian missiles hit across Ukraine\n",
      "Russia fires new waves of missiles at Ukraine and hits energy infrastructure\n",
      "Rishi Sunak offers tanks to Ukraine to help ‘push Russian troops back’\n",
      "Ukraine war latest: UK will provide Challenger 2 tanks to Ukraine - Sunak - BBC News\n",
      "'Land covered in corpses' as Russia strives for first big Ukraine gains in months\n",
      "Ukraine denies Russian claim it killed 600 soldiers\n",
      "US to send Ukraine dozens of Bradleys in $2.85B aid package\n",
      "Putin orders ceasefire in Ukraine over Orthodox Christmas - Kremlin\n",
      "Explosions rock Ukraine’s Kyiv in early hours of New Year’s Day\n"
     ]
    }
   ],
   "source": [
    "keyword = ?\n",
    "\n",
    "submissions_list = []\n",
    "\n",
    "# You'll want a for loop here\n",
    "\n",
    "    # With a condition to test for the keyword\n",
    "        \n",
    "        # Then add the success cases to the list as dicts\n",
    "        \n",
    "df_posts = pd.DataFrame(submissions_list)"
   ]
  },
  {
   "cell_type": "markdown",
   "metadata": {
    "cell_id": "00023-e2b8074a-ae77-482e-bd62-aaae5acda857",
    "deepnote_cell_height": 210.3333282470703,
    "deepnote_cell_type": "markdown",
    "tags": []
   },
   "source": [
    "\n",
    "<div class=\"alert alert-info\">\n",
    "\n",
    "**Exercise 1.2:** Let's look at some of the columns \n",
    "- have a look at the titles, number of comments, and the created timestamp\n",
    "- Can you interpret the date column? Head over to https://pandas.pydata.org/docs/reference/api/pandas.to_datetime.html and use `pd.to_datetime` for conversion of this column to an appropriate human-readable format. \n",
    "\n",
    "</div>"
   ]
  },
  {
   "cell_type": "code",
   "execution_count": 12,
   "metadata": {
    "cell_id": "00024-b82f7adc-b320-43f0-acf5-e12496f0b413",
    "deepnote_cell_height": 596.6666870117188,
    "deepnote_cell_type": "code",
    "deepnote_to_be_reexecuted": false,
    "execution_millis": 72,
    "execution_start": 1645983219129,
    "source_hash": "5d910d05",
    "tags": []
   },
   "outputs": [],
   "source": [
    "# Print out the three columns we are interested in"
   ]
  },
  {
   "cell_type": "markdown",
   "metadata": {
    "cell_id": "00025-e71016b6-18a7-447c-850a-3b6b82064f4f",
    "deepnote_cell_height": 74.13333129882812,
    "deepnote_cell_type": "markdown",
    "tags": []
   },
   "source": [
    "The timestamp column is not interpretable to people, but this is a common format that is shared across the systems in the world. Let's convert this to a time that humans can read. "
   ]
  },
  {
   "cell_type": "code",
   "execution_count": 14,
   "metadata": {
    "cell_id": "00026-d4c13dbc-2c62-4af4-aa70-e5d0c541a199",
    "deepnote_cell_height": 80.33332824707031,
    "deepnote_cell_type": "code",
    "deepnote_to_be_reexecuted": false,
    "execution_millis": 2,
    "execution_start": 1645983225045,
    "source_hash": "5fb1e0ab",
    "tags": []
   },
   "outputs": [],
   "source": [
    "# Convert the timestamp column to a datetime"
   ]
  },
  {
   "cell_type": "code",
   "execution_count": 13,
   "metadata": {},
   "outputs": [],
   "source": [
    "# Print it out again to see if it worked"
   ]
  },
  {
   "cell_type": "markdown",
   "metadata": {
    "cell_id": "00031-5b938652-7fe2-432a-873d-371e42888d52",
    "deepnote_cell_height": 103.06666564941406,
    "deepnote_cell_type": "markdown",
    "tags": []
   },
   "source": [
    "\n",
    "<div class=\"alert alert-info\">\n",
    "\n",
    "**Exercise 1.3:** How would you list the usernames of the posters?\n",
    "\n",
    "</div>\n"
   ]
  },
  {
   "cell_type": "code",
   "execution_count": 15,
   "metadata": {
    "cell_id": "00032-069b7b30-a2bc-4f2a-96f5-0cfc5d241973",
    "deepnote_cell_height": 146.1999969482422,
    "deepnote_cell_type": "code",
    "deepnote_to_be_reexecuted": false,
    "execution_millis": 4,
    "execution_start": 1645983229535,
    "source_hash": "f43c7d20",
    "tags": []
   },
   "outputs": [
    {
     "ename": "SyntaxError",
     "evalue": "invalid syntax (2494137333.py, line 1)",
     "output_type": "error",
     "traceback": [
      "\u001b[1;36m  Input \u001b[1;32mIn [15]\u001b[1;36m\u001b[0m\n\u001b[1;33m    list_usernames = ?\u001b[0m\n\u001b[1;37m                     ^\u001b[0m\n\u001b[1;31mSyntaxError\u001b[0m\u001b[1;31m:\u001b[0m invalid syntax\n"
     ]
    }
   ],
   "source": [
    "list_usernames = ?\n",
    "print(list_usernames)"
   ]
  },
  {
   "cell_type": "markdown",
   "metadata": {
    "cell_id": "00035-fae1ef7a-ee8b-4b13-82b9-30959f414965",
    "deepnote_cell_height": 317.1333312988281,
    "deepnote_cell_type": "markdown",
    "tags": []
   },
   "source": [
    "### Exercise 2: Accessing Comments in Reddit\n",
    "\n",
    "The comments are accessible via the praw method `praw.models.submission.comments`. This returns a `CommentForest`, which lets you know which comments respond to which previous comments by having the struture of a tree.\n",
    "\n",
    "<div class=\"alert alert-info\">\n",
    "\n",
    "**Exercise 2.1:** Find the hottest post on the `london` subreddit right now. Do the following afterwards - \n",
    "- Access the comments CommentForest\n",
    "- Use the more_comments() method to access all the top level comments\n",
    "- Store the comments to a DataFrame\n",
    "</div>\n",
    "\n"
   ]
  },
  {
   "cell_type": "code",
   "execution_count": 119,
   "metadata": {},
   "outputs": [],
   "source": [
    "# Replace the old subreddit object\n",
    "subreddit = ?\n",
    "\n",
    "# Get just the top post\n",
    "top_post = "
   ]
  },
  {
   "cell_type": "code",
   "execution_count": 122,
   "metadata": {},
   "outputs": [
    {
     "data": {
      "text/plain": [
       "'‘The damage is immeasurable’: Woman breaks into Jewish temple, desecrates sanctuary and Torah, then returns to scare children, prosecutors say'"
      ]
     },
     "execution_count": 122,
     "metadata": {},
     "output_type": "execute_result"
    }
   ],
   "source": [
    "# What is the title of the top post? Does this match what you see on Reddit?"
   ]
  },
  {
   "cell_type": "code",
   "execution_count": 125,
   "metadata": {},
   "outputs": [],
   "source": [
    "# Because there can be many comments, Reddit returns a MoreComments object sometimes instead of actual comments\n",
    "# If you see such an object, it is a placeholder telling you that you can ask for more comments to be added\n",
    "# You do this by calling more_comments() on the CommentForest\n",
    "\n",
    "# praw recommends a while loop here, so I've helped you a bit\n",
    "\n",
    "# First you need a condition to check\n",
    "# while loops run until this condition is false\n",
    "more_to_replace = True\n",
    "while more_to_replace:\n",
    "    # Inside the loop, do whatever it is you want to repeat\n",
    "    ?\n",
    "    # Be sure to also update your condition each loop so that it knows when to stop\n",
    "    more_to_replace = ?"
   ]
  },
  {
   "cell_type": "markdown",
   "metadata": {},
   "source": [
    "Here are a few demo while loops to help you figure them out:"
   ]
  },
  {
   "cell_type": "code",
   "execution_count": null,
   "metadata": {},
   "outputs": [],
   "source": [
    "# initialize loop\n",
    "x = 1\n",
    "while x < 5:\n",
    "    # do something\n",
    "    print(x)\n",
    "    # update condition\n",
    "    x = x + 1"
   ]
  },
  {
   "cell_type": "code",
   "execution_count": 24,
   "metadata": {},
   "outputs": [
    {
     "data": {
      "text/plain": [
       "[10, 5.0, 16.0, 8.0, 4.0, 2.0, 1.0]"
      ]
     },
     "execution_count": 24,
     "metadata": {},
     "output_type": "execute_result"
    },
    {
     "data": {
      "image/png": "[encoded data removed]",
      "text/plain": [
       "<Figure size 432x288 with 1 Axes>"
      ]
     },
     "metadata": {
      "needs_background": "light"
     },
     "output_type": "display_data"
    }
   ],
   "source": [
    "import matplotlib.pyplot as plt\n",
    "\n",
    "# while loops are often used for iteration when you don't know how much iterating you will do\n",
    "# this function takes a number and either multiplies by 3 and adds 1 if it is odd, or divides by 2 if even\n",
    "# it repeats until the output is 1\n",
    "# (https://en.wikipedia.org/wiki/Collatz_conjecture)\n",
    "\n",
    "def collatz_tester(number):\n",
    "    # I want to keep track of each number I've visited\n",
    "    nums_so_far = []\n",
    "    # Keep iterating until I reach 1\n",
    "    while (number != 1):\n",
    "        # Add the latest number to the list\n",
    "        nums_so_far.append(number)\n",
    "        # Update according to my rule\n",
    "        if (number%2 == 0):\n",
    "            number = number/2\n",
    "        else:\n",
    "            number = 3 * number + 1\n",
    "        # Safety valve in case something bad happens\n",
    "        if (len(nums_so_far) > 1000):\n",
    "            print(\"Took too long to finish\")\n",
    "            break\n",
    "    nums_so_far.append(number)\n",
    "    plt.plot(nums_so_far)\n",
    "    return nums_so_far\n",
    "\n",
    "collatz_tester(10)"
   ]
  },
  {
   "cell_type": "code",
   "execution_count": 25,
   "metadata": {},
   "outputs": [],
   "source": [
    "# turn the comments into a DataFrame\n",
    "comments = pd.DataFrame()"
   ]
  },
  {
   "cell_type": "markdown",
   "metadata": {
    "cell_id": "00037-2d6ada7e-12d2-4ffb-a5c3-3845a026264a",
    "deepnote_cell_height": 165.53334045410156,
    "deepnote_cell_type": "markdown",
    "tags": []
   },
   "source": [
    "<div class=\"alert alert-info\">\n",
    "\n",
    "**Exercise 2.2:** Let's look at the content of the comments\n",
    "- Check which key of the entries contain the content of the comments\n",
    "- have a look at the replies, score and text of the comments\n",
    "</div>\n"
   ]
  },
  {
   "cell_type": "code",
   "execution_count": 27,
   "metadata": {
    "cell_id": "00038-20ee9730-90d0-4e8e-b3b9-3a7211270952",
    "deepnote_cell_height": 596.6666870117188,
    "deepnote_cell_type": "code",
    "deepnote_to_be_reexecuted": false,
    "execution_millis": 21,
    "execution_start": 1645983245402,
    "source_hash": "7c0f2877",
    "tags": []
   },
   "outputs": [],
   "source": [
    "# Print ten entires from the DataFrame with their score, body, and a list of comments replying to them\n"
   ]
  },
  {
   "cell_type": "markdown",
   "metadata": {
    "cell_id": "00043-39d7a4c6-a88e-47f6-908b-2093e0753a52",
    "deepnote_cell_height": 261.66668701171875,
    "deepnote_cell_type": "markdown",
    "tags": []
   },
   "source": [
    "### Exercise 3: Accessing User data in Reddit\n",
    "\n",
    "<div class=\"alert alert-info\">\n",
    "\n",
    "**Exercise 3.1:** Find comments made by a user `nasa`: limit the query to 1000 entries. \n",
    "- Make a dataframe of the entries returned by the API\n",
    "- convert `created_utc` to a human-readable format\n",
    "- count the number of comments that `nasa` made on each subreddit. checkout https://pandas.pydata.org/docs/reference/api/pandas.Series.value_counts.html to do so.\n",
    "</div>"
   ]
  },
  {
   "cell_type": "code",
   "execution_count": 182,
   "metadata": {
    "cell_id": "00044-96c19cc8-90aa-4b61-b9e5-d793d6d7436c",
    "deepnote_cell_height": 281.5333251953125,
    "deepnote_cell_type": "code",
    "deepnote_to_be_reexecuted": false,
    "execution_millis": 9270,
    "execution_start": 1645983246013,
    "source_hash": "51b42223",
    "tags": []
   },
   "outputs": [],
   "source": [
    "user = reddit.redditor(?)\n",
    "df_user_comments = pd.DataFrame([vars(c) for c in ?])\n",
    "df_user_comments['created_utc'] = pd.to_datetime(df_user_comments['created_utc'], utc=True, unit='s')\n"
   ]
  },
  {
   "cell_type": "code",
   "execution_count": 28,
   "metadata": {
    "cell_id": "00046-81e0eabb-ee1f-46b4-ba42-274235f2983c",
    "deepnote_cell_height": 290,
    "deepnote_cell_type": "code",
    "deepnote_output_heights": [
     194
    ],
    "deepnote_to_be_reexecuted": false,
    "execution_millis": 8,
    "execution_start": 1645983255335,
    "source_hash": "957eee61",
    "tags": []
   },
   "outputs": [],
   "source": [
    "# Use value counts to see which subreddits nasa frequents\n"
   ]
  },
  {
   "cell_type": "markdown",
   "metadata": {
    "cell_id": "00047-c7bb3bfa-b073-4ac4-a0dc-aea6a6b0cb78",
    "deepnote_cell_height": 302,
    "deepnote_cell_type": "markdown",
    "tags": []
   },
   "source": [
    "## Homework: Subreddits of users that posts about OII\n",
    "\n",
    "\n",
    "<div class=\"alert alert-info\">\n",
    "\n",
    "- Write a function `subreddit_of_user` that takes in a string input `username` and returns a `list` of unique subreddits on which that `username` comments. \n",
    "- Find five posts with score `>10` that contain the keywords - \"Oxford Internet Institute\" \n",
    "- Find out the list of unique authors in the entries returned above\n",
    "- call `subreddit_of_user` on each of the authors found above\n",
    "</div>\n",
    "\n"
   ]
  },
  {
   "cell_type": "code",
   "execution_count": 189,
   "metadata": {
    "cell_id": "00048-e4d2b32e-db56-44aa-b7fb-d9f8cd72f0df",
    "deepnote_cell_height": 152.3333282470703,
    "deepnote_cell_type": "code",
    "deepnote_to_be_reexecuted": false,
    "execution_millis": 2,
    "execution_start": 1645983255344,
    "source_hash": "13d578e0",
    "tags": []
   },
   "outputs": [],
   "source": [
    "# Your function here:\n",
    "# Hint: if you are getting a Forbidden error, you may need to use try: except:\n",
    "# Some subreddits are private, and trying to read them will give you an error\n",
    "\n",
    "def subreddits_of_user(username):\n",
    "    '''\n",
    "    Takes a reddit username and returns a list of the subreddits they have posted on recently\n",
    "    '''\n",
    "    return user_comments_subreddits\n"
   ]
  },
  {
   "cell_type": "code",
   "execution_count": 186,
   "metadata": {},
   "outputs": [],
   "source": [
    "search_result = reddit.subreddit(\"all\").search(\"Oxford Internet Institute\")\n",
    "# convert to a dataframe - remember to filter for posts with scores > 10\n",
    "df_posts_oii = pd.DataFrame()\n",
    "\n",
    "# get just the author data\n",
    "list_of_usernames = ?"
   ]
  },
  {
   "cell_type": "code",
   "execution_count": 187,
   "metadata": {},
   "outputs": [
    {
     "data": {
      "text/plain": [
       "1     AlgorandFoundation\n",
       "2                 cysec_\n",
       "8                 hoyeto\n",
       "9              agecosmos\n",
       "13                hargup\n",
       "14                iRoost\n",
       "15                HaHard\n",
       "18                  mvea\n",
       "19     NutritionResearch\n",
       "24     fantastic_comment\n",
       "29          streamingcat\n",
       "33           PrivacyDude\n",
       "34     okwherearemypants\n",
       "48             digitaled\n",
       "53    labourresearchproj\n",
       "90           MoonBunnyMB\n",
       "96           Cianobaxter\n",
       "97            missbp2189\n",
       "Name: author, dtype: object"
      ]
     },
     "execution_count": 187,
     "metadata": {},
     "output_type": "execute_result"
    }
   ],
   "source": [
    "# print out the authors\n",
    "list_of_usernames"
   ]
  },
  {
   "cell_type": "code",
   "execution_count": 190,
   "metadata": {
    "cell_id": "00049-fab021c8-c68d-4b6c-8a7f-84508740e9e9",
    "deepnote_cell_height": 491,
    "deepnote_cell_type": "code",
    "deepnote_to_be_reexecuted": false,
    "execution_millis": 46264,
    "execution_start": 1645983257296,
    "source_hash": "c28b548c",
    "tags": []
   },
   "outputs": [
    {
     "name": "stdout",
     "output_type": "stream",
     "text": [
      "AlgorandFoundation\n",
      "[]\n",
      "cysec_\n",
      "[Subreddit(display_name='AlgorandOfficial'), Subreddit(display_name='algorand'), Subreddit(display_name='Tinyman')]\n",
      "hoyeto\n",
      "[Subreddit(display_name='NoShitSherlock'), Subreddit(display_name='MTFSelfieTrain'), Subreddit(display_name='EnoughMuskSpam'), Subreddit(display_name='Buttcoin'), Subreddit(display_name='CryptoReality'), Subreddit(display_name='nottheonion'), Subreddit(display_name='Physics'), Subreddit(display_name='science'), Subreddit(display_name='blendermemes'), Subreddit(display_name='bimbofication'), Subreddit(display_name='SonyAlpha'), Subreddit(display_name='CryptoCurrency'), Subreddit(display_name='blender')]\n",
      "agecosmos\n",
      "[Subreddit(display_name='FragrantHarbour'), Subreddit(display_name='ADVChina'), Subreddit(display_name='fucktheccp'), Subreddit(display_name='China_irl'), Subreddit(display_name='CCP_virus'), Subreddit(display_name='interestingasfuck'), Subreddit(display_name='real_China_irl'), Subreddit(display_name='taiwan'), Subreddit(display_name='nextfuckinglevel')]\n",
      "hargup\n",
      "[Subreddit(display_name='mumbai'), Subreddit(display_name='india'), Subreddit(display_name='pune'), Subreddit(display_name='espanso'), Subreddit(display_name='AskNYC'), Subreddit(display_name='google'), Subreddit(display_name='technology'), Subreddit(display_name='StartingStrength'), Subreddit(display_name='bangalore'), Subreddit(display_name='dubai'), Subreddit(display_name='worldnews'), Subreddit(display_name='coolgithubprojects')]\n",
      "iRoost\n",
      "[Subreddit(display_name='ukraine'), Subreddit(display_name='MadeMeSmile'), Subreddit(display_name='JusticeServed'), Subreddit(display_name='Quebec'), Subreddit(display_name='montreal'), Subreddit(display_name='footballdownload'), Subreddit(display_name='a:t5_rsecs'), Subreddit(display_name='bose'), Subreddit(display_name='2meirl4meirl'), Subreddit(display_name='uber'), Subreddit(display_name='nextfuckinglevel'), Subreddit(display_name='Eyebleach'), Subreddit(display_name='canada'), Subreddit(display_name='CasualConversation'), Subreddit(display_name='wholesomememes'), Subreddit(display_name='cats'), Subreddit(display_name='nostalgia'), Subreddit(display_name='learnprogramming'), Subreddit(display_name='Barca'), Subreddit(display_name='MontrealEnts'), Subreddit(display_name='PublicFreakout'), Subreddit(display_name='instantkarma'), Subreddit(display_name='worldnews'), Subreddit(display_name='politics'), Subreddit(display_name='bugs'), Subreddit(display_name='canadients'), Subreddit(display_name='stopdrinking'), Subreddit(display_name='CoronaVirusMontreal'), Subreddit(display_name='sports'), Subreddit(display_name='quityourbullshit'), Subreddit(display_name='AskReddit'), Subreddit(display_name='formula1'), Subreddit(display_name='aww'), Subreddit(display_name='instant_regret'), Subreddit(display_name='france'), Subreddit(display_name='fragrance'), Subreddit(display_name='soccer'), Subreddit(display_name='Everton'), Subreddit(display_name='WhitePeopleTwitter'), Subreddit(display_name='CozyPlaces'), Subreddit(display_name='CanadianInvestor'), Subreddit(display_name='Electricmotorcycles'), Subreddit(display_name='bestofnetflix'), Subreddit(display_name='dankmemes'), Subreddit(display_name='TrueCrimeDiscussion'), Subreddit(display_name='democracy'), Subreddit(display_name='ottawa'), Subreddit(display_name='wholesomegifs'), Subreddit(display_name='ChoosingBeggars')]\n",
      "HaHard\n",
      "[Subreddit(display_name='wykop'), Subreddit(display_name='Polska')]\n",
      "mvea\n",
      "[Subreddit(display_name='ConeHeads'), Subreddit(display_name='WSBCollectibles'), Subreddit(display_name='avatartrading'), Subreddit(display_name='science'), Subreddit(display_name='BLOCKSbyharvmcm'), Subreddit(display_name='CryptoCurrency'), Subreddit(display_name='KappaBros'), Subreddit(display_name='FirstMints')]\n",
      "NutritionResearch\n",
      "[]\n",
      "fantastic_comment\n",
      "[Subreddit(display_name='StallmanWasRight'), Subreddit(display_name='AntiFacebook'), Subreddit(display_name='DarkFuturology'), Subreddit(display_name='privacy'), Subreddit(display_name='PrivacyGuides'), Subreddit(display_name='AskReddit'), Subreddit(display_name='privacytoolsIO'), Subreddit(display_name='technology'), Subreddit(display_name='conspiracy')]\n",
      "streamingcat\n",
      "[Subreddit(display_name='northdakota'), Subreddit(display_name='florida'), Subreddit(display_name='Norway'), Subreddit(display_name='Kyoto'), Subreddit(display_name='virginislands')]\n",
      "PrivacyDude\n",
      "[Subreddit(display_name='restorethefourth'), Subreddit(display_name='germany'), Subreddit(display_name='privacy'), Subreddit(display_name='europe'), Subreddit(display_name='worldpolitics'), Subreddit(display_name='unitedkingdom'), Subreddit(display_name='a:t5_2ymvw'), Subreddit(display_name='snowden'), Subreddit(display_name='ReinstateArticle8'), Subreddit(display_name='cyberlaws'), Subreddit(display_name='microsoft'), Subreddit(display_name='worldnews')]\n",
      "okwherearemypants\n",
      "[Subreddit(display_name='TheoryOfReddit'), Subreddit(display_name='apple'), Subreddit(display_name='malefashionadvice'), Subreddit(display_name='javascript'), Subreddit(display_name='LondonSocialClub'), Subreddit(display_name='reddit.com'), Subreddit(display_name='Munich'), Subreddit(display_name='a:t5_2tel9'), Subreddit(display_name='london'), Subreddit(display_name='funny'), Subreddit(display_name='programming'), Subreddit(display_name='Frugal'), Subreddit(display_name='science'), Subreddit(display_name='pics'), Subreddit(display_name='WTF'), Subreddit(display_name='worldnews'), Subreddit(display_name='suits'), Subreddit(display_name='windows'), Subreddit(display_name='AskReddit'), Subreddit(display_name='gaming'), Subreddit(display_name='thanosdidnothingwrong'), Subreddit(display_name='web_design'), Subreddit(display_name='triathlon'), Subreddit(display_name='windows8'), Subreddit(display_name='windowsphone'), Subreddit(display_name='technology'), Subreddit(display_name='videos'), Subreddit(display_name='Swimming'), Subreddit(display_name='oxforduni'), Subreddit(display_name='Watches'), Subreddit(display_name='CityPorn')]\n",
      "digitaled\n",
      "[]\n",
      "labourresearchproj\n",
      "[Subreddit(display_name='AmazonFlexDrivers'), Subreddit(display_name='canada'), Subreddit(display_name='couriersofreddit'), Subreddit(display_name='VanLife'), Subreddit(display_name='booksuggestions'), Subreddit(display_name='web_design'), Subreddit(display_name='mexico'), Subreddit(display_name='PersonalFinanceCanada'), Subreddit(display_name='amazonemployees'), Subreddit(display_name='AmazonFC')]\n",
      "MoonBunnyMB\n",
      "[Subreddit(display_name='BabyBumps'), Subreddit(display_name='AnimalCrossing'), Subreddit(display_name='NintendoSwitchDeals'), Subreddit(display_name='StardewValley'), Subreddit(display_name='RandomActsOfGaming'), Subreddit(display_name='lifeofdrudgery'), Subreddit(display_name='ps3hacks'), Subreddit(display_name='StrategyRpg'), Subreddit(display_name='fitpregnancy'), Subreddit(display_name='Coffee'), Subreddit(display_name='RingFitAdventure'), Subreddit(display_name='beyondthebump'), Subreddit(display_name='FinalFantasyVII'), Subreddit(display_name='NintendoSwitch'), Subreddit(display_name='Steam'), Subreddit(display_name='JustNoSO'), Subreddit(display_name='otomegames'), Subreddit(display_name='JUSTNOFAMILY')]\n",
      "Cianobaxter\n",
      "[Subreddit(display_name='gadgets'), Subreddit(display_name='direito'), Subreddit(display_name='aww'), Subreddit(display_name='holdmycosmo'), Subreddit(display_name='brasil'), Subreddit(display_name='DireitoDigital'), Subreddit(display_name='ProgrammerHumor')]\n",
      "missbp2189\n",
      "[Subreddit(display_name='politics'), Subreddit(display_name='kotakuinaction2'), Subreddit(display_name='Firearms'), Subreddit(display_name='WatchRedditDie'), Subreddit(display_name='Coronavirus'), Subreddit(display_name='China_Flu'), Subreddit(display_name='ShitPoliticsSays'), Subreddit(display_name='KiAChatroom'), Subreddit(display_name='KotakuInAction'), Subreddit(display_name='killthosewhodisagree'), Subreddit(display_name='PoliticalHumor'), Subreddit(display_name='worldnews'), Subreddit(display_name='DeclineIntoCensorship')]\n"
     ]
    }
   ],
   "source": [
    "# use a for loop to print out the subreddits of the users who post about the OII\n",
    "for user in list_of_usernames:\n",
    "    ?"
   ]
  },
  {
   "cell_type": "markdown",
   "metadata": {},
   "source": [
    "<div  class=\"alert alert-danger\">\n",
    "    <b>Additional Info:</b>\n",
    "    Last year the course used the Pushshift API instead of the standard Reddit API. I have copied the old material below in case your final project involves Reddit and you want to try Pushshift. In my own testing, it DID NOT WORK, so if you go this direction expect things to get messy.\n",
    "</div>"
   ]
  },
  {
   "cell_type": "markdown",
   "metadata": {
    "cell_id": "00002-10b1d5d2-f827-480a-a86b-897dbec20e2b",
    "deepnote_cell_height": 243.39999389648438,
    "deepnote_cell_type": "markdown",
    "tags": []
   },
   "source": [
    "### Pushshift API\n",
    "\n",
    "There are two ways to access this API \n",
    "- Plain API through https://api.pushshift.io/.  \n",
    "- (advanced) Elasticsearch search engine through https://elastic.pushshift.io/. This search engine is designed for fast aggregation and query on big-data. \n",
    "\n",
    "The full API is documented here https://github.com/pushshift/api. However, in this exercise, we will learn how to use the plain API through https://api.pushshift.io/ and `psaw`. "
   ]
  },
  {
   "cell_type": "markdown",
   "metadata": {
    "cell_id": "00003-b80e11db-d01c-4044-a8d9-704a0fe6078c",
    "deepnote_cell_height": 446.6000061035156,
    "deepnote_cell_type": "markdown",
    "tags": []
   },
   "source": [
    "### Querying Pushshift API manually\n",
    "\n",
    "To use the Pushshift API, we need to know the endpoints that are accessible. Each endpoint serves a specific purpose. There are two endpoints available for this API:\n",
    "- `/reddit/search/comment` to search for comments\n",
    "- `/reddit/search/submission` to search for posts\n",
    "\n",
    "Thus, for example, if we need to search for comments, they can be accessed via https://api.pushshift.io/reddit/search/comment. \n",
    "\n",
    "Once we have the correct address, we need a query to search the database. Any data that is sent to an API is included only after a `?` in the URL link. For example, if we need to look up submissions that have word \"science\" in them, our query will look like:\n",
    "\n",
    "```\n",
    "https://api.pushshift.io/reddit/search/submission/?q=science\n",
    "```\n",
    "\n",
    "If we click on the above link or copy and paste the above link in any browser, we will see a JSON response from this enddpoint giving us 25 (by default) most recent posts containing the word \"science\". Each post is in the form of key-value pair. An example response of a post is as follows:"
   ]
  },
  {
   "cell_type": "markdown",
   "metadata": {
    "cell_id": "00004-99c2b125-5320-427b-a3bd-b360b5cc104a",
    "deepnote_cell_height": 1380.5333251953125,
    "deepnote_cell_type": "markdown",
    "tags": []
   },
   "source": [
    "        {\n",
    "            \"all_awardings\": [],\n",
    "            \"allow_live_comments\": false,\n",
    "            \"author\": \"Own_Professional_190\",\n",
    "            \"author_flair_css_class\": null,\n",
    "            \"author_flair_richtext\": [],\n",
    "            \"author_flair_text\": null,\n",
    "            \"author_flair_type\": \"text\",\n",
    "            \"author_fullname\": \"t2_jaz08fd5\",\n",
    "            \"author_is_blocked\": false,\n",
    "            \"author_patreon_flair\": false,\n",
    "            \"author_premium\": false,\n",
    "            \"awarders\": [],\n",
    "            \"can_mod_post\": false,\n",
    "            \"contest_mode\": false,\n",
    "            \"created_utc\": 1644227451,\n",
    "            \"domain\": \"self.UToledo\",\n",
    "            \"full_link\": \"https://www.reddit.com/r/UToledo/comments/smmgy3/questions_about_transferring/\",\n",
    "            \"gildings\": {},\n",
    "            \"id\": \"smmgy3\",\n",
    "            \"is_created_from_ads_ui\": false,\n",
    "            \"is_crosspostable\": true,\n",
    "            \"is_meta\": false,\n",
    "            \"is_original_content\": false,\n",
    "            \"is_reddit_media_domain\": false,\n",
    "            \"is_robot_indexable\": true,\n",
    "            \"is_self\": true,\n",
    "            \"is_video\": false,\n",
    "            \"link_flair_background_color\": \"\",\n",
    "            \"link_flair_richtext\": [],\n",
    "            \"link_flair_text_color\": \"dark\",\n",
    "            \"link_flair_type\": \"text\",\n",
    "            \"locked\": false,\n",
    "            \"media_only\": false,\n",
    "            \"no_follow\": true,\n",
    "            \"num_comments\": 0,\n",
    "            \"num_crossposts\": 0,\n",
    "            \"over_18\": false,\n",
    "            \"permalink\": \"/r/UToledo/comments/smmgy3/questions_about_transferring/\",\n",
    "            \"pinned\": false,\n",
    "            \"retrieved_on\": 1644227461,\n",
    "            \"score\": 1,\n",
    "            \"selftext\": \"Hi, \\n\\nI am an international student looking for universities to transfer. I heard that Toledo is known for its engineering program and co-op program. I am interested in computer science and data science. Can anybody tell me about general thoughts on university life at Toledo? It can include anything - reputation, class experience, dorm life, life outside of university, and so on. \\n\\nThank you in advance and stay safe :D\",\n",
    "            \"send_replies\": true,\n",
    "            \"spoiler\": false,\n",
    "            \"stickied\": false,\n",
    "            \"subreddit\": \"UToledo\",\n",
    "            \"subreddit_id\": \"t5_2wpwg\",\n",
    "            \"subreddit_subscribers\": 182,\n",
    "            \"subreddit_type\": \"public\",\n",
    "            \"thumbnail\": \"self\",\n",
    "            \"title\": \"Questions about transferring\",\n",
    "            \"total_awards_received\": 0,\n",
    "            \"treatment_tags\": [],\n",
    "            \"upvote_ratio\": 1.0,\n",
    "            \"url\": \"https://www.reddit.com/r/UToledo/comments/smmgy3/questions_about_transferring/\"\n",
    "        }"
   ]
  },
  {
   "cell_type": "markdown",
   "metadata": {
    "cell_id": "00005-a9f3e456-863a-4f79-aed9-7006bb7899a9",
    "deepnote_cell_height": 96.53334045410156,
    "deepnote_cell_type": "markdown",
    "tags": []
   },
   "source": [
    "There are many ways to query this API. Head over to https://github.com/pushshift/api#search-parameters-for-comments to check the paramaters that you can pass to the API to enhance your queries."
   ]
  },
  {
   "cell_type": "markdown",
   "metadata": {
    "cell_id": "00006-83d85e13-7ad9-4e88-b058-e24379eed339",
    "deepnote_cell_height": 332.66668701171875,
    "deepnote_cell_type": "markdown",
    "tags": []
   },
   "source": [
    "\n",
    "### Understanding the JSON response\n",
    "\n",
    "Here are a few keys returned by the API and what they mean. Most of them are self-explanatory, and which ones are needed will depend heavily on the specific use cases. \n",
    "\n",
    "----\n",
    "\n",
    "| **Key**        \t|   \t| **Description**                                               \t|\n",
    "|----------------\t|---\t|---------------------------------------------------------------\t|\n",
    "| _url_          \t|   \t| url of the `post` or `comment`                                \t|\n",
    "| _author_       \t|   \t| username of the redditor who created this `post` or `comment` \t|\n",
    "| _created_utc_  \t|   \t| time in UTC when this `post` or `comment` was created         \t|\n",
    "| _subreddit_    \t|   \t| `subreddit` on which this `post` or `comment` was created     \t|\n",
    "| _title_        \t|   \t| title of the `post`                                           \t|\n",
    "| _selftext_     \t|   \t| content of the `post` or the `comment`                        \t|\n",
    "| _retrieved_on_ \t|   \t| time in UTC when this data was extracted by the Pushshift API \t|\n",
    "\n",
    "----"
   ]
  }
 ],
 "metadata": {
  "deepnote": {
   "is_reactive": false
  },
  "deepnote_execution_queue": [],
  "deepnote_notebook_id": "4a686dea-4756-4795-91b0-7a9bf46a8405",
  "kernelspec": {
   "display_name": "Python 3 (ipykernel)",
   "language": "python",
   "name": "python3"
  },
  "language_info": {
   "codemirror_mode": {
    "name": "ipython",
    "version": 3
   },
   "file_extension": ".py",
   "mimetype": "text/x-python",
   "name": "python",
   "nbconvert_exporter": "python",
   "pygments_lexer": "ipython3",
   "version": "3.9.12"
  }
 },
 "nbformat": 4,
 "nbformat_minor": 4
}
